{
 "cells": [
  {
   "cell_type": "markdown",
   "id": "97dccc01",
   "metadata": {},
   "source": [
    "<div style=\"display: flex; background-color: RGB(255,114,0);\" >\n",
    "<h1 style=\"margin: auto; padding: 30px; \">ANALYSE DU STOCK ET DES VENTES DU SITE BOTTLENECK</h1>\n",
    "</div>"
   ]
  },
  {
   "cell_type": "markdown",
   "id": "4d0d1bb8",
   "metadata": {},
   "source": [
    "# OBJECTIF DE CE NOTEBOOK\n",
    "\n",
    "Bienvenue dans l'outil plébiscité par les analystes de données Jupyter.\n",
    "\n",
    "Il s'agit d'un outil permettant de mixer et d'alterner codes, textes et graphique.\n",
    "\n",
    "Cet outil est formidable pour plusieurs raisons:\n",
    "\n",
    "+ il permet de tester des lignes de codes au fur et à mesure de votre rédaction, de constater immédiatement le résultat d'un instruction, de la corriger si nécessaire.\n",
    "+ De rédiger du texte pour expliquer l'approche suivie ou les résultats d'une analyse et de le mettre en forme grâce à du code html ou plus simple avec **Markdown**\n",
    "+ d'agrémenter de graphiques\n",
    "\n",
    "Pour vous aider dans vos premiers pas à l'usage de Jupyter et de Python, nous avons rédigé ce notebook en vous indiquant les instructions à suivre.\n",
    "\n",
    "Il vous suffit pour cela de saisir le code Python répondant à l'instruction donnée.\n",
    "\n",
    "Vous verrez de temps à autre le code Python répondant à une instruction donnée mais cela est fait pour vous aider à comprendre la nature du travail qui vous est demandée.\n",
    "\n",
    "Et garder à l'esprit, qu'il n'y a pas de solution unique pour résoudre un problème et qu'il y a autant de résolutions de problèmes que de développeurs ;)...\n",
    "\n"
   ]
  },
  {
   "cell_type": "markdown",
   "id": "b85efb87",
   "metadata": {},
   "source": [
    "<div style=\"background-color: RGB(51,165,182);\" >\n",
    "<h2 style=\"margin: auto; padding: 20px; color:#fff; \">Etape 1 - Importation des librairies et chargement des fichiers</h2>\n",
    "</div>"
   ]
  },
  {
   "cell_type": "markdown",
   "id": "b5449401",
   "metadata": {},
   "source": [
    "<div style=\"border: 1px solid RGB(51,165,182);\" >\n",
    "<h3 style=\"margin: auto; padding: 20px; color: RGB(51,165,182); \">1.1 - Importation des librairies</h3>\n",
    "</div>"
   ]
  },
  {
   "cell_type": "code",
   "execution_count": 440,
   "id": "e6ef06ec",
   "metadata": {},
   "outputs": [],
   "source": [
    "#Importation de la librairie Pandas\n",
    "import pandas as pd"
   ]
  },
  {
   "cell_type": "code",
   "execution_count": 441,
   "id": "a38ce0fc",
   "metadata": {},
   "outputs": [],
   "source": [
    "#Importation de la librairie plotly express\n",
    "import plotly as py"
   ]
  },
  {
   "cell_type": "code",
   "execution_count": 442,
   "id": "0a718067",
   "metadata": {},
   "outputs": [],
   "source": [
    "#Trouver dans Google l'instruction permettant d'afficher toutes les colonnes d'un dataframe\n",
    "#Saisir, dans Google, les mots clés \"display all columns dataframe Pandas\", par exemple.\n",
    "#Dans les résultats de la recherche, privilégiez les solutions provenants de Stack Overflow ou Medium"
   ]
  },
  {
   "cell_type": "markdown",
   "id": "f4918299",
   "metadata": {},
   "source": [
    "<div style=\"border: 1px solid RGB(51,165,182);\" >\n",
    "<h3 style=\"margin: auto; padding: 20px; color: RGB(51,165,182); \">1.2 - Chargements des fichiers</h3>\n",
    "</div>"
   ]
  },
  {
   "cell_type": "code",
   "execution_count": 443,
   "id": "9642cf03",
   "metadata": {},
   "outputs": [
    {
     "name": "stderr",
     "output_type": "stream",
     "text": [
      "c:\\Users\\yenbh\\AppData\\Local\\Programs\\Python\\Python311\\Lib\\site-packages\\openpyxl\\worksheet\\_reader.py:329: UserWarning:\n",
      "\n",
      "Unknown extension is not supported and will be removed\n",
      "\n",
      "c:\\Users\\yenbh\\AppData\\Local\\Programs\\Python\\Python311\\Lib\\site-packages\\openpyxl\\worksheet\\_reader.py:329: UserWarning:\n",
      "\n",
      "Unknown extension is not supported and will be removed\n",
      "\n",
      "c:\\Users\\yenbh\\AppData\\Local\\Programs\\Python\\Python311\\Lib\\site-packages\\openpyxl\\worksheet\\_reader.py:329: UserWarning:\n",
      "\n",
      "Unknown extension is not supported and will be removed\n",
      "\n"
     ]
    }
   ],
   "source": [
    "#Importation du fichier web.xlsx\n",
    "chemin_fichier_web = r'C:\\Users\\yenbh\\OneDrive\\Desktop\\Data Analyst\\Supply Chain Open classroom\\Projet 6 Optimisez la gestion du stock d’une boutique en nettoyant ses données\\web.xlsx'\n",
    "df_web = pd.read_excel(chemin_fichier_web)\n",
    "\n",
    "#Importation du fichier erp.xlsx\n",
    "chemin_fichier_erp = r'C:\\Users\\yenbh\\OneDrive\\Desktop\\Data Analyst\\Supply Chain Open classroom\\Projet 6 Optimisez la gestion du stock d’une boutique en nettoyant ses données\\erp.xlsx'\n",
    "df_erp = pd.read_excel(chemin_fichier_erp)\n",
    "\n",
    "#importation du fichier liaison.xlsx\n",
    "chemin_fichier_liaison = r'C:\\Users\\yenbh\\OneDrive\\Desktop\\Data Analyst\\Supply Chain Open classroom\\Projet 6 Optimisez la gestion du stock d’une boutique en nettoyant ses données\\liaison.xlsx'\n",
    "df_liaison = pd.read_excel(chemin_fichier_liaison)"
   ]
  },
  {
   "cell_type": "markdown",
   "id": "2626adc6",
   "metadata": {},
   "source": [
    "<div style=\"border: 1px solid RGB(51,165,182);\" >\n",
    "<h3 style=\"margin: auto; padding: 20px; color: RGB(51,165,182); \">1.2 - Chargements du fichiers csv</h3>\n",
    "</div>"
   ]
  },
  {
   "cell_type": "code",
   "execution_count": 444,
   "id": "7c8aceeb",
   "metadata": {},
   "outputs": [
    {
     "name": "stdout",
     "output_type": "stream",
     "text": [
      "b\"post_name;poids;R\\xe9gion;Domaine;Appellation;Couleur;C\\xe9page;Mill\\xe9sime;Garde;Contenance;Degr\\xe9 d'alcool;Temp\\xe9rature d\\xe9gustation;Alliance mets\\r\\npierre-jean-villa-saint-joseph-preface-2018;1.5 kg;Rh\\xf4ne;Pierre Jean Villa;Saint Joseph;Rouge;100% Syrah;2020;4-7 ans;75cl;13%;15\\xb0C;Charcuterie, Lapin, Viande rouge, Volaille\\r\\npierre-jean-villa-saint-joseph-tilde-2017;1.5 kg;Rh\\xf4ne;Pierre Jean Villa;Saint Joseph;Rouge;100% Syrah;2019;6-8 ans;75cl;13%;15\\xb0C;Charcuterie, Viande rouge, Volaille\\r\\npierre-jean-villa-croze-hermitage-accroche-coeur-2018;1.5 kg;Rh\\xf4ne;Pierre Jean Villa;Crozes-Hermitage;Rouge;100% Syrah;2020;3-5 ans;75cl;13%;15\\xb0C;Viande rouge, Volaille\\r\\npierre-jean-villa-igp-gamine-2018;1.5 kg;Rh\\xf4ne;Pierre Jean Villa;Collines Rhodaniennes;Rouge;100% Syrah;2020;3-5 ans;75cl;13%;14\\xb0C;Charcuterie, Viande rouge, Volaille\\r\\npierre-jean-villa-cote-rotie-carmina-2017;1.5 kg;Rh\\xf4ne;Pierre Jean Villa;C\\xf4te R\\xf4tie;Rouge;100% Syrah;2019;10-20 ans;75cl;13%;17\\xb0C;Gibier, Viande rouge\\r\\npierre-jean-villa-saint-joseph-saut-ange-2018;1.5 kg;Rh\\xf4ne;Pierre Jean Villa;Saint Joseph;Blanc;100% Roussanne;2020;6-8 ans;75cl;14%;12\\xb0C;Ap\\xe9ritif, Fromages, Poisson en sauce, Volaille\\r\\npierre-gaillard-condrieu-2018;1.5 kg;Rh\\xf4ne;Pierre Gaillard;Condrieu;Blanc;100% Viognier;2020;3-5 ans;75cl;13%;12\\xb0C;Ap\\xe9ritif, Crustac\\xe9s, Cuisine Asiatique, Fromages, Volaille\\r\\npierre-gaillard-cornas-2017;1.5 kg;Rh\\xf4ne;Pierre Gaillard;Cornas;Rouge;100% Syrah;2019;6-8 ans;75cl;12,50%;16\\xb0C;Gibier, Viande rouge\\r\\npierre-gaillard-cote-rotie-esprit-blond-2017;1.5 kg;Rh\\xf4ne;Pierre Gaillard;C\\xf4te R\\xf4tie;Rouge;100% Syrah;2018;10-20 ans;75cl;13%;16\\xb0C;Gibier, Viande rouge\\r\\npierre-gaillard-cote-rotie-2018;1.5 kg;Rh\\xf4ne;Pierre Gaillard;C\\xf4te R\\xf4tie;Rouge;10% Viognier, 90% Syrah;2020;6-8 ans;75cl;12,50%;16\\xb0C;Gibier, Viande rouge\\r\\npierre-gaillard-cote-rotie-rose-pourpre-2017;1.5 kg;Rh\\xf4ne;Pierre Gaillard;C\\xf4te R\\xf4tie;Rouge;100% Syrah;2019;10-20 ans;75cl;13%;17\\xb0C;Gibier, Viande rouge\\r\\npierre-gaillard-gendrines-2018;1.5 kg;Rh\\xf4ne;Pierre Gaillard;C\\xf4tes-du-Rh\\xf4ne;Blanc;100% Viognier;2020;3-5 ans;75cl;12,50%;12\\xb0C;Ap\\xe9ritif, Crustac\\xe9s, Cuisine Asiatique, Fromages, Volaille\\r\\npierre-gaillard-saint-joseph-cuminaille-2018;1.5 kg;Rh\\xf4ne;Pierre Gaillard;Saint Joseph;Rouge;100% Syrah;2018;6-8 ans;75cl;13%;16\\xb0C;Viande Blanche, Viande rouge, Volaille\\r\\npierre-gaillard-saint-joseph-2018;1.5 kg;Rh\\xf4ne;Pierre Gaillard;Saint Joseph;Rouge;100% Syrah;2020;3-5 ans;75cl;12,50%;15\\xb0C;Charcuterie, Viande Blanche, Viande rouge, Volaille\\r\\npierre-gaillard-saint-joseph-blanc-2019;1.5 kg;Rh\\xf4ne;Pierre Gaillard;Saint Joseph;Blanc;100% Roussanne;2020;3-5 ans;75cl;12,50%;12\\xb0C;Ap\\xe9ritif, Fromages, Poissons, Viande Blanche, Volaille\\r\\npierre-gaillard-syrah-terre-mandrin-2018;1.5 kg;Rh\\xf4ne;Pierre Gaillard;Collines Rhodaniennes;Rouge;100% Syrah;2020;3-5 ans;75cl;12,50%;15\\xb0C;Charcuterie, Viande Blanche, Viande rouge, Volaille\\r\\nmont-olivet-chateauneuf-pape-blanc-2019;1.5 kg;Rh\\xf4ne;Clos Du Mont-Olivet;Ch\\xe2teauneuf-du-Pape;Blanc;Bourboulenc, Clairette, Grenache Blanc, Roussanne;2021;5-10 ans;75cl;14%;12\\xb0C;Homard, Poisson en sauce, Poisson grill\\xe9, Volaille\\r\\nclos-du-mont-olivet-chateauneuf-du-pape-2012;1.5 kg;Rh\\xf4ne;Clos Du Mont-Olivet;Ch\\xe2teauneuf-du-Pape;Rouge;Cinsault, Grenache, Mourv\\xe8dre, Syrah;2007;15 ans et +;75cl;15%;16\\xb0C;Gibier, Viande rouge\\r\\nclos-du-mont-olivet-chateauneuf-du-pape-papet-2018;1.5 kg;Rh\\xf4ne;Clos Du Mont-Olivet;Ch\\xe2teauneuf-du-Pape;Rouge;Grenache, Mourv\\xe8dre, Syrah;2018;15 ans et +;75cl;15%;16\\xb0C;Gibier, Viande rouge\\r\\nclos-du-mont-olivet-cotes-du-rhone-vieilles-vignes-2018;1.5 kg;Rh\\xf4ne;Clos Du Mont-Olivet;C\\xf4tes-du-Rh\\xf4ne;Rouge;Carignan, Grenache, Syrah;2019;4-7 ans;75cl;14,5%;15\\xb0C;Charcuterie, Viande rouge\\r\\nmourgues-galets-dores-2019;1.5 kg;Rh\\xf4ne;Mourgues du Gr\\xe8s;Costi\\xe8res de N\\xeemes;Blanc;Grenache Blanc, Roussanne, Vermentino;2021;3 ans;75cl;14%;11\\xb0C;Ap\\xe9ritif, Fromage de ch\\xe8vre, Poisson grill\\xe9, Salade, Viande Blanche\\r\\nmourgues-du-gres-costieres-de-nimes-galets-rouges-2019;1.5 kg;Rh\\xf4ne;Mourgues du Gr\\xe8s;Costi\\xe8res de N\\xeemes;Rouge;Carignan, Grenache, Mourv\\xe8dre, Syrah;2020;3-5 ans;75cl;14%;15\\xb0C;Charcuterie, Grillades, Viande rouge, Volaille\\r\\nmourgues-du-gres-costieres-de-nimes-galets-roses-2019;1.5 kg;Rh\\xf4ne;Mourgues du Gr\\xe8s;Costi\\xe8res de N\\xeemes;Ros\\xe9;Grenache, Mourv\\xe8dre, Syrah;2021;A boire;75cl;13,5%;11\\xb0C;Ap\\xe9ritif, Poissons, Salade, Volaille\\r\\nmourgues-du-gres-costieres-de-nimes-argence-rouge-2017;1.5 kg;Rh\\xf4ne;Mourgues du Gr\\xe8s;Costi\\xe8res de N\\xeemes;Rouge;Grenache, Mourv\\xe8dre, Syrah;2019;5-7 ans;75cl;14,5%;15\\xb0C;Charcuterie, Grillades, Viande rouge\\r\\nmourgues-du-gres-costieres-de-nimes-terre-dargence-blanc-2018;1.5 kg;Rh\\xf4ne;Mourgues du Gr\\xe8s;Pont du Gard;Blanc;Petit Manseng, Roussanne, Viognier;2020;3-5 ans;75cl;14,5%;11\\xb0C;Cuisine Exotique, Poisson grill\\xe9, Salade, Viande Blanche\\r\\nmourgues-du-gres-terres-feu-2017;1.5 kg;Rh\\xf4ne;Mourgues du Gr\\xe8s;Costi\\xe8res de N\\xeemes;Rouge;Carignan, Mourv\\xe8dre;2019;5-7 ans;75cl;14,5%;15\\xb0C;Canard, Gibier, Viande rouge\\r\\noratoire-saint-martin-cairanne-douyes-2016;1.5 kg;Rh\\xf4ne;Oratoire Saint Martin;Cairanne;Rouge;Grenache, Mourv\\xe8dre;2017;6-8 ans;75cl;13,5%;15\\xb0C;Gibier, Grillades, Viande rouge\\r\\ngilles-robin-alberic-2017;1.5 kg;Rh\\xf4ne;Gilles Robin;Crozes-Hermitage;Rouge;100% Syrah;2017;5-10 ans;75cl;13,5%;16\\xb0C;Gibier, Lapin, Pigeon, Viande rouge\\r\\ngilles-robin-crozes-hermitage-papillon-2019;1.5 kg;Rh\\xf4ne;Gilles Robin;Crozes-Hermitage;Rouge;100% Syrah;2021;3-5 ans;75cl;13,5%;15\\xb0C;Ap\\xe9ritif, Charcuterie, Viande rouge, Volaille\\r\\ngilles-robin-crozes-hermitage-marelles-2018;1.5 kg;Rh\\xf4ne;Gilles Robin;Crozes-Hermitage;Blanc;Marsanne, Roussanne;2019;4-7 ans;75cl;13,5%;12\\xb0C;Homard, Poisson en sauce, Salade, Volaille\\r\\nvaudieu-chateauneuf-2015;1.5 kg;Rh\\xf4ne;Famille Br\\xe9chet;Ch\\xe2teauneuf-du-Pape;Rouge;Grenache, Mourv\\xe8dre, Syrah;2015;5-15 ans;75cl;15%;16\\xb0C;Gibier, Lapin, Viande rouge\\r\\nchateau-de-vaudieu-chateauneuf-du-pape-blanc-2015;1.5 kg;Rh\\xf4ne;Famille Br\\xe9chet;Ch\\xe2teauneuf-du-Pape;Blanc;Grenache Blanc, Roussanne;2015;5-10 ans;75cl;14%;12\\xb0C;Fromages, Homard, Poisson en sauce, Volaille\\r\\nchateau-de-vaudieu-chateauneuf-du-pape-lavenue-2015;1.5 kg;Rh\\xf4ne;Ch\\xe2teau de Vaudieu;Ch\\xe2teauneuf-du-Pape;Rouge;Grenache;2015;15 ans et +;75cl;15%;17\\xb0C;Gibier, Viande rouge\\r\\njerome-cotes-du-rhone-2018;1.5 kg;Rh\\xf4ne;Famille Br\\xe9chet;C\\xf4tes-du-Rh\\xf4ne Villages;Rouge;Grenache, Syrah;2019;5-7 ans;75cl;15%;16\\xb0C;Charcuterie, Gibier, Viande rouge\\r\\nplateau-chenes-lirac-2015;1.5 kg;Rh\\xf4ne;Famille Br\\xe9chet;Lirac;Rouge;Grenache, Syrah;2015;3-5 ans;75cl;15%;16\\xb0C;Charcuterie, Gibier, Viande rouge\\r\\nplateau-des-chenes-lirac-blanc-2016;1.5 kg;Rh\\xf4ne;Famille Br\\xe9chet;Lirac;Blanc;Clairette, Grenache Blanc, Roussanne;2016;3-5 ans;75cl;14%;12\\xb0C;Fromages, Poissons, Viande Blanche, Volaille\\r\\nbosquets-gigondas-2016;1.5 kg;Rh\\xf4ne;Famille Br\\xe9chet;Gigondas;Rouge;Cinsault, Grenache, Mourv\\xe8dre, Syrah;2019;10-15 ans;75cl;15%;16\\xb0C;Gibier, Grillades, Viande rouge\\r\\ndomaine-des-bosquets-gigondas-colline-2015;1.5 kg;Rh\\xf4ne;Famille Br\\xe9chet;Gigondas;Rouge;Grenache;2017;15 ans et +;75cl;15%;17\\xb0C;Gibier, Viande rouge\\r\\nvieux-donjon-chateauneuf-2013;1.5 kg;Rh\\xf4ne;Le Vieux Donjon;Ch\\xe2teauneuf-du-Pape;Rouge;Cinsault, Grenache, Mourv\\xe8dre, Syrah;2013;15 ans et +;75cl;14,5%;17\\xb0C;Agneau, Gibier, Viande rouge\\r\\nle-vieux-donjon-chateauneuf-du-pape-blanc-2016;1.5 kg;Rh\\xf4ne;Le Vieux Donjon;Ch\\xe2teauneuf-du-Pape;Blanc;Clairette, Roussanne;2016;5-10 ans;75cl;14%;12\\xb0C;Crustac\\xe9s, Cuisine Exotique, Fromages, Homard, Poissons\\r\\nrimauresq-provence-r-blanc-2019;1.5 kg;Provence;Rimauresq;C\\xf4tes de Provence Cru Class\\xe9;Blanc;Rolle;2021;3-5 ans;75cl;13%;12\\xb0C;Crustac\\xe9s, Fromages, Homard, Poissons\\r\\nrimauresq-cotes-de-provence-cru-classe-r-2017;1.5 kg;Provence;Rimauresq;C\\xf4tes de Provence Cru Class\\xe9;Rouge;Cabernet Sauvignon, Grenache, Mourv\\xe8dre, Syrah;2019;5-10 ans;75cl;14%;17\\xb0C;Gibier, Viande rouge\\r\\nrimauresq-cotes-de-provence-cru-classe-2017;1.5 kg;Provence;Rimauresq;C\\xf4tes de Provence Cru Class\\xe9;Rouge;Carignan, Mourv\\xe8dre, Syrah;2018;4-7 ans;75cl;13,5%;15\\xb0C;Charcuterie, Viande rouge\\r\\nrimauresq-cotes-de-provence-cru-classe-blanc-2019;1.5 kg;Provence;Rimauresq;C\\xf4tes de Provence Cru Class\\xe9;Blanc;Rolle;2020;3-5 ans;75cl;13,5%;11\\xb0C;Crustac\\xe9s, Fromage de ch\\xe8vre, Poisson grill\\xe9, Viande Blanche\\r\\nrimauresq-cotes-de-provence-cru-classe-rose-2019;1.5 kg;Provence;Rimauresq;C\\xf4tes de Provence Cru Class\\xe9;Ros\\xe9;Carignan, Cinsault, Grenache, Mourv\\xe8dre, Rolle, Syrah;2021;3 ans;75cl;13,5%;10\\xb0C;Ap\\xe9ritif, Grillades, Poisson grill\\xe9, Salade\\r\\nginglinger-gewurzt-wahlenbourg-2017;1.5 kg;Alsace;Paul Ginglinger;Alsace Gewurztraminer;Blanc;Gewurztraminer;2019;6-8 ans;75cl;13%;11\\xb0C;Canard laqu\\xe9, Fromages persill\\xe9s, Munster, Plats exotiques\\r\\npaul-ginglinger-muscat-caroline-2018;1.5 kg;Alsace;Paul Ginglinger;Alsace Muscat;Blanc;Muscat;2020;3-5 ans;75cl;12,50%;11\\xb0C;Ap\\xe9ritif, Asperges, Fromage de ch\\xe8vre, Poisson grill\\xe9, Salade\\r\\npaul-ginglinger-pinot-gris-gc-eichberg-2015;1.5 kg;Alsace;Paul Ginglinger;Alsace Grand Cru;Blanc;Pinot Gris;2017;5-15 ans;75cl;13%;12\\xb0C;Faisan, Foie gras mi-cuit, Poularde de Bresse, Viande Blanche\\r\\npaul-ginglinger-pinot-gris-prelats-2018;1.5 kg;Alsace;Paul Ginglinger;Alsace Pinot Gris;Blanc;Pinot Gris;2020;6-8 ans;75cl;13%;11\\xb0C;Bouch\\xe9es \\xe0 la Reine, Quenelles, Risotto, Volaille\\r\\npaul-ginglinger-pinot-noir-les-rocailles-2016;1.5 kg;Alsace;Paul Ginglinger;Alsace Pinot Noir;Rouge;Pinot Noir;2017;5-15 ans;75cl;13%;15\\xb0C;Agneau, Boeuf bourguignon, Gibier, Grillades, Viande rouge\\r\\npaul-ginglinger-riesling-drei-exa-2018;1.5 kg;Alsace;Paul Ginglinger;Alsace Riesling;Blanc;Riesling;2020;4-7 ans;75cl;12,50%;11\\xb0C;Choucroute, Coq au Riesling, Crustac\\xe9s, Hu\\xeetres, Poissons, Viande Blanche\\r\\nboeckel-gewurzt-gc-zotzenberg-2016;1.5 kg;Alsace;Emile Boeckel;Alsace Grand Cru;Blanc;Gewurztraminer;2019;8-10 ans;75cl;13,5%;11\\xb0C;Cuisine Exotique, Desserts, Munster\\r\\nemile-boeckel-pinot-gris-gc-zotzenberg-2016;1.5 kg;Alsace;Emile Boeckel;Alsace Grand Cru;Blanc;Pinot Gris;2017;8-10 ans;75cl;13,5%;11\\xb0C;Foie gras, Viande Blanche, Volaille\\r\\nemile-boeckel-sylvaner-grand-cru-zotzenberg-2017;1.5 kg;Alsace;Emile Boeckel;Alsace Grand Cru;Blanc;Sylvaner;2019;8-10 ans;75cl;14%;11\\xb0C;Fromages doux, Fruits de mer, Poissons, Volaille\\r\\nemile-boeckel-riesling-gc-wiebelsberg-2016;1.5 kg;Alsace;Emile Boeckel;Alsace Grand Cru;Blanc;Riesling;2017;8-10 ans;75cl;12,50%;11\\xb0C;Choucroute, Crustac\\xe9s, Poissons\\r\\nemile-boeckel-riesling-brandluft-2018;1.5 kg;Alsace;Emile Boeckel;Alsace Riesling;Blanc;Riesling;2020;5-10 ans;75cl;12,50%;11\\xb0C;Choucroute, Crustac\\xe9s, Poissons\\r\\nemile-boeckel-sylvaner-vieilles-vignes-2019;1.5 kg;Alsace;Emile Boeckel;Alsace Sylvaner;Blanc;Sylvaner;2020;3-5 ans;75cl;12,50%;11\\xb0C;Charcuterie, Crustac\\xe9s, Poissons\\r\\nemile-boeckel-pinot-noir-barriques-2018;1.5 kg;Alsace;Emile Boeckel;Alsace Pinot Noir;Rouge;Pinot Noir;2020;5-10 ans;75cl;13%;15\\xb0C;Gibier, Viande rouge\\r\\nemile-boeckel-pinot-noir-terres-rouges-2016;1.5 kg;Alsace;Emile Boeckel;Alsace Pinot Noir;Rouge;Pinot Noir;2017;5-10 ans;75cl;12,50%;15\\xb0C;Gibier, Viande rouge\\r\\nzind-humbrecht-gewurzt-grand-cru-rangen-de-thann-clos-saint-urbain-2013;1.5 kg;Alsace;Zind-Humbrecht;Alsace Grand Cru;Blanc;Gewurztraminer;2013;15 ans et +;75cl;13,5%;12\\xb0C;Cuisine Exotique, Desserts, Foie gras, Fromages\\r\\ngosset-champagne-grande-reserve;1.5 kg;Champagne;Gosset;Champagne;Blanc;10% Pinot Meunier, 45% Chardonnay, 45% Pinot Noir;;4 ans;75cl;12%;10\\xb0C;Ap\\xe9ritif, Fruits cuits, Sucr\\xe9-sal\\xe9, Tajine\\r\\nchampagne-gosset-grand-millesime-2006;1.5 kg;Champagne;Gosset;Champagne;Blanc;44% Chardonnay, 56% Pinot Noir;2015;8-10 ans;75cl;12%;10\\xb0C;Agneau, Ap\\xe9ritif, Fromage de ch\\xe8vre, Noix de St Jacques, Poissons\\r\\nchampagne-gosset-grand-rose;1.5 kg;Champagne;Gosset;Champagne;;50% Chardonnay, 50% Pinot Noir;;4 ans;75cl;12%;10\\xb0C;Ap\\xe9ritif, Desserts, Foie gras, Poissons\\r\\nchampagne-mailly-gc-brut-reserve;1.5 kg;Champagne;Mailly Grand Cru;Champagne;Blanc;25% Chardonnay, 75% Pinot Noir;;4 ans;75cl;12%;10\\xb0C;Ap\\xe9ritif, Chaource, L\\xe9gumes croquants, Supr\\xeame de volaille, Tarte aux pommes\\r\\nchampagne-mailly-grand-cru-extra-brut-2012;1.5 kg;Champagne;Mailly Grand Cru;Champagne;Blanc;25% Chardonnay, 75% Pinot Noir;;4 ans;75cl;12%;10\\xb0C;Ap\\xe9ritif, Carpaccios, Caviar, Hu\\xeetres\\r\\nchampagne-mailly-grand-cru-brut-rose;1.5 kg;Champagne;Mailly Grand Cru;Champagne;;10% Chardonnay, 90% Pinot Noir;;4 ans;75cl;12%;10\\xb0C;Ap\\xe9ritif, Tapas, Viande Blanche\\r\\nchampagne-mailly-grand-cru-intemporelle-rose-2009;1.5 kg;Champagne;Mailly Grand Cru;Champagne;;40% Chardonnay, 60% Pinot Noir;;10 ans et +;75cl;12%;10\\xb0C;Ap\\xe9ritif, Fruits, Noix de St Jacques, Poissons\\r\\nchampagne-mailly-grand-cru-intemporelle-2010;1.5 kg;Champagne;Mailly Grand Cru;Champagne;Blanc;40% Chardonnay, 60% Pinot Noir;;10 ans et +;75cl;12%;10\\xb0C;Ap\\xe9ritif, Fruits, Noix de St Jacques, Poissons\\r\\nelian-daros-abouriou-2016;1.5 kg;Sud Ouest;Elian Daros;C\\xf4tes du Marmandais;Rouge;10% Merlot, 90% Abouriou;2018;4-7 ans;75cl;13,5%;15\\xb0C;Charcuterie, Grillades, Viande rouge\\r\\nelian-daros-cotes-du-marmandais-chante-coucou-2016;1.5 kg;Sud Ouest;Elian Daros;C\\xf4tes du Marmandais;Rouge;Cabernet Sauvignon, Malbec, Merlot, Syrah;2017;5-10 ans;75cl;13%;16\\xb0C;Gibier, Grillades, Viande rouge\\r\\nelian-daros-cotes-du-marmandais-clos-baquey-2015;1.5 kg;Sud Ouest;Elian Daros;C\\xf4tes du Marmandais;Rouge;Abouriou, Cabernet Franc, Cabernet Sauvignon, Merlot;2014;10-15 ans;75cl;13%;16\\xb0C;Gibier, Grillades, Viande rouge\\r\\nelian-daros-cotes-du-marmandais-vin-fete-2017;1.5 kg;Sud Ouest;Elian Daros;C\\xf4tes du Marmandais;Rouge;Abouriou, Cabernet Franc, Merlot;2020;3-5 ans;75cl;13%;14\\xb0C;Charcuterie, Grillades, Viande rouge\\r\\nelian-daros-cotes-du-marmandais-vignoble-elian-2016;1.5 kg;Sud Ouest;Elian Daros;C\\xf4tes du Marmandais;Rouge;Cabernet Franc, Merlot, Syrah;2016;4-7 ans;75cl;13%;15\\xb0C;Charcuterie, Grillades, Viande rouge\\r\\nelian-daros-cotes-du-marmandais-coucou-blanc-2016;1.5 kg;Sud Ouest;Elian Daros;C\\xf4tes du Marmandais;Blanc;Sauvignon Blanc, Sauvignon Gris, S\\xe9millon;2019;4-7 ans;75cl;14%;11\\xb0C;Crustac\\xe9s, Cuisine Exotique, Viande Blanche\\r\\nplaneta-sicilia-alastro-2017;1.5 kg;Italie;Planeta;Sicilia;Blanc;Grecanico, Grillo, Sauvignon Blanc;2020;3-5 ans;75cl;13,5%;11\\xb0C;Cuisine m\\xe9diterran\\xe9enne, Cuisine v\\xe9g\\xe9tarienne, Fruits de mer\\r\\n8planeta-sicilia-etna-rosso-2018;1.5 kg;Italie;Planeta;Sicilia;Rouge;Nerello Mascalese;2020;4-7 ans;75cl;13%;14\\xb0C;Charcuterie, Grillades, Viande rouge\\r\\nplaneta-sicilia-segreta-bianco-2017;1.5 kg;Italie;Planeta;Sicilia;Blanc;Chardonnay, Fiano, Grecanico, Viognier;2019;3-5 ans;75cl;13%;11\\xb0C;Ap\\xe9ritif, Fruits de mer, Poisson grill\\xe9, Salade\\r\\nplaneta-sicilia-la-segreta-rosso-2017;1.5 kg;Italie;Planeta;Sicilia;Rouge;Cabernet Franc, Merlot, Nero d'Avola, Syrah;2018;3-5 ans;75cl;13%;14\\xb0C;Grillades, L\\xe9gumes croquants, Viande Blanche, Volaille\\r\\nplaneta-sicilia-plumbago-2017;1.5 kg;Italie;Planeta;Sicilia;Rouge;Nero d'Avola;2019;3-5 ans;75cl;13%;14\\xb0C;Grillades, L\\xe9gumes croquants, Pizza, Viande Blanche\\r\\ndomino-romano-ribera-camino-2016;1.5 kg;Espagne;Domino Romano;Ribera Del Duero;Rouge;Tinto Fino;2018;3-5 ans;75cl;14,5%;16\\xb0C;Grillades, L\\xe9gumes croquants, Volaille\\r\\npares-balta-penedes-calcari-2018;1.5 kg;Espagne;Par\\xe8s Balt\\xe0;Pened\\xe8s;Blanc;Xarel.io;2019;3-5 ans;75cl;12,50%;11\\xb0C;Crustac\\xe9s, Salade, Viande Blanche\\r\\npares-balta-penedes-mas-petit-2015;1.5 kg;Espagne;Par\\xe8s Balt\\xe0;Pened\\xe8s;Rouge;Cabernet Sauvignon, Garnatxa;2016;3-5 ans;75cl;14,5%;16\\xb0C;Charcuterie, Grillades, Viande rouge\\r\\npares-balta-penedes-indigena-2017;1.5 kg;Espagne;Par\\xe8s Balt\\xe0;Pened\\xe8s;Rouge;Garnatxa;2019;4-7 ans;75cl;14,5%;16\\xb0C;Charcuterie, Grillades, Viande rouge\\r\\nollieux-romanis-corbieres-boutenac-atal-sia-2017;1.5 kg;Languedoc-Roussillon;Ollieux Romanis;Corbi\\xe8res Boutenac;Rouge;Carignan, Grenache, Mourv\\xe8dre, Syrah;2019;5-10 ans;75cl;14,5%;16\\xb0C;Gibier, Grillades, Viande rouge\\r\\nollieux-romanis-corbieres-cuvee-prestige-2017;1.5 kg;Languedoc-Roussillon;Ollieux Romanis;Corbi\\xe8res;Rouge;Carignan, Grenache, Mourv\\xe8dre, Syrah;2019;4-7 ans;75cl;14,5%;16\\xb0C;Gibier, Grillades, Viande rouge\\r\\nollieux-romanis-corbieres-cuvee-prestige-blanc-2018;1.5 kg;Languedoc-Roussillon;Ollieux Romanis;Corbi\\xe8res;Blanc;Marsanne, Roussanne;2019;3-5 ans;75cl;14,5%;12\\xb0C;Charcuterie, Fromages, Poisson en sauce, Viande Blanche, Volaille\\r\\nollieux-romanis-corbieres-classique-2018;1.5 kg;Languedoc-Roussillon;Ollieux Romanis;Corbi\\xe8res;Rouge;Carignan, Grenache, Syrah;2019;3-5 ans;75cl;14,5%;14\\xb0C;Grillades, L\\xe9gumes croquants, Viande rouge\\r\\nollieux-romanis-monsieur-pinot-2017;1.5 kg;Languedoc-Roussillon;Ollieux Romanis;Pays d'Oc;Rouge;Pinot Noir;2017;2 ans;75cl;12,50%;13\\xb0C;Ap\\xe9ritif, Charcuterie, Volaille\\r\\nmaurel-pays-oc-chardonnay-2019;1.5 kg;Languedoc-Roussillon;Maison Ventenac;Pays d'Oc;Blanc;Chardonnay;2021;3 ans;75cl;12,50%;11\\xb0C;Ap\\xe9ritif, Poissons, Volaille\\r\\nmaurel-pays-doc-chenin-colombard-2019;1.5 kg;Languedoc-Roussillon;Maison Ventenac;Pays d'Oc;Blanc;Chenin, Colombard, Sauvignon Blanc;2020;3 ans;75cl;12%;11\\xb0C;Ap\\xe9ritif, Crustac\\xe9s, Fromages, Poissons\\r\\nmaurel-cabardes-tradition-2017;1.5 kg;Languedoc-Roussillon;Maison Ventenac;Cabard\\xe8s;Rouge;Cabernet Franc, Grenache, Merlot, Syrah;2018;3-5 ans;75cl;13%;15\\xb0C;Gibier, Grillades, Viande rouge\\r\\nhortus-pic-saint-loup-la-bergerie-2018;1.5 kg;Languedoc-Roussillon;Domaine de l'Hortus;Pic Saint-Loup;Rouge;Grenache, Mourv\\xe8dre, Syrah;2020;3-5 ans;75cl;13%;15\\xb0C;Grillades, Viande Blanche, Volaille\\r\\nhortus-la-bergerie-blanc-2018;1.5 kg;Languedoc-Roussillon;Domaine de l'Hortus;Val De Montferrand;Blanc;Bourboulenc, Chardonnay, Petit Manseng, Roussanne, Sauvignon Blanc, Sauvignon Gris, Viognier;2019;3-5 ans;75cl;12,50%;11\\xb0C;Crustac\\xe9s, Fromage de ch\\xe8vre, Fruits de mer, Poisson grill\\xe9\\r\\nhortus-pic-saint-loup-grande-cuvee-2018;1.5 kg;Languedoc-Roussillon;Domaine de l'Hortus;Pic Saint-Loup;Rouge;Grenache, Mourv\\xe8dre, Syrah;2019;5-10 ans;75cl;14%;16\\xb0C;Gibier, Viande rouge\\r\\nhortus-la-grande-cuvee-blanc-2018;1.5 kg;Languedoc-Roussillon;Domaine de l'Hortus;Val De Montferrand;Blanc;Chardonnay, Roussanne, Viognier;2020;3-5 ans;75cl;13,5%;12\\xb0C;Ap\\xe9ritif, Bouillabaisse, Fromages\\r\\nborie-vitarele-saint-chinian-terres-blanches-2019;1.5 kg;Languedoc-Roussillon;Borie La Vitar\\xe8le;Saint-Chinian;Rouge;Grenache, Syrah;2020;3-5 ans;75cl;14,5%;15\\xb0C;Gibier, Grillades, Viande rouge, Volaille\\r\\nborie-la-vitarele-saint-chinian-les-schistes-2017;1.5 kg;Languedoc-Roussillon;Borie La Vitar\\xe8le;Saint-Chinian;Rouge;Carignan, Grenache, Syrah;2020;4-7 ans;75cl;14,5%;16\\xb0C;Gibier, Viande rouge, Volaille\\r\\nborie-la-vitarele-saint-chinian-les-cres-2016;1.5 kg;Languedoc-Roussillon;Borie La Vitar\\xe8le;Saint-Chinian;Rouge;Grenache, Mourv\\xe8dre, Syrah;2018;6-8 ans;75cl;14,5%;16\\xb0C;Gibier, Viande rouge, Volaille\\r\\nle-pas-de-lescalette-larzac-clapas-rouge-2018;1.5 kg;Languedoc-Roussillon;Le Pas de l'Escalette;Terrasses du Larzac;Rouge;Carignan, Grenache, Syrah;2020;6-8 ans;75cl;13,5%;15\\xb0C;Agneau, L\\xe9gumes croquants, Viande rouge\\r\\nle-pas-de-lescalette-languedoc-petits-pas-2019;1.5 kg;Languedoc-Roussillon;Le Pas de l'Escalette;Languedoc;Rouge;Carignan, Grenache, Syrah;2020;3-5 ans;75cl;13,5%;14\\xb0C;Agneau, Charcuterie, Grillades\\r\\nliquiere-languedoc-amandiers-blancs-2019;1.5 kg;Languedoc-Roussillon;Ch\\xe2teau de La Liqui\\xe8re;Languedoc;Blanc;Bourboulenc, Grenache Blanc, Marsanne, Roussanne, Terret Bourret, Viognier;2020;3-5 ans;75cl;14%;11\\xb0C;Ap\\xe9ritif, Crustac\\xe9s, Fromages, Poisson grill\\xe9, Salade\\r\\nle-pas-de-lescalette-coteaux-languedoc-ze-roze-2019;1.5 kg;Languedoc-Roussillon;Le Pas de l'Escalette;Coteaux du Languedoc;Ros\\xe9;Cinsault, Syrah;2021;3-5 ans;75cl;13,5%;11\\xb0C;Ap\\xe9ritif, Charcuterie, Grillades, Salade\\r\\nchateau-de-la-liquiere-faugeres-les-amandiers-rouge-2019;1.5 kg;Languedoc-Roussillon;Ch\\xe2teau de La Liqui\\xe8re;Faug\\xe8res;Rouge;Carignan, Grenache, Mourv\\xe8dre, Syrah;2019;3-5 ans;75cl;14%;14\\xb0C;Cuisine m\\xe9diterran\\xe9enne, Grillades, L\\xe9gumes farcis\\r\\nchateau-de-la-liquiere-faugeres-cistus-rouge-2017;1.5 kg;Languedoc-Roussillon;Ch\\xe2teau de La Liqui\\xe8re;Faug\\xe8res;Rouge;Carignan, Grenache, Mourv\\xe8dre, Syrah;2019;6-8 ans;75cl;14,5%;15\\xb0C;Canard, Grillades, Viande rouge\\r\\nchateau-de-la-liquiere-faugeres-cistus-blanc-2019;1.5 kg;Languedoc-Roussillon;Ch\\xe2teau de La Liqui\\xe8re;Faug\\xe8res;Blanc;Bourboulenc, Grenache Blanc, Roussanne, Vermentino;2020;4-7 ans;75cl;14%;12\\xb0C;Ap\\xe9ritif, Noix de St Jacques, Poisson grill\\xe9, Ris de veau\\r\\nchateau-de-la-liquiere-faugeres-rouge-2017;1.5 kg;Languedoc-Roussillon;Ch\\xe2teau de La Liqui\\xe8re;Faug\\xe8res;Rouge;Carignan, Grenache, Mourv\\xe8dre, Syrah;2020;3-5 ans;75cl;14%;14\\xb0C;Agneau, Pigeon, Viande rouge, Volaille\\r\\nchateau-de-liquiere-faugeres-tucade-2015;1.5 kg;Languedoc-Roussillon;Ch\\xe2teau de La Liqui\\xe8re;Faug\\xe8res;Rouge;Carignan, Grenache, Mourv\\xe8dre;2017;10-15 ans;75cl;14,5%;16\\xb0C;Gibier, Li\\xe8vre, Viande rouge\\r\\nchateau-de-la-liquiere-faugeres-les-amandiers-rose-2019;1.5 kg;Languedoc-Roussillon;Ch\\xe2teau de La Liqui\\xe8re;Faug\\xe8res;Ros\\xe9;Cinsault, Grenache, Mourv\\xe8dre;2021;2 ans;75cl;13%;11\\xb0C;Ap\\xe9ritif, Cuisine Exotique, Grillades, Poisson grill\\xe9\\r\\nmoulin-gassac-igp-pays-herault-guilhem-rouge-2019;1.5 kg;Languedoc-Roussillon;Mas de Daumas Gassac;Pays d'H\\xe9rault;Rouge;Carignan, Grenache, Syrah;2021;3-5 ans;75cl;13%;17\\xb0C;Grillades, L\\xe9gumes croquants, Viande rouge\\r\\nmoulin-de-gassac-igp-pays-dherault-guilhem-rose-2019;1.5 kg;Languedoc-Roussillon;Mas de Daumas Gassac;Pays d'H\\xe9rault;Ros\\xe9;Carignan, Syrah;2021;2 ans;75cl;12%;11\\xb0C;Ap\\xe9ritif, Grillades, L\\xe9gumes croquants, Salade\\r\\nmas-de-daumas-gassac-igp-saint-guilhem-le-desert-2018;1.5 kg;Languedoc-Roussillon;Mas de Daumas Gassac;Saint-Guilhem-le-D\\xe9sert;Rouge;2,5% Malbec, 2% Pinot Noir, 3,8% Cabernet Franc, 5,3% Tannat, 5,4% Merlot, 72% Cabernet Sauvignon, 9% Vari\\xe9t\\xe9s rares;2019;15 ans et +;75cl;13,5%;18\\xb0C;Canard, Gibier, L\\xe9gumes du Soleil, Pigeon, Viande rouge\\r\\nmas-de-daumas-gassac-igp-saint-guilhem-le-desert-blanc-2019;1.5 kg;Languedoc-Roussillon;Mas de Daumas Gassac;Saint-Guilhem-le-D\\xe9sert;Blanc;13% Chenin, 14% Vari\\xe9t\\xe9s Rares, 21% Chardonnay, 25% Petit Manseng, 27% Viognier;2020;8-10 ans;75cl;14%;12\\xb0C;Asperges, Crustac\\xe9s, Fromage de ch\\xe8vre, Fromages, Poissons, Salade\\r\\nmas-laval-igp-pays-herault-pampres-blanc-2018;1.5 kg;Languedoc-Roussillon;Mas Laval;Pays d'H\\xe9rault;Blanc;Chardonnay, Roussanne, Viognier;2019;3 ans;75cl;13%;11\\xb0C;Crustac\\xe9s, Fromage de ch\\xe8vre, Fromages, Poissons, Salade\\r\\nmas-laval-igp-pays-dherault-les-pampres-rouges-2017;1.5 kg;Languedoc-Roussillon;Mas Laval;Pays d'H\\xe9rault;Rouge;Carignan, Grenache, Mourv\\xe8dre, Syrah;2018;3-5 ans;75cl;14%;15\\xb0C;Grillades, L\\xe9gumes croquants, Viande rouge\\r\\nmas-laval-terrasse-larzac-grande-cuvee-2016;1.5 kg;Languedoc-Roussillon;Mas Laval;Terrasses du Larzac;Rouge;Grenache, Mourv\\xe8dre, Syrah;2018;8-10 ans;75cl;14%;17\\xb0C;Grillades, L\\xe9gumes croquants, Viande rouge\\r\\nmontrose-cotes-de-thongue-2018;1.5 kg;Languedoc-Roussillon;Domaine Montrose;C\\xf4tes de Thongue;Rouge;Grenache, Merlot, Syrah;2019;4 ans;75cl;12,50%;15\\xb0C;Grillades, L\\xe9gumes croquants, Viande rouge\\r\\ndomaine-montrose-cotes-de-thongue-rose-2019;1.5 kg;Languedoc-Roussillon;Domaine Montrose;C\\xf4tes de Thongue;Ros\\xe9;Cabernet Sauvignon, Grenache, Syrah;2021;;75cl;12,50%;11\\xb0C;Ap\\xe9ritif, Grillades, L\\xe9gumes croquants, Salade\\r\\nlucien-boillot-nuits-saint-georges-1ercru-pruliers-2017;1.5 kg;Bourgogne;Lucien Boillot;Nuits-Saint-Georges 1er Cru;Rouge;Pinot Noir;2017;15 ans et +;75cl;13,5%;15\\xb0C;Canard, Gibier, Terrines, Viande rouge\\r\\nlucien-boillot-pommard-2017;1.5 kg;Bourgogne;Lucien Boillot;Pommard;Rouge;Pinot Noir;2019;10-15 ans;75cl;13,5%;15\\xb0C;Gibier, Terrines, Viande rouge\\r\\nlucien-boillot-volnay-2017;1.5 kg;Bourgogne;Lucien Boillot;Volnay;Rouge;Pinot Noir;2019;10-15 ans;75cl;13,5%;15\\xb0C;Risotto, Terrines, Viande rouge, Volaille\\r\\nlucien-boillot-volnay-1ercru-angles-2017;1.5 kg;Bourgogne;Lucien Boillot;Volnay 1er Cru;Rouge;Pinot Noir;2017;10-15 ans;75cl;13,5%;15\\xb0C;Risotto, Terrines, Viande rouge, Volaille\\r\\nmarc-colin-saint-aubin-luce-2017;1.5 kg;Bourgogne;Marc Colin;Saint-Aubin;Blanc;Chardonnay;2018;4-7 ans;75cl;13%;12\\xb0C;Bouch\\xe9es \\xe0 la Reine, Poisson en sauce, Risotto, Volaille\\r\\necu-muscadet-classic-2018;1.5 kg;Vall\\xe9e de la Loire;Domaine de l'Ecu;Muscadet;Blanc;Melon de Bourgogne;2018;3-5 ans;75cl;12%;11\\xb0C;Crustac\\xe9s, Fromage de ch\\xe8vre, Hu\\xeetres, Poisson grill\\xe9\\r\\ndomaine-de-lecu-muscadet-granite-2018;1.5 kg;Vall\\xe9e de la Loire;Domaine de l'Ecu;Muscadet;Blanc;Melon de Bourgogne;2018;6-8 ans;75cl;12%;11\\xb0C;Crustac\\xe9s, Fromage de ch\\xe8vre, Homard, Hu\\xeetres, Poisson grill\\xe9\\r\\ndomaine-de-lecu-muscadet-orthogneiss-2014;1.5 kg;Vall\\xe9e de la Loire;Domaine de l'Ecu;Muscadet;Blanc;Melon de Bourgogne;2018;6-8 ans;75cl;12%;11\\xb0C;Crustac\\xe9s, Cuisine Asiatique, Homard, Hu\\xeetres, Poisson grill\\xe9\\r\\nfrissant-chenin-pierres-2018;1.5 kg;Vall\\xe9e de la Loire;Xavier Frissant;Touraine Amboise;Blanc;Chenin;2018;3-5 ans;75cl;;11\\xb0C;Crustac\\xe9s, Poisson grill\\xe9, Viande Blanche\\r\\nxavier-frissant-touraine-roses-du-clos-2018;1.5 kg;Vall\\xe9e de la Loire;Xavier Frissant;Touraine;Blanc;Fi\\xe9 Gris;2019;3-5 ans;75cl;;11\\xb0C;Crustac\\xe9s, Poisson en sauce, Viande Blanche\\r\\nxavier-frissant-touraine-amboise-m-de-la-touche-2016;1.5 kg;Vall\\xe9e de la Loire;Xavier Frissant;Touraine Amboise;Rouge;C\\xf4t;2018;3-5 ans;75cl;;15\\xb0C;Poisson grill\\xe9, Viande rouge, Volaille\\r\\nxavier-frissant-touraine-sauvignon-2019;1.5 kg;Vall\\xe9e de la Loire;Xavier Frissant;Touraine;Blanc;Sauvignon Blanc;2020;3 ans;75cl;;11\\xb0C;Ap\\xe9ritif, Poisson grill\\xe9, Volaille\\r\\npierre-martin-sancerre-rouge-2017;1.5 kg;Vall\\xe9e de la Loire;Pierre Martin;Sancerre;Rouge;Pinot Noir;2019;5-7 ans;75cl;;15\\xb0C;Grillades, Lapin, Tourte, Volaille\\r\\npierre-martin-sancerre-chavignol-blanc-2019;1.5 kg;Vall\\xe9e de la Loire;Pierre Martin;Sancerre;Blanc;Sauvignon Blanc;2021;3-5 ans;75cl;;11\\xb0C;Crustac\\xe9s, Cuisine Asiatique, Fruits de mer, Poissons\\r\\ncotelleraie-saint-nicolas-croisee-2018;1.5 kg;Vall\\xe9e de la Loire;Domaine de La Cotelleraie;Saint-Nicolas-De-Bourgueil;Rouge;Cabernet Franc;2019;3-5 ans;75cl;12,50%;14\\xb0C;Charcuterie, Viande Blanche, Volaille\\r\\nbelliviere-jasnieres-rosiers-2015;1.5 kg;Vall\\xe9e de la Loire;Domaine de Bellivi\\xe8re;Saint-Nicolas-De-Bourgueil;Blanc;Chenin;2015;4-7 ans;75cl;12%;12\\xb0C;Crustac\\xe9s, Fromage de ch\\xe8vre, Poisson grill\\xe9\\r\\nmerieau-touraine-arpent-vaudons-2018;1.5 kg;Vall\\xe9e de la Loire;Domaine M\\xe9rieau;Touraine;Blanc;Sauvignon Blanc;2021;3 ans;75cl;12%;11\\xb0C;Crustac\\xe9s, Hu\\xeetres, Poisson grill\\xe9\\r\\ncatena-zapata-mendoza-alamos-malbec-2018;1.5 kg;Vins du Monde;S\\xe9lection de Vins Etrangers, Catena Zapata;Mendoza;Rouge;Malbec;2020;3-5 ans;75cl;12,50%;16\\xb0C;Gibier, Grillades, Viande rouge\\r\\ncatena-zapata-mendoza-alamos-chardonnay-2019;1.5 kg;Vins du Monde;S\\xe9lection de Vins Etrangers, Catena Zapata;Mendoza;Blanc;Chardonnay;2019;3-5 ans;75cl;13%;11\\xb0C;Crustac\\xe9s, Poisson grill\\xe9, Viande Blanche, Volaille\\r\\nmaroc-graillot-thaleb-tandem-syrah-2015;1.5 kg;Vins du Monde;Graillot-Thaleb;;Rouge;Syrah;2015;3-5 ans;75cl;13%;16\\xb0C;Couscous, Cuisine m\\xe9diterran\\xe9enne, Grillades, Viande rouge\\r\\naugustin-collioure-blanc-adeodat-2019;1.5 kg;Languedoc-Roussillon;Augustin;Collioure;Blanc;Grenache Blanc, Grenache Gris;2020;5-10 ans;75cl;14,5%;12\\xb0C;Poisson en sauce, Viande Blanche, Volaille\\r\\ndomaine-augustin-collioure-rouge-adeodat-2017;1.5 kg;Languedoc-Roussillon;Augustin;Collioure;Rouge;Carignan, Grenache;2019;10-15 ans;75cl;14,5%;16\\xb0C;Agneau, Charcuterie, Grillades, Viande rouge, Volaille\\r\\nparce-freres-hommage-fernand-blanc-2019;1.5 kg;Languedoc-Roussillon;Parc\\xe9 Fr\\xe8res;C\\xf4tes Catalanes;Blanc;Macabeu;2020;3-5 ans;75cl;12,50%;12\\xb0C;Charcuterie, Poisson grill\\xe9, Volaille\\r\\nparce-freres-cotes-roussillon-zoe-rouge-2018;1.5 kg;Languedoc-Roussillon;Parc\\xe9 Fr\\xe8res;C\\xf4tes du Roussillon Villages;Rouge;Carignan, Grenache;2020;3-5 ans;75cl;13,5%;16\\xb0C;Cuisine m\\xe9diterran\\xe9enne, Grillades, Viande rouge\\r\\npreceptorie-cotes-du-roussillon-coume-marie-2018;1.5 kg;Languedoc-Roussillon;La Preceptorie;;Rouge;Carignan, Grenache;2019;6-8 ans;75cl;15%;16\\xb0C;Grillades, Viande Blanche, Viande rouge\\r\\nparce-freres-igp-pays-oc-zoe-viognier-2019;1.5 kg;Languedoc-Roussillon;Parc\\xe9 Fr\\xe8res;Pays d'Oc;Blanc;Viognier;2019;3-5 ans;75cl;13,5%;11\\xb0C;Ap\\xe9ritif, Poissons, Salade, Volaille\\r\\nst-denis-macon-lugny-2017;1.5 kg;Bourgogne;Saint-Denis;M\\xe2con-Lugny;Blanc;Chardonnay;2018;3-5 ans;75cl;13,5%;11\\xb0C;Ap\\xe9ritif, Poissons, Salade, Volaille\\r\\ndomaine-saint-denis-macon-chardonnay-2017;1.5 kg;Bourgogne;Saint-Denis;M\\xe2con-Chardonnay;Blanc;Chardonnay;2017;3-5 ans;75cl;14%;11\\xb0C;Ap\\xe9ritif, Poissons, Salade, Volaille\\r\\ndomaine-saint-denis-bourgogne-clos-coque-2018;1.5 kg;Bourgogne;Saint-Denis;Bourgogne;Rouge;Pinot Noir;2019;3-5 ans;75cl;13%;14\\xb0C;Charcuterie, Tourte, Viande Blanche, Volaille\\r\\ndomaine-saint-denis-bourgogne-rouge-le-clos-2017;1.5 kg;Bourgogne;Saint-Denis;Bourgogne;Rouge;Pinot Noir;2019;3-5 ans;75cl;13,5%;14\\xb0C;Charcuterie, Tourte, Viande Blanche, Volaille\\r\\ndomaine-huet-vouvray-le-clos-du-bourg-moelleux-1ere-trie-2008;1.5 kg;Vall\\xe9e de la Loire;Huet;Vouvray;Blanc;Chenin;2008;15 ans et +;75cl;12,50%;11\\xb0C;Cuisine Exotique, Desserts, Foie gras, Sucr\\xe9-sal\\xe9\\r\\ndomaine-huet-vouvray-haut-lieu-sec-2016;1.5 kg;Vall\\xe9e de la Loire;Huet;Vouvray;Blanc;Chenin;2019;6-8 ans;75cl;13%;11\\xb0C;Ap\\xe9ritif, Fruits de mer, Poisson grill\\xe9, Volaille\\r\\ndomaine-huet-vouvray-le-mont-moelleux-2015;1.5 kg;Vall\\xe9e de la Loire;Huet;Vouvray;Blanc;Chenin;2003;15 ans et +;50cl;12,50%;10\\xb0C;Foie gras, Fromages persill\\xe9s\\r\\ndomaine-huet-vouvray-le-mont-sec-2017;1.5 kg;Vall\\xe9e de la Loire;Huet;Vouvray;Blanc;Chenin;2020;6-8 ans;75cl;13%;11\\xb0C;Ap\\xe9ritif, Crustac\\xe9s, Poissons, Viande Blanche\\r\\nchermette-vissoux-beaujolais-blanc-collonge-2017;1.5 kg;Beaujolais;Pierre-Marie Chermette;Beaujolais Blanc;Blanc;Chardonnay;2021;3-5 ans;75cl;13%;11\\xb0C;Crustac\\xe9s, Fromage de ch\\xe8vre, Fruits de mer, Poissons, Viande Blanche, Volaille\\r\\nchermette-domaine-du-vissoux-beaujolais-griottes-2018;1.5 kg;Beaujolais;Pierre-Marie Chermette;Beaujolais;Rouge;Gamay;2021;3-5 ans;75cl;12,50%;13\\xb0C;Charcuterie, Poissons, Salade, Volaille\\r\\nchermette-domaine-du-vissoux-brouilly-pierreux-2018;1.5 kg;Beaujolais;Pierre-Marie Chermette;Brouilly;Rouge;Gamay;2019;4-7 ans;75cl;13%;13\\xb0C;Charcuterie, Poissons, Salade, Volaille\\r\\nchermette-domaine-du-vissoux-fleurie-poncie-2018;1.5 kg;Beaujolais;Pierre-Marie Chermette;Fleurie;Rouge;Gamay;2021;4-7 ans;75cl;13%;13\\xb0C;Charcuterie, Poissons, Salade, Volaille\\r\\nchermette-domaine-du-vissoux-moulin-a-vent-trois-roches-2018;1.5 kg;Beaujolais;Pierre-Marie Chermette;Moulin \\xe0 Vent;Rouge;Gamay;2018;6-8 ans;75cl;13%;15\\xb0C;Charcuterie, Lapin, Viande rouge, Volaille\\r\\nbulliat-beaujolais-villages-bibine-2018;1.5 kg;Beaujolais;Bulliat;Beaujolais Villages;Rouge;Gamay;2020;3 ans;75cl;12,50%;13\\xb0C;Charcuterie, Salade, Viande Blanche, Volaille\\r\\ndomaine-bulliat-morgon-amphore-cou-de-jus-2019;1.5 kg;Beaujolais;Bulliat;Morgon;Rouge;Gamay;2020;6-8 ans;75cl;13%;15\\xb0C;Charcuterie, Salade, Viande Blanche, Viande rouge, Volaille\\r\\ndomaine-bulliat-morgon-colombier-2019;1.5 kg;Beaujolais;Bulliat;Morgon;Rouge;Gamay;2021;3-5 ans;75cl;13%;15\\xb0C;Charcuterie, Salade, Viande Blanche, Viande rouge, Volaille\\r\\nserol-cote-roannaise-originelles-2019;1.5 kg;Vall\\xe9e de la Loire;St\\xe9phane S\\xe9rol;C\\xf4te Roannaise;Rouge;Gamay;2019;3-5 ans;75cl;12%;14\\xb0C;Charcuterie, Viande Blanche, Volaille\\r\\ndomaine-serol-cote-roannaise-millerands-2018;1.5 kg;Vall\\xe9e de la Loire;St\\xe9phane S\\xe9rol;C\\xf4te Roannaise;Rouge;Gamay;2018;5-7 ans;75cl;12%;15\\xb0C;Charcuterie, Viande Blanche, Viande rouge, Volaille\\r\\ndomaine-serol-cote-roannaise-perdriziere-2016;1.5 kg;Vall\\xe9e de la Loire;St\\xe9phane S\\xe9rol;C\\xf4te Roannaise;Rouge;Gamay;2016;5-7 ans;75cl;12,50%;16\\xb0C;Viande en sauce, Viande rouge, Volaille\\r\\ndomaine-serol-cote-roannaise-cabochard-2016;1.5 kg;Vall\\xe9e de la Loire;St\\xe9phane S\\xe9rol;C\\xf4te Roannaise;Ros\\xe9;Gamay;2016;3 ans;75cl;12,50%;10\\xb0C;Ap\\xe9ritif, Desserts, Grillades, Poisson grill\\xe9, Salade\\r\\ndomaine-serol-mousseux-turbullent;1.5 kg;Vall\\xe9e de la Loire;St\\xe9phane S\\xe9rol;Vin Mousseux;;Gamay;;3 ans;75cl;8,5%;9\\xb0C;Ap\\xe9ritif, Desserts\\r\\ni-fabbri-chianti-classico-lamole-2017;1.5 kg;Italie;I Fabbri;Chianti Classico;Rouge;Sangiovese;2018;6-8 ans;75cl;13,5%;15\\xb0C;P\\xe2tes, Pizza, Viande rouge\\r\\ni-fabbri-chianti-classico-terra-di-lamole-2015;1.5 kg;Italie;I Fabbri;Chianti Classico;Rouge;10% Canaiolo Nero, 90% Sangiovese;2019;8-10 ans;75cl;13,5%;16\\xb0C;P\\xe2tes, Pizza, Veau, Viande rouge, Volaille\\r\\ni-fabbri-chianti-classico-riserva-2015;1.5 kg;Italie;I Fabbri;Chianti Classico;Rouge;5% Canaiolo, 95% Sangiovese;2016;10-15 ans;75cl;13,5%;16\\xb0C;Veau, Viande rouge, Volaille\\r\\ncazeneuve-languedoc-blanc-2016;1.5 kg;Languedoc-Roussillon;Ch\\xe2teau de Cazeneuve;Languedoc;Blanc;Grenache Blanc, Roussanne, Vermentino, Viognier;2017;4-7 ans;75cl;14,5%;12\\xb0C;Blanquette de veau, Poisson en sauce, Volaille\\r\\nchateau-de-cazeneuve-val-montferrand-caza-sorix-2019;1.5 kg;Languedoc-Roussillon;Ch\\xe2teau de Cazeneuve;Pic Saint-Loup;Rouge;Carignan, Merlot, Sangiovese;2019;3-5 ans;75cl;13%;15\\xb0C;Grillades, Viande Blanche, Viande rouge, Volaille\\r\\nchateau-de-cazeneuve-pic-saint-loup-roc-des-mates-2017;1.5 kg;Languedoc-Roussillon;Ch\\xe2teau de Cazeneuve;Pic Saint-Loup;Rouge;Cinsault, Grenache, Syrah;;8-10 ans;75cl;15%;16\\xb0C;Grillades, Viande Blanche, Viande rouge, Volaille\\r\\nchateau-de-cazeneuve-pic-saint-loup-le-sang-du-calvaire-2017;1.5 kg;Languedoc-Roussillon;Ch\\xe2teau de Cazeneuve;Pic Saint-Loup;Rouge;5% Syrah, 95% Mourv\\xe8dre;2019;10-15 ans;75cl;15%;16\\xb0C;Grillades, Viande Blanche, Viande rouge, Volaille\\r\\nhauvette-baux-provence-amethyste-2017;1.5 kg;Provence;Domaine Hauvette;Les Baux de Provence;Rouge;Carignan, Cinsault, Grenache;2018;10-15 ans;75cl;12,50%;16\\xb0C;Grillades, L\\xe9gumes du Soleil, Mouton, Viande rouge\\r\\ndomaine-hauvette-cornaline-2014;1.5 kg;Provence;Domaine Hauvette;Les Baux de Provence;Rouge;Cabernet Sauvignon, Grenache, Syrah;2014;10-15 ans;75cl;13,5%;16\\xb0C;Grillades, L\\xe9gumes du Soleil, Mouton, Viande rouge\\r\\nla-tour-du-bon-bandol-blanc-2019;1.5 kg;Provence;La Tour Du Bon;Bandol;Blanc;Clairette, Rolle, Ugni Blanc;2021;3-5 ans;75cl;13%;11\\xb0C;Ap\\xe9ritif, Fromage de ch\\xe8vre, Poisson grill\\xe9, Salade\\r\\ndomaine-de-la-tour-du-bon-bandol-2018;1.5 kg;Provence;La Tour Du Bon;Bandol;Rouge;Carignan, Cinsault, Grenache, Mourv\\xe8dre;2019;6-8 ans;75cl;14%;18\\xb0C;Gibier, Viande rouge\\r\\ndomaine-de-la-tour-du-bon-bandol-saint-ferreol-2018;1.5 kg;Provence;La Tour Du Bon;Bandol;Rouge;10% Carignan, 90% Mourv\\xe8dre;2018;15 ans et +;75cl;15%;17\\xb0C;Gibier, Viande rouge\\r\\ndomaine-de-la-tour-du-bandol-en-sol-2017;1.5 kg;Provence;La Tour Du Bon;Bandol;Rouge;Mourv\\xe8dre;2018;5-10 ans;75cl;14%;17\\xb0C;Grillades, L\\xe9gumes du Soleil, Viande rouge\\r\\ndomaine-de-la-tour-du-bon-bandol-rose-2019;1.5 kg;Provence;La Tour Du Bon;Bandol;Ros\\xe9;Cinsault, Clairette, Grenache, Mourv\\xe8dre;2021;3-5 ans;75cl;13%;12\\xb0C;Couscous, Fruits de mer, Grillades, L\\xe9gumes du Soleil, Poisson grill\\xe9\\r\\nidylle-savoie-cruet-2018;1.5 kg;Savoie;Domaine de l'Idylle;Savoie;Blanc;Jacqu\\xe8re;2018;3-5 ans;75cl;11,5%;11\\xb0C;Ap\\xe9ritif, Fondues, Fromages, Poisson grill\\xe9, Raclettes, Viande Blanche\\r\\ndomaine-de-lidylle-savoie-roussette-2018;1.5 kg;Savoie;Domaine de l'Idylle;Roussette de Savoie;Blanc;Altesse;2018;3-5 ans;75cl;13%;12\\xb0C;Ap\\xe9ritif, Fondues, Fromages, Poisson grill\\xe9, Raclettes, Viande Blanche\\r\\ndomaine-de-lidylle-savoie-mondeuse-2018;1.5 kg;Savoie;Domaine de l'Idylle;Savoie;Rouge;Mondeuse;2018;3-5 ans;75cl;11,5%;14\\xb0C;Charcuterie, Fromages, Gigot\\r\\nchampagne-gosset-grand-blanc-de-blanc;1.5 kg;Champagne;Gosset;Champagne;Blanc;Chardonnay;;4 ans;75cl;12%;10\\xb0C;Ap\\xe9ritif, Coquilles Saint Jacques, Hu\\xeetres, Poissons\\r\\nchampagne-mailly-grand-cru-blanc-de-pinot-noir;1.5 kg;Champagne;Mailly Grand Cru;Champagne;Blanc;Pinot Noir;;4 ans;75cl;12%;10\\xb0C;Coquilles Saint Jacques, Foie gras, Poissons, Volaille\\r\\nchampagne-mailly-grand-cru-les-echansons-2007;1.5 kg;Champagne;Mailly Grand Cru;Champagne;Blanc;25% Chardonnay, 75% Pinot Noir;;6-8 ans;75cl;12%;10\\xb0C;Coquilles Saint Jacques, Foie gras, Poissons, Volaille\\r\\nchampagne-egly-ouriet-tradition-grand-cru;1.5 kg;Champagne;Egly-Ouriet;Champagne;Blanc;30% Chardonnay, 70% Pinot Noir;;3-5 ans;75cl;12,50%;10\\xb0C;Ap\\xe9ritif, Crustac\\xe9s, Desserts, Poissons\\r\\nchampagne-egly-ouriet-extra-brut-vp;1.5 kg;Champagne;Egly-Ouriet;Champagne;Blanc;30% Chardonnay, 70% Pinot Noir;;6-8 ans;75cl;12,50%;10\\xb0C;Ap\\xe9ritif, Crustac\\xe9s, Desserts, Poissons\\r\\nchampagne-egly-ouriet-grand-cru-millesime-2008;1.5 kg;Champagne;Egly-Ouriet;Champagne;Blanc;30% Chardonnay, 70% Pinot Noir;;10 ans et +;75cl;12,50%;10\\xb0C;Ap\\xe9ritif, Crustac\\xe9s, Desserts, Poissons\\r\\nchampagne-egly-ouriet-grand-cru-brut-rose;1.5 kg;Champagne;Egly-Ouriet;Champagne;;35% Chardonnay, 65% Pinot Noir;;3-5 ans;75cl;12,50%;10\\xb0C;Ap\\xe9ritif, Desserts, Tartes aux fruits\\r\\nchampagne-egly-ouriet-grand-cru-brut-blanc-de-noirs;1.5 kg;Champagne;Egly-Ouriet;Champagne;Blanc;Pinot Noir;;5-10 ans;75cl;12,50%;10\\xb0C;Ap\\xe9ritif, Desserts, Tartes aux fruits\\r\\nchampagne-egly-ouriet-premier-cru-vrigny;1.5 kg;Champagne;Egly-Ouriet;Champagne;Blanc;100% Pinot Meunier;;3-5 ans;75cl;12,50%;10\\xb0C;Ap\\xe9ritif, Desserts\\r\\nchampagne-larmandier-bernier-latitude;1.5 kg;Champagne;Larmandier-Bernier;Champagne;Blanc;Chardonnay;;3-5 ans;75cl;12,50%;10\\xb0C;Ap\\xe9ritif, Crustac\\xe9s, Desserts, Poissons\\r\\nchampagne-larmandier-bernier-vieilles-vignes-levant-2008;1.5 kg;Champagne;Larmandier-Bernier;Champagne;Blanc;Chardonnay;;8-10 ans;75cl;12,50%;10\\xb0C;Ap\\xe9ritif, Crustac\\xe9s, Desserts, Poissons\\r\\nwhisky-wemyss-the-hive;1.5 kg;;;;;;;;70cl;46%;;\\r\\nwhisky-wemyss-peat-chimney;1.5 kg;;;;;;;;70cl;46%;;\\r\\nwhisky-wemyss-spice-king;1.5 kg;;;;;;;;70cl;46%;;\\r\\nwhisky-wemyss-vanilla-burst;1.5 kg;;;;;;;;70cl;46%;;\\r\\nwhisky-wemyss-treacle-chest;1.5 kg;;;;;;;;70cl;46%;;\\r\\nwhisky-lord-elcho;1.5 kg;;;;;;;;70cl;40%;;\\r\\nwhisky-wemyss-the-hive-12-ans;1.5 kg;;;;;;;;70cl;40%;;\\r\\nwhisky-wemyss-the-hive-batch-strength;1.5 kg;;;;;;;;70cl;54,5%;;\\r\\nwhisky-wemyss-peat-chimney-batch-strength;1.5 kg;;;;;;;;70cl;57%;;\\r\\nwhisky-wemyss-spice-king-batch-strength;1.5 kg;;;;;;;;70cl;57%;;\\r\\ncognac-frapin-1270;1.5 kg;;;Cognac Grande Champagne 1er Cru;;;;;70cl;40%;;\\r\\ncognac-frapin-vsop;1.5 kg;;;Cognac Grande Champagne 1er Cru;;;;;70cl;40%;;\\r\\ncognac-frapin-vip-xo;1.5 kg;;;Cognac Grande Champagne 1er Cru;;;;;70cl;40%;;\\r\\ncognac-frapin-fontpinot-xo;1.5 kg;;;Cognac Grande Champagne 1er Cru;;;;;70cl;41%;;\\r\\ncognac-frapin-chateau-de-fontpinot-xo-1-2;1.5 kg;;;Cognac Grande Champagne 1er Cru;;;;;70cl;41%;;\\r\\ncognac-frapin-chateau-de-fontpinot-1989-20-ans;1.5 kg;;;Cognac Grande Champagne 1er Cru;;;;;70cl;41,3%;;\\r\\ncognac-frapin-cigar-blend;1.5 kg;;;Cognac Grande Champagne 1er Cru;;;;;70cl;40%;;\\r\\nmontcalmes-larzac-rouge-2017;1.5 kg;Languedoc-Roussillon;Domaine de Montcalm\\xe8s;Terrasses du Larzac;Rouge;Grenache, Mourv\\xe8dre, Syrah;2019;8-10 ans;75cl;14%;15\\xb0C;Agneau, Grillades, Tajine, Viande rouge\\r\\ndomaine-giudicelli-vfd-ete-rouge-2018;1.5 kg;Corse;Domaine Giudicelli;;Rouge;Grenache, Sciacarello;2018;3 ans;75cl;13,5%;13\\xb0C;Ap\\xe9ritif, Charcuterie, Fromages, Poissons, Volaille\\r\\ndomaine-de-montcalmes-ct-languedoc-blanc-2017;1.5 kg;Languedoc-Roussillon;Domaine de Montcalm\\xe8s;Coteaux du Languedoc;Blanc;Marsanne, Roussanne;2018;5-10 ans;75cl;13,5%;12\\xb0C;Fromages, Poisson en sauce, Volaille\\r\\nmarc-colin-et-fils-chassagne-montrachet-blanc-margot-2017;1.5 kg;Bourgogne;Marc Colin;Chassagne-Montrachet;Blanc;Chardonnay;2018;4-7 ans;75cl;13%;12\\xb0C;Bouch\\xe9es \\xe0 la Reine, Ris de veau, Risotto, Volaille\\r\\nmarc-colin-et-fils-saint-aubin-en-montceau-2017;1.5 kg;Bourgogne;Marc Colin;Saint-Aubin;Blanc;Chardonnay;2018;4-7 ans;75cl;13%;12\\xb0C;Bouch\\xe9es \\xe0 la Reine, Dorade Grill\\xe9e, Ris de veau, Volaille\\r\\nmarc-colin-et-fils-chassagne-montrachet-rouge-vieilles-vignes-2017;1.5 kg;Bourgogne;Marc Colin;Chassagne-Montrachet;Rouge;Pinot Noir;2018;4-7 ans;75cl;13%;15\\xb0C;Entrec\\xf4te, Foie de Veau, Terrine de Lapin\\r\\ncatherine-et-claude-marechal-bourgogne-aligote-2018;1.5 kg;Bourgogne;Catherine et Claude Mar\\xe9chal;Bourgogne Aligot\\xe9;Blanc;Aligot\\xe9;2018;3-5 ans;75cl;12,50%;12\\xb0C;Andouillettes, Escargots de Bourgogne, Fromages, Jambon persill\\xe9\\r\\ncatherine-et-claude-marechal-chorey-les-beaune-2017;1.5 kg;Bourgogne;Catherine et Claude Mar\\xe9chal;Chorey-L\\xe8s-Beaune;Rouge;Pinot Noir;2017;4-7 ans;75cl;13%;15\\xb0C;Carrelet au cidre, Gratin de chou-fleur\\r\\ncatherine-et-claude-marechal-ladoix-rouge-les-chaillots-2017;1.5 kg;Bourgogne;Catherine et Claude Mar\\xe9chal;Ladoix;Rouge;Pinot Noir;2017;4-7 ans;75cl;13%;15\\xb0C;Boeuf bourguignon, Jambon de Parme, Lapin\\r\\ncatherine-et-claude-marechal-volnay-2017;1.5 kg;Bourgogne;Catherine et Claude Mar\\xe9chal;Volnay;Rouge;Pinot Noir;2017;8-10 ans;75cl;13,5%;15\\xb0C;Fondue Bourguignonne, Fricass\\xe9 aux c\\xe8pes, Risotto aux champignons, Terrine de dinde\\r\\nfrancois-bergeret-hautes-cotes-de-beaune-rouge-2017;1.5 kg;Bourgogne;Fran\\xe7ois Bergeret;Hautes C\\xf4tes de Beaune;Rouge;Pinot Noir;2017;3-5 ans;75cl;13,5%;15\\xb0C;Fondue Bourguignonne, Fricass\\xe9 aux c\\xe8pes, Risotto aux champignons, Terrine de dinde\\r\\nfrancois-bergeret-hautes-cotes-de-beaune-blanc-2018;1.5 kg;Bourgogne;Fran\\xe7ois Bergeret;Hautes C\\xf4tes de Beaune;Blanc;Chardonnay;2019;3-5 ans;75cl;13%;12\\xb0C;Charcuterie, Fromages, Poisson en sauce, Volaille\\r\\ngilbert-picq-chablis-vosgros-1er-cru-2017;1.5 kg;Bourgogne;Gilbert Picq;Chablis;Blanc;Chardonnay;2019;4-7 ans;75cl;12,50%;12\\xb0C;Ap\\xe9ritif, Fruits de mer, Hu\\xeetres, Poisson grill\\xe9\\r\\ngilbert-picq-chablis-vieilles-vignes-2017;1.5 kg;Bourgogne;Gilbert Picq;Chablis;Blanc;Chardonnay;2018;3-5 ans;75cl;12,50%;12\\xb0C;Ap\\xe9ritif, Fruits de mer, Hu\\xeetres, Poisson grill\\xe9\\r\\ngilbert-picq-chablis-2017;1.5 kg;Bourgogne;Gilbert Picq;Chablis;Blanc;Chardonnay;2019;3-5 ans;75cl;12,50%;12\\xb0C;Ap\\xe9ritif, Fruits de mer, Hu\\xeetres, Poisson grill\\xe9\\r\\ngilbert-picq-chablis-en-vaudecorse-2017;1.5 kg;Bourgogne;Gilbert Picq;Chablis;Blanc;Chardonnay;2019;4-7 ans;75cl;12,50%;12\\xb0C;Ap\\xe9ritif, Fruits de mer, Hu\\xeetres, Poisson grill\\xe9\\r\\nalphonse-mellot-sancerre-blanc-la-moussiere-2018;1.5 kg;Vall\\xe9e de la Loire;Alphonse Mellot;Sancerre;Blanc;Sauvignon Blanc;2020;4-7 ans;75cl;12,50%;12\\xb0C;Ap\\xe9ritif, Fruits de mer, Hu\\xeetres, Poisson grill\\xe9\\r\\nalphonse-mellot-sancerre-rouge-la-demoiselle-2015;1.5 kg;Vall\\xe9e de la Loire;Alphonse Mellot;Sancerre;Rouge;Pinot Noir;2015;10-15 ans;75cl;13%;15\\xb0C;canard sauvage aux \\xe9pices, Oeufs poch\\xe9s sauce vigneronne aux c\\xe8pes, Poires \\xe0 la cannelle\\r\\nalphonse-mellot-sancerre-rouge-generation-xix-2011;1.5 kg;Vall\\xe9e de la Loire;Alphonse Mellot;Sancerre;Rouge;Pinot Noir;2012;10-15 ans;75cl;13%;15\\xb0C;Filet de sandre et de silure \\xe0 la vigneronne, fricass\\xe9e de champignons, matelote d'anguille \\xe0 la Charentaise, Oeufs en meurette\\r\\nalphonse-mellot-sancerre-rouge-la-moussiere-2014;1.5 kg;Vall\\xe9e de la Loire;Alphonse Mellot;Sancerre;Rouge;Pinot Noir;2019;5-10 ans;75cl;13%;15\\xb0C;Blanquette de veau, Cabillaud sauce vigneronne, T\\xeate de veau sauce gribiche, Tourte de cailles aux c\\xe8pes\\r\\nalphonse-mellot-sancerre-rouge-en-grands-champs-2012;1.5 kg;Vall\\xe9e de la Loire;Alphonse Mellot;Sancerre;Rouge;Pinot Noir;2016;5-15 ans;75cl;13%;15\\xb0C;C\\x9cur de pav\\xe9 de Charolais \\xe0 la moelle, Soupe de p\\xeaches de vigne \\xe0 l'anis \\xe9toil\\xe9e, Terrine de foies de volailles \\xe0 la confiture d'oignon\\r\\nbernard-baudry-chinon-rouge-les-granges-2018;1.5 kg;Vall\\xe9e de la Loire;Bernard Baudry;Chinon;Rouge;Cabernet Franc;2020;3-5 ans;75cl;12%;15\\xb0C;Charcuterie, Fromages, R\\xf4ti de Porc, Viande rouge\\r\\nbernard-baudry-chinon-rouge-les-grezeaux-2017;1.5 kg;Vall\\xe9e de la Loire;Bernard Baudry;Chinon;Rouge;Cabernet Franc;2019;5-10 ans;75cl;13%;15\\xb0C;Charcuterie, \\xc9paule farcie de mouton berrichon du cher, Fromages, R\\xf4ti de Porc, Viande rouge\\r\\nmarcel-windholtz-eau-de-vie-de-sureau;1.5 kg;Alsace;;;;;;;70cl;45%;;\\r\\nmarcel-windholtz-eau-de-vie-de-sureau-copie;1.5 kg;Alsace;;;;;;;70cl;45%;;\\r\\nmarcel-windholtz-eau-de-vie-de-poire-williams-reserve-particuliere;1.5 kg;Alsace;;;;;;;70cl;45%;;\\r\\nmarcel-windholtz-eau-de-vie-de-marc-de-muscat;1.5 kg;Alsace;;;;;;;70cl;45%;;\\r\\nmarcel-windholtz-eau-de-vie-de-fraise;1.5 kg;Alsace;;;;;;;70cl;45%;;\\r\\nmarcel-windholtz-eau-de-vie-de-coing;1.5 kg;Alsace;;;;;;;70cl;45%;;\\r\\nmarcel-windholtz-eau-de-vie-de-baie-de-houx;1.5 kg;Alsace;;;;;;;70cl;45%;;\\r\\nmarcel-windholtz-eau-de-quetsch-dalsace-reserve-particuliere;1.5 kg;Alsace;;;;;;;70cl;45%;;\\r\\nmarcel-windholtz-eau-de-mirabelle-dalsace-reserve-particuliere;1.5 kg;Alsace;;;;;;;70cl;45%;;\\r\\nmarcel-windholtz-eau-de-marc-de-gewurztraminer;1.5 kg;Alsace;;;;;;;70cl;45%;;\\r\\nmarcel-windholtz-eau-de-vie-de-kirsch-dalsace-reserve-particuliere;1.5 kg;Alsace;;;;;;;70cl;45%;;\\r\\nmarcel-windholtz-eau-de-vie-de-framboise-dalsace;1.5 kg;Alsace;;;;;;;70cl;45%;;\\r\\nbernard-baudry-chinon-rouge-clos-guillot-2017;1.5 kg;Vall\\xe9e de la Loire;Bernard Baudry;Chinon;Rouge;Cabernet Franc;2019;5-10 ans;75cl;12,50%;15\\xb0C;Charcuterie, \\xc9paule farcie de mouton berrichon du cher, Fromages, R\\xf4ti de Porc, Viande rouge\\r\\nbernard-baudry-chinon-blanc-croix-boissee-2018;1.5 kg;Vall\\xe9e de la Loire;Bernard Baudry;Chinon;Blanc;Chenin;2020;5-10 ans;75cl;12,50%;12\\xb0C;Risotto saumon, Salade de ch\\xe8vre chaud, Saumon au beurre blanc\\r\\nbernard-baudry-chinon-blanc-2018;1.5 kg;Vall\\xe9e de la Loire;Bernard Baudry;Chinon;Blanc;Chenin;2019;3-5 ans;75cl;12,50%;12\\xb0C;Risotto saumon, Salade de ch\\xe8vre chaud, Saumon au beurre blanc\\r\\nthierry-germain-saumur-blanc-linsolite-2018;1.5 kg;Vall\\xe9e de la Loire;Thierry Germain;Saumur Blanc;Blanc;Chenin;2019;5-7 ans;75cl;12,50%;12\\xb0C;Risotto saumon, Salade de ch\\xe8vre chaud, Saumon au beurre blanc\\r\\nthierry-germain-saumur-blanc-terres-2014;1.5 kg;Vall\\xe9e de la Loire;Thierry Germain;Saumur Blanc;Blanc;Chenin;2014;6-8 ans;75cl;12,50%;12\\xb0C;Sushis, Tartare de saumon\\r\\nthierry-germain-saumur-champigny-franc-de-pied-2016;1.5 kg;Vall\\xe9e de la Loire;Thierry Germain;Saumur-Champigny;Rouge;Cabernet Franc;2016;5-10 ans;75cl;13%;15\\xb0C;Gibier, Tartare de Boeuf, Viande rouge\\r\\nthierry-germain-saumur-champigny-outre-terre-2014;1.5 kg;Vall\\xe9e de la Loire;Thierry Germain;Saumur-Champigny;Rouge;Cabernet Franc;2014;10-15 ans;75cl;13%;15\\xb0C;Boudin aux pommes, Gibier, Queue de boeuf \\xe0 la cuilli\\xe8re, Tartare de Boeuf, Viande rouge\\r\\nthierry-germain-saumur-champigny-outre-terre-2016;1.5 kg;Vall\\xe9e de la Loire;Thierry Germain;Saumur-Champigny;Rouge;Cabernet Franc;2016;10-15 ans;75cl;13%;15\\xb0C;Boudin aux pommes, Gibier, Queue de boeuf \\xe0 la cuilli\\xe8re, Tartare de Boeuf, Viande rouge\\r\\npierre-martin-sancerre-les-monts-damnes-2018;1.5 kg;Vall\\xe9e de la Loire;Pierre Martin;Sancerre;Blanc;Sauvignon Blanc;2019;3-5 ans;75cl;;11\\xb0C;Crustac\\xe9s, Cuisine Asiatique, Fruits de mer, Poissons\\r\\nla-cotelleraie-saint-nicolas-de-bourgueil-le-vau-jaumier-2016;1.5 kg;Vall\\xe9e de la Loire;Domaine de La Cotelleraie;Saint-Nicolas-De-Bourgueil;Rouge;Cabernet Franc;2017;5-10 ans;75cl;12,50%;15\\xb0C;Araign\\xe9e de Boeuf, Civet de Lapin, Cochon de lait r\\xf4ti au four\\r\\nvincent-careme-vouvray-sec-2018;1.5 kg;Vall\\xe9e de la Loire;Vincent Car\\xeame;Vouvray;Blanc;Chenin;2020;3-5 ans;75cl;13,5%;11\\xb0C;Ap\\xe9ritif, Crustac\\xe9s, Fruits de mer, Poissons, Viande Blanche\\r\\nvincent-careme-vouvray-moelleux-2015;1.5 kg;Vall\\xe9e de la Loire;Vincent Car\\xeame;Vouvray;Blanc;Chenin;2015;3-5 ans;75cl;12,50%;11\\xb0C;Ap\\xe9ritif, Foie gras, Tartes aux fruits\\r\\nxavier-frissant-touraine-amboise-loree-des-frenes-2015;1.5 kg;Vall\\xe9e de la Loire;Xavier Frissant;Touraine Amboise;Rouge;C\\xf4t;2016;3-5 ans;75cl;;15\\xb0C;Poisson grill\\xe9, Viande rouge, Volaille\\r\\npelle-menetou-salon-blanc-le-carroir-2018;1.5 kg;Vall\\xe9e de la Loire;Henry Pell\\xe9;Menetou-Salon;Blanc;Sauvignon Blanc;2019;6-8 ans;75cl;;12\\xb0C;Boudin blanc aux morilles, Cabillaud r\\xf4ti, Marinade d'anchois frais\\r\\npelle-menetou-salon-blanc-morogues-2018;1.5 kg;Vall\\xe9e de la Loire;Henry Pell\\xe9;Menetou-Salon;Blanc;Sauvignon Blanc;2020;3-5 ans;75cl;;12\\xb0C;Ap\\xe9ritif, Fromage de ch\\xe8vre, Fruits de mer, Sole grill\\xe9e\\r\\npelle-menetou-salon-rouge-les-cris-2015;1.5 kg;Vall\\xe9e de la Loire;Henry Pell\\xe9;Menetou-Salon;Rouge;Pinot Noir;2015;6-8 ans;75cl;;15\\xb0C;Blanquette de veau, Lamproie au vin rouge, T\\xeate de veau, Viande rouge\\r\\npelle-menetou-salon-rouge-morogues-2017;1.5 kg;Vall\\xe9e de la Loire;Henry Pell\\xe9;Menetou-Salon;Rouge;Pinot Noir;2019;3-5 ans;75cl;;15\\xb0C;Grillades, Viande rouge, Volaille\\r\\npelle-sancerre-rouge-la-croix-au-garde-2017;1.5 kg;Vall\\xe9e de la Loire;Henry Pell\\xe9;Sancerre;Rouge;Pinot Noir;2018;4-7 ans;75cl;;15\\xb0C;Grillades, Viande rouge, Volaille\\r\\npelle-sancerre-blanc-la-croix-au-garde-2018;1.5 kg;Vall\\xe9e de la Loire;Henry Pell\\xe9;Sancerre;Blanc;Sauvignon Blanc;2019;4-7 ans;75cl;;15\\xb0C;Fromage de ch\\xe8vre, Fruits de mer, Poissons\\r\\ndomaine-rotier-gaillac-blanc-sec-renaissance-2015;1.5 kg;Sud Ouest;Rotier;Gaillac;Blanc;20% Sauvignon, 80% Loin de l'oeil;2015;3-5 ans;75cl;;11\\xb0C;Fromage de ch\\xe8vre, Poissons, Volaille\\r\\ndomaine-rotier-gaillac-blanc-doux-les-gravels-2016;1.5 kg;Sud Ouest;Rotier;Gaillac;Blanc;20% Sauvignon, 80% Loin de l'oeil;2016;5-10 ans;75cl;;10\\xb0C;Desserts, Foie gras, Tartes aux fruits\\r\\ndomaine-rotier-gaillac-rouge-les-gravels-2016;1.5 kg;Sud Ouest;Rotier;Gaillac;Rouge;Braucol, Duras, Prunelart, Syrah;2016;3-5 ans;75cl;;17\\xb0C;Cassoulet, Grillades, Magret de Canard, Viande rouge\\r\\ndomaine-rotier-gaillac-rouge-lame-2016;1.5 kg;Sud Ouest;Rotier;Gaillac;Rouge;40% Syrah, 60% Duras;2016;15 ans et +;75cl;;17\\xb0C;Cassoulet, Gibier, Grillades, Magret de Canard, Viande rouge\\r\\ndomaine-rotier-gaillac-rouge-renaissance-2016;1.5 kg;Sud Ouest;Rotier;Gaillac;Rouge;30% Cabernet Sauvignon, 30% Syrah, 40% Duras;2016;6-8 ans;75cl;;17\\xb0C;Cassoulet, Gibier, Gigot, Magret de Canard, Viandes marin\\xe9es\\r\\ndomaine-de-joy-cotes-de-gascogne-envie-de-joy-2018;1.5 kg;Sud Ouest;Domaine de Joy;C\\xf4te de Gascogne;Blanc;Colombard, Gros Manseng, Ugni Blanc;2018;3-5 ans;75cl;12,50%;11\\xb0C;Ap\\xe9ritif, Crustac\\xe9s, Fromage de ch\\xe8vre, Poisson grill\\xe9\\r\\ndomaine-de-joy-cotes-de-gascogne-blanc-moelleux-saint-andre-2018;1.5 kg;Sud Ouest;Domaine de Joy;C\\xf4te de Gascogne;Blanc;Gros Manseng;2020;3-5 ans;75cl;12,50%;11\\xb0C;Chocolat, Foie gras, Fromage bleu, Tartes aux fruits\\r\\nchateau-plaisance-fronton-2017;1.5 kg;Sud Ouest;Ch\\xe2teau Plaisance;Fronton;Rouge;24% Syrah, 68% Negrette, 8% Cabernet-Franc;2018;3-5 ans;75cl;12,50%;14\\xb0C;Charcuterie, Jambon de Bayonne, Saucisse de Toulouse\\r\\nchateau-plaisance-fronton-rose-2019;1.5 kg;Sud Ouest;Ch\\xe2teau Plaisance;Fronton;Ros\\xe9;15% Syrah, 25% Gamay, 60% Negrette;2019;3-5 ans;75cl;12,50%;11\\xb0C;Ap\\xe9ritif, Charcuterie, Jambon de Bayonne, Salade\\r\\nchateau-plaisance-fronton-to-co-que-cal-2015;1.5 kg;Sud Ouest;Ch\\xe2teau Plaisance;Fronton;Rouge;Negrette;;10-15 ans;75cl;13%;16\\xb0C;Charcuterie, Cou d'oie confit, Escaoudon Landais, Jambon de Bayonne\\r\\nmatthieu-cosse-cahors-solis-2018;1.5 kg;Sud Ouest;Matthieu Cosse;Cahors;Rouge;Malbec;2018;6-8 ans;75cl;13%;16\\xb0C;Confit de canard, Filet de boeuf, Li\\xe8vre \\xe0 la broche\\r\\nmatthieu-cosse-cahors-le-sid-2014;1.5 kg;Sud Ouest;Matthieu Cosse;Cahors;Rouge;Malbec, Merlot, Tannat;2014;15 ans et +;75cl;13,5%;17\\xb0C;Confit de canard, Filet de boeuf, Li\\xe8vre \\xe0 la broche\\r\\ndomaine-plageoles-cotes-du-tarn-blanc-sec-ondenc;1.5 kg;Sud Ouest;Plageoles;C\\xf4tes du Tarn;Blanc;Ondenc;2018;3-5 ans;75cl;14%;11\\xb0C;Pieds de porc glac\\xe9s, Pur\\xe9e de haricots tarbais, Rilettes d'anguilles\\r\\ndomaine-plageoles-vin-de-france-contre-pied-2016;1.5 kg;Sud Ouest;Plageoles;;Rouge;Duras;2016;3-5 ans;75cl;14,5%;15\\xb0C;Cassoulet, Confit de canard, Viande rouge\\r\\nalbert-mann-gewurztraminer-2017;1.5 kg;Alsace;Albert Mann;Alsace Gewurztraminer;Blanc;Gewurztraminer;2019;4-7 ans;75cl;14%;12\\xb0C;Foie gras, Gambas au gingembre, Munster\\r\\nalbert-mann-pinot-gris-cuvee-albert-2017;1.5 kg;Alsace;Albert Mann;Alsace Pinot Gris;Blanc;Pinot Gris;2017;6-8 ans;75cl;13%;12\\xb0C;C\\xf4telettes de porc aux pommes, Po\\xeal\\xe9e de champignons, Tajine de veau aux abricots\\r\\nalbert-mann-pinot-gris-grand-cru-furstentum-2016;1.5 kg;Alsace;Albert Mann;Alsace Grand Cru;Blanc;Pinot Gris;2016;10-15 ans;75cl;13%;12\\xb0C;Riz de Veau\\r\\nalbert-mann-riesling-grand-cru-schlossberg-2018;1.5 kg;Alsace;Albert Mann;Alsace Grand Cru;Blanc;Riesling;2018;10-15 ans;75cl;13,5%;12\\xb0C;Carpaccio de Saint-Jacques, Risotto aux crevettes, Skrei de Norv\\xe8ge\\r\\ndomaine-schoenheitz-cremant-dalsace-memoire-granit-extra-brut;1.5 kg;Alsace;Schoenheitz;Cr\\xe9mant d'Alsace;Blanc;Pinot Auxerrois;;;75cl;12%;9\\xb0C;Ap\\xe9ritif, Fromages, Hu\\xeetres, Poissons\\r\\ndomaine-schoenheitz-gewurztraminer-lisenberg-2015;1.5 kg;Alsace;Schoenheitz;Alsace Gewurztraminer;Blanc;Gewurztraminer;2017;8-10 ans;75cl;13%;12\\xb0C;Ap\\xe9ritif, Foie gras, Munster, Plats exotiques, Tartes aux fruits\\r\\ndomaine-schoenheitz-muscat-2017;1.5 kg;Alsace;Schoenheitz;Alsace Muscat;Blanc;Muscat;2019;3-5 ans;75cl;12%;12\\xb0C;Ap\\xe9ritif, Asperges, Coquilles Saint Jacques, Sushis\\r\\ndomaine-schoenheitz-pinot-blanc-val-saint-gregoire-2017;1.5 kg;Alsace;Schoenheitz;Alsace Pinot Blanc;Blanc;Pinot Blanc;2017;3-5 ans;75cl;13%;12\\xb0C;Ap\\xe9ritif, Salade, Tarte flamb\\xe9e\\r\\ndomaine-schoenheitz-pinot-gris-herrenreben-2017;1.5 kg;Alsace;Schoenheitz;Alsace Pinot Gris;Blanc;Pinot Gris;2017;8-10 ans;75cl;13%;12\\xb0C;Ap\\xe9ritif, Caille aux raisins, Foie gras, Volaille\\r\\ndomaine-schoenheitz-pinot-noir-herrenreben-2017;1.5 kg;Alsace;Schoenheitz;Alsace Pinot Noir;Rouge;Pinot Noir;2019;8-10 ans;75cl;14,5%;15\\xb0C;Boeuf bourguignon, Gibier, Viande rouge\\r\\ndomaine-schoenheitz-pinot-noir-val-saint-gregoire-2017;1.5 kg;Alsace;Schoenheitz;Alsace Pinot Noir;Rouge;Pinot Noir;2019;6-8 ans;75cl;14,5%;15\\xb0C;Boeuf bourguignon, Sandre au Pinot Noir, Viande rouge\\r\\ndomaine-schoenheitz-pinot-noir-tradition-2019;1.5 kg;Alsace;Schoenheitz;Alsace Pinot Noir;Rouge;Pinot Noir;2020;3-5 ans;75cl;13%;15\\xb0C;Aiguillette de boeuf au Pinot Noir, Charcuterie, Grillades, Viande rouge\\r\\ndomaine-schoenheitz-riesling-herrenreben-2018;1.5 kg;Alsace;Schoenheitz;Alsace Riesling;Blanc;Riesling;2019;8-10 ans;75cl;13%;12\\xb0C;Choucroute, Crustac\\xe9s, Fromage de ch\\xe8vre, Fruits de mer, Poissons, Volaille\\r\\nfrancois-baur-pinot-gris-herrenweg-de-turckheim-2018;1.5 kg;Alsace;Fran\\xe7ois Baur;Alsace Pinot Gris;Blanc;Pinot Gris;2020;4-7 ans;75cl;13%;12\\xb0C;Baeckeoffe, Gibier, Po\\xeal\\xe9e de champignons, Volaille\\r\\nfrancois-baur-pinot-noir-sang-du-dragon-2017;1.5 kg;Alsace;Fran\\xe7ois Baur;Alsace Pinot Noir;Rouge;Pinot Noir;2019;8-10 ans;75cl;14%;15\\xb0C;Gibier, Grillades, Viande rouge\\r\\nfrancois-baur-riesling-grand-cru-brand-clos-de-la-treille-2017;1.5 kg;Alsace;Fran\\xe7ois Baur;Alsace Grand Cru;Blanc;Riesling;2017;6-8 ans;75cl;13,5%;12\\xb0C;Choucroute, Hu\\xeetres, Poissons, Viande Blanche, Volaille\\r\\nfrancois-baur-pinot-noir-schlittweg-2017;1.5 kg;Alsace;Fran\\xe7ois Baur;Alsace Pinot Noir;Rouge;Pinot Noir;2019;3-5 ans;75cl;13,5%;14\\xb0C;Charcuterie, Viande Blanche, Viande rouge, Volaille\\r\\npaul-ginglinger-riesling-grand-cru-pfersigberg-2018;1.5 kg;Alsace;Paul Ginglinger;Alsace Grand Cru;Blanc;Riesling;2019;10-12 ans;75cl;13%;12\\xb0C;Choucroute, Coq au Riesling, Crustac\\xe9s, Hu\\xeetres, Poissons, Viande Blanche\\r\\nschoech-gewurztraminer-vt-2017;1.5 kg;Alsace;Maurice Schoech;Alsace Gewurztraminer;Blanc;Gewurztraminer;2018;10-15 ans;75cl;12%;11\\xb0C;Ap\\xe9ritif, Desserts, Foie gras\\r\\nemile-boeckel-cremant-brut-blanc-de-blancs;1.5 kg;Alsace;Emile Boeckel;Cr\\xe9mant d'Alsace;Blanc;;;3-5 ans;75cl;12%;9\\xb0C;Ap\\xe9ritif, Fromages, Hu\\xeetres, Poissons\\r\\ncamin-larredya-jurancon-sec-la-part-davant-2018;1.5 kg;Sud Ouest;Camin Larredya;Juran\\xe7on;Blanc;Gros Manseng, Petit Courbu, Petit Manseng;2019;3-5 ans;75cl;14%;11\\xb0C;Charcuterie, Fromages, Poissons, Viande Blanche\\r\\ncamin-larredya-jurancon-moelleux-costat-darrer-2018;1.5 kg;Sud Ouest;Camin Larredya;Juran\\xe7on;Blanc;Gros Manseng, Petit Manseng;2021;3-5 ans;75cl;13%;10\\xb0C;Ap\\xe9ritif, Cuisine orientale, Foie gras, Fromage de brebis\\r\\njean-paul-brun-beaujolais-le-ronsay-2016;1.5 kg;Beaujolais;Jean-Paul Brun;Beaujolais;Rouge;Gamay;2017;3-5 ans;75cl;12%;14\\xb0C;Ap\\xe9ritif, Charcuterie, Grillades\\r\\ndomaine-de-montgilet-anjou-blanc-2016;1.5 kg;Vall\\xe9e de la Loire;Montgilet;Anjou;Blanc;Chenin;2016;4-7 ans;75cl;14%;12\\xb0C;Crustac\\xe9s, Poissons, Volaille\\r\\ndomaine-de-montgilet-anjou-rouge-2016;1.5 kg;Vall\\xe9e de la Loire;Montgilet;Anjou;Rouge;Cabernet Franc;2015;3-5 ans;75cl;13%;14\\xb0C;Charcuterie, Fromages l\\xe9gers, Grillades, Volaille\\r\\ndomaine-de-montgilet-coteaux-de-laubance-les-trois-schistes-2016;1.5 kg;Vall\\xe9e de la Loire;Montgilet;Coteaux de l'Aubance;Blanc;Chenin;2018;6-8 ans;75cl;10%;10\\xb0C;Chocolat, Foie gras, Fromage bleu, Tartes aux fruits\\r\\ndomaine-de-montgilet-coteaux-de-laubance-2017;1.5 kg;Vall\\xe9e de la Loire;Montgilet;Coteaux de l'Aubance;Blanc;Chenin;2017;3-5 ans;75cl;11%;10\\xb0C;Chocolat, Foie gras, Fromage bleu, Tartes aux fruits\\r\\ndomaine-de-montgilet-vin-de-france-grolleau-2019;1.5 kg;Vall\\xe9e de la Loire;Montgilet;;Rouge;Grolleau;2020;3 ans;75cl;12%;13\\xb0C;Ap\\xe9ritif, Charcuterie, Poissons, Viande Blanche\\r\\ndomaine-saint-nicolas-fiefs-vendeens-blanc-le-haut-des-clous-2017;1.5 kg;Vall\\xe9e de la Loire;Saint-Nicolas;Fiefs Vend\\xe9ens;Blanc;Chenin;2018;6-8 ans;75cl;12,50%;12\\xb0C;Crustac\\xe9s, Fromages, Poissons\\r\\ndomaine-saint-nicolas-fiefs-vendeens-rouge-cuvee-jacques-2016;1.5 kg;Vall\\xe9e de la Loire;Saint-Nicolas;Fiefs Vend\\xe9ens;Rouge;Pinot Noir;2018;10-12 ans;75cl;12%;14\\xb0C;Charcuterie, Gibier, Viande rouge\\r\\ndomaine-saint-nicolas-fiefs-vendeens-rouge-reflets-2018;1.5 kg;Vall\\xe9e de la Loire;Saint-Nicolas;Fiefs Vend\\xe9ens;Rouge;Cabernet Franc, Gamay, Pinot Noir;2018;3-5 ans;75cl;12%;14\\xb0C;Charcuterie, Grillades, Poissons, Viande rouge\\r\\nclos-du-mont-olivet-cotes-du-rhone-rose-farel-2019;1.5 kg;Rh\\xf4ne;Clos Du Mont-Olivet;Lirac;Ros\\xe9;95% Mourv\\xe8dre, Grenache;2021;3-5 ans;75cl;14%;11\\xb0C;Ap\\xe9ritif, Grillades, Poissons, Salade\\r\\nclos-du-mont-olivet-vin-de-france-la-sabonite;1.5 kg;Rh\\xf4ne;Clos Du Mont-Olivet;;Rouge;Grenache;;3-5 ans;75cl;13%;14\\xb0C;Charcuterie, Grillades, Viande rouge\\r\\nmaurice-schoech-cremant-dalsace-brut-rose-bulles-de-granite;1.5 kg;Alsace;Maurice Schoech;Cr\\xe9mant d'Alsace;;;;3-5 ans;75cl;12%;9\\xb0C;Ap\\xe9ritif, Fromages, Poissons, Tartes aux fruits\\r\\npaul-ginglinger-pinot-blanc-2017;1.5 kg;Alsace;Paul Ginglinger;Alsace Muscat;Blanc;Pinot Blanc;2018;3-5 ans;75cl;12,50%;11\\xb0C;Ap\\xe9ritif, Fromage de ch\\xe8vre, Poisson grill\\xe9, Salade\\r\\nmaurice-schoech-pinot-gris-vendanges-tardives-2015;1.5 kg;Alsace;Maurice Schoech;Alsace Pinot Gris;Blanc;Pinot Gris;2017;10-15 ans;75cl;12%;11\\xb0C;Ap\\xe9ritif, Desserts, Foie gras\\r\\nmaurice-schoech-riesling-vendanges-tardives-2017;1.5 kg;Alsace;Maurice Schoech;Alsace Riesling;Blanc;Riesling;2018;10-15 ans;75cl;12%;11\\xb0C;Ap\\xe9ritif, Desserts, Foie gras\\r\\nmaurice-schoech-pinot-auxerrois-2018;1.5 kg;Alsace;Maurice Schoech;Alsace;Blanc;Pinot Auxerrois;2019;3-5 ans;75cl;13%;12\\xb0C;Ap\\xe9ritif, Fromages, Tarte flamb\\xe9e\\r\\nmaurice-schoech-gewurztraminer-2018;1.5 kg;Alsace;Maurice Schoech;Alsace Gewurztraminer;Blanc;Gewurztraminer;2020;3-5 ans;75cl;13%;12\\xb0C;Ap\\xe9ritif, Cuisine Exotique, Desserts, Foie gras, Munster\\r\\nmaurice-schoech-pinot-gris-2018;1.5 kg;Alsace;Maurice Schoech;Alsace Pinot Gris;Blanc;Pinot Gris;2020;3-5 ans;75cl;13,5%;12\\xb0C;Abats, Foie gras, Gibier, Viande Blanche\\r\\nmaurice-schoech-pinot-noir-2018;1.5 kg;Alsace;Maurice Schoech;Alsace Pinot Noir;Rouge;Pinot Noir;2019;3-5 ans;75cl;12,50%;14\\xb0C;Charcuterie, Grillades, Pizza, Viande rouge\\r\\nmaurice-schoech-riesling-2018;1.5 kg;Alsace;Maurice Schoech;Alsace Riesling;Blanc;Riesling;2018;3-5 ans;75cl;13%;12\\xb0C;Crustac\\xe9s, Poissons, Volaille\\r\\nmaurice-schoech-pinot-noir-piece-de-chene-2016;1.5 kg;Alsace;Maurice Schoech;Alsace Pinot Noir;Rouge;Pinot Noir;2019;6-8 ans;75cl;13,5%;14\\xb0C;Gibier, Grillades, Viande rouge\\r\\nmaurice-schoech-riesling-grand-cru-kaefferkopf-2018;1.5 kg;Alsace;Maurice Schoech;Alsace Grand Cru;Blanc;Riesling;2019;8-10 ans;75cl;13%;12\\xb0C;Choucroute, Crustac\\xe9s, Hu\\xeetres, Poissons, Volaille\\r\\nmaurice-schoech-pinot-gris-grand-cru-schlossberg-2017;1.5 kg;Alsace;Maurice Schoech;Alsace Grand Cru;Blanc;Pinot Gris;2018;8-10 ans;75cl;13%;12\\xb0C;Choucroute, Cuisine Exotique, Foie gras, Viande Blanche, Volaille\\r\\nmaurice-schoech-riesling-grand-cru-rangen-de-thann-2016;1.5 kg;Alsace;Maurice Schoech;Alsace Grand Cru;Blanc;Riesling;2018;10-15 ans;75cl;13%;12\\xb0C;Choucroute, Crustac\\xe9s, Poissons, Viande Blanche, Volaille\\r\\nemile-boeckel-cremant-brut-rose;1.5 kg;Alsace;Emile Boeckel;Cr\\xe9mant d'Alsace;;;;3-5 ans;75cl;12%;9\\xb0C;Ap\\xe9ritif, Chocolat, Desserts, Fruits\\r\\ndomaine-peyre-rose-clos-des-cistes-2008;1.5 kg;Languedoc-Roussillon;Domaine Peyre Rose;;Rouge;Syrah 90%, Grenache, Mourv\\xe8dre;2012;15 ans et +;75cl;14,5%;16\\xb0C;Daube de boeuf, Viande rouge, Volaille\\r\\ndomaine-de-la-monardiere-vacqueyras-les-deux-monardes-2017;1.5 kg;Rh\\xf4ne;La Monardi\\xe8re;Vacqueyras;Rouge;Grenache, Syrah;2020;3-5 ans;75cl;14%;16\\xb0C;Gibier, Grillades, Viande rouge\\r\\nchateau-turcaud-rose-2019;1.5 kg;Bordeaux;Ch\\xe2teau Turcaud;Bordeaux;Ros\\xe9;Cabernet Franc, Cabernet Sauvignon, Merlot;2020;3 ans;75cl;12,50%;10\\xb0C;Ap\\xe9ritif, Charcuterie, Grillades, Poisson grill\\xe9, Salade\\r\\nphilippe-nusswitz-duche-uzes-orenia-rose-2019;1.5 kg;Languedoc-Roussillon;Les Vins de Philippe Nusswitz;Duch\\xe9 d'Uz\\xe8s;Ros\\xe9;Grenache, Syrah;2021;3 ans;75cl;13%;10\\xb0C;Ap\\xe9ritif, Grillades, Rouget grill\\xe9, Salade\\r\\nphilippe-nusswitz-duche-uzes-orenia-rouge-2017;1.5 kg;Languedoc-Roussillon;Les Vins de Philippe Nusswitz;Duch\\xe9 d'Uz\\xe8s;Rouge;Grenache, Syrah;2018;3-5 ans;75cl;13,5%;15\\xb0C;Grillades, Viande Blanche, Viande rouge, Volaille\\r\\nphilippe-nusswitz-duche-uzes-orenia-blanc-2018;1.5 kg;Languedoc-Roussillon;Les Vins de Philippe Nusswitz;Duch\\xe9 d'Uz\\xe8s;Blanc;Grenache Blanc, Marsanne, Roussanne, Viognier;2020;3-5 ans;75cl;13,5%;12\\xb0C;Ap\\xe9ritif, Fromage de ch\\xe8vre, Poisson grill\\xe9, Viande Blanche, Volaille\\r\\nchateau-ollieux-romanis-corbieres-rose-classique-2019;1.5 kg;Languedoc-Roussillon;Ollieux Romanis;Corbi\\xe8res;Ros\\xe9;Cinsault, Grenache Gris;2021;3 ans;75cl;13%;10\\xb0C;Ap\\xe9ritif, Charcuterie, Grillades, Poisson grill\\xe9, Salade\\r\\nmourgues-du-gres-costieres-de-nimes-capitelles-rose-2018;1.5 kg;Rh\\xf4ne;Mourgues du Gr\\xe8s;Costi\\xe8res de N\\xeemes;Ros\\xe9;Grenache, Mourv\\xe8dre, Syrah;2020;3 ans;75cl;14,5%;10\\xb0C;Ap\\xe9ritif, Cuisine Exotique, Saumon fum\\xe9, Sucr\\xe9-sal\\xe9\\r\\nchateau-de-la-selve-igp-coteaux-de-lardeche-maguelonne-rose-2019;1.5 kg;Rh\\xf4ne;Ch\\xe2teau de la Selve;C\\xf4teaux de l'Ard\\xe8che;Ros\\xe9;Cinsault, Grenache, Syrah;2021;3 ans;75cl;12%;10\\xb0C;Ap\\xe9ritif, Grillades, L\\xe9gumes farcis\\r\\ntriennes-igp-mediterranee-rose-2019;1.5 kg;Provence;Triennes;M\\xe9diterran\\xe9e;Ros\\xe9;Cinsault, Grenache, Merlot, Syrah;2021;3 ans;75cl;13%;11\\xb0C;Ap\\xe9ritif, Grillades, Poisson grill\\xe9, Salade\\r\\ntempier-bandol-rose-2019;1.5 kg;Provence;Tempier;Bandol;Ros\\xe9;Carignan, Cinsault, Grenache, Mourv\\xe8dre;2021;4-7 ans;75cl;13,5%;11\\xb0C;Ap\\xe9ritif, Bouillabaisse, Cuisine proven\\xe7ale, Grillades\\r\\nsaumaize-michelin-macon-vergisson-sur-la-roche-2017;1.5 kg;Bourgogne;Saumaize-Michelin;M\\xe2con-Vergisson;Blanc;Chardonnay;2020;;75cl;13%;12\\xb0C;Ap\\xe9ritif, Fromages, Poissons, Volaille\\r\\nsaumaize-michelin-pouilly-fuisse-clos-sur-la-roche-2018;1.5 kg;Bourgogne;Saumaize-Michelin;Pouilly-Fuiss\\xe9;Blanc;Chardonnay;2020;4-7 ans;75cl;13,5%;12\\xb0C;Fromages, Poisson en sauce, Viande Blanche, Volaille\\r\\nsaumaize-michelin-pouilly-fuisse-les-ronchevats-2018;1.5 kg;Bourgogne;Saumaize-Michelin;Pouilly-Fuiss\\xe9;Blanc;Chardonnay;2020;4-7 ans;75cl;13,5%;12\\xb0C;Fromages, Poisson en sauce, Viande Blanche, Volaille\\r\\nsaumaize-michelin-pouilly-fuisse-vignes-blanches-2018;1.5 kg;Bourgogne;Saumaize-Michelin;Pouilly-Fuiss\\xe9;Blanc;Chardonnay;2020;3-5 ans;75cl;13%;12\\xb0C;Fromages, Poisson en sauce, Viande Blanche, Volaille\\r\\nsaumaize-michelin-saint-veran-2018;1.5 kg;Bourgogne;Saumaize-Michelin;Saint-V\\xe9ran;Blanc;Chardonnay;2020;3-5 ans;75cl;13%;12\\xb0C;Fromages, Poisson en sauce, Viande Blanche, Volaille\\r\\njacqueson-rully-blanc-1er-cru-la-pucelle-2018;1.5 kg;Bourgogne;Domaine Jacqueson;Rully 1er Cru;Blanc;Chardonnay;2020;4-7 ans;75cl;13,5%;12\\xb0C;Fromages, Poisson en sauce, Viande Blanche, Volaille\\r\\njacqueson-rully-rouge-les-chaponnieres-2018;1.5 kg;Bourgogne;Domaine Jacqueson;Rully;Rouge;Pinot Noir;2020;4-7 ans;75cl;13,5%;15\\xb0C;Boeuf bourguignon, Entrec\\xf4te, Viande Blanche, Viande rouge, Volaille\\r\\njacqueson-rully-rouge-1er-cru-les-cloux-2018;1.5 kg;Bourgogne;Domaine Jacqueson;Rully 1er Cru;Rouge;Pinot Noir;2020;6-8 ans;75cl;13,5%;15\\xb0C;Boeuf bourguignon, Entrec\\xf4te, Viande Blanche, Viande rouge, Volaille\\r\\ndomaine-brintet-mercurey-blanc-vieilles-vignes-2018;1.5 kg;Bourgogne;Brintet;Mercurey;Blanc;Chardonnay;2020;4-7 ans;75cl;13%;12\\xb0C;Poisson en sauce, Viande Blanche, Volaille\\r\\ndomaine-brintet-mercurey-rouge-vieilles-vignes-2018;1.5 kg;Bourgogne;Brintet;Mercurey;Rouge;Pinot Noir;2020;4-7 ans;75cl;13%;15\\xb0C;Boeuf bourguignon, Viande Blanche, Viande en sauce, Volaille\\r\\ndomaine-des-croix-beaune-1er-cru-les-cent-vignes-2017;1.5 kg;Bourgogne;Domaine des Croix;Beaune 1er Cru;Rouge;Pinot Noir;2019;8-10 ans;75cl;12,50%;15\\xb0C;Boeuf bourguignon, Viande Blanche, Viande en sauce, Volaille\\r\\ndomaine-des-croix-savigny-les-beaune-1er-cru-les-peuillets-2015;1.5 kg;Bourgogne;Domaine des Croix;Savigny-L\\xe8s-Beaune 1er Cru;Rouge;Pinot Noir;2018;8-10 ans;75cl;12,50%;15\\xb0C;Boeuf bourguignon, Viande Blanche, Viande en sauce, Volaille\\r\\ndomaine-des-croix-corton-grand-cru-les-greves-2017;1.5 kg;Bourgogne;Domaine des Croix;Corton;Rouge;Pinot Noir;2019;15 ans et +;75cl;13,5%;15\\xb0C;Boeuf bourguignon, Viande Blanche, Viande en sauce, Volaille\\r\\ndomaine-des-croix-corton-charlemagne-grand-cru-2016;1.5 kg;Bourgogne;Domaine des Croix;Corton Charlemagne;Blanc;Chardonnay;2019;15 ans et +;75cl;13%;12\\xb0C;Poissons nobles, Viande Blanche, Volaille\\r\\nalphonse-mellot-sancerre-blanc-edmond-2016;1.5 kg;Vall\\xe9e de la Loire;Alphonse Mellot;Sancerre;Blanc;Sauvignon Blanc;2018;6-8 ans;75cl;13%;12\\xb0C;Fruits de mer, Hu\\xeetres, Poisson grill\\xe9\\r\\nantoine-marie-arena-vin-de-france-bianco-gentile-2018;1.5 kg;Corse;Arena;;Blanc;Bianco Gentile;2018;3-5 ans;75cl;14%;12\\xb0C;Ap\\xe9ritif, Charcuterie, Poissons\\r\\nantoine-marie-arena-vin-de-france-rouge-san-giovanni-2017;1.5 kg;Corse;Arena;;Rouge;Carcaghjolu, Morescone;2017;3-5 ans;75cl;14%;12\\xb0C;Charcuterie, L\\xe9gumes croquants, Quiche aux l\\xe9gumes, Volaille\\r\\njean-baptiste-arena-patrimonio-rouge-grotte-di-sole-2018;1.5 kg;Corse;Arena;Patrimonio;Rouge;Nielluccio;2018;4-7 ans;75cl;14%;15\\xb0C;Agneau, Charcuterie, Grillades, Viande rouge\\r\\njean-batiste-arena-muscat-du-cap-corse-2015;1.5 kg;Corse;Arena;Muscat du Cap Corse;Blanc;Muscat \\xe0 petits grains;2015;8-10 ans;75cl;14%;11\\xb0C;Ap\\xe9ritif, Desserts, Foie gras, Ricotta \\xe0 la fraise, Tartes aux fruits\\r\\njean-baptiste-arena-patrimonio-morta-maio;1.5 kg;Corse;Arena;Patrimonio;Blanc;Vermentino;;3-5 ans;75cl;12,8%;12\\xb0C;Ap\\xe9ritif, Charcuterie, Poissons\\r\\nalain-graillot-crozes-hermitage-rouge-la-guiraude-2016;1.5 kg;Rh\\xf4ne;Alain Graillot;Crozes-Hermitage;Rouge;100% Syrah;2018;10-15 ans;75cl;13%;15\\xb0C;Agneau, Gibier, Grillades, Viande rouge\\r\\nalain-graillot-crozes-hermitage-rouge-2017;1.5 kg;Rh\\xf4ne;Alain Graillot;Crozes-Hermitage;Rouge;100% Syrah;2019;3-5 ans;75cl;13%;15\\xb0C;Agneau, Charcuterie, Grillades, Viande rouge\\r\\nalain-graillot-crozes-hermitage-blanc-2018;1.5 kg;Rh\\xf4ne;Alain Graillot;Crozes-Hermitage;Blanc;20% Roussanne, 80% Marsanne;2018;3-5 ans;75cl;13%;12\\xb0C;Ap\\xe9ritif, Crudit\\xe9s, Poissons\\r\\ncave-de-castelmaure-corbieres-rouge-vigneron-2018;1.5 kg;Languedoc-Roussillon;Castelmaure;Corbi\\xe8res;Rouge;Carignan, Grenache, Syrah;2019;3-5 ans;75cl;13,5%;15\\xb0C;Charcuterie, Grillades, Viande Blanche, Viande rouge\\r\\ndomaine-la-croix-belle-cotes-de-thongue-blanc-champ-des-lys-2018;1.5 kg;Languedoc-Roussillon;La Croix Belle;C\\xf4tes de Thongue;Blanc;Chardonnay, Grenache Blanc, Sauvignon Blanc, Viognier;2019;3-5 ans;75cl;13%;12\\xb0C;Ap\\xe9ritif, Coquilles Saint Jacques, Fromages, Poisson grill\\xe9\\r\\ndomaine-la-croix-belle-cotes-de-thongue-rouge-la-caringole-2018;1.5 kg;Languedoc-Roussillon;La Croix Belle;Pays d'Oc;Rouge;Carignan, Merlot, Syrah;2021;3-5 ans;75cl;13%;15\\xb0C;Grillades, L\\xe9gumes du Soleil, Viande rouge\\r\\ndomaine-la-croix-belle-cotes-de-thongue-rouge-le-champ-du-coq-2016;1.5 kg;Languedoc-Roussillon;La Croix Belle;C\\xf4tes de Thongue;Rouge;Grenache, Syrah;2019;4-7 ans;75cl;13,5%;15\\xb0C;Couscous, Grillades, Tajine, Viande rouge\\r\\ndomaine-la-croix-belle-cotes-de-thongue-rouge-n7-2017;1.5 kg;Languedoc-Roussillon;La Croix Belle;C\\xf4tes de Thongue;Rouge;Cabernet Sauvignon, Carignan, Cinsault, Grenache, Merlot, Mourv\\xe8dre, Syrah;2018;8-10 ans;75cl;14%;16\\xb0C;Gibier, Gigot d'agneau, Magret de Canard\\r\\ndomaine-la-croix-belle-cotes-de-thongue-blanc-n7-2018;1.5 kg;Languedoc-Roussillon;La Croix Belle;C\\xf4tes de Thongue;Blanc;Carignan Blanc, Chardonnay, Grenache Blanc, Grenache Gris, Muscat \\xe0 petits grains, Sauvignon Blanc;2019;3-5 ans;75cl;13,5%;12\\xb0C;Foie gras po\\xeal\\xe9, Poissons, Viande Blanche\\r\\nmarcel-richaud-cairanne-rouge-les-estrambords-2011;1.5 kg;Rh\\xf4ne;Marcel Richaud;Cairanne;Rouge;Counoise, Carignan, Grenache, Mourv\\xe8dre, Syrah;2019;8-10 ans;75cl;15%;16\\xb0C;Agneau, Filet de boeuf, Grillades, Magret de Canard, Viande rouge\\r\\nmarcel-richaud-cairanne-rouge-2018;1.5 kg;Rh\\xf4ne;Marcel Richaud;Cairanne;Rouge;Carignan, Grenache, Mourv\\xe8dre, Syrah;2020;6-8 ans;75cl;15%;15\\xb0C;Charcuterie, Filet de boeuf, Grillades, Viande rouge\\r\\ndomaine-rouge-garance-cotes-du-rhone-blanc-de-garance-2018;1.5 kg;Rh\\xf4ne;Rouge Garance;C\\xf4tes-du-Rh\\xf4ne;Blanc;Grenache Blanc, Marsanne, Roussanne, Viognier;2020;3-5 ans;75cl;13,5%;12\\xb0C;Ap\\xe9ritif, Poissons, Viande Blanche\\r\\ndomaine-rouge-garance-cotes-du-rhone-feuille-de-garance-2019;1.5 kg;Rh\\xf4ne;Rouge Garance;C\\xf4tes-du-Rh\\xf4ne;Rouge;Cinsault, Grenache, Syrah;2020;3-5 ans;75cl;14,5%;15\\xb0C;Charcuterie, Grillades, Viande rouge\\r\\ndomaine-rouge-garance-cotes-du-rhone-villages-garances-2016;1.5 kg;Rh\\xf4ne;Rouge Garance;C\\xf4tes-du-Rh\\xf4ne Villages;Rouge;Carignan, Grenache;2020;4-7 ans;75cl;15%;16\\xb0C;Agneau, Grillades, Mouton, Pigeon\\r\\noratoire-saint-martin-cairanne-blanc-reserve-des-seigneurs-2018;1.5 kg;Rh\\xf4ne;Oratoire Saint Martin;Cairanne;Blanc;Clairette, Grenache Blanc, Roussanne;2019;3-5 ans;75cl;13,5%;12\\xb0C;Fruits de mer, Poisson grill\\xe9, Salade\\r\\nchateau-turcaud-bordeaux-blanc-cuvee-majeure-2018;1.5 kg;Bordeaux;Ch\\xe2teau Turcaud;Bordeaux;Blanc;Sauvignon Blanc, S\\xe9millon;2019;3-5 ans;75cl;13%;11\\xb0C;Ap\\xe9ritif, Fromages, Fruits de mer, Langoustes, Poissons, Viande Blanche\\r\\nchateau-turcaud-bordeaux-rouge-2016;1.5 kg;Bordeaux;Ch\\xe2teau Turcaud;Bordeaux;Rouge;Cabernet Sauvignon, Merlot;2018;4-7 ans;75cl;13%;16\\xb0C;Viande Blanche, Viande rouge, Volaille\\r\\nchateau-turcaud-bordeaux-rouge-cuvee-majeure-2018;1.5 kg;Bordeaux;Ch\\xe2teau Turcaud;Bordeaux;Rouge;Cabernet Sauvignon, Merlot;2019;4-7 ans;75cl;14,5%;17\\xb0C;Gibier, Magret de Canard, Viande rouge\\r\\nchateau-turcaud-entre-deux-mers-2019;1.5 kg;Bordeaux;Ch\\xe2teau Turcaud;Entre-Deux-Mers;Blanc;Muscadelle, Sauvignon Blanc, S\\xe9millon;2020;3 ans;75cl;13%;11\\xb0C;Ap\\xe9ritif, Crustac\\xe9s, Fromages, Fruits de mer, Hu\\xeetres\\r\\nchampagne-larmandier-bernier-terre-de-vertus-premier-cru-2011;1.5 kg;Champagne;Larmandier-Bernier;Champagne;Blanc;Chardonnay;2014;;75cl;12,50%;10\\xb0C;Ap\\xe9ritif, Crustac\\xe9s, Desserts, Poissons\\r\\nchateau-du-couvent-pomerol-2017;1.5 kg;Bordeaux;Ch\\xe2teau du Couvent;Pomerol;Rouge;Cabernet Franc, Malbec, Merlot;2019;6-8 ans;75cl;13%;16\\xb0C;Canard, Gibier, Grillades, Viande rouge\\r\\nchateau-cordet-margaux-2013;1.5 kg;Bordeaux;Ch\\xe2teau Cordet;Margaux;Rouge;Cabernet Franc, Cabernet Sauvignon, Merlot, Petit Verdot;2017;6-8 ans;75cl;13%;16\\xb0C;Canard, Gibier, Grillades, Viande rouge\\r\\nchateau-lafont-menaut-pessac-leognan-rouge-2017;1.5 kg;Bordeaux;Ch\\xe2teau Lafont Menaut;Pessac-Leognan;Rouge;Cabernet Franc, Cabernet Sauvignon, Merlot;2018;6-8 ans;75cl;13%;16\\xb0C;Canard, Gibier, Grillades, Viande rouge\\r\\nchateau-lafont-menaut-pessac-leognan-blanc-2017;1.5 kg;Bordeaux;Ch\\xe2teau Lafont Menaut;Pessac-Leognan;Blanc;Sauvignon Blanc, S\\xe9millon;2018;3-5 ans;75cl;13%;12\\xb0C;Ap\\xe9ritif, Crustac\\xe9s, Fruits de mer, Poissons\\r\\nchateau-dutruch-grand-poujeaux-moulis-2016;1.5 kg;Bordeaux;Sel\\xe9ction de Bordeaux NR;Moulis en M\\xe9doc;Rouge;Cabernet Sauvignon, Merlot, Petit Verdot;2018;6-8 ans;75cl;13%;16\\xb0C;Canard, Gibier, Grillades, Viande rouge\\r\\ndomaine-peyre-rose-syrah-leone-2008;1.5 kg;Languedoc-Roussillon;Domaine Peyre Rose;;Rouge;Mourv\\xe8dre, Syrah;2012;15 ans et +;75cl;14,5%;16\\xb0C;Daube de boeuf, Viande rouge, Volaille\\r\\ndomaine-peyre-rose-oro-2002;1.5 kg;Languedoc-Roussillon;Domaine Peyre Rose;Coteaux du Languedoc;Blanc;Clairette, Roussanne, Terret Bourret, Ugni Blanc, Vermentino, Viognier;2007;15 ans et +;75cl;14,5%;13\\xb0C;Fromages, Fruits frais, Poissons, Volaille\\r\\ndomaine-peyre-rose-marlene-n3-2008;1.5 kg;Languedoc-Roussillon;Domaine Peyre Rose;;Rouge;Grenache, Syrah;2011;15 ans et +;75cl;14,5%;16\\xb0C;Daube de boeuf, Fromages, Viande rouge, Volaille\\r\\ndavid-duband-charmes-chambertin-grand-cru-2014;1.5 kg;Bourgogne;David Duband;Charmes-Chambertin Grand Cru;Rouge;Pinot Noir;2014;15 ans et +;75cl;13,5%;15\\xb0C;Andouillettes, Escargots de Bourgogne, Lapin, Mignon de Veau, Viande rouge, Volaille\\r\\ndomaine-des-comtes-lafon-volnay-1er-cru-santenots-du-milieu-2014;1.5 kg;Bourgogne;Domaine des Comtes Lafon;Volnay 1er Cru;Rouge;Pinot Noir;2014;10-12 ans;75cl;13,5%;15\\xb0C;C\\xf4tes de Veau, Lapin, Viande rouge, Volaille\\r\\ndomaine-des-comtes-lafon-volnay-1er-cru-santenots-du-milieu-2013;1.5 kg;Bourgogne;Domaine des Comtes Lafon;Volnay 1er Cru;Rouge;Pinot Noir;2013;10-12 ans;75cl;;15\\xb0C;C\\xf4tes de Veau, Lapin, Viande rouge, Volaille\\r\\ndomaine-des-comtes-lafon-monthelie-1er-cru-les-duresses-2017;1.5 kg;Bourgogne;Domaine des Comtes Lafon;Month\\xe9lie 1er Cru;Rouge;Pinot Noir;2017;8-10 ans;75cl;;15\\xb0C;Filet de Chevreuil, Lapin, Viande rouge\\r\\nchampagne-agrapart-fils-les-7-crus-brut-blanc-de-blancs;1.5 kg;Champagne;Agrapart & Fils;Champagne;Blanc;Chardonnay;;3-5 ans;75cl;12%;10\\xb0C;Ap\\xe9ritif, P\\xe2tisseries, Poissons, Viande Blanche\\r\\nchampagne-agrapart-fils-lavizoise-grand-cru-2012-extra-brut-blanc-de-blancs;1.5 kg;Champagne;Agrapart & Fils;Champagne;Blanc;Chardonnay;2015;5-10 ans;75cl;12%;10\\xb0C;Ap\\xe9ritif, Crustac\\xe9s, P\\xe2tisseries, Poissons, Viande Blanche\\r\\nchampagne-agrapart-fils-mineral-extra-brut-blanc-de-blancs-grand-cru-2012;1.5 kg;Champagne;Agrapart & Fils;Champagne;Blanc;Chardonnay;2015;5-10 ans;75cl;12%;10\\xb0C;Ap\\xe9ritif, Crustac\\xe9s, P\\xe2tisseries, Poissons, Viande Blanche\\r\\nchampagne-agrapart-fils-terroirs-brut-blanc-de-blancs-grand-cru;1.5 kg;Champagne;Agrapart & Fils;Champagne;Blanc;Chardonnay;;3-5 ans;75cl;12%;10\\xb0C;Ap\\xe9ritif, Crustac\\xe9s, P\\xe2tisseries, Poissons, Viande Blanche\\r\\nchampagne-petit-lebrun-fils-blanc-de-blancs-grand-cru;1.5 kg;Champagne;Petit Lebrun & Fils;Champagne;;Chardonnay;;3-5 ans;75cl;12,50%;9\\xb0C;Ap\\xe9ritif, Crustac\\xe9s, Poissons, Viande Blanche, Volaille\\r\\ndomaine-de-montgilet-anjou-rouge-2016-2;1.5 kg;Vall\\xe9e de la Loire;Montgilet;Anjou;Rouge;Cabernet Franc, Cabernet Sauvignon;2017;3-5 ans;75cl;14%;12\\xb0C;Charcuterie, Fromages l\\xe9gers, Viande rouge, Volaille\\r\\nlucien-boillot-gevrey-chambertin-les-evocelles-2017;1.5 kg;Bourgogne;Lucien Boillot;Gevrey-Chambertin;Rouge;Pinot Noir;2017;15 ans et +;75cl;13,5%;15\\xb0C;Lapin, Tourte, Viande rouge\\r\\nlucien-boillot-gevrey-chambertin-2017;1.5 kg;Bourgogne;Lucien Boillot;Gevrey-Chambertin;Rouge;Pinot Noir;2019;10 ans et +;75cl;13,5%;15\\xb0C;Lapin, Viande rouge, Volaille\\r\\nlucien-boillot-pommard-1er-cru-les-croix-noires-2017;1.5 kg;Bourgogne;Lucien Boillot;Pommard 1er Cru;Rouge;Pinot Noir;2018;10-15 ans;75cl;13,5%;15\\xb0C;Gibier, Terrines, Viande rouge\\r\\ndavid-beaupere-julienas-2018;1.5 kg;Beaujolais;David-Beaup\\xe8re;Juli\\xe9nas;Rouge;Gamay;2020;3-5 ans;75cl;13,5%;15\\xb0C;Charcuterie, Fromages, Viande Blanche, Viande rouge, Volaille\\r\\nargentine-mendoza-alamos-torrontes-2017;1.5 kg;Vins du Monde;S\\xe9lection de Vins Etrangers, Catena Zapata;Mendoza;Blanc;Torrontes;2019;3-5 ans;75cl;13%;11\\xb0C;Crustac\\xe9s, Fromages, Poisson grill\\xe9, Viande Blanche, Volaille\\r\\nnouvelle-zelande-marlborough-momo-sauvignon-blanc-2018;1.5 kg;Vins du Monde;S\\xe9lection de Vins Etrangers, Michael Seresin;Marlborough;Blanc;Sauvignon Blanc;2018;3-5 ans;75cl;13%;11\\xb0C;Fromages, Poisson grill\\xe9, Viande Blanche, Volaille\\r\\nnouvelle-zelande-marlborough-momo-pinot-noir-2016;1.5 kg;Vins du Monde;S\\xe9lection de Vins Etrangers, Michael Seresin;Marlborough;Rouge;Pinot Noir;2016;4-7 ans;75cl;13%;15\\xb0C;Fromages, Viande Blanche, Viande rouge, Volaille\\r\\nnouvelle-zelande-marlborough-kim-crawford-sauvignon-blanc-2015;1.5 kg;Vins du Monde;S\\xe9lection de Vins Etrangers, Kim Crawford;Marlborough;Blanc;Sauvignon Blanc;2015;3-5 ans;75cl;13%;11\\xb0C;Fromages, Poisson grill\\xe9, Sushis, Viande Blanche\\r\\naustralie-maverick-trial-hill-riesling-2010;1.5 kg;Vins du Monde;S\\xe9lection de Vins Etrangers, Maverick;;Blanc;Riesling;2010;8-10 ans;75cl;14%;11\\xb0C;Ap\\xe9ritif, Crustac\\xe9s, Fruits de mer, Poisson grill\\xe9, Viande Blanche\\r\\naustralie-harkham-wines-old-vines-2011;1.5 kg;Vins du Monde;S\\xe9lection de Vins Etrangers, Harkham Wines;;Rouge;Syrah;2011;4-7 ans;75cl;14%;15\\xb0C;Agneau, Gibier, Grillades\\r\\nchili-valdivieso-merlot-2017;1.5 kg;Vins du Monde;S\\xe9lection de Vins Etrangers, Valdivieso;;Rouge;Merlot;2017;3-5 ans;75cl;12,50%;15\\xb0C;Charcuterie, Tapas, Viande Blanche, Viande rouge\\r\\nchili-errazuriz-cabernet-sauvignon-2015;1.5 kg;Vins du Monde;S\\xe9lection de Vins Etrangers, Errazuriz;;Rouge;Cabernet Sauvignon;2017;3-5 ans;75cl;13,5%;15\\xb0C;Grillades, Viande rouge\\r\\nchili-de-martino-gallardia-cinsault-2017;1.5 kg;Vins du Monde;S\\xe9lection de Vins Etrangers, De Martino;;Rouge;Cinsault;2017;3-5 ans;75cl;13%;15\\xb0C;Grillades, L\\xe9gumes du Soleil, Viande rouge, Volaille\\r\\nchili-de-martino-viejas-tinajas-cinsault-2013;1.5 kg;Vins du Monde;S\\xe9lection de Vins Etrangers, De Martino;;Rouge;Cinsault;2013;6-8 ans;75cl;13%;15\\xb0C;Grillades, L\\xe9gumes du Soleil, Viande rouge, Volaille\\r\\nchili-montsecano-ostertag-pinot-noir-2013;1.5 kg;Vins du Monde;S\\xe9lection de Vins Etrangers, Montsecano;;Rouge;Pinot Noir;2013;6-8 ans;75cl;13,5%;15\\xb0C;Quasi de veau, Tartare de Boeuf, Volaille\\r\\nla-preceptorie-maury-sec-rouge-copain-comme-cochon-2018;1.5 kg;Languedoc-Roussillon;La Preceptorie;Maury Sec;Rouge;Grenache;2020;3-5 ans;75cl;14,5%;15\\xb0C;Charcuterie, Grillades, Viande rouge\\r\\nla-rectorie-banyuls-leon-parce-2016;1.5 kg;Languedoc-Roussillon;Rectorie;Banyuls;Rouge;Carignan, Grenache;2019;15 ans et +;50cl;16,5%;15\\xb0C;Chocolat, Foie gras mi-cuit, Tartes aux fruits\\r\\nla-preceptorie-maury-aurelie-2017;1.5 kg;Languedoc-Roussillon;La Preceptorie;Maury;Rouge;Grenache;2020;15 ans et +;75cl;17%;16\\xb0C;Chocolat, Fromage bleu, Tartes aux fruits\\r\\nla-preceptorie-maury-blanc-2015;1.5 kg;Languedoc-Roussillon;La Preceptorie;Maury;Blanc;Carignan Blanc, Grenache Gris, Macabeu;2015;15 ans et +;75cl;15,5%;15,5%;Fromages \\xe0 p\\xe2te press\\xe9e, Tartes aux fruits\\r\\nparce-freres-banyuls-rimage-2018;1.5 kg;Languedoc-Roussillon;Parc\\xe9 Fr\\xe8res;Banyuls;Rouge;Grenache;2018;10 ans et +;75cl;16,5%;16\\xb0C;Chocolat, Tartes aux fruits\\r\\nclos-du-mont-olivet-chateauneuf-du-pape-2007;1.5 kg;Rh\\xf4ne;Clos Du Mont-Olivet;Ch\\xe2teauneuf-du-Pape;Rouge;Cinsault, Grenache, Mourv\\xe8dre, Syrah;2007;15 ans et +;75cl;15%;16\\xb0C;Gibier, Viande rouge\\r\\ndomaine-saint-nicolas-fiefs-vendeens-rouge-grande-piece-2013;1.5 kg;Vall\\xe9e de la Loire;Saint-Nicolas;Fiefs Vend\\xe9ens;Rouge;Pinot Noir;2013;15 ans et +;75cl;13%;14\\xb0C;Charcuterie, Gibier, Viande rouge\\r\\npelle-menetou-salon-blanc-ratier-2018;1.5 kg;Vall\\xe9e de la Loire;Henry Pell\\xe9;Menetou-Salon;Blanc;Sauvignon Blanc;2020;6-8 ans;75cl;;12\\xb0C;Boudin blanc aux morilles, Cabillaud r\\xf4ti, Marinade d'anchois frais\\r\\ndomaine-bulliat-beaujolais-blanc-2019;1.5 kg;Beaujolais;Bulliat;Beaujolais Blanc;Blanc;Chardonnay;2020;3 ans;75cl;13%;11\\xb0C;Charcuterie, Poissons, Salade, Viande Blanche, Volaille\\r\\ndomaine-bulliat-chiroubles-2019;1.5 kg;Beaujolais;Bulliat;Chiroubles;Rouge;Gamay;2020;4-7 ans;75cl;13%;15\\xb0C;Charcuterie, Salade, Viande Blanche, Viande rouge, Volaille\\r\\ndomaine-bulliat-moulin-a-vent-2017;1.5 kg;Beaujolais;Bulliat;Moulin \\xe0 Vent;Rouge;Gamay;2018;4-7 ans;75cl;13%;15\\xb0C;Charcuterie, Salade, Viande Blanche, Viande rouge, Volaille\\r\\ndavid-beaupere-julienas-bottiere-2018;1.5 kg;Beaujolais;David-Beaup\\xe8re;Juli\\xe9nas;Rouge;Gamay;2018;6-8 ans;75cl;15%;15\\xb0C;Fromages, Viande Blanche, Viande rouge, Volaille\\r\\ndavid-beaupere-julienas-vayolette-2017;1.5 kg;Beaujolais;David-Beaup\\xe8re;Juli\\xe9nas;Rouge;Gamay;2017;6-8 ans;75cl;14,5%;15\\xb0C;Fromages, Viande Blanche, Viande rouge, Volaille\\r\\ndecelle-villa-savigny-blanc-2018;1.5 kg;Bourgogne;Decelle-Villa;Savigny-L\\xe8s-Beaune;Blanc;Chardonnay;2018;3-5 ans;75cl;13%;12\\xb0C;Fromages, Poissons, Viande Blanche, Volaille\\r\\ndecelle-villa-meursault-2018;1.5 kg;Bourgogne;Decelle-Villa;Meursault;Blanc;Chardonnay;2018;10 ans et +;75cl;13,5%;12\\xb0C;Foie gras, Poissons, Viande Blanche, Volaille\\r\\ndecelle-villa-nuits-st-georges-rouge-2016;1.5 kg;Bourgogne;Decelle-Villa;Nuits-Saint-Georges;Rouge;Pinot Noir;2016;10 ans et +;75cl;14%;15\\xb0C;Veau, Viande Blanche, Viande rouge\\r\\ndecelle-villa-beaune-rouge-2015;1.5 kg;Bourgogne;Decelle-Villa;Nuits-Saint-Georges;Rouge;Pinot Noir;2015;4-7 ans;75cl;13%;15\\xb0C;Carpaccios, Filet de boeuf, Fromages, Veau\\r\\nmarc-colin-et-fils-santenay-rouge-2017;1.5 kg;Bourgogne;Marc Colin;Santenay;Rouge;Pinot Noir;2018;4-7 ans;75cl;13%;15\\xb0C;Entrec\\xf4te, Terrine de Lapin, Viande Blanche, Volaille\\r\\nchateau-de-la-selve-igp-coteaux-de-lardeche-st-regis-blanc-2019;1.5 kg;Rh\\xf4ne;Ch\\xe2teau de la Selve;C\\xf4teaux de l'Ard\\xe8che;Blanc;Viognier;2021;3-5 ans;75cl;12%;10\\xb0C;Ap\\xe9ritif, Crustac\\xe9s, Fromage de ch\\xe8vre, Poissons\\r\\nchateau-de-la-selve-coteaux-de-lardeche-rouge-serre-berty-2014;1.5 kg;Rh\\xf4ne;Ch\\xe2teau de la Selve;C\\xf4teaux de l'Ard\\xe8che;Rouge;Cinsault, Grenache, Merlot;2015;10 ans et +;75cl;13,5%;16\\xb0C;Gibiers \\xe0 plumes, Viande rouge\\r\\nchambeyron-cotes-du-rhone-2017;1.5 kg;Rh\\xf4ne;Domaine Chambeyron;C\\xf4tes-du-Rh\\xf4ne;Rouge;Syrah;2020;3-5 ans;75cl;15%;16\\xb0C;Gibier, Gibiers \\xe0 plumes, Viande rouge, Volaille\\r\\ndomaine-chambeyron-cote-rotie-chavarine-2017;1.5 kg;Rh\\xf4ne;Domaine Chambeyron;C\\xf4te R\\xf4tie;Rouge;Syrah;2019;5-10 ans;75cl;13%;16\\xb0C;Gibier, Gibiers \\xe0 plumes, Viande rouge, Volaille\\r\\ndomaine-chambeyron-cote-rotie-angeline-2017;1.5 kg;Rh\\xf4ne;Domaine Chambeyron;C\\xf4te R\\xf4tie;Rouge;Syrah;2019;10-15 ans;75cl;13,5%;16\\xb0C;Gibier, Gibiers \\xe0 plumes, Viande rouge, Volaille\\r\\ndomaine-chambeyron-cote-rotie-lancement-2017;1.5 kg;Rh\\xf4ne;Domaine Chambeyron;C\\xf4te R\\xf4tie;Rouge;Syrah;2018;10-15 ans;75cl;13%;16\\xb0C;Gibier, Gibiers \\xe0 plumes, Viande rouge, Volaille\\r\\ndomaine-chambeyron-condrieu-vernon-2018;1.5 kg;Rh\\xf4ne;Domaine Chambeyron;Condrieu;Blanc;Viognier;2020;4-7 ans;75cl;15%;16\\xb0C;Coquilles Saint Jacques, Cuisine Exotique, Fromages, Poisson en sauce, Risotto\\r\\nmarc-colin-et-fils-chassagne-montrachet-blanc-les-vide-bourses-1er-cru-2016;1.5 kg;Bourgogne;Marc Colin;Chassagne-Montrachet 1er Cru;Blanc;Chardonnay;2019;5-10 ans;75cl;13%;12\\xb0C;Bouch\\xe9es \\xe0 la Reine, Ris de veau, Saint-Jacques r\\xf4ties, Volaille\\r\\nmarc-colin-et-fils-chassagne-montrachet-blanc-les-caillerets-1er-cru-2016;1.5 kg;Bourgogne;Marc Colin;Chassagne-Montrachet 1er Cru;Blanc;Chardonnay;2019;8-10 ans;75cl;13%;12\\xb0C;Bouch\\xe9es \\xe0 la Reine, Ris de veau, Saint-Jacques r\\xf4ties, Volaille\\r\\nthierry-germain-saumur-champigny-domaine-2018;1.5 kg;Vall\\xe9e de la Loire;Thierry Germain;Saumur-Champigny;Rouge;Cabernet Franc;2020;3-5 ans;75cl;12,50%;15\\xb0C;Charcuterie, R\\xf4ti de Porc\\r\\nthierry-germain-saumur-champigny-terres-chaudes-2017;1.5 kg;Vall\\xe9e de la Loire;Thierry Germain;Saumur-Champigny;Rouge;Cabernet Franc;2019;6-8 ans;75cl;13%;15\\xb0C;Chevreuil aux pruneaux, Parmentier d'agneau\\r\\nthierry-germain-saumur-champigny-outre-terre-2017;1.5 kg;Vall\\xe9e de la Loire;Thierry Germain;Saumur-Champigny;Rouge;Cabernet Franc;2017;10-15 ans;75cl;13%;15\\xb0C;Boudin aux pommes, Gibier, Queue de boeuf \\xe0 la cuilli\\xe8re, Tartare de Boeuf, Viande rouge\\r\\nthierry-germain-saumur-champigny-franc-de-pied-2017;1.5 kg;Vall\\xe9e de la Loire;Thierry Germain;Saumur-Champigny;Rouge;Cabernet Franc;2017;5-10 ans;75cl;13%;15\\xb0C;Gibier, Tartare de Boeuf, Viande rouge\\r\\nthierry-germain-saumur-blanc-clos-romans-2016;1.5 kg;Vall\\xe9e de la Loire;Thierry Germain;Saumur Blanc;Blanc;Chenin;2016;5-7 ans;75cl;12,50%;12\\xb0C;Risotto saumon, Salade de ch\\xe8vre chaud, Saumon au beurre blanc\\r\\nthierry-germain-saumur-champigny-clos-echelier-2017;1.5 kg;Vall\\xe9e de la Loire;Thierry Germain;Saumur-Champigny;Rouge;Cabernet Franc;2017;8-10 ans;75cl;13%;15\\xb0C;Chevreuil aux pruneaux, Gibier, Gibiers \\xe0 plumes, Parmentier d'agneau, Tartare de Boeuf\\r\\ntempier-bandol-migoua-2017;1.5 kg;Provence;Tempier;Bandol;Rouge;Cinsault, Mourv\\xe8dre;2019;15 ans et +;75cl;14,5%;17\\xb0C;Agneau, Gibier, Viande rouge\\r\\ntempier-bandol-tourtine-2017;1.5 kg;Provence;Tempier;Bandol;Rouge;Mourv\\xe8dre;2019;15 ans et +;75cl;15%;17\\xb0C;Agneau, Gibier, Viande rouge\\r\\ntempier-bandol-cabassaou-2017;1.5 kg;Provence;Tempier;Bandol;Rouge;Mourv\\xe8dre;2019;15 ans et +;75cl;14,5%;17\\xb0C;Agneau, Gibier, Viande rouge\\r\\nle-pas-de-lescalette-terrasses-du-larzac-le-grand-pas-2018;1.5 kg;Languedoc-Roussillon;Le Pas de l'Escalette;Terrasses du Larzac;Rouge;Carignan, Cinsault, Grenache;2019;5-10 ans;75cl;13,5%;16\\xb0C;Fricass\\xe9 aux c\\xe8pes, Tajine, Viande rouge\\r\\ndomaine-huet-vouvray-le-clos-du-bourg-demi-sec-2017;1.5 kg;Vall\\xe9e de la Loire;Huet;Vouvray;Blanc;Chenin;2019;8-10 ans;75cl;13%;11\\xb0C;Cuisine Exotique, Desserts, Foie gras, Sucr\\xe9-sal\\xe9\\r\\ndomaine-huet-vouvray-le-mont-moelleux-premiere-trie-2008;1.5 kg;Vall\\xe9e de la Loire;Huet;Vouvray;Blanc;Chenin;2008;15 ans et +;75cl;12,50%;11\\xb0C;Cuisine Exotique, Desserts, Foie gras, Sucr\\xe9-sal\\xe9\\r\\nweinbach-gewurztraminer-theo-2018;1.5 kg;Alsace;Domaine Weinbach;Alsace Gewurztraminer;Blanc;Gewurztraminer;2018;8-10 ans;75cl;14%;12\\xb0C;Cuisine Exotique, Foie gras po\\xeal\\xe9, Munster, Pastilla\\r\\ndomaine-weinbach-riesling-colette-2018;1.5 kg;Alsace;Domaine Weinbach;Alsace Riesling;Blanc;Riesling;2019;10-15 ans;75cl;13,5%;12\\xb0C;Fruits de mer, Poissons, Viande Blanche, Volaille\\r\\ndomaine-weinbach-pinot-blanc-2017;1.5 kg;Alsace;Domaine Weinbach;Alsace Pinot Blanc;Blanc;Pinot Blanc;2020;4-7 ans;75cl;13%;12\\xb0C;Fromages, Poissons, Quiches, Tarte \\xe0 l'oignon\\r\\ndomaine-weinbach-riesling-schlossberg-catherine-2018;1.5 kg;Alsace;Domaine Weinbach;Alsace Grand Cru;Blanc;Riesling;2020;15 ans et +;75cl;13,5%;12\\xb0C;Homard, Poissons, Viande Blanche, Volaille\\r\\ndomaine-weinbach-gewurztraminer-gc-furstentum-sgn-2010;1.5 kg;Alsace;Domaine Weinbach;Alsace Grand Cru;Blanc;Gewurztraminer;2010;15 ans et +;37,5cl;11%;10\\xb0C;Cuisine Exotique, Foie gras po\\xeal\\xe9, Munster, Pastilla\\r\\nalbert-boxler-chasselas-2016;1.5 kg;Alsace;Albert Boxler;Alsace;Blanc;Chasselas;2019;3-5 ans;75cl;12%;12\\xb0C;Poissons, Viande Blanche, Volaille\\r\\nalbert-boxler-cremant-2014;1.5 kg;Alsace;Albert Boxler;Cr\\xe9mant d'Alsace;Blanc;Pinot Auxerrois, Pinot Blanc, Pinot Noir;2018;3-5 ans;75cl;12,50%;10\\xb0C;Ap\\xe9ritif, Desserts, Poissons\\r\\nalbert-boxler-pinot-gris-sommerberg-w-2016;1.5 kg;Alsace;Albert Boxler;Alsace Grand Cru;Blanc;Pinot Gris;2016;15 ans et +;75cl;14,5%;12\\xb0C;Choucroute, Saumon Grill\\xe9, Volaille\\r\\nalbert-boxler-pinot-noir-s-2016;1.5 kg;Alsace;Albert Boxler;Alsace Pinot Noir;Rouge;Pinot Noir;2019;8-10 ans;75cl;13%;15\\xb0C;Gibiers \\xe0 plumes, Viande Blanche, Viande rouge\\r\\nalbert-boxler-pinot-gris-reserve-2016;1.5 kg;Alsace;Albert Boxler;Alsace Grand Cru;Blanc;Pinot Gris;2016;15 ans et +;75cl;14,5%;12\\xb0C;Choucroute, Saumon Grill\\xe9, Volaille\\r\\nalbert-boxler-riesling-grand-cru-sommerberg-d-2018;1.5 kg;Alsace;Albert Boxler;Alsace Grand Cru;Blanc;Riesling;2019;15 ans et +;75cl;13,5%;12\\xb0C;Choucroute, Saumon, Volaille\\r\\nalbert-boxler-riesling-grand-cru-sommerberg-e-2018;1.5 kg;Alsace;Albert Boxler;Alsace Grand Cru;Blanc;Riesling;2019;15 ans et +;75cl;13%;12\\xb0C;Choucroute, Saumon, Volaille\\r\\npares-balta-penedes-hisenda-miret-2013;1.5 kg;Espagne;Par\\xe8s Balt\\xe0;Pened\\xe8s;Rouge;Garnatxa;2013;5-10 ans;75cl;14,5%;16\\xb0C;Grillades, Paella, Viande rouge, Volaille\\r\\npares-balta-cava-brut-nature;1.5 kg;Espagne;Par\\xe8s Balt\\xe0;Cava;Blanc;Macabeu, Parellada, Xarel.io;;3 ans;75cl;12,50%;8\\xb0C;Ap\\xe9ritif, Fruits de mer, Poisson grill\\xe9\\r\\nphilippe-nusswitz-duche-uzes-orenia-blanc-reserve-2018;1.5 kg;Languedoc-Roussillon;Les Vins de Philippe Nusswitz;Duch\\xe9 d'Uz\\xe8s;Blanc;Marsanne, Roussanne, Viognier;2019;3-5 ans;75cl;13,5%;12\\xb0C;Ap\\xe9ritif, Poisson grill\\xe9, Viande Blanche, Volaille\\r\\nphilippe-nusswitz-duche-uzes-orenia-rouge-reserve-2016;1.5 kg;Languedoc-Roussillon;Les Vins de Philippe Nusswitz;Duch\\xe9 d'Uz\\xe8s;Rouge;Grenache, Syrah;2017;3-5 ans;75cl;13,5%;15\\xb0C;Canard, Grillades, Viande rouge\\r\\nphilippe-nusswitz-igp-cevennes-opale-rose-2019;1.5 kg;Languedoc-Roussillon;Les Vins de Philippe Nusswitz;C\\xe9v\\xe8nnes;Ros\\xe9;Grenache;2021;2 ans;75cl;12,50%;10\\xb0C;Ap\\xe9ritif, Grillades, Rouget grill\\xe9, Salade\\r\\nplaneta-sicilia-etna-bianco-2018;1.5 kg;Italie;Planeta;Sicilia;Blanc;Carricante;2018;3-5 ans;75cl;13,5%;12\\xb0C;Ap\\xe9ritif, Fromages, Fruits de mer, Poissons, Risotto\\r\\nplaneta-sicilia-santa-cecilia-2016;1.5 kg;Italie;Planeta;Noto;Rouge;Nero d'Avola;2017;8-10 ans;75cl;14%;16\\xb0C;Grillades, Viande Blanche, Viande rouge\\r\\ndomaine-de-lecu-muscadet-taurus-2012;1.5 kg;Vall\\xe9e de la Loire;Domaine de l'Ecu;Muscadet;Blanc;Melon de Bourgogne;2018;5-10 ans;75cl;12%;11\\xb0C;Crustac\\xe9s, Fromage de ch\\xe8vre, Hu\\xeetres, Poisson grill\\xe9\\r\\ndomaine-huet-vouvray-petillant-2014;1.5 kg;Vall\\xe9e de la Loire;Huet;Vouvray;Blanc;Chenin;2014;6-8 ans;75cl;12%;9\\xb0C;Ap\\xe9ritif, Crustac\\xe9s, Desserts, Poisson cru\\r\\ndomaine-terres-d-ocre-saint-pourcain-blanc-instant-t-2018;1.5 kg;Vall\\xe9e de la Loire;Terres d'Ocre;Saint-Pour\\xe7ain;Blanc;Chardonnay, Tressalier;2020;3-5 ans;75cl;12%;12\\xb0C;Asperges, Fromages Frais, Poissons\\r\\ndomaine-des-terres-docre-saint-pourcain-rouge-instant-t-2015;1.5 kg;Vall\\xe9e de la Loire;Terres d'Ocre;Saint-Pour\\xe7ain;Rouge;Gamay, Pinot Noir;2020;3-5 ans;75cl;12,50%;14\\xb0C;Charcuterie, Fromages, Viande Blanche, Volaille\\r\\nalliet-chinon-rouge-noire-2016;1.5 kg;Vall\\xe9e de la Loire;Philippe Alliet;Chinon;Rouge;Cabernet Franc;2016;10 ans et +;75cl;13,5%;16\\xb0C;Canard r\\xf4ti, Li\\xe8vre, Tournedos grill\\xe9\\r\\nfrancois-baur-gewurztraminer-herrenweg-de-turckheim-2016;1.5 kg;Alsace;Fran\\xe7ois Baur;Alsace Gewurztraminer;Blanc;Gewurztraminer;2019;4-7 ans;75cl;13%;12\\xb0C;Cuisine Asiatique, Desserts, Foie gras, Munster\\r\\ndomaine-de-lhortus-herault-loup-bergerie-2018;1.5 kg;Languedoc-Roussillon;Domaine de l'Hortus;Pays d'H\\xe9rault;Rouge;Cinsault, Grenache, Syrah;2020;3 ans;75cl;12,50%;15\\xb0C;Ap\\xe9ritif, Charcuterie, Grillades\\r\\ntriennes-igp-mediterranee-sainte-fleur-2018;1.5 kg;Provence;Triennes;M\\xe9diterran\\xe9e;Blanc;Viognier;2019;3-5 ans;75cl;13%;12\\xb0C;Ap\\xe9ritif, Asperges, Viande Blanche, Volaille\\r\\ntriennes-igp-mediterranee-rouge-aureliens-2016;1.5 kg;Provence;Triennes;M\\xe9diterran\\xe9e;Rouge;Cabernet Sauvignon, Syrah;2018;4-7 ans;75cl;14%;16\\xb0C;Gibier, Grillades, Viande rouge\\r\\ntriennes-igp-mediterranee-rouge-saint-auguste-2016;1.5 kg;Provence;Triennes;M\\xe9diterran\\xe9e;Rouge;Cabernet Sauvignon, Merlot, Syrah;2018;5-10 ans;75cl;14%;16\\xb0C;Gibier, Grillades, Viande rouge\\r\\ntriennes-igp-mediterranee-rouge-merlot-2016;1.5 kg;Provence;Triennes;M\\xe9diterran\\xe9e;Rouge;Merlot;2019;3-5 ans;75cl;13%;14\\xb0C;Gibier, Grillades, Viande rouge\\r\\nclerget-chambolle-musigny-charmes-2015;1.5 kg;Bourgogne;Christian Clerget;Chambolle-Musigny;Rouge;Pinot Noir;2016;15 ans et +;75cl;13,5%;15\\xb0C;Canard, Pintade, Tournedos grill\\xe9, Volaille\\r\\ndomaine-clerget-chambolle-musigny-2014;1.5 kg;Bourgogne;Christian Clerget;Chambolle-Musigny;Rouge;Pinot Noir;2014;10 ans et +;75cl;13,5%;15\\xb0C;Fromages, Gibiers \\xe0 plumes, Veau R\\xf4ti, Volaille\\r\\ndomaine-clerget-vosne-romanee-les-violettes-2015;1.5 kg;Bourgogne;Christian Clerget;Vosne-Roman\\xe9e;Rouge;Pinot Noir;2017;10 ans et +;75cl;13,5%;15\\xb0C;Fromages, Gibiers \\xe0 plumes, Veau R\\xf4ti, Volaille\\r\\nboudignon-anjou-blanc-2018;1.5 kg;Vall\\xe9e de la Loire;Thibaud Boudignon;Anjou;Blanc;Chenin;2020;8-10 ans;75cl;13,5%;11\\xb0C;Ap\\xe9ritif, Fromages, Fruits de mer, Hu\\xeetres, Poisson grill\\xe9\\r\\nchateau-de-la-selve-vdf-petite-selve-2019;1.5 kg;Rh\\xf4ne;Ch\\xe2teau de la Selve;;Rouge;Cinsault, Grenache, Syrah;2020;3-5 ans;75cl;13%;15\\xb0C;Charcuterie, Tartes aux l\\xe9gumes, Viande rouge, Volaille\\r\\nhuile-olive-planeta-3l;3.5 kg;;Planeta;;;;;;300cl;;;\\r\\nhuile-dolive-extra-vierge-planeta-50cl;1 kg;;Planeta;;;;;;50cl;;;\\r\\nhuile-dolive-extra-vierge-planeta-3x-10cl;1 kg;;Planeta;;;;;;3x 10cl;;;\\r\\nparce-freres-collioure-rouge-petit-gus-2018;1.5 kg;Languedoc-Roussillon;Augustin;Collioure;Rouge;Carignan, Grenache;2019;3-5 ans;75cl;13,5%;16\\xb0C;Charcuterie, Grillades, Viande rouge\\r\\ncamille-giroud-auxey-duresses-blc-2017;1.5 kg;Bourgogne;Camille Giroud;Auxey-Duresses;Blanc;Chardonnay;2017;5-10 ans;75cl;13%;12\\xb0C;Fromages, Poissons, Viande Blanche, Volaille\\r\\ncamille-giroud-clos-de-vougeot-2016;1.5 kg;Bourgogne;Camille Giroud;Clos de Vougeot;Rouge;Pinot Noir;2016;15 ans et +;75cl;13%;15\\xb0C;Viande Blanche, Viande rouge, Volaille\\r\\ncamille-giroud-maranges-1er-cru-le-croix-moines-2016;1.5 kg;Bourgogne;Camille Giroud;Maranges 1er Cru;Rouge;Pinot Noir;2016;6-8 ans;75cl;13%;15\\xb0C;Viande Blanche, Viande rouge, Volaille\\r\\ncamille-giroud-marsannay-longeroies-2016;1.5 kg;Bourgogne;Camille Giroud;Marsannay;Rouge;Pinot Noir;2016;4-7 ans;75cl;12,50%;15\\xb0C;Viande Blanche, Viande rouge, Volaille\\r\\ncamille-giroud-santenay-blc-2017;1.5 kg;Bourgogne;Camille Giroud;Santenay;Blanc;Chardonnay;2017;5-10 ans;75cl;13%;12\\xb0C;Fromages, Poissons, Viande Blanche, Volaille\\r\\ncamille-giroud-santenay-rge-1er-cru-clos-rousseau-2016;1.5 kg;Bourgogne;Camille Giroud;Santenay 1er Cru;Rouge;Pinot Noir;2016;6-8 ans;75cl;13%;15\\xb0C;Viande Blanche, Viande rouge, Volaille\\r\\ncamille-giroud-santenay-rouge-2016;1.5 kg;Bourgogne;Camille Giroud;Santenay;Rouge;Pinot Noir;2019;4-7 ans;75cl;12,50%;15\\xb0C;Viande Blanche, Viande rouge, Volaille\\r\\ndecelle-villa-auxey-blanc-2017;1.5 kg;Bourgogne;Decelle-Villa;Auxey-Duresses;Blanc;Chardonnay;2017;4-7 ans;75cl;13%;12\\xb0C;Fromages, Poissons, Viande Blanche, Volaille\\r\\nmaurel-pays-d-oc-cabernet-sauvignon-2017;1.5 kg;Languedoc-Roussillon;Maison Ventenac;Pays d'Oc;Rouge;Cabernet Sauvignon;2017;3-5 ans;75cl;13%;15\\xb0C;Gibier, Grillades, Viande rouge\\r\\nmaurel-pays-d-oc-merot-2018;1.5 kg;Languedoc-Roussillon;Maison Ventenac;Pays d'Oc;Rouge;Merlot;2020;3-5 ans;75cl;13%;15\\xb0C;Gibier, Grillades, Viande rouge\\r\\nmaurel-pays-d-oc-syrah-2019;1.5 kg;Languedoc-Roussillon;Maison Ventenac;Pays d'Oc;Rouge;Syrah;2020;3-5 ans;75cl;13%;15\\xb0C;Gibier, Grillades, Viande rouge\\r\\nfonreaud-bordeaux-blanc-le-cygne-2016;1.5 kg;Bordeaux;Sel\\xe9ction de Bordeaux NR;Bordeaux;Blanc;Muscadelle, Sauvignon Blanc, S\\xe9millon;2016;4-7 ans;75cl;13%;12\\xb0C;Crustac\\xe9s, Poissons, Viande Blanche\\r\\nchateau-de-chantegrive-caroline-blanc-2016;1.5 kg;Bordeaux;Sel\\xe9ction de Bordeaux NR;Graves;Blanc;Sauvignon Blanc, S\\xe9millon;2016;4-7 ans;75cl;13%;12\\xb0C;Crustac\\xe9s, Poissons, Viande Blanche\\r\\nchateau-saransot-dupre-bordeaux-blanc-2016;1.5 kg;Bordeaux;Sel\\xe9ction de Bordeaux NR;Bordeaux;Blanc;Muscadelle, Sauvignon Blanc, S\\xe9millon;2014;4-7 ans;75cl;13,5%;12\\xb0C;Crustac\\xe9s, Fromages, Poissons, Viande Blanche\\r\\nchateau-saransot-dupre-listrac-medoc-2016;1.5 kg;Bordeaux;Sel\\xe9ction de Bordeaux NR;Listrac-M\\xe9doc;Rouge;Cabernet Franc, Cabernet Sauvignon, Carmen\\xe8re, Merlot, Petit Verdot;2016;8-10 ans;75cl;14,5%;18\\xb0C;Canard, Gibier, Viande rouge\\r\\npeymartin-saint-julien-2014;1.5 kg;Bordeaux;Sel\\xe9ction de Bordeaux NR;Saint-Julien;Rouge;Cabernet Franc, Cabernet Sauvignon, Merlot, Petit Verdot;2017;10-12 ans;75cl;13%;18\\xb0C;Canard, Gibier, Viande rouge\\r\\ntour-haut-caussan-medoc-2015;1.5 kg;Bordeaux;Sel\\xe9ction de Bordeaux NR;M\\xe9doc;Rouge;Cabernet Sauvignon, Merlot;2016;10-12 ans;75cl;13%;18\\xb0C;Canard, Gibier, Viande rouge\\r\\nla-croix-meunier-saint-emilion-grand-cru-2014;1.5 kg;Bordeaux;Sel\\xe9ction de Bordeaux NR;Saint-Emilion;Rouge;Cabernet Franc, Merlot;2018;10-12 ans;75cl;13,5%;18\\xb0C;Canard, Gibier, Viande rouge\\r\\nchateau-tour-de-pez-saint-estephe-2017;1.5 kg;Bordeaux;Sel\\xe9ction de Bordeaux NR;Saint-Est\\xe8phe;Rouge;Cabernet Sauvignon, Merlot, Petit Verdot;2018;10-15 ans;75cl;13,5%;18\\xb0C;Canard, Gibier, Viande rouge\\r\\ntrimbach-muscat-reserve-2017;1.5 kg;Alsace;Trimbach;Alsace Muscat;Blanc;Muscat;2019;3-5 ans;75cl;12,50%;11\\xb0C;Ap\\xe9ritif, Asperges, L\\xe9gumes printanniers, Melon\\r\\nmaison-trimbach-riesling-2017;1.5 kg;Alsace;Trimbach;Alsace Riesling;Blanc;Riesling;2019;3-5 ans;75cl;12,50%;11\\xb0C;Crustac\\xe9s, Fruits de mer, Poissons, Viande Blanche\\r\\nmaison-trimbach-riesling-geisberg-2012;1.5 kg;Alsace;Trimbach;Alsace Grand Cru;Blanc;Riesling;2012;10 ans et +;75cl;12,50%;12\\xb0C;Crustac\\xe9s, Fruits de mer, Poissons, Viande Blanche\\r\\nmaison-trimbach-riesling-grand-cru-schlossberg-2015;1.5 kg;Alsace;Trimbach;Alsace Grand Cru;Blanc;Riesling;2015;10 ans et +;75cl;13,5%;12\\xb0C;Crustac\\xe9s, Fruits de mer, Poissons, Viande Blanche\\r\\nmaison-trimbach-riesling-cuvee-frederic-emile-2012;1.5 kg;Alsace;Trimbach;Alsace Riesling;Blanc;Riesling;2013;10 ans et +;75cl;13,5%;12\\xb0C;Crustac\\xe9s, Fruits de mer, Poissons, Viande Blanche\\r\\nagnes-levet-amethyste-2017;1.5 kg;Rh\\xf4ne;Agn\\xe8s Levet;C\\xf4te R\\xf4tie;Rouge;Syrah;2018;10 ans et +;75cl;13%;16\\xb0C;Agneau, Gibier, Pigeon, Viande rouge\\r\\nagnes-levet-cote-rotie-maestria-2017;1.5 kg;Rh\\xf4ne;Agn\\xe8s Levet;C\\xf4te R\\xf4tie;Rouge;Syrah;2019;10 ans et +;75cl;13%;16\\xb0C;Agneau, Gibier, Pigeon, Viande rouge\\r\\nagnes-levet-cote-rotie-peroline-2017;1.5 kg;Rh\\xf4ne;Agn\\xe8s Levet;C\\xf4te R\\xf4tie;Rouge;Syrah;2019;10 ans et +;75cl;13%;16\\xb0C;Agneau, Gibier, Pigeon, Viande rouge\\r\\nsaumaize-michelin-saint-veran-creches-2018;1.5 kg;Bourgogne;Saumaize-Michelin;Saint-V\\xe9ran;Blanc;Chardonnay;2020;3-5 ans;75cl;13%;12\\xb0C;Fromages, Poisson en sauce, Viande Blanche, Volaille\\r\\ncoteaux-champenois-egly-ouriet-ambonnay-rouge-2016;1.5 kg;Champagne;Egly-Ouriet;Coteaux Champenois;Rouge;Pinot Noir;;10 ans et +;75cl;12,50%;15\\xb0C;Viande Blanche, Viande rouge, Volaille\\r\\ngilbert-picq-chablis-1er-cru-vaucoupin-2016;1.5 kg;Bourgogne;Gilbert Picq;Chablis;Blanc;Chardonnay;2019;4-7 ans;75cl;12,50%;12\\xb0C;Ap\\xe9ritif, Fruits de mer, Hu\\xeetres, Poisson grill\\xe9\\r\\nthevenet-quintaine-vire-clesse-emilian-gillet-2017;1.5 kg;Bourgogne;Thevenet Quintaine;Vir\\xe9-Cless\\xe9;Blanc;Chardonnay;2019;4-7 ans;75cl;12,50%;12\\xb0C;Ap\\xe9ritif, Poissons, Viande Blanche, Volaille\\r\\nthevenet-quintaine-vire-clesse-la-bongran-2015;1.5 kg;Bourgogne;Thevenet Quintaine;Vir\\xe9-Cless\\xe9;Blanc;Chardonnay;2017;8-10 ans;75cl;13%;12\\xb0C;Ap\\xe9ritif, Poissons, Viande Blanche, Volaille\\r\\nstephane-tissot-arbois-dd-2016;1.5 kg;Jura;St\\xe9phane Tissot;Arbois;Rouge;Pinot Noir, Poulsard, Trousseau;2018;3-5 ans;75cl;12%;15\\xb0C;Charcuterie, Grillades, Poissons, Viande Blanche, Volaille\\r\\nstephane-tissot-arbois-pinot-noir-sous-la-tour-2016;1.5 kg;Jura;St\\xe9phane Tissot;Arbois;Rouge;Pinot Noir;2017;6-8 ans;75cl;13%;15\\xb0C;Charcuterie, Fromages, Viande Blanche, Volaille\\r\\nstephane-tissot-arbois-trousseau-singulier-2017;1.5 kg;Jura;St\\xe9phane Tissot;Arbois;Rouge;Trousseau;2019;6-8 ans;75cl;14%;15\\xb0C;Charcuterie, Fromages, Viande Blanche, Volaille\\r\\nmontbourgeau-cotes-du-jura-poulsard-2018;1.5 kg;Jura;Montbourgeau;C\\xf4tes du Jura;Rouge;Poulsard;2018;3 ans;75cl;12%;14\\xb0C;Charcuterie, Fromages, Viande Blanche, Volaille\\r\\nmontbourgeau-etoile-vin-jaune-2009;1.5 kg;Jura;Montbourgeau;L'Etoile Vin Jaune;Blanc;Savagnin;2012;15 ans et +;62cl;15%;15\\xb0C;Coq au Vin Jaune, Vieux Comt\\xe9\\r\\ndomaine-de-montbourgeau-letoile-vin-jaune-2016;1.5 kg;Jura;Montbourgeau;L'Etoile;Blanc;Chardonnay, Savagnin;2017;10 ans et +;75cl;13,5%;12\\xb0C;Fromages, Riz de Veau, Volaille\\r\\ndomaine-de-montbourgeau-vin-de-paille-2013;1.5 kg;Jura;Montbourgeau;L'Etoile;Blanc;Chardonnay, Savagnin;2015;10 ans et +;75cl;13,5%;12\\xb0C;Fromages, Riz de Veau, Volaille\\r\\nwhisky-kingsbarns-lowland-single-malt;1.5 kg;;;;;;;;70cl;46%;;\\r\\ndarnleys-london-dry-gin-original;1.5 kg;;;;;;;;70cl;40%;;\\r\\ndarnleys-london-dry-gin-spiced;1.5 kg;;;;;;;;70cl;42,7%;;\\r\\nwemyss-malts-single-cask-scotch-whisky-chai-caramel-latte-2002;1.5 kg;;;;;;;;70cl;46%;;\\r\\nborie-la-vitarele-languedoc-blanc-grand-mayol-2019;1.5 kg;Languedoc-Roussillon;Borie La Vitar\\xe8le;Languedoc;Blanc;Bourboulenc, Clairette, Vermentino;2020;3-5 ans;75cl;13,5%;11\\xb0C;Ap\\xe9ritif, Crustac\\xe9s, Poissons, Viande Blanche\\r\\ncognac-normandin-mercier-vfc;1.5 kg;;;Cognac;;;;;70cl;40%;;\\r\\ndomaine-de-vaccelli-ajaccio-rouge-granit-2016;1.5 kg;Corse;Vaccelli;Ajaccio;Rouge;Sciacarello;2016;10 ans et +;75cl;13,5%;15\\xb0C;Charcuterie, Entrec\\xf4te de boeuf persill\\xe9e, Grillades\\r\\ndomaine-de-vaccelli-aop-ajaccio-rouge-granit-174-2017;1.5 kg;Corse;Vaccelli;Ajaccio;Rouge;Sciacarello;2018;10 ans et +;75cl;15,5%;15\\xb0C;Charcuterie, Entrec\\xf4te de boeuf persill\\xe9e, Grillades\\r\\nclos-du-prieur-terrasses-du-larzac-2018;1.5 kg;Languedoc-Roussillon;Domaine de l'Hortus;Terrasses du Larzac;Rouge;Grenache, Syrah;2020;3-5 ans;75cl;13,5%;15\\xb0C;Gibier, Grillades, Viande en sauce, Viande rouge\\r\\nlabranche-laffont-madiran-tradition-2016;1.5 kg;Sud Ouest;Labranche Laffont;Madiran;Rouge;Cabernet Franc, Cabernet Sauvignon, Tannat;2018;4-7 ans;75cl;14%;16\\xb0C;Canard, Gibier, Viande rouge\\r\\ndomaine-labranche-laffont-madiran-vieilles-vignes-2015;1.5 kg;Sud Ouest;Labranche Laffont;Madiran;Rouge;Tannat;2018;8-10 ans;75cl;14,5%;16\\xb0C;Canard, Gibier, Viande rouge\\r\\ndomaine-labranche-laffont-pacherenc-vic-bihl-sec-2017;1.5 kg;Sud Ouest;Labranche Laffont;Pacherenc du Vic-Bilh Sec;Blanc;Gros Manseng, Petit Manseng;2019;3-5 ans;75cl;14,5%;11\\xb0C;Ap\\xe9ritif, Crustac\\xe9s, Poissons\\r\\ncamin-larredya-jurancon-moelleux-capceu-2018;1.5 kg;Sud Ouest;Camin Larredya;Juran\\xe7on;Blanc;Petit Manseng;2019;8-10 ans;75cl;14%;10\\xb0C;Ap\\xe9ritif, Cuisine orientale, Foie gras, Fromage de brebis, Tartes aux fruits\\r\\nancienne-cure-bergerac-blanc-sec-2016;1.5 kg;Sud Ouest;Ancienne Cure;Bergerac;Blanc;Chenin, Muscadelle, Ondenc, Sauvignon Blanc, S\\xe9millon;2018;3-5 ans;75cl;14%;11\\xb0C;Ap\\xe9ritif, Crustac\\xe9s, Poissons\\r\\ndomaine-de-lancienne-cure-pecharmant-abbaye-2015;1.5 kg;Sud Ouest;Ancienne Cure;P\\xe9charmant;Rouge;Cabernet Franc, Cabernet Sauvignon, Malbec, Merlot;2018;8-10 ans;75cl;13,5%;16\\xb0C;Canard, Gibier, Grillades, Viande rouge\\r\\nzind-humbrecht-pinot-gris-windsbuhl-2013;1.5 kg;Alsace;Zind-Humbrecht;Alsace Pinot Gris;Blanc;Pinot Gris;2013;10 ans et +;75cl;14,5%;12\\xb0C;Cuisine Exotique, Fromages, Volaille\\r\\ni-fabbri-chianti-classico-gran-selezione-2015;1.5 kg;Italie;I Fabbri;Chianti Classico;Rouge;Sangiovese;2015;15 ans et +;75cl;13,5%;16\\xb0C;Veau, Viande rouge, Volaille\\r\\nchateau-de-vaudieu-chateauneuf-du-pape-amiral-g-2015;1.5 kg;Rh\\xf4ne;Ch\\xe2teau de Vaudieu;Ch\\xe2teauneuf-du-Pape;Rouge;Grenache;2017;15 ans et +;75cl;15%;17\\xb0C;Gibier, Viande rouge\\r\\ndomaine-la-croix-belle-cotes-de-thongue-rose-grillons-2019;1.5 kg;Languedoc-Roussillon;La Croix Belle;C\\xf4tes de Thongue;Ros\\xe9;Cabernet Sauvignon, Grenache, Syrah;2021;3 ans;75cl;12,50%;10\\xb0C;Ap\\xe9ritif, Cuisine m\\xe9diterran\\xe9enne, Grillades, Poissons\\r\\nchateau-de-la-liquiere-faugeres-ampoule-2019;1.5 kg;Languedoc-Roussillon;Ch\\xe2teau de La Liqui\\xe8re;Faug\\xe8res;Rouge;Cinsault Majoritaire, Grenache, Syrah;2020;3 ans;75cl;14%;14\\xb0C;Ap\\xe9ritif, Charcuterie, Volaille\\r\\nborie-la-vitarele-pays-herault-cigales-2019;1.5 kg;Languedoc-Roussillon;Borie La Vitar\\xe8le;Pays d'H\\xe9rault;Rouge;Grenache, Merlot;2020;3 ans;75cl;14,5%;15\\xb0C;Ap\\xe9ritif, Grillades, Viande rouge, Volaille\\r\\nclos-du-mont-olivet-cotes-du-rhone-blanc-2019;1.5 kg;Rh\\xf4ne;Clos Du Mont-Olivet;C\\xf4tes-du-Rh\\xf4ne;Blanc;Grenache Blanc, Ugni Blanc;2021;3-5 ans;75cl;14,5%;11\\xb0C;Fromages, Poissons, Viande Blanche, Volaille\\r\\njacqueson-rully-rouge-1er-cru-les-preaux-2018;1.5 kg;Bourgogne;Domaine Jacqueson;Rully 1er Cru;Rouge;Pinot Noir;2020;6-8 ans;75cl;13,5%;15\\xb0C;Boeuf bourguignon, Entrec\\xf4te, Viande Blanche, Viande rouge, Volaille\\r\\nstephane-tissot-arbois-blanc-la-mailloche-2016;1.5 kg;Jura;St\\xe9phane Tissot;Arbois;Blanc;Chardonnay;2018;10 ans et +;75cl;14%;12\\xb0C;Fromages, Poissons, Viande Blanche, Volaille\\r\\nstephane-tissot-arbois-blanc-savagnin-2015;1.5 kg;Jura;St\\xe9phane Tissot;Arbois;Blanc;Savagnin;2017;15 ans et +;75cl;14%;14\\xb0C;Cuisine Exotique, Fromages, Viande Blanche, Volaille\\r\\nstephane-tissot-chateau-chalon-2011;1.5 kg;Jura;St\\xe9phane Tissot;Ch\\xe2teau-Chalon;Blanc;Savagnin;2011;15 ans et +;62cl;15%;15\\xb0C;Coq au Vin Jaune, Vieux Comt\\xe9\\r\\nstephane-tissot-arbois-vin-jaune-en-spois-2011;1.5 kg;Jura;St\\xe9phane Tissot;Arbois;Blanc;Savagnin;2012;15 ans et +;62cl;15%;15\\xb0C;Coq au Vin Jaune, Vieux Comt\\xe9\\r\\nchampagne-gosset-celebris-vintage-2007;1.5 kg;Champagne;Gosset;Champagne;Blanc;45% Pinot Noir, 55% Chardonnay;2007;10 ans et +;75cl;12%;10\\xb0C;Agneau de l'Aveyron, Ap\\xe9ritif, Brie de Meaux\\r\\nmoulin-de-gassac-igp-pays-dherault-mazet-levant-2017;1.5 kg;Languedoc-Roussillon;Mas de Daumas Gassac;Pays d'H\\xe9rault;Rouge;Cabernet Sauvignon, Merlot, Syrah;2017;3-5 ans;75cl;13,5%;17\\xb0C;Canard, Gibier, Grillades, Porc au caramel, Viande rouge\\r\\nmoulin-de-gassac-igp-pays-dherault-faune-2017;1.5 kg;Languedoc-Roussillon;Mas de Daumas Gassac;Pays d'H\\xe9rault;Blanc;Chardonnay, Viognier;2021;3-5 ans;75cl;12,50%;11\\xb0C;Ap\\xe9ritif, Crabe, Fromage de ch\\xe8vre, Fruits de mer, Salade, Volaille\\r\\nmoulin-de-gassac-igp-pays-dherault-guilhem-blanc-2017;1.5 kg;Languedoc-Roussillon;Mas de Daumas Gassac;Pays d'H\\xe9rault;Blanc;Grenache Blanc, Sauvignon Blanc, Terret Blanc;2017;3 ans;75cl;12,50%;11\\xb0C;Ap\\xe9ritif, Fromages, Fruits de mer, Poissons, Salade\\r\\ndomaine-de-vaccelli-ajaccio-blanc-sirocco-2017;1.5 kg;Corse;Vaccelli;Ajaccio;Blanc;Vermentino;2019;5-7 ans;75cl;12,50%;11\\xb0C;Coquilles Saint Jacques, Fromages, Risotto, Volaille\\r\\ndomaine-clerget-echezeaux-en-orveaux-2015;1.5 kg;Bourgogne;Christian Clerget;Echezeaux Grand Cru;Rouge;Pinot Noir;2016;15 ans et +;75cl;13,5%;15\\xb0C;Fromages, Gibier, Viande rouge\\r\\ndomaine-giudicelli-muscat-du-cap-corse-2016;1.5 kg;Corse;Domaine Giudicelli;Muscat du Cap Corse;Blanc;Muscat \\xe0 petits grains;2017;8-10 ans;75cl;16%;11\\xb0C;Ap\\xe9ritif, Desserts, Foie gras, Ricotta \\xe0 la fraise, Tartes aux fruits\\r\\ndomaine-giudicelli-vin-de-france-corail-rouge-2019;1.5 kg;Corse;Domaine Giudicelli;;Rouge;Grenache, Sciacarello;2020;3-5 ans;75cl;13%;13\\xb0C;Ap\\xe9ritif, Charcuterie, Fromages, Volaille\\r\\ndomaine-giudicelli-patrimonio-blanc-2019;1.5 kg;Corse;Domaine Giudicelli;Patrimonio;Blanc;Vermentino;2020;3-5 ans;75cl;13,5%;11\\xb0C;Fruits de mer, Langoustes, Poissons, Risotto\\r\\ndomaine-giudicelli-patrimonio-rouge-2016;1.5 kg;Corse;Domaine Giudicelli;Patrimonio;Rouge;Nielluccio;2018;6-8 ans;75cl;14%;15\\xb0C;Cuisine m\\xe9diterran\\xe9enne, Gibiers \\xe0 plumes, Pigeon, Terrines, Viande rouge\\r\\ndomaine-des-comtes-lafon-volnay-1er-cru-champans-2013;1.5 kg;Bourgogne;Domaine des Comtes Lafon;Volnay 1er Cru;Rouge;Pinot Noir;2013;10-12 ans;75cl;13,5%;15\\xb0C;C\\xf4tes de Veau, Lapin, Viande rouge, Volaille\\r\\ndomaine-des-comtes-lafon-volnay-1er-cru-champans-2014;1.5 kg;Bourgogne;Domaine des Comtes Lafon;Volnay 1er Cru;Rouge;Pinot Noir;2014;10-12 ans;75cl;13,5%;15\\xb0C;C\\xf4tes de Veau, Lapin, Viande rouge, Volaille\\r\\ndomaine-des-comtes-lafon-volnay-1er-cru-champans-2016;1.5 kg;Bourgogne;Domaine des Comtes Lafon;Volnay 1er Cru;Rouge;Pinot Noir;2016;10-12 ans;75cl;13,5%;15\\xb0C;C\\xf4tes de Veau, Lapin, Viande rouge, Volaille\\r\\nplaneta-sicilia-eruzione-1614-2017;1.5 kg;Italie;Planeta;Sicilia;Rouge;Nerello Mascalese;2018;4-7 ans;75cl;13%;14\\xb0C;Charcuterie, Grillades, Viande rouge\\r\\nplaneta-sicilia-passito-di-noto-2016;1.5 kg;Italie;Planeta;Noto;Rouge;Moscato;2017;8-10 ans;50cl;12,50%;8\\xb0C;Chocolat, Desserts, Tartes aux fruits\\r\\nplaneta-sicilia-chardonnay-2017;1.5 kg;Italie;Planeta;Sicilia;Blanc;Chardonnay;2018;4-7 ans;75cl;13,5%;12\\xb0C;Ap\\xe9ritif, Fromages, Fruits de mer, Poissons, Risotto, Volaille\\r\\nle-pas-de-lescalette-herault-ze-cinsault-2017;1.5 kg;Languedoc-Roussillon;Le Pas de l'Escalette;Pays d'H\\xe9rault;Rouge;Cinsault;2019;5-7 ans;75cl;14%;14\\xb0C;Charcuterie, Grillades\\r\\nle-pas-de-lescalette-terrasses-du-larzac-les-frieys-2017;1.5 kg;Languedoc-Roussillon;Le Pas de l'Escalette;Terrasses du Larzac;Rouge;Carignan, Grenache, Mourv\\xe8dre;2019;8-10 ans;75cl;13%;14\\xb0C;Risotto aux morilles, Tournedos Rossini, Viande rouge\\r\\nborie-de-maurel-minervois-esprit-automne-2019;1.5 kg;Languedoc-Roussillon;Borie de Maurel;Minervois;Rouge;Carignan, Grenache, Syrah;2020;3-5 ans;75cl;13,5%;15\\xb0C;Cassoulet, Daube, Grillades, Mets \\xe9pic\\xe9s\\r\\nlucien-boillot-gevrey-chambertin-1er-cru-les-cherbaudes-2017;1.5 kg;Bourgogne;Lucien Boillot;Gevrey-Chambertin 1er Cru;Rouge;Pinot Noir;2019;15 ans et +;75cl;13,5%;15\\xb0C;Lapin, Tourte, Viande rouge\\r\\nborie-la-vitarele-saint-chinian-midi-rouge-2015;1.5 kg;Languedoc-Roussillon;Borie La Vitar\\xe8le;Saint-Chinian;Rouge;Carignan, Mourv\\xe8dre, Syrah;2015;8-10 ans;75cl;14%;16\\xb0C;Gibier, Viande rouge, Volaille\\r\\ntempier-bandol-blanc-2018;1.5 kg;Provence;Tempier;Bandol;Blanc;Bourboulenc, Clairette, Ugni Blanc;2021;6-8 ans;75cl;13,5%;10\\xb0C;Bouillabaisse, Crustac\\xe9s, Fromage de ch\\xe8vre, Poissons\\r\\nle-pas-de-lescalette-igp-pays-dherault-les-clapas-blanc-2018;1.5 kg;Languedoc-Roussillon;Le Pas de l'Escalette;Pays d'H\\xe9rault;Blanc;Carignan Blanc, Grenache Blanc, Grenache Gris, Terret Bourret;2020;4-7 ans;75cl;12,50%;12\\xb0C;Veau, Viande Blanche, Volaille\\r\\ndecelle-villa-chambolle-musigny-2017;1.5 kg;Bourgogne;Decelle-Villa;Chambolle-Musigny;Rouge;Pinot Noir;2017;10 ans et +;75cl;14%;15\\xb0C;Veau, Viande Blanche, Viande rouge\\r\\ndecelle-villa-chorey-beaune-2016;1.5 kg;Bourgogne;Decelle-Villa;Chorey-L\\xe8s-Beaune;Rouge;Pinot Noir;2017;4-7 ans;75cl;13%;15\\xb0C;Carpaccios, Filet de boeuf, Fromages, Veau\\r\\ndecelle-villa-marsannay-longeroies-2015;1.5 kg;Bourgogne;Decelle-Villa;Marsannay;Rouge;Pinot Noir;2017;4-7 ans;75cl;14%;15\\xb0C;Veau, Viande Blanche, Viande rouge\\r\\nmarc-colin-et-fils-chassagne-montrachet-blanc-1cru-champs-gain-2017;1.5 kg;Bourgogne;Marc Colin;Chassagne-Montrachet 1er Cru;Blanc;Chardonnay;2019;8-10 ans;75cl;13%;12\\xb0C;Bouch\\xe9es \\xe0 la Reine, Ris de veau, Risotto, Volaille\\r\\nmarc-colin-et-fils-saint-aubin-1ercru-chateniere-2017;1.5 kg;Bourgogne;Marc Colin;Saint-Aubin 1er Cru;Blanc;Chardonnay;2019;4-7 ans;75cl;13%;12\\xb0C;Bouch\\xe9es \\xe0 la Reine, Poisson en sauce, Risotto, Volaille\\r\\nsaumaize-michelin-pouilly-fuisse-ampelopsis-2016;1.5 kg;Bourgogne;Saumaize-Michelin;Pouilly-Fuiss\\xe9;Blanc;Chardonnay;2018;;75cl;13%;12\\xb0C;Ap\\xe9ritif, Fromages, Poissons, Volaille\\r\\nla-preceptorie-cotes-du-roussillon-coume-marie-2018-blc;1.5 kg;Languedoc-Roussillon;La Preceptorie;;Blanc;Carignan Blanc, Grenache Blanc, Grenache Gris, Macabeu;2020;6-8 ans;75cl;15%;12\\xb0C;Poisson en sauce, Viande Blanche, Volaille\\r\\nla-preceptorie-cotes-du-roussillon-blanc-terres-nouvelles-2018;1.5 kg;Languedoc-Roussillon;La Preceptorie;;Blanc;Grenache Gris, Macabeu;2020;6-8 ans;75cl;15%;12\\xb0C;Crustac\\xe9s, Fruits de mer, Poisson grill\\xe9\\r\\ndomaine-de-la-monardiere-vacqueyras-galejade-2018;1.5 kg;Rh\\xf4ne;La Monardi\\xe8re;Vacqueyras;Blanc;Clairette, Grenache Blanc, Roussanne;2018;6-8 ans;75cl;14%;12\\xb0C;Fromages, Poisson en sauce, Viande Blanche\\r\\nclos-du-mont-olivet-chateauneuf-du-pape-2018;1.5 kg;Rh\\xf4ne;Clos Du Mont-Olivet;Ch\\xe2teauneuf-du-Pape;Rouge;Cinsault, Grenache, Mourv\\xe8dre, Syrah;2019;15 ans et +;75cl;14,5%;16\\xb0C;Gibier, Viande rouge\\r\\nclos-du-mont-olivet-lirac-2017;1.5 kg;Rh\\xf4ne;Clos Du Mont-Olivet;Lirac;Rouge;Cinsault, Grenache, Syrah;2019;4-7 ans;75cl;14,5%;15\\xb0C;Charcuterie, Viande rouge\\r\\nclos-du-mont-olivet-igp-gard-rive-droite-2018;1.5 kg;Rh\\xf4ne;Clos Du Mont-Olivet;Pays du Gard;Rouge;Carignan, Grenache, Merlot, Syrah;2019;3 ans;75cl;14%;15\\xb0C;Charcuterie, Viande rouge\\r\\nclos-du-mont-olivet-vins-de-pays-du-gard-confluence-2017;1.5 kg;Rh\\xf4ne;Clos Du Mont-Olivet;Pays du Gard;Rouge;Carignan, Grenache;2019;3 ans;75cl;14,5%;15\\xb0C;Charcuterie, Viande rouge\\r\\nthierry-germain-saumur-champigny-la-marginale-2018;1.5 kg;Vall\\xe9e de la Loire;Thierry Germain;Saumur-Champigny;Rouge;Cabernet Franc;2018;10-15 ans;75cl;13%;15\\xb0C;Boudin aux pommes, Carr\\xe9 d'agneau en cro\\xfbte d'herbes, Queue de boeuf \\xe0 la cuilli\\xe8re\\r\\nthierry-germain-saumur-champigny-les-memoires-2018;1.5 kg;Vall\\xe9e de la Loire;Thierry Germain;Saumur-Champigny;Rouge;Cabernet Franc;2018;10-15 ans;75cl;13%;15\\xb0C;Gibier, Viande rouge\\r\\nweingut-besson-strasser-zurich-rauschling-2018;1.5 kg;Suisse \\x96 Rheinfall;Weingut Besson-Strasser;Z\\xfcrich;Blanc;R\\xe4uschling;2019;8-10 ans;75cl;12%;11\\xb0C;Crustac\\xe9s, Fruits de mer, Poissons, Volaille\\r\\nweingut-besson-strasser-zurich-fume-2017;1.5 kg;Suisse \\x96 Rheinfall;Weingut Besson-Strasser;Z\\xfcrich;Blanc;R\\xe4uschling, Chardonnay;2018;8-10 ans;75cl;12%;11\\xb0C;Poisson en sauce, Viande Blanche, Volaille\\r\\nweingut-besson-strasser-zurich-blauer-zweigelt-2016;1.5 kg;Suisse \\x96 Rheinfall;Weingut Besson-Strasser;Z\\xfcrich;Rouge;Blauer-Zweigelt;2016;6-8 ans;75cl;13%;15\\xb0C;Gibiers \\xe0 plumes, Grillades, Viande rouge\\r\\nweingut-besson-strasser-zurich-pinot-noir-cholfirst-2017;1.5 kg;Suisse \\x96 Rheinfall;Weingut Besson-Strasser;Z\\xfcrich;Rouge;Pinot Noir;2019;6-8 ans;75cl;12,50%;15\\xb0C;Bouch\\xe9es \\xe0 la Reine, Viande Blanche, Viande rouge, Volaille\\r\\nweingut-besson-strasser-zurich-pinot-noir-albi-2016;1.5 kg;Suisse \\x96 Rheinfall;Weingut Besson-Strasser;Z\\xfcrich;Rouge;Pinot Noir;2017;6-8 ans;75cl;12,50%;15\\xb0C;Gibier, Grillades, Viande rouge\\r\\nweingut-besson-strasser-zurich-pinot-noir-chlosterberg-2016;1.5 kg;Suisse \\x96 Rheinfall;Weingut Besson-Strasser;Z\\xfcrich;Rouge;Pinot Noir;2017;15 ans et +;75cl;12,50%;15\\xb0C;Araign\\xe9e de Boeuf, Quasi de veau, Supr\\xeame de volaille\\r\\ndomaine-de-la-monardiere-vacqueyras-les-vieilles-vignes-2016;1.5 kg;Rh\\xf4ne;La Monardi\\xe8re;Vacqueyras;Rouge;Carignan, Grenache, Mourv\\xe8dre;2019;10 ans et +;75cl;14%;16\\xb0C;Gibier, Grillades, Viande rouge\\r\\ncatherine-et-claude-marechal-pommard-la-chaniere-2017;1.5 kg;Bourgogne;Catherine et Claude Mar\\xe9chal;Pommard;Rouge;Pinot Noir;2017;8-10 ans;75cl;13,5%;15\\xb0C;Civet de Canard, Fondue Bourguignonne, Terrine de Lapin\\r\\ncatherine-et-claude-marechal-savigny-les-beaune-rouge-2017;1.5 kg;Bourgogne;Catherine et Claude Mar\\xe9chal;Savigny-L\\xe8s-Beaune;Rouge;Pinot Noir;2017;8-10 ans;75cl;13,5%;15\\xb0C;Gibiers \\xe0 plumes, Viande Blanche, Volaille\\r\\ndomaine-hauvette-igp-alpilles-jaspe-2017;1.5 kg;Provence;Domaine Hauvette;Alpilles;Blanc;Roussanne;2019;4-7 ans;75cl;12,50%;12\\xb0C;Charcuterie, Crustac\\xe9s, Poissons, Volaille\\r\\ndomaine-hauvette-igp-alpilles-dolia-2013;1.5 kg;Provence;Domaine Hauvette;Alpilles;Blanc;Clairette, Marsanne, Roussanne;2013;10 ans et +;75cl;13,5%;12\\xb0C;Charcuterie, Crustac\\xe9s, Poissons, Volaille\\r\\nemile-boeckel-cremant-chardonnay-extra-brut-2016;1.5 kg;Alsace;Emile Boeckel;Cr\\xe9mant d'Alsace;Blanc;Chardonnay;;3-5 ans;75cl;12%;9\\xb0C;Ap\\xe9ritif, Fromages, Hu\\xeetres, Poissons\\r\\nchateau-simone-blanc-2017;1.5 kg;Provence;Ch\\xe2teau Simone;Palette;Blanc;Bourboulenc, Clairette, Grenache Blanc, Muscat, Ugni Blanc;2018;10 ans et +;75cl;13,5%;12\\xb0C;Ancho\\xefade de l\\xe9gumes, Carpaccio de poisson, Farcis proven\\xe7aux\\r\\ndomino-romano-ribera-del-duero-rdr-2015;1.5 kg;Espagne;Domino Romano;Ribera Del Duero;Rouge;Tinto Fino;2015;10 ans et +;75cl;14,5%;18\\xb0C;Agneau, Canard, Grillades, Viande rouge\\r\\ngratavinum-priorat-gv5-2011;1.5 kg;Espagne;Gratavinum;Priorat;Rouge;Cabernet Sauvignon, Carignan, Grenache;2013;10 ans et +;75cl;14,5%;16\\xb0C;Agneau, Canard, Grillades, Viande rouge\\r\\ngratavinum-priorat-2%cf%80r-2017;1.5 kg;Espagne;Gratavinum;Priorat;Rouge;Cabernet Sauvignon, Carignan, Grenache, Syrah;2018;10 ans et +;75cl;13,5%;16\\xb0C;Agneau, Canard, Grillades, Viande rouge\\r\\nchateau-jean-faure-saint-emilion-grand-cru-2016;1.5 kg;Bordeaux;Ch\\xe2teau Jean Faure;Saint-Emilion Grand Cru Class\\xe9;Rouge;Cabernet Franc, Malbec, Merlot;2016;15 ans et +;75cl;13,5%;18\\xb0C;Filet de boeuf, Gibier, Magret de Canard\\r\\nmouthes-le-bihan-aime-chai-2015;1.5 kg;Sud Ouest;Mouthes Le Bihan;C\\xf4tes-de-Duras;Rouge;Cabernet Sauvignon, Malbec, Merlot;2016;4-7 ans;75cl;13,5%;14\\xb0C;Boeuf aux carottes, Pommes de terre sarladaises, Cassoulet\\r\\ncamin-larredya-jurancon-sec-la-virada-2018;1.5 kg;Sud Ouest;Camin Larredya;Juran\\xe7on;Blanc;Gros Manseng, Petit Courbu, Petit Manseng;2018;8-10 ans;75cl;14%;11\\xb0C;Charcuterie, Fromages, Poissons, Viande Blanche\\r\\njamet-cote-rotie-fructus-voluptas-2018;1.5 kg;Rh\\xf4ne;Jamet;C\\xf4te R\\xf4tie;Rouge;Syrah;2020;10 ans et +;75cl;13%;16\\xb0C;Agneau, Gibier, Pigeon, Viande rouge\\r\\ndomaine-saint-nicolas-fiefs-vendeens-blanc-les-clous-2019;1.5 kg;Vall\\xe9e de la Loire;Saint-Nicolas;;Blanc;Chardonnay, Chenin;2019;3-5 ans;75cl;14%;12\\xb0C;Crustac\\xe9s, Fromages, Poissons\\r\\n\"\n"
     ]
    }
   ],
   "source": [
    "#Avant d'utiliser pandas pour le chargement du fichier, explorons la structure du fichier\n",
    "#Pour cela utilisons l'instruction ci-dessous qui permet d'ouvrir un fichier texte\n",
    "with open(\"caracteristiques_vins.csv\", \"rb\") as f:\n",
    "    file = f.read()\n",
    "    \n",
    "#Et affichons le:\n",
    "print(file)"
   ]
  },
  {
   "cell_type": "code",
   "execution_count": 445,
   "id": "1d974fd1",
   "metadata": {},
   "outputs": [
    {
     "data": {
      "text/html": [
       "<div>\n",
       "<style scoped>\n",
       "    .dataframe tbody tr th:only-of-type {\n",
       "        vertical-align: middle;\n",
       "    }\n",
       "\n",
       "    .dataframe tbody tr th {\n",
       "        vertical-align: top;\n",
       "    }\n",
       "\n",
       "    .dataframe thead th {\n",
       "        text-align: right;\n",
       "    }\n",
       "</style>\n",
       "<table border=\"1\" class=\"dataframe\">\n",
       "  <thead>\n",
       "    <tr style=\"text-align: right;\">\n",
       "      <th></th>\n",
       "      <th>post_name</th>\n",
       "      <th>poids</th>\n",
       "      <th>Région</th>\n",
       "      <th>Domaine</th>\n",
       "      <th>Appellation</th>\n",
       "      <th>Couleur</th>\n",
       "      <th>Cépage</th>\n",
       "      <th>Millésime</th>\n",
       "      <th>Garde</th>\n",
       "      <th>Contenance</th>\n",
       "      <th>Degré d'alcool</th>\n",
       "      <th>Température dégustation</th>\n",
       "      <th>Alliance mets</th>\n",
       "    </tr>\n",
       "  </thead>\n",
       "  <tbody>\n",
       "    <tr>\n",
       "      <th>0</th>\n",
       "      <td>pierre-jean-villa-saint-joseph-preface-2018</td>\n",
       "      <td>1.5 kg</td>\n",
       "      <td>Rhône</td>\n",
       "      <td>Pierre Jean Villa</td>\n",
       "      <td>Saint Joseph</td>\n",
       "      <td>Rouge</td>\n",
       "      <td>100% Syrah</td>\n",
       "      <td>2020.0</td>\n",
       "      <td>4-7 ans</td>\n",
       "      <td>75cl</td>\n",
       "      <td>13%</td>\n",
       "      <td>15°C</td>\n",
       "      <td>Charcuterie, Lapin, Viande rouge, Volaille</td>\n",
       "    </tr>\n",
       "    <tr>\n",
       "      <th>1</th>\n",
       "      <td>pierre-jean-villa-saint-joseph-tilde-2017</td>\n",
       "      <td>1.5 kg</td>\n",
       "      <td>Rhône</td>\n",
       "      <td>Pierre Jean Villa</td>\n",
       "      <td>Saint Joseph</td>\n",
       "      <td>Rouge</td>\n",
       "      <td>100% Syrah</td>\n",
       "      <td>2019.0</td>\n",
       "      <td>6-8 ans</td>\n",
       "      <td>75cl</td>\n",
       "      <td>13%</td>\n",
       "      <td>15°C</td>\n",
       "      <td>Charcuterie, Viande rouge, Volaille</td>\n",
       "    </tr>\n",
       "    <tr>\n",
       "      <th>2</th>\n",
       "      <td>pierre-jean-villa-croze-hermitage-accroche-coe...</td>\n",
       "      <td>1.5 kg</td>\n",
       "      <td>Rhône</td>\n",
       "      <td>Pierre Jean Villa</td>\n",
       "      <td>Crozes-Hermitage</td>\n",
       "      <td>Rouge</td>\n",
       "      <td>100% Syrah</td>\n",
       "      <td>2020.0</td>\n",
       "      <td>3-5 ans</td>\n",
       "      <td>75cl</td>\n",
       "      <td>13%</td>\n",
       "      <td>15°C</td>\n",
       "      <td>Viande rouge, Volaille</td>\n",
       "    </tr>\n",
       "    <tr>\n",
       "      <th>3</th>\n",
       "      <td>pierre-jean-villa-igp-gamine-2018</td>\n",
       "      <td>1.5 kg</td>\n",
       "      <td>Rhône</td>\n",
       "      <td>Pierre Jean Villa</td>\n",
       "      <td>Collines Rhodaniennes</td>\n",
       "      <td>Rouge</td>\n",
       "      <td>100% Syrah</td>\n",
       "      <td>2020.0</td>\n",
       "      <td>3-5 ans</td>\n",
       "      <td>75cl</td>\n",
       "      <td>13%</td>\n",
       "      <td>14°C</td>\n",
       "      <td>Charcuterie, Viande rouge, Volaille</td>\n",
       "    </tr>\n",
       "    <tr>\n",
       "      <th>4</th>\n",
       "      <td>pierre-jean-villa-cote-rotie-carmina-2017</td>\n",
       "      <td>1.5 kg</td>\n",
       "      <td>Rhône</td>\n",
       "      <td>Pierre Jean Villa</td>\n",
       "      <td>Côte Rôtie</td>\n",
       "      <td>Rouge</td>\n",
       "      <td>100% Syrah</td>\n",
       "      <td>2019.0</td>\n",
       "      <td>10-20 ans</td>\n",
       "      <td>75cl</td>\n",
       "      <td>13%</td>\n",
       "      <td>17°C</td>\n",
       "      <td>Gibier, Viande rouge</td>\n",
       "    </tr>\n",
       "  </tbody>\n",
       "</table>\n",
       "</div>"
      ],
      "text/plain": [
       "                                           post_name   poids Région  \\\n",
       "0        pierre-jean-villa-saint-joseph-preface-2018  1.5 kg  Rhône   \n",
       "1          pierre-jean-villa-saint-joseph-tilde-2017  1.5 kg  Rhône   \n",
       "2  pierre-jean-villa-croze-hermitage-accroche-coe...  1.5 kg  Rhône   \n",
       "3                  pierre-jean-villa-igp-gamine-2018  1.5 kg  Rhône   \n",
       "4          pierre-jean-villa-cote-rotie-carmina-2017  1.5 kg  Rhône   \n",
       "\n",
       "             Domaine            Appellation Couleur      Cépage  Millésime  \\\n",
       "0  Pierre Jean Villa           Saint Joseph   Rouge  100% Syrah     2020.0   \n",
       "1  Pierre Jean Villa           Saint Joseph   Rouge  100% Syrah     2019.0   \n",
       "2  Pierre Jean Villa       Crozes-Hermitage   Rouge  100% Syrah     2020.0   \n",
       "3  Pierre Jean Villa  Collines Rhodaniennes   Rouge  100% Syrah     2020.0   \n",
       "4  Pierre Jean Villa             Côte Rôtie   Rouge  100% Syrah     2019.0   \n",
       "\n",
       "       Garde Contenance Degré d'alcool Température dégustation  \\\n",
       "0    4-7 ans       75cl            13%                    15°C   \n",
       "1    6-8 ans       75cl            13%                    15°C   \n",
       "2    3-5 ans       75cl            13%                    15°C   \n",
       "3    3-5 ans       75cl            13%                    14°C   \n",
       "4  10-20 ans       75cl            13%                    17°C   \n",
       "\n",
       "                                Alliance mets  \n",
       "0  Charcuterie, Lapin, Viande rouge, Volaille  \n",
       "1         Charcuterie, Viande rouge, Volaille  \n",
       "2                      Viande rouge, Volaille  \n",
       "3         Charcuterie, Viande rouge, Volaille  \n",
       "4                        Gibier, Viande rouge  "
      ]
     },
     "execution_count": 445,
     "metadata": {},
     "output_type": "execute_result"
    }
   ],
   "source": [
    "#Vous avez dû constater que les champs sont séparées par des point-virgule\n",
    "chemin_fichier_caracteristiques = r'C:\\Users\\yenbh\\OneDrive\\Desktop\\Data Analyst\\Supply Chain Open classroom\\Projet 6 Optimisez la gestion du stock d’une boutique en nettoyant ses données\\caracteristiques_vins.csv'\n",
    "\n",
    "#tentons d'ouvrir le fichier avec pandas avec cet élément\n",
    "df_caracteristiques = pd.read_csv(chemin_fichier_caracteristiques, sep=\";\", encoding='ISO-8859-1')\n",
    "\n",
    "df_caracteristiques.head()"
   ]
  },
  {
   "cell_type": "code",
   "execution_count": 446,
   "id": "cacff790",
   "metadata": {},
   "outputs": [],
   "source": [
    "#Importation de la bibilothèque \n",
    "#(à noter que c'est une mauvaise pratique d'importer une bibliothèque au milieu d'un programme)\n",
    "#(celle-ci doit toujours figurer au début du script)\n",
    "import chardet"
   ]
  },
  {
   "cell_type": "markdown",
   "id": "825f050d",
   "metadata": {},
   "source": [
    "Rendez-vous sur le lien ci-après pour identifier l'instruction dont vous aurez besoin:<br>\n",
    "https://chardet.readthedocs.io/en/latest/usage.html#basic-usage"
   ]
  },
  {
   "cell_type": "code",
   "execution_count": 447,
   "id": "be0a4b56",
   "metadata": {},
   "outputs": [
    {
     "name": "stdout",
     "output_type": "stream",
     "text": [
      "Encodage détecté : Windows-1252\n",
      "                                           post_name   poids Région  \\\n",
      "0        pierre-jean-villa-saint-joseph-preface-2018  1.5 kg  Rhône   \n",
      "1          pierre-jean-villa-saint-joseph-tilde-2017  1.5 kg  Rhône   \n",
      "2  pierre-jean-villa-croze-hermitage-accroche-coe...  1.5 kg  Rhône   \n",
      "3                  pierre-jean-villa-igp-gamine-2018  1.5 kg  Rhône   \n",
      "4          pierre-jean-villa-cote-rotie-carmina-2017  1.5 kg  Rhône   \n",
      "\n",
      "             Domaine            Appellation Couleur      Cépage  Millésime  \\\n",
      "0  Pierre Jean Villa           Saint Joseph   Rouge  100% Syrah     2020.0   \n",
      "1  Pierre Jean Villa           Saint Joseph   Rouge  100% Syrah     2019.0   \n",
      "2  Pierre Jean Villa       Crozes-Hermitage   Rouge  100% Syrah     2020.0   \n",
      "3  Pierre Jean Villa  Collines Rhodaniennes   Rouge  100% Syrah     2020.0   \n",
      "4  Pierre Jean Villa             Côte Rôtie   Rouge  100% Syrah     2019.0   \n",
      "\n",
      "       Garde Contenance Degré d'alcool Température dégustation  \\\n",
      "0    4-7 ans       75cl            13%                    15°C   \n",
      "1    6-8 ans       75cl            13%                    15°C   \n",
      "2    3-5 ans       75cl            13%                    15°C   \n",
      "3    3-5 ans       75cl            13%                    14°C   \n",
      "4  10-20 ans       75cl            13%                    17°C   \n",
      "\n",
      "                                Alliance mets  \n",
      "0  Charcuterie, Lapin, Viande rouge, Volaille  \n",
      "1         Charcuterie, Viande rouge, Volaille  \n",
      "2                      Viande rouge, Volaille  \n",
      "3         Charcuterie, Viande rouge, Volaille  \n",
      "4                        Gibier, Viande rouge  \n"
     ]
    }
   ],
   "source": [
    "#Identification de l'encodage du fichier\n",
    "def detect_encoding(file_path):\n",
    "    with open(file_path, 'rb') as file:\n",
    "        result = chardet.detect(file.read())\n",
    "    return result['encoding']\n",
    "\n",
    "# Chemin du fichier CSV\n",
    "file_path = r'C:\\Users\\yenbh\\OneDrive\\Desktop\\Data Analyst\\Supply Chain Open classroom\\Projet 6 Optimisez la gestion du stock d’une boutique en nettoyant ses données\\caracteristiques_vins.csv'\n",
    "\n",
    "# Détecter l'encodage du fichier\n",
    "detected_encoding = detect_encoding(file_path)\n",
    "\n",
    "if detected_encoding:\n",
    "    print(f\"Encodage détecté : {detected_encoding}\")\n",
    "    \n",
    "    # Utiliser cet encodage pour lire le fichier avec pandas\n",
    "    df_caracteristiques = pd.read_csv(file_path, sep=\";\", encoding=detected_encoding)\n",
    "    \n",
    "    # Afficher les premières lignes du DataFrame pour vérification\n",
    "    print(df_caracteristiques.head())\n",
    "    \n",
    "else:\n",
    "    print(\"Impossible de détecter l'encodage.\")"
   ]
  },
  {
   "cell_type": "code",
   "execution_count": 448,
   "id": "0e64a4c4",
   "metadata": {},
   "outputs": [],
   "source": [
    "#A présent que nous connaissons les séparateurs et l'encodage du fichier\n",
    "#Utilisons Pandas pour charger le fichier\n",
    "#Je vous laisse le soin de renseigner les champs manquants\n",
    "nom_du_fichier = \"caracteristiques_vins.csv\"\n",
    "type_de_separateur = \";\"\n",
    "encodage_du_fichier_csv = \"Windows-1252\"\n",
    "\n",
    "df_caracteristiques = pd.read_csv(nom_du_fichier, sep=type_de_separateur, encoding=encodage_du_fichier_csv)"
   ]
  },
  {
   "cell_type": "markdown",
   "id": "605f7056",
   "metadata": {},
   "source": [
    "<div style=\"background-color: RGB(51,165,182);\" >\n",
    "<h2 style=\"margin: auto; padding: 20px; color:#fff; \">Etape 2 - Analyse exploratoire des fichiers</h2>\n",
    "</div>"
   ]
  },
  {
   "cell_type": "markdown",
   "id": "47d3a649",
   "metadata": {},
   "source": [
    "<div style=\"border: 1px solid RGB(51,165,182);\" >\n",
    "<h3 style=\"margin: auto; padding: 20px; color: RGB(51,165,182); \">2.1 - Analyse exploratoire du fichier erp.xlsx</h3>\n",
    "</div>"
   ]
  },
  {
   "cell_type": "code",
   "execution_count": 449,
   "id": "094ef206",
   "metadata": {},
   "outputs": [
    {
     "name": "stdout",
     "output_type": "stream",
     "text": [
      "Le tableau comporte 825 observation(s) ou article(s)\n",
      "Le tableau comporte 5 colonne(s)\n"
     ]
    }
   ],
   "source": [
    "#Afficher les dimensions du dataset\n",
    "print(\"Le tableau comporte {} observation(s) ou article(s)\".format(df_erp.shape[0]))\n",
    "print(\"Le tableau comporte {} colonne(s)\".format(df_erp.shape[1]))"
   ]
  },
  {
   "cell_type": "code",
   "execution_count": 450,
   "id": "182441f0",
   "metadata": {},
   "outputs": [
    {
     "name": "stdout",
     "output_type": "stream",
     "text": [
      "Le tableau comporte 5 colonne(s)\n",
      "product_id          int64\n",
      "onsale_web          int64\n",
      "price             float64\n",
      "stock_quantity      int64\n",
      "stock_status       object\n",
      "dtype: object\n",
      "product_id        825\n",
      "onsale_web        825\n",
      "price             825\n",
      "stock_quantity    825\n",
      "stock_status      825\n",
      "dtype: int64\n"
     ]
    }
   ],
   "source": [
    "#Consulter le nombre de colonnes\n",
    "print(\"Le tableau comporte {} colonne(s)\".format(df_erp.shape[1]))\n",
    "\n",
    "#La nature des données dans chacune des colonnes\n",
    "print(df_erp.dtypes)\n",
    "\n",
    "#Le nombre de valeurs présentes dans chacune des colonnes\n",
    "print(df_erp.count())"
   ]
  },
  {
   "cell_type": "code",
   "execution_count": 451,
   "id": "d3977646",
   "metadata": {},
   "outputs": [
    {
     "data": {
      "text/html": [
       "<div>\n",
       "<style scoped>\n",
       "    .dataframe tbody tr th:only-of-type {\n",
       "        vertical-align: middle;\n",
       "    }\n",
       "\n",
       "    .dataframe tbody tr th {\n",
       "        vertical-align: top;\n",
       "    }\n",
       "\n",
       "    .dataframe thead th {\n",
       "        text-align: right;\n",
       "    }\n",
       "</style>\n",
       "<table border=\"1\" class=\"dataframe\">\n",
       "  <thead>\n",
       "    <tr style=\"text-align: right;\">\n",
       "      <th></th>\n",
       "      <th>product_id</th>\n",
       "      <th>onsale_web</th>\n",
       "      <th>price</th>\n",
       "      <th>stock_quantity</th>\n",
       "      <th>stock_status</th>\n",
       "    </tr>\n",
       "  </thead>\n",
       "  <tbody>\n",
       "    <tr>\n",
       "      <th>0</th>\n",
       "      <td>3847</td>\n",
       "      <td>1</td>\n",
       "      <td>24.2</td>\n",
       "      <td>0</td>\n",
       "      <td>outofstock</td>\n",
       "    </tr>\n",
       "    <tr>\n",
       "      <th>1</th>\n",
       "      <td>3849</td>\n",
       "      <td>1</td>\n",
       "      <td>34.3</td>\n",
       "      <td>0</td>\n",
       "      <td>outofstock</td>\n",
       "    </tr>\n",
       "    <tr>\n",
       "      <th>2</th>\n",
       "      <td>3850</td>\n",
       "      <td>1</td>\n",
       "      <td>20.8</td>\n",
       "      <td>0</td>\n",
       "      <td>outofstock</td>\n",
       "    </tr>\n",
       "    <tr>\n",
       "      <th>3</th>\n",
       "      <td>4032</td>\n",
       "      <td>1</td>\n",
       "      <td>14.1</td>\n",
       "      <td>0</td>\n",
       "      <td>outofstock</td>\n",
       "    </tr>\n",
       "    <tr>\n",
       "      <th>4</th>\n",
       "      <td>4039</td>\n",
       "      <td>1</td>\n",
       "      <td>46.0</td>\n",
       "      <td>0</td>\n",
       "      <td>outofstock</td>\n",
       "    </tr>\n",
       "  </tbody>\n",
       "</table>\n",
       "</div>"
      ],
      "text/plain": [
       "   product_id  onsale_web  price  stock_quantity stock_status\n",
       "0        3847           1   24.2               0   outofstock\n",
       "1        3849           1   34.3               0   outofstock\n",
       "2        3850           1   20.8               0   outofstock\n",
       "3        4032           1   14.1               0   outofstock\n",
       "4        4039           1   46.0               0   outofstock"
      ]
     },
     "execution_count": 451,
     "metadata": {},
     "output_type": "execute_result"
    }
   ],
   "source": [
    "#Afficher les 5 premières lignes de la table\n",
    "df_erp.head()"
   ]
  },
  {
   "cell_type": "code",
   "execution_count": 452,
   "id": "db102a4a",
   "metadata": {},
   "outputs": [
    {
     "name": "stdout",
     "output_type": "stream",
     "text": [
      "Aucune ligne en doublons dans la colonne 'product_id'.\n"
     ]
    }
   ],
   "source": [
    "#Vérifier si il y a les lignes en doublons dans la colonne product_id\n",
    "doublons_product_id = df_erp[df_erp.duplicated(subset='product_id', keep=False)]\n",
    "\n",
    "if not doublons_product_id.empty:\n",
    "    print(\"Les lignes en doublons dans la colonne 'product_id' sont :\")\n",
    "    print(doublons_product_id)\n",
    "else:\n",
    "    print(\"Aucune ligne en doublons dans la colonne 'product_id'.\")"
   ]
  },
  {
   "cell_type": "code",
   "execution_count": 453,
   "id": "d443d4ff",
   "metadata": {},
   "outputs": [
    {
     "name": "stdout",
     "output_type": "stream",
     "text": [
      "les valeurs distinctes de la colonne stock_status :  ['outofstock' 'instock']\n",
      "Table de contingence entre 'stock_status' et 'colonne1' :\n",
      "stock_quantity  0    1    2    3    4    5    6    7    8    9    ...  209  \\\n",
      "stock_status                                                      ...        \n",
      "instock           1   39   20   23   14   22   24   22   16   16  ...    1   \n",
      "outofstock      187    0    0    0    0    0    0    0    0    0  ...    0   \n",
      "\n",
      "stock_quantity  211  237  257  267  276  284  289  363  578  \n",
      "stock_status                                                 \n",
      "instock           1    1    1    1    1    1    1    1    1  \n",
      "outofstock        0    0    0    0    0    0    0    0    0  \n",
      "\n",
      "[2 rows x 128 columns]\n",
      "Chi2 : 819.3254768892149\n",
      "P-value : 1.0898130153796188e-101\n"
     ]
    }
   ],
   "source": [
    "#Afficher les valeurs distinctes de la colonne stock_status\n",
    "valeurs_distinctes_stock_status = df_erp ['stock_status'].unique()\n",
    "print (\"les valeurs distinctes de la colonne stock_status : \", valeurs_distinctes_stock_status)\n",
    "\n",
    "#À quelle(s) autre(s) colonne(s) sont-elles liées ?\n",
    "# relations_categorielles = df_erp.groupby('stock_status').agg({'colonne1': 'product_id', 'colonne2': 'onsale_web', 'colonne3': 'price', 'colonne4': 'stock_quality'})\n",
    "\n",
    "#print(\"Relations avec d'autres colonnes en fonction de 'stock_status' :\")\n",
    "#print(relations_categorielles)\n",
    "\n",
    "table_contingence = pd.crosstab(df_erp['stock_status'], df_erp['stock_quantity'])\n",
    "\n",
    "print(\"Table de contingence entre 'stock_status' et 'colonne1' :\")\n",
    "print(table_contingence)\n",
    "\n",
    "from scipy.stats import chi2_contingency\n",
    "\n",
    "chi2, p, _, _ = chi2_contingency(table_contingence)\n",
    "\n",
    "print(f\"Chi2 : {chi2}\")\n",
    "print(f\"P-value : {p}\")"
   ]
  },
  {
   "cell_type": "code",
   "execution_count": 454,
   "id": "68088943",
   "metadata": {},
   "outputs": [],
   "source": [
    "#Création d'une colonne \"stock_status_2\n",
    "#La valeur de cette deuxième colonne sera fonction de la valeur dans la colonne \"stock_quantity\"\n",
    "#si la valeur de la colonne \"stock_quantity\" est nulle renseigner \"outofstock\" sinon mettre \"instock\"\n",
    "df_erp['stock_status_2'] = df_erp['stock_quantity'].apply(lambda x: 'outofstock' if x == '0' else 'instock')"
   ]
  },
  {
   "cell_type": "code",
   "execution_count": 455,
   "id": "90a1c8ae",
   "metadata": {},
   "outputs": [
    {
     "data": {
      "text/plain": [
       "0      False\n",
       "1      False\n",
       "2      False\n",
       "3      False\n",
       "4      False\n",
       "       ...  \n",
       "820     True\n",
       "821     True\n",
       "822     True\n",
       "823     True\n",
       "824     True\n",
       "Length: 825, dtype: bool"
      ]
     },
     "execution_count": 455,
     "metadata": {},
     "output_type": "execute_result"
    }
   ],
   "source": [
    "#Vérifions que les 2 colonnes sont identiques:\n",
    "#Les 2 colonnes sont strictement identiques si les valeurs de chaque ligne sont strictement identiques 2 à 2\n",
    "#La comparaison de 2 colonnes peut se réaliser simplement avec l'instruction ci-dessous:\n",
    "df_erp[\"stock_status\"] == df_erp[\"stock_status_2\"]\n",
    "\n",
    "#Le résultat est l'affichage de True ou False pour chacune des lignes du dataset\n",
    "#C'est un bon début, mais difficile à exploiter"
   ]
  },
  {
   "cell_type": "code",
   "execution_count": 456,
   "id": "ebe3650a",
   "metadata": {},
   "outputs": [
    {
     "name": "stdout",
     "output_type": "stream",
     "text": [
      "Nombre de linges de stock identiques : 638\n",
      "Nombre de linges de stock non-identiques : 187\n"
     ]
    }
   ],
   "source": [
    "#Mais il est possible de synthétiser ce résultat en effectuant la somme de cette colonne:\n",
    "#True vaut 1 et False 0\n",
    "#Nous devrions obtenir la somme de 824 qui correspond au nombre de lignes dans ce dataset\n",
    "\n",
    "somme_identiques = (df_erp[\"stock_status\"] == df_erp[\"stock_status_2\"]).sum()\n",
    "print('Nombre de linges de stock identiques :',somme_identiques)\n",
    "\n",
    "somme_non_identiques = (df_erp[\"stock_status\"] != df_erp[\"stock_status_2\"]).sum()\n",
    "print('Nombre de linges de stock non-identiques :',somme_non_identiques)"
   ]
  },
  {
   "cell_type": "code",
   "execution_count": 457,
   "id": "1ca6060a",
   "metadata": {},
   "outputs": [],
   "source": [
    "#Si les colonnes ne sont absolument pas identiques ligne à ligne alors identifier la ligne en écart\n",
    "##Dans ce cas je vous ce lien pour apprendre à réaliser des filtres dans Pandas:\n",
    "##https://bitbucket.org/hrojas/learn-pandas/src/master/\n",
    "##Lesson 3"
   ]
  },
  {
   "cell_type": "code",
   "execution_count": 458,
   "id": "ce1b9704",
   "metadata": {},
   "outputs": [],
   "source": [
    "#Corriger la ou les données incohérentes\n",
    "\n"
   ]
  },
  {
   "cell_type": "markdown",
   "id": "08bd4b08",
   "metadata": {},
   "source": [
    "<div style=\"border: 1px solid RGB(51,165,182);\" >\n",
    "<h3 style=\"margin: auto; padding: 20px; color: RGB(51,165,182); \">2.1.1 - Analyse exploratoire de chaque variable du fichier erp.xlsx</h3>\n",
    "</div>"
   ]
  },
  {
   "cell_type": "markdown",
   "id": "3476df40",
   "metadata": {},
   "source": [
    "<div style=\"border: 1px solid RGB(51,165,182);\" >\n",
    "<h3 style=\"margin: auto; padding: 20px; color: RGB(51,165,182); \">2.1.1.1 - Analyse de la variable PRIX</h3>\n",
    "</div>"
   ]
  },
  {
   "cell_type": "code",
   "execution_count": 459,
   "id": "a7fc3384",
   "metadata": {},
   "outputs": [
    {
     "name": "stdout",
     "output_type": "stream",
     "text": [
      "Nombres d'article avec un prix non renseignés: Empty DataFrame\n",
      "Columns: [product_id, onsale_web, price, stock_quantity, stock_status, stock_status_2]\n",
      "Index: []\n",
      "Le prix minimum de la colonne \"price\" est  5.2\n",
      "Le prix maximum de la colonne \"price\" est  225.0\n"
     ]
    }
   ],
   "source": [
    "###############\n",
    "## LES PRIX  ##\n",
    "###############\n",
    "\n",
    "#Vérification des prix: Y a t-il des prix non renseignés, négatif ou nul?\n",
    "#Afficher le ou les prix non renseignés dans la colonne \"price\"\n",
    "print(\"Nombres d'article avec un prix non renseignés: {}\".format(df_erp[df_erp['price'].isnull()])) #Saisir l'instruction manquante dans la fonction format\n",
    "#Afficher le prix minimum de la colonne \"price\"\n",
    "print('Le prix minimum de la colonne \"price\" est ', df_erp['price'].min())\n",
    "#Afficher le prix maximum de la colonne \"price\"\n",
    "print('Le prix maximum de la colonne \"price\" est ', df_erp['price'].max())"
   ]
  },
  {
   "cell_type": "markdown",
   "id": "c5fce58c",
   "metadata": {},
   "source": [
    "<div style=\"border: 1px solid RGB(51,165,182);\" >\n",
    "<h3 style=\"margin: auto; padding: 20px; color: RGB(51,165,182); \">2.1.1.2 - Analyse de la variable STOCK</h3>\n",
    "</div>"
   ]
  },
  {
   "cell_type": "code",
   "execution_count": 460,
   "id": "3d14c4a0",
   "metadata": {},
   "outputs": [
    {
     "name": "stdout",
     "output_type": "stream",
     "text": [
      "Nombres d'article avec une quantité non renseignés: Empty DataFrame\n",
      "Columns: [product_id, onsale_web, price, stock_quantity, stock_status, stock_status_2]\n",
      "Index: []\n",
      "la quantité minimum de la colonne \"stock_quantity\" est  0\n",
      "la quantité maximum de la colonne \"stock_quantity\" est  578\n"
     ]
    }
   ],
   "source": [
    "#######################\n",
    "### stock_quantity  ###\n",
    "#######################\n",
    "\n",
    "#Vérification de la colonne stock quantity\n",
    "print(\"Nombres d'article avec une quantité non renseignés: {}\".format(df_erp[df_erp['stock_quantity'].isnull()]))\n",
    "#Afficher la quantité minimum de la colonne \"stock_quantity\"\n",
    "print('la quantité minimum de la colonne \"stock_quantity\" est ', df_erp['stock_quantity'].min())\n",
    "#Afficher la quantité maximum de la colonne \"stock_quantity\"\n",
    "print('la quantité maximum de la colonne \"stock_quantity\" est ', df_erp['stock_quantity'].max())"
   ]
  },
  {
   "cell_type": "markdown",
   "id": "20e8c554",
   "metadata": {},
   "source": [
    "<div style=\"border: 1px solid RGB(51,165,182);\" >\n",
    "<h3 style=\"margin: auto; padding: 20px; color: RGB(51,165,182); \">2.1.1.3 - Analyse de la variable ONSALE_WEB</h3>\n",
    "</div>"
   ]
  },
  {
   "cell_type": "code",
   "execution_count": 461,
   "id": "99b936ca",
   "metadata": {},
   "outputs": [
    {
     "name": "stdout",
     "output_type": "stream",
     "text": [
      "[1 0]\n"
     ]
    }
   ],
   "source": [
    "#Vérification de la colonne onsale_web et des valeurs qu'elle contient? Que signifient-elles?\n",
    "print(df_erp['onsale_web'].unique())\n",
    "\n",
    "# cette colonne signifie si l'article est vendu en ligne ou non. "
   ]
  },
  {
   "cell_type": "code",
   "execution_count": 462,
   "id": "5a79444d",
   "metadata": {},
   "outputs": [],
   "source": [
    "#Quelles sont les colonnes à conserver selon vous?\n",
    "# supprimer les lignes dont la valeur de la colonne onsale_web est 0 car ici on s'intéresse uniquement aux produits vendus en ligne. \n",
    "\n",
    "Valeur_supprimer = [0]\n",
    "df_erp = df_erp[~df_erp['onsale_web'].isin(Valeur_supprimer)]"
   ]
  },
  {
   "cell_type": "code",
   "execution_count": 463,
   "id": "8053aeda",
   "metadata": {},
   "outputs": [],
   "source": [
    "#Supprimer les colonnes comportant le libellé \"stock_status\"\n",
    "#Cette colonne est redondante avec la colonne \"stock_quantity\". Dans notre projet cette information n'est pas utile.\n",
    "df_erp = df_erp.drop(df_erp.filter(like='stock_status', axis=1).columns, axis=1)"
   ]
  },
  {
   "cell_type": "markdown",
   "id": "a550f996",
   "metadata": {},
   "source": [
    "<div style=\"border: 1px solid RGB(51,165,182);\" >\n",
    "<h3 style=\"margin: auto; padding: 20px; color: RGB(51,165,182); \">2.2 - Analyse exploratoire du fichier web.xlsx</h3>\n",
    "</div>\n",
    " "
   ]
  },
  {
   "cell_type": "code",
   "execution_count": 464,
   "id": "bb7e292c",
   "metadata": {},
   "outputs": [
    {
     "name": "stdout",
     "output_type": "stream",
     "text": [
      "Le tableau comporte 1513 observation(s) ou article(s)\n",
      "Le tableau comporte 28 colonne(s)\n"
     ]
    }
   ],
   "source": [
    "#Dimension du dataset\n",
    "#Nombre d'observations\n",
    "print(\"Le tableau comporte {} observation(s) ou article(s)\".format(df_web.shape[0]))\n",
    "print(\"Le tableau comporte {} colonne(s)\".format(df_web.shape[1]))\n",
    "#Nombre de caractéristiques\n"
   ]
  },
  {
   "cell_type": "code",
   "execution_count": 465,
   "id": "0b70a8da",
   "metadata": {},
   "outputs": [
    {
     "name": "stdout",
     "output_type": "stream",
     "text": [
      "Le tableau comporte 28 colonne(s)\n",
      "sku                              object\n",
      "virtual                           int64\n",
      "downloadable                      int64\n",
      "rating_count                      int64\n",
      "average_rating                  float64\n",
      "total_sales                     float64\n",
      "tax_status                       object\n",
      "tax_class                       float64\n",
      "post_author                     float64\n",
      "post_date                datetime64[ns]\n",
      "post_date_gmt            datetime64[ns]\n",
      "post_content                    float64\n",
      "post_title                       object\n",
      "post_excerpt                     object\n",
      "post_status                      object\n",
      "comment_status                   object\n",
      "ping_status                      object\n",
      "post_password                   float64\n",
      "post_name                        object\n",
      "post_modified            datetime64[ns]\n",
      "post_modified_gmt        datetime64[ns]\n",
      "post_content_filtered           float64\n",
      "post_parent                     float64\n",
      "guid                             object\n",
      "menu_order                      float64\n",
      "post_type                        object\n",
      "post_mime_type                   object\n",
      "comment_count                   float64\n",
      "dtype: object\n"
     ]
    },
    {
     "data": {
      "text/html": [
       "<div>\n",
       "<style scoped>\n",
       "    .dataframe tbody tr th:only-of-type {\n",
       "        vertical-align: middle;\n",
       "    }\n",
       "\n",
       "    .dataframe tbody tr th {\n",
       "        vertical-align: top;\n",
       "    }\n",
       "\n",
       "    .dataframe thead th {\n",
       "        text-align: right;\n",
       "    }\n",
       "</style>\n",
       "<table border=\"1\" class=\"dataframe\">\n",
       "  <thead>\n",
       "    <tr style=\"text-align: right;\">\n",
       "      <th></th>\n",
       "      <th>virtual</th>\n",
       "      <th>downloadable</th>\n",
       "      <th>rating_count</th>\n",
       "      <th>average_rating</th>\n",
       "      <th>total_sales</th>\n",
       "      <th>tax_class</th>\n",
       "      <th>post_author</th>\n",
       "      <th>post_date</th>\n",
       "      <th>post_date_gmt</th>\n",
       "      <th>post_content</th>\n",
       "      <th>post_password</th>\n",
       "      <th>post_modified</th>\n",
       "      <th>post_modified_gmt</th>\n",
       "      <th>post_content_filtered</th>\n",
       "      <th>post_parent</th>\n",
       "      <th>menu_order</th>\n",
       "      <th>comment_count</th>\n",
       "    </tr>\n",
       "  </thead>\n",
       "  <tbody>\n",
       "    <tr>\n",
       "      <th>count</th>\n",
       "      <td>1513.0</td>\n",
       "      <td>1513.0</td>\n",
       "      <td>1513.0</td>\n",
       "      <td>1430.0</td>\n",
       "      <td>1430.000000</td>\n",
       "      <td>0.0</td>\n",
       "      <td>1430.000000</td>\n",
       "      <td>1430</td>\n",
       "      <td>1430</td>\n",
       "      <td>0.0</td>\n",
       "      <td>0.0</td>\n",
       "      <td>1430</td>\n",
       "      <td>1430</td>\n",
       "      <td>0.0</td>\n",
       "      <td>1430.0</td>\n",
       "      <td>1430.0</td>\n",
       "      <td>1430.0</td>\n",
       "    </tr>\n",
       "    <tr>\n",
       "      <th>mean</th>\n",
       "      <td>0.0</td>\n",
       "      <td>0.0</td>\n",
       "      <td>0.0</td>\n",
       "      <td>0.0</td>\n",
       "      <td>4.006993</td>\n",
       "      <td>NaN</td>\n",
       "      <td>1.998601</td>\n",
       "      <td>2018-08-22 03:22:17.090908928</td>\n",
       "      <td>2018-08-22 01:53:30.097902080</td>\n",
       "      <td>NaN</td>\n",
       "      <td>NaN</td>\n",
       "      <td>2020-06-20 13:59:29.781818368</td>\n",
       "      <td>2020-06-20 12:06:02.509090816</td>\n",
       "      <td>NaN</td>\n",
       "      <td>0.0</td>\n",
       "      <td>0.0</td>\n",
       "      <td>0.0</td>\n",
       "    </tr>\n",
       "    <tr>\n",
       "      <th>min</th>\n",
       "      <td>0.0</td>\n",
       "      <td>0.0</td>\n",
       "      <td>0.0</td>\n",
       "      <td>0.0</td>\n",
       "      <td>0.000000</td>\n",
       "      <td>NaN</td>\n",
       "      <td>1.000000</td>\n",
       "      <td>2018-02-08 12:58:52</td>\n",
       "      <td>2018-02-08 11:58:52</td>\n",
       "      <td>NaN</td>\n",
       "      <td>NaN</td>\n",
       "      <td>2018-02-20 15:19:23</td>\n",
       "      <td>2018-02-20 14:19:23</td>\n",
       "      <td>NaN</td>\n",
       "      <td>0.0</td>\n",
       "      <td>0.0</td>\n",
       "      <td>0.0</td>\n",
       "    </tr>\n",
       "    <tr>\n",
       "      <th>25%</th>\n",
       "      <td>0.0</td>\n",
       "      <td>0.0</td>\n",
       "      <td>0.0</td>\n",
       "      <td>0.0</td>\n",
       "      <td>0.000000</td>\n",
       "      <td>NaN</td>\n",
       "      <td>2.000000</td>\n",
       "      <td>2018-02-27 20:01:12.500000</td>\n",
       "      <td>2018-02-27 19:01:12.500000</td>\n",
       "      <td>NaN</td>\n",
       "      <td>NaN</td>\n",
       "      <td>2020-06-18 10:45:05.249999872</td>\n",
       "      <td>2020-06-18 08:45:05.249999872</td>\n",
       "      <td>NaN</td>\n",
       "      <td>0.0</td>\n",
       "      <td>0.0</td>\n",
       "      <td>0.0</td>\n",
       "    </tr>\n",
       "    <tr>\n",
       "      <th>50%</th>\n",
       "      <td>0.0</td>\n",
       "      <td>0.0</td>\n",
       "      <td>0.0</td>\n",
       "      <td>0.0</td>\n",
       "      <td>1.000000</td>\n",
       "      <td>NaN</td>\n",
       "      <td>2.000000</td>\n",
       "      <td>2018-04-19 14:56:05</td>\n",
       "      <td>2018-04-19 12:56:05</td>\n",
       "      <td>NaN</td>\n",
       "      <td>NaN</td>\n",
       "      <td>2020-08-04 09:30:06</td>\n",
       "      <td>2020-08-04 07:30:06</td>\n",
       "      <td>NaN</td>\n",
       "      <td>0.0</td>\n",
       "      <td>0.0</td>\n",
       "      <td>0.0</td>\n",
       "    </tr>\n",
       "    <tr>\n",
       "      <th>75%</th>\n",
       "      <td>0.0</td>\n",
       "      <td>0.0</td>\n",
       "      <td>0.0</td>\n",
       "      <td>0.0</td>\n",
       "      <td>4.000000</td>\n",
       "      <td>NaN</td>\n",
       "      <td>2.000000</td>\n",
       "      <td>2019-01-31 14:35:47</td>\n",
       "      <td>2019-01-31 13:35:47</td>\n",
       "      <td>NaN</td>\n",
       "      <td>NaN</td>\n",
       "      <td>2020-08-25 10:32:32</td>\n",
       "      <td>2020-08-25 08:32:32</td>\n",
       "      <td>NaN</td>\n",
       "      <td>0.0</td>\n",
       "      <td>0.0</td>\n",
       "      <td>0.0</td>\n",
       "    </tr>\n",
       "    <tr>\n",
       "      <th>max</th>\n",
       "      <td>0.0</td>\n",
       "      <td>0.0</td>\n",
       "      <td>0.0</td>\n",
       "      <td>0.0</td>\n",
       "      <td>96.000000</td>\n",
       "      <td>NaN</td>\n",
       "      <td>2.000000</td>\n",
       "      <td>2020-07-20 11:00:00</td>\n",
       "      <td>2020-07-20 09:00:00</td>\n",
       "      <td>NaN</td>\n",
       "      <td>NaN</td>\n",
       "      <td>2020-08-27 18:55:03</td>\n",
       "      <td>2020-08-27 16:55:03</td>\n",
       "      <td>NaN</td>\n",
       "      <td>0.0</td>\n",
       "      <td>0.0</td>\n",
       "      <td>0.0</td>\n",
       "    </tr>\n",
       "    <tr>\n",
       "      <th>std</th>\n",
       "      <td>0.0</td>\n",
       "      <td>0.0</td>\n",
       "      <td>0.0</td>\n",
       "      <td>0.0</td>\n",
       "      <td>8.510559</td>\n",
       "      <td>NaN</td>\n",
       "      <td>0.037385</td>\n",
       "      <td>NaN</td>\n",
       "      <td>NaN</td>\n",
       "      <td>NaN</td>\n",
       "      <td>NaN</td>\n",
       "      <td>NaN</td>\n",
       "      <td>NaN</td>\n",
       "      <td>NaN</td>\n",
       "      <td>0.0</td>\n",
       "      <td>0.0</td>\n",
       "      <td>0.0</td>\n",
       "    </tr>\n",
       "  </tbody>\n",
       "</table>\n",
       "</div>"
      ],
      "text/plain": [
       "       virtual  downloadable  rating_count  average_rating  total_sales  \\\n",
       "count   1513.0        1513.0        1513.0          1430.0  1430.000000   \n",
       "mean       0.0           0.0           0.0             0.0     4.006993   \n",
       "min        0.0           0.0           0.0             0.0     0.000000   \n",
       "25%        0.0           0.0           0.0             0.0     0.000000   \n",
       "50%        0.0           0.0           0.0             0.0     1.000000   \n",
       "75%        0.0           0.0           0.0             0.0     4.000000   \n",
       "max        0.0           0.0           0.0             0.0    96.000000   \n",
       "std        0.0           0.0           0.0             0.0     8.510559   \n",
       "\n",
       "       tax_class  post_author                      post_date  \\\n",
       "count        0.0  1430.000000                           1430   \n",
       "mean         NaN     1.998601  2018-08-22 03:22:17.090908928   \n",
       "min          NaN     1.000000            2018-02-08 12:58:52   \n",
       "25%          NaN     2.000000     2018-02-27 20:01:12.500000   \n",
       "50%          NaN     2.000000            2018-04-19 14:56:05   \n",
       "75%          NaN     2.000000            2019-01-31 14:35:47   \n",
       "max          NaN     2.000000            2020-07-20 11:00:00   \n",
       "std          NaN     0.037385                            NaN   \n",
       "\n",
       "                       post_date_gmt  post_content  post_password  \\\n",
       "count                           1430           0.0            0.0   \n",
       "mean   2018-08-22 01:53:30.097902080           NaN            NaN   \n",
       "min              2018-02-08 11:58:52           NaN            NaN   \n",
       "25%       2018-02-27 19:01:12.500000           NaN            NaN   \n",
       "50%              2018-04-19 12:56:05           NaN            NaN   \n",
       "75%              2019-01-31 13:35:47           NaN            NaN   \n",
       "max              2020-07-20 09:00:00           NaN            NaN   \n",
       "std                              NaN           NaN            NaN   \n",
       "\n",
       "                       post_modified              post_modified_gmt  \\\n",
       "count                           1430                           1430   \n",
       "mean   2020-06-20 13:59:29.781818368  2020-06-20 12:06:02.509090816   \n",
       "min              2018-02-20 15:19:23            2018-02-20 14:19:23   \n",
       "25%    2020-06-18 10:45:05.249999872  2020-06-18 08:45:05.249999872   \n",
       "50%              2020-08-04 09:30:06            2020-08-04 07:30:06   \n",
       "75%              2020-08-25 10:32:32            2020-08-25 08:32:32   \n",
       "max              2020-08-27 18:55:03            2020-08-27 16:55:03   \n",
       "std                              NaN                            NaN   \n",
       "\n",
       "       post_content_filtered  post_parent  menu_order  comment_count  \n",
       "count                    0.0       1430.0      1430.0         1430.0  \n",
       "mean                     NaN          0.0         0.0            0.0  \n",
       "min                      NaN          0.0         0.0            0.0  \n",
       "25%                      NaN          0.0         0.0            0.0  \n",
       "50%                      NaN          0.0         0.0            0.0  \n",
       "75%                      NaN          0.0         0.0            0.0  \n",
       "max                      NaN          0.0         0.0            0.0  \n",
       "std                      NaN          0.0         0.0            0.0  "
      ]
     },
     "execution_count": 465,
     "metadata": {},
     "output_type": "execute_result"
    }
   ],
   "source": [
    "#Consulter le nombre de colonnes\n",
    "print(\"Le tableau comporte {} colonne(s)\".format(df_web.shape[1]))\n",
    "\n",
    "#La nature des données dans chacune des colonnes\n",
    "print(df_web.dtypes)\n",
    "\n",
    "#Le nombre de valeurs présentes dans chacune des colonnes\n",
    "#print(df_web.count())\n",
    "\n",
    "df_web.describe()"
   ]
  },
  {
   "cell_type": "code",
   "execution_count": 466,
   "id": "b0d2f149",
   "metadata": {},
   "outputs": [],
   "source": [
    "#Selon vous, quelles sont les colonnes à conserver ?\n",
    "# colonnes ['SKU', 'total_sales', 'post_date','post_title', 'post_name','guid']\n",
    "\n"
   ]
  },
  {
   "cell_type": "code",
   "execution_count": 467,
   "id": "30b2196b",
   "metadata": {},
   "outputs": [],
   "source": [
    "#Si vous avez défini des colonnes à supprimer, effectuer l'opération\n",
    "df_web = df_web.drop(['virtual', 'downloadable', 'rating_count', 'average_rating', 'tax_class', 'post_content', 'post_password', 'post_content_filtered', 'post_parent', 'menu_order', 'comment_count'], axis=1)\n"
   ]
  },
  {
   "cell_type": "code",
   "execution_count": 468,
   "id": "e69509c0",
   "metadata": {},
   "outputs": [
    {
     "name": "stdout",
     "output_type": "stream",
     "text": [
      "Les lignes sans code article sont les suivantes:\n",
      "     sku  total_sales tax_status  post_author post_date post_date_gmt  \\\n",
      "178  NaN          NaN        NaN          NaN       NaT           NaT   \n",
      "179  NaN          NaN        NaN          NaN       NaT           NaT   \n",
      "227  NaN          NaN        NaN          NaN       NaT           NaT   \n",
      "230  NaN          NaN        NaN          NaN       NaT           NaT   \n",
      "231  NaN          NaN        NaN          NaN       NaT           NaT   \n",
      "..   ...          ...        ...          ...       ...           ...   \n",
      "792  NaN          NaN        NaN          NaN       NaT           NaT   \n",
      "793  NaN          NaN        NaN          NaN       NaT           NaT   \n",
      "794  NaN          NaN        NaN          NaN       NaT           NaT   \n",
      "795  NaN          NaN        NaN          NaN       NaT           NaT   \n",
      "796  NaN          NaN        NaN          NaN       NaT           NaT   \n",
      "\n",
      "    post_title post_excerpt post_status comment_status ping_status post_name  \\\n",
      "178        NaN          NaN         NaN            NaN         NaN       NaN   \n",
      "179        NaN          NaN         NaN            NaN         NaN       NaN   \n",
      "227        NaN          NaN         NaN            NaN         NaN       NaN   \n",
      "230        NaN          NaN         NaN            NaN         NaN       NaN   \n",
      "231        NaN          NaN         NaN            NaN         NaN       NaN   \n",
      "..         ...          ...         ...            ...         ...       ...   \n",
      "792        NaN          NaN         NaN            NaN         NaN       NaN   \n",
      "793        NaN          NaN         NaN            NaN         NaN       NaN   \n",
      "794        NaN          NaN         NaN            NaN         NaN       NaN   \n",
      "795        NaN          NaN         NaN            NaN         NaN       NaN   \n",
      "796        NaN          NaN         NaN            NaN         NaN       NaN   \n",
      "\n",
      "    post_modified post_modified_gmt guid post_type post_mime_type  \n",
      "178           NaT               NaT  NaN       NaN            NaN  \n",
      "179           NaT               NaT  NaN       NaN            NaN  \n",
      "227           NaT               NaT  NaN       NaN            NaN  \n",
      "230           NaT               NaT  NaN       NaN            NaN  \n",
      "231           NaT               NaT  NaN       NaN            NaN  \n",
      "..            ...               ...  ...       ...            ...  \n",
      "792           NaT               NaT  NaN       NaN            NaN  \n",
      "793           NaT               NaT  NaN       NaN            NaN  \n",
      "794           NaT               NaT  NaN       NaN            NaN  \n",
      "795           NaT               NaT  NaN       NaN            NaN  \n",
      "796           NaT               NaT  NaN       NaN            NaN  \n",
      "\n",
      "[85 rows x 17 columns]\n"
     ]
    }
   ],
   "source": [
    "#Identifier les lignes sans code articles\n",
    "df_lignes_sans_code_article = df_web[df_web['sku'].isnull()]\n",
    "\n",
    "print(\"Les lignes sans code article sont les suivantes:\")\n",
    "print(df_lignes_sans_code_article)"
   ]
  },
  {
   "cell_type": "code",
   "execution_count": 469,
   "id": "7338b878",
   "metadata": {},
   "outputs": [
    {
     "data": {
      "text/html": [
       "<div>\n",
       "<style scoped>\n",
       "    .dataframe tbody tr th:only-of-type {\n",
       "        vertical-align: middle;\n",
       "    }\n",
       "\n",
       "    .dataframe tbody tr th {\n",
       "        vertical-align: top;\n",
       "    }\n",
       "\n",
       "    .dataframe thead th {\n",
       "        text-align: right;\n",
       "    }\n",
       "</style>\n",
       "<table border=\"1\" class=\"dataframe\">\n",
       "  <thead>\n",
       "    <tr style=\"text-align: right;\">\n",
       "      <th></th>\n",
       "      <th>total_sales</th>\n",
       "      <th>post_author</th>\n",
       "      <th>post_date</th>\n",
       "      <th>post_date_gmt</th>\n",
       "      <th>post_modified</th>\n",
       "      <th>post_modified_gmt</th>\n",
       "    </tr>\n",
       "  </thead>\n",
       "  <tbody>\n",
       "    <tr>\n",
       "      <th>count</th>\n",
       "      <td>2.0</td>\n",
       "      <td>2.0</td>\n",
       "      <td>2</td>\n",
       "      <td>2</td>\n",
       "      <td>2</td>\n",
       "      <td>2</td>\n",
       "    </tr>\n",
       "    <tr>\n",
       "      <th>mean</th>\n",
       "      <td>0.0</td>\n",
       "      <td>2.0</td>\n",
       "      <td>2018-08-04 11:45:33</td>\n",
       "      <td>2018-08-04 09:45:33</td>\n",
       "      <td>2019-11-02 13:24:08</td>\n",
       "      <td>2019-11-02 12:24:08</td>\n",
       "    </tr>\n",
       "    <tr>\n",
       "      <th>min</th>\n",
       "      <td>0.0</td>\n",
       "      <td>2.0</td>\n",
       "      <td>2018-07-31 12:07:23</td>\n",
       "      <td>2018-07-31 10:07:23</td>\n",
       "      <td>2019-11-02 13:24:01</td>\n",
       "      <td>2019-11-02 12:24:01</td>\n",
       "    </tr>\n",
       "    <tr>\n",
       "      <th>25%</th>\n",
       "      <td>0.0</td>\n",
       "      <td>2.0</td>\n",
       "      <td>2018-08-02 11:56:28</td>\n",
       "      <td>2018-08-02 09:56:28</td>\n",
       "      <td>2019-11-02 13:24:04.500000</td>\n",
       "      <td>2019-11-02 12:24:04.500000</td>\n",
       "    </tr>\n",
       "    <tr>\n",
       "      <th>50%</th>\n",
       "      <td>0.0</td>\n",
       "      <td>2.0</td>\n",
       "      <td>2018-08-04 11:45:33</td>\n",
       "      <td>2018-08-04 09:45:33</td>\n",
       "      <td>2019-11-02 13:24:08</td>\n",
       "      <td>2019-11-02 12:24:08</td>\n",
       "    </tr>\n",
       "    <tr>\n",
       "      <th>75%</th>\n",
       "      <td>0.0</td>\n",
       "      <td>2.0</td>\n",
       "      <td>2018-08-06 11:34:38</td>\n",
       "      <td>2018-08-06 09:34:38</td>\n",
       "      <td>2019-11-02 13:24:11.500000</td>\n",
       "      <td>2019-11-02 12:24:11.500000</td>\n",
       "    </tr>\n",
       "    <tr>\n",
       "      <th>max</th>\n",
       "      <td>0.0</td>\n",
       "      <td>2.0</td>\n",
       "      <td>2018-08-08 11:23:43</td>\n",
       "      <td>2018-08-08 09:23:43</td>\n",
       "      <td>2019-11-02 13:24:15</td>\n",
       "      <td>2019-11-02 12:24:15</td>\n",
       "    </tr>\n",
       "    <tr>\n",
       "      <th>std</th>\n",
       "      <td>0.0</td>\n",
       "      <td>0.0</td>\n",
       "      <td>NaN</td>\n",
       "      <td>NaN</td>\n",
       "      <td>NaN</td>\n",
       "      <td>NaN</td>\n",
       "    </tr>\n",
       "  </tbody>\n",
       "</table>\n",
       "</div>"
      ],
      "text/plain": [
       "       total_sales  post_author            post_date        post_date_gmt  \\\n",
       "count          2.0          2.0                    2                    2   \n",
       "mean           0.0          2.0  2018-08-04 11:45:33  2018-08-04 09:45:33   \n",
       "min            0.0          2.0  2018-07-31 12:07:23  2018-07-31 10:07:23   \n",
       "25%            0.0          2.0  2018-08-02 11:56:28  2018-08-02 09:56:28   \n",
       "50%            0.0          2.0  2018-08-04 11:45:33  2018-08-04 09:45:33   \n",
       "75%            0.0          2.0  2018-08-06 11:34:38  2018-08-06 09:34:38   \n",
       "max            0.0          2.0  2018-08-08 11:23:43  2018-08-08 09:23:43   \n",
       "std            0.0          0.0                  NaN                  NaN   \n",
       "\n",
       "                    post_modified           post_modified_gmt  \n",
       "count                           2                           2  \n",
       "mean          2019-11-02 13:24:08         2019-11-02 12:24:08  \n",
       "min           2019-11-02 13:24:01         2019-11-02 12:24:01  \n",
       "25%    2019-11-02 13:24:04.500000  2019-11-02 12:24:04.500000  \n",
       "50%           2019-11-02 13:24:08         2019-11-02 12:24:08  \n",
       "75%    2019-11-02 13:24:11.500000  2019-11-02 12:24:11.500000  \n",
       "max           2019-11-02 13:24:15         2019-11-02 12:24:15  \n",
       "std                           NaN                         NaN  "
      ]
     },
     "execution_count": 469,
     "metadata": {},
     "output_type": "execute_result"
    }
   ],
   "source": [
    "#Les lignes sans code article semble être toutes non renseignés\n",
    "#Pour s'en assurer réaliser les étapes suivantes:\n",
    "#1 - Créer un dataframe avec uniquement les lignes sans code article\n",
    "\n",
    "#2 - utiliser la fonction df.info() sur ce nouveau dataframe pour observer le nombre de valeur reseigner dans chacune des colonnes\n",
    "df_lignes_sans_code_article.describe()\n",
    "#3 - Que constatez-vous?"
   ]
  },
  {
   "cell_type": "code",
   "execution_count": 470,
   "id": "ff344ac8",
   "metadata": {},
   "outputs": [
    {
     "data": {
      "text/html": [
       "<div>\n",
       "<style scoped>\n",
       "    .dataframe tbody tr th:only-of-type {\n",
       "        vertical-align: middle;\n",
       "    }\n",
       "\n",
       "    .dataframe tbody tr th {\n",
       "        vertical-align: top;\n",
       "    }\n",
       "\n",
       "    .dataframe thead th {\n",
       "        text-align: right;\n",
       "    }\n",
       "</style>\n",
       "<table border=\"1\" class=\"dataframe\">\n",
       "  <thead>\n",
       "    <tr style=\"text-align: right;\">\n",
       "      <th></th>\n",
       "      <th>sku</th>\n",
       "      <th>total_sales</th>\n",
       "      <th>tax_status</th>\n",
       "      <th>post_author</th>\n",
       "      <th>post_date</th>\n",
       "      <th>post_date_gmt</th>\n",
       "      <th>post_title</th>\n",
       "      <th>post_excerpt</th>\n",
       "      <th>post_status</th>\n",
       "      <th>comment_status</th>\n",
       "      <th>ping_status</th>\n",
       "      <th>post_name</th>\n",
       "      <th>post_modified</th>\n",
       "      <th>post_modified_gmt</th>\n",
       "      <th>guid</th>\n",
       "      <th>post_type</th>\n",
       "      <th>post_mime_type</th>\n",
       "    </tr>\n",
       "  </thead>\n",
       "  <tbody>\n",
       "    <tr>\n",
       "      <th>0</th>\n",
       "      <td>bon-cadeau-25-euros</td>\n",
       "      <td>10.0</td>\n",
       "      <td>taxable</td>\n",
       "      <td>1.0</td>\n",
       "      <td>2018-06-01 13:53:46</td>\n",
       "      <td>2018-06-01 11:53:46</td>\n",
       "      <td>Bon cadeau de 25€</td>\n",
       "      <td>&lt;span style=\"color: #a85253;\"&gt;&lt;strong&gt;Parlons ...</td>\n",
       "      <td>publish</td>\n",
       "      <td>closed</td>\n",
       "      <td>closed</td>\n",
       "      <td>bon-cadeau-de-25-euros</td>\n",
       "      <td>2018-06-01 14:13:57</td>\n",
       "      <td>2018-06-01 12:13:57</td>\n",
       "      <td>https://www.bottle-neck.fr/?post_type=product&amp;...</td>\n",
       "      <td>product</td>\n",
       "      <td>NaN</td>\n",
       "    </tr>\n",
       "    <tr>\n",
       "      <th>1</th>\n",
       "      <td>15298</td>\n",
       "      <td>6.0</td>\n",
       "      <td>taxable</td>\n",
       "      <td>2.0</td>\n",
       "      <td>2018-02-08 12:58:52</td>\n",
       "      <td>2018-02-08 11:58:52</td>\n",
       "      <td>Pierre Jean Villa Saint-Joseph Préface 2018</td>\n",
       "      <td>Il exhale un nez subtil, racé avec du poivre f...</td>\n",
       "      <td>publish</td>\n",
       "      <td>closed</td>\n",
       "      <td>closed</td>\n",
       "      <td>pierre-jean-villa-saint-joseph-preface-2018</td>\n",
       "      <td>2019-12-30 09:30:29</td>\n",
       "      <td>2019-12-30 08:30:29</td>\n",
       "      <td>https://www.bottle-neck.fr/?post_type=product&amp;...</td>\n",
       "      <td>product</td>\n",
       "      <td>NaN</td>\n",
       "    </tr>\n",
       "    <tr>\n",
       "      <th>2</th>\n",
       "      <td>15296</td>\n",
       "      <td>0.0</td>\n",
       "      <td>taxable</td>\n",
       "      <td>2.0</td>\n",
       "      <td>2018-02-08 13:49:41</td>\n",
       "      <td>2018-02-08 12:49:41</td>\n",
       "      <td>Pierre Jean Villa Saint-Joseph Rouge Tildé 2017</td>\n",
       "      <td>Les vieilles vignes lui apportent une rare pro...</td>\n",
       "      <td>publish</td>\n",
       "      <td>closed</td>\n",
       "      <td>closed</td>\n",
       "      <td>pierre-jean-villa-saint-joseph-tilde-2017</td>\n",
       "      <td>2019-12-21 09:00:17</td>\n",
       "      <td>2019-12-21 08:00:17</td>\n",
       "      <td>https://www.bottle-neck.fr/?post_type=product&amp;...</td>\n",
       "      <td>product</td>\n",
       "      <td>NaN</td>\n",
       "    </tr>\n",
       "    <tr>\n",
       "      <th>3</th>\n",
       "      <td>15300</td>\n",
       "      <td>0.0</td>\n",
       "      <td>taxable</td>\n",
       "      <td>2.0</td>\n",
       "      <td>2018-02-08 14:08:36</td>\n",
       "      <td>2018-02-08 13:08:36</td>\n",
       "      <td>Pierre Jean Villa Crozes-Hermitage Accroche Co...</td>\n",
       "      <td>Dentelle de fruit de jeunes syrah, aux tanins ...</td>\n",
       "      <td>publish</td>\n",
       "      <td>closed</td>\n",
       "      <td>closed</td>\n",
       "      <td>pierre-jean-villa-croze-hermitage-accroche-coe...</td>\n",
       "      <td>2020-06-26 18:15:03</td>\n",
       "      <td>2020-06-26 16:15:03</td>\n",
       "      <td>https://www.bottle-neck.fr/?post_type=product&amp;...</td>\n",
       "      <td>product</td>\n",
       "      <td>NaN</td>\n",
       "    </tr>\n",
       "    <tr>\n",
       "      <th>4</th>\n",
       "      <td>19814</td>\n",
       "      <td>3.0</td>\n",
       "      <td>taxable</td>\n",
       "      <td>2.0</td>\n",
       "      <td>2018-02-09 14:01:05</td>\n",
       "      <td>2018-02-09 13:01:05</td>\n",
       "      <td>Pierre Jean Villa IGP Collines Rhodaniennes Ga...</td>\n",
       "      <td>Gamine représente tout le fruité et la gourman...</td>\n",
       "      <td>publish</td>\n",
       "      <td>closed</td>\n",
       "      <td>closed</td>\n",
       "      <td>pierre-jean-villa-igp-gamine-2018</td>\n",
       "      <td>2020-01-04 16:36:01</td>\n",
       "      <td>2020-01-04 15:36:01</td>\n",
       "      <td>https://www.bottle-neck.fr/?post_type=product&amp;...</td>\n",
       "      <td>product</td>\n",
       "      <td>NaN</td>\n",
       "    </tr>\n",
       "  </tbody>\n",
       "</table>\n",
       "</div>"
      ],
      "text/plain": [
       "                   sku  total_sales tax_status  post_author  \\\n",
       "0  bon-cadeau-25-euros         10.0    taxable          1.0   \n",
       "1                15298          6.0    taxable          2.0   \n",
       "2                15296          0.0    taxable          2.0   \n",
       "3                15300          0.0    taxable          2.0   \n",
       "4                19814          3.0    taxable          2.0   \n",
       "\n",
       "            post_date       post_date_gmt  \\\n",
       "0 2018-06-01 13:53:46 2018-06-01 11:53:46   \n",
       "1 2018-02-08 12:58:52 2018-02-08 11:58:52   \n",
       "2 2018-02-08 13:49:41 2018-02-08 12:49:41   \n",
       "3 2018-02-08 14:08:36 2018-02-08 13:08:36   \n",
       "4 2018-02-09 14:01:05 2018-02-09 13:01:05   \n",
       "\n",
       "                                          post_title  \\\n",
       "0                                  Bon cadeau de 25€   \n",
       "1        Pierre Jean Villa Saint-Joseph Préface 2018   \n",
       "2    Pierre Jean Villa Saint-Joseph Rouge Tildé 2017   \n",
       "3  Pierre Jean Villa Crozes-Hermitage Accroche Co...   \n",
       "4  Pierre Jean Villa IGP Collines Rhodaniennes Ga...   \n",
       "\n",
       "                                        post_excerpt post_status  \\\n",
       "0  <span style=\"color: #a85253;\"><strong>Parlons ...     publish   \n",
       "1  Il exhale un nez subtil, racé avec du poivre f...     publish   \n",
       "2  Les vieilles vignes lui apportent une rare pro...     publish   \n",
       "3  Dentelle de fruit de jeunes syrah, aux tanins ...     publish   \n",
       "4  Gamine représente tout le fruité et la gourman...     publish   \n",
       "\n",
       "  comment_status ping_status  \\\n",
       "0         closed      closed   \n",
       "1         closed      closed   \n",
       "2         closed      closed   \n",
       "3         closed      closed   \n",
       "4         closed      closed   \n",
       "\n",
       "                                           post_name       post_modified  \\\n",
       "0                             bon-cadeau-de-25-euros 2018-06-01 14:13:57   \n",
       "1        pierre-jean-villa-saint-joseph-preface-2018 2019-12-30 09:30:29   \n",
       "2          pierre-jean-villa-saint-joseph-tilde-2017 2019-12-21 09:00:17   \n",
       "3  pierre-jean-villa-croze-hermitage-accroche-coe... 2020-06-26 18:15:03   \n",
       "4                  pierre-jean-villa-igp-gamine-2018 2020-01-04 16:36:01   \n",
       "\n",
       "    post_modified_gmt                                               guid  \\\n",
       "0 2018-06-01 12:13:57  https://www.bottle-neck.fr/?post_type=product&...   \n",
       "1 2019-12-30 08:30:29  https://www.bottle-neck.fr/?post_type=product&...   \n",
       "2 2019-12-21 08:00:17  https://www.bottle-neck.fr/?post_type=product&...   \n",
       "3 2020-06-26 16:15:03  https://www.bottle-neck.fr/?post_type=product&...   \n",
       "4 2020-01-04 15:36:01  https://www.bottle-neck.fr/?post_type=product&...   \n",
       "\n",
       "  post_type post_mime_type  \n",
       "0   product            NaN  \n",
       "1   product            NaN  \n",
       "2   product            NaN  \n",
       "3   product            NaN  \n",
       "4   product            NaN  "
      ]
     },
     "execution_count": 470,
     "metadata": {},
     "output_type": "execute_result"
    }
   ],
   "source": [
    "df_web = df_web[~df_web['sku'].isnull()]\n",
    "\n",
    "df_web.head()"
   ]
  },
  {
   "cell_type": "code",
   "execution_count": 471,
   "id": "1b965d06",
   "metadata": {},
   "outputs": [
    {
     "name": "stdout",
     "output_type": "stream",
     "text": [
      "(1428, 17)\n",
      "                   sku  total_sales tax_status  post_author  \\\n",
      "0  bon-cadeau-25-euros         10.0    taxable          1.0   \n",
      "1                15298          6.0    taxable          2.0   \n",
      "2                15296          0.0    taxable          2.0   \n",
      "3                15300          0.0    taxable          2.0   \n",
      "4                19814          3.0    taxable          2.0   \n",
      "\n",
      "            post_date       post_date_gmt  \\\n",
      "0 2018-06-01 13:53:46 2018-06-01 11:53:46   \n",
      "1 2018-02-08 12:58:52 2018-02-08 11:58:52   \n",
      "2 2018-02-08 13:49:41 2018-02-08 12:49:41   \n",
      "3 2018-02-08 14:08:36 2018-02-08 13:08:36   \n",
      "4 2018-02-09 14:01:05 2018-02-09 13:01:05   \n",
      "\n",
      "                                          post_title  \\\n",
      "0                                  Bon cadeau de 25€   \n",
      "1        Pierre Jean Villa Saint-Joseph Préface 2018   \n",
      "2    Pierre Jean Villa Saint-Joseph Rouge Tildé 2017   \n",
      "3  Pierre Jean Villa Crozes-Hermitage Accroche Co...   \n",
      "4  Pierre Jean Villa IGP Collines Rhodaniennes Ga...   \n",
      "\n",
      "                                        post_excerpt post_status  \\\n",
      "0  <span style=\"color: #a85253;\"><strong>Parlons ...     publish   \n",
      "1  Il exhale un nez subtil, racé avec du poivre f...     publish   \n",
      "2  Les vieilles vignes lui apportent une rare pro...     publish   \n",
      "3  Dentelle de fruit de jeunes syrah, aux tanins ...     publish   \n",
      "4  Gamine représente tout le fruité et la gourman...     publish   \n",
      "\n",
      "  comment_status ping_status  \\\n",
      "0         closed      closed   \n",
      "1         closed      closed   \n",
      "2         closed      closed   \n",
      "3         closed      closed   \n",
      "4         closed      closed   \n",
      "\n",
      "                                           post_name       post_modified  \\\n",
      "0                             bon-cadeau-de-25-euros 2018-06-01 14:13:57   \n",
      "1        pierre-jean-villa-saint-joseph-preface-2018 2019-12-30 09:30:29   \n",
      "2          pierre-jean-villa-saint-joseph-tilde-2017 2019-12-21 09:00:17   \n",
      "3  pierre-jean-villa-croze-hermitage-accroche-coe... 2020-06-26 18:15:03   \n",
      "4                  pierre-jean-villa-igp-gamine-2018 2020-01-04 16:36:01   \n",
      "\n",
      "    post_modified_gmt                                               guid  \\\n",
      "0 2018-06-01 12:13:57  https://www.bottle-neck.fr/?post_type=product&...   \n",
      "1 2019-12-30 08:30:29  https://www.bottle-neck.fr/?post_type=product&...   \n",
      "2 2019-12-21 08:00:17  https://www.bottle-neck.fr/?post_type=product&...   \n",
      "3 2020-06-26 16:15:03  https://www.bottle-neck.fr/?post_type=product&...   \n",
      "4 2020-01-04 15:36:01  https://www.bottle-neck.fr/?post_type=product&...   \n",
      "\n",
      "  post_type post_mime_type  \n",
      "0   product            NaN  \n",
      "1   product            NaN  \n",
      "2   product            NaN  \n",
      "3   product            NaN  \n",
      "4   product            NaN  \n"
     ]
    },
    {
     "data": {
      "text/plain": [
       "array(['bon-cadeau-25-euros', 15298, 15296, 15300, 19814, 19815, 15303,\n",
       "       14975, 16042, 14980, 16041, 15269, 14977, 16044, 16043, 16449,\n",
       "       16045, 16030, 13127, 19816, 16029, 16039, 16318, 16275, 16498,\n",
       "       16320, 16319, 15966, 15022, 15967, 15490, 16416, 11862, 15444,\n",
       "       15953, 12045, 13074, 15941, 16069, 13072, 15440, 13435, 13078,\n",
       "       13117, 16296, 16014, 16462, 16013, 16180, 15676, 16120, 15564,\n",
       "       15675, 15378, 15813, 13416, 14905, 15767, 16505, 15683, 16504,\n",
       "       15787, 14800, 15353, 15382, 15339, 11668, 13209, 15341, 13217, 304,\n",
       "       11641, 1662, 1360, 15648, 1364, 7086, 1366, 15140, 16238, 16237,\n",
       "       15141, 14944, 14941, 14751, 16093, 15668, 15373, 15375, 14474,\n",
       "       15482, 13453, 15075, 16124, 15785, 15784, 15786, 14332, 16210,\n",
       "       16211, 16209, 15629, 15583, 16160, 16166, 15783, 16560, 15747,\n",
       "       15746, 16190, 16189, 16265, 16191, 16263, 15605, 16529, 15441,\n",
       "       13032, 16256, 16322, 16295, 15656, 15655, 15415, 15414, 15413,\n",
       "       16023, 16024, 15720, 15714, 15717, 15718, 15480, 15213, 15672,\n",
       "       12599, 15758, 15829, 15759, 16585, 15306, 16497, 15261, 12657,\n",
       "       15403, 15461, 16269, 13905, 16567, 15436, 14725, 15310, 15770,\n",
       "       16097, 15428, 15033, 16317, 15032, 6616, 12203, 14253, 12476,\n",
       "       14485, 14945, 15662, 15663, 15664, 15665, 15136, 16537, 16307,\n",
       "       16244, 15839, 13460, 13089, 12942, 14864, 14527, 14865, 15690,\n",
       "       16330, 16154, 16153, 16066, 16065, 15292, 16246, 16501, 16578,\n",
       "       15567, 16553, 13172, 15120, 15949, 15946, 7818, 13599, 4679, 12586,\n",
       "       12588, 15940, 12587, 12589, 12585, 9562, 13854, 13853, 11585,\n",
       "       11467, 11586, 13765, 13766, 11587, 9636, 12639, 12641, 12640,\n",
       "       14768, 3506, 3510, 3507, 13230, 7819, 3509, 15426, 15621, 15457,\n",
       "       13604, 12857, 15476, 14000, 15478, 15475, 16151, 15659, 15147,\n",
       "       15660, 15148, 15149, 15146, 15145, 15801, 15452, 15038, 15030,\n",
       "       15875, 16186, 14371, 10459, 14372, 11049, 15850, 15849, 812, 807,\n",
       "       805, 802, 2534, 793, 791, 2179, 804, 41, 798, 2361, 15848, 16525,\n",
       "       16262, 16261, 15206, 11849, 13515, 13514, 13516, 10814, 11847,\n",
       "       13517, 16081, 15402, 15404, 13647, 14657, 16053, 15525, 15527,\n",
       "       14676, 16057, 16056, 13762, 15280, 15282, 15281, 15283, 15934,\n",
       "       15933, 15575, 16239, 14451, 16324, 15582, 13736, 13659, 15465,\n",
       "       15004, 14699, 15349, 15466, 14700, 10775, 16119, 15667, 14746,\n",
       "       15361, 15196, 15657, 15658, 15670, 16527, 16513, 15880, 15879,\n",
       "       16010, 14950, 16540, 15729, 38, 5646, 8344, 15576, 16138, 14366,\n",
       "       13412, 14632, 15315, 13627, 14184, 15429, 16132, 14680, 15859,\n",
       "       16229, 14302, 16072, 14300, 13096, 16564, 13754, 15734, 15448,\n",
       "       15881, 15731, 15316, 15732, 14599, 15733, 15730, 12771, 3568,\n",
       "       14506, 15811, 16342, 16292, 15307, 16047, 16255, 16274, 16148,\n",
       "       16149, 16289, 14981, 15773, 15776, 16037, 16038, 15807, 15952,\n",
       "       15808, 16062, 16063, 14802, 13052, 14805, 14220, 14374, 14395,\n",
       "       15614, 13809, 15612, 13814, 15613, 15615, 15533, 15531, 15530,\n",
       "       15928, 16276, 16277, 15456, 15425, 15047, 15927, 16155, 16280,\n",
       "       9937, 16281, 15554, 15106, 16283, 13379, 15338, 15337, 15737,\n",
       "       15958, 16515, 16586, 11225, 16004, 14756, 16005, 14930, 13313,\n",
       "       15229, 14507, 14509, 14508, 15868, 14581, 14580, 15869, 15871,\n",
       "       15870, 12791, 11602, 15073, 14839, 14696, 11996, 13914, 13913,\n",
       "       11997, 531, 13531, 15711, 15713, 15715, 15346, 15345, 15344, 15755,\n",
       "       15677, 14561, 16022, 16011, 3383, 14149, 13904, 14141, 12494,\n",
       "       15462, 15095, 14626, 12496, 12315, 15649, 14809, 15155, 12194,\n",
       "       16328, 14469, 16034, 14679, 15526, 16305, 16306, 15138, 15753,\n",
       "       15756, 16131, 16130, 16129, 14712, 15481, 16146, 14192, 15860,\n",
       "       15863, 15861, 15862, 15864, 14819, 14828, 14827, 15202, 13959,\n",
       "       13965, 13958, 13957, 13520, 13969, 19820, 19821, 15748, 19822,\n",
       "       16192, 14729, 8463, 13982, 15944, 15930, 14912, 15945, 14915,\n",
       "       14855, 14856, 15923, 14845, 14844, 15921, 15922, 12366, 8365,\n",
       "       12365, 14647, 15812, 14661, 16304, 15797, 16094, 14736, 11736,\n",
       "       15036, 15360, 15674, 13557, 15035, 16121, 14241, 14982, 15026,\n",
       "       15116, 15369, 15566, 16003, 15127, 15125, 14323, 15631, 16147,\n",
       "       7033, 11258, 13849, 15818, 15179, 15185, 15183, 15254, 15178,\n",
       "       15184, 15180, 15264, 14338, 15561, 16213, 14692, 13291, 13895,\n",
       "       15688, 14461, 11277, 15399, 13572, 14955, 13567, 15471, 15080,\n",
       "       14429, 15238, 15237, 14600, 15241, 11933, 15240, 15325, 15328,\n",
       "       15329, 15775, 15774, 14983, 13910, 16539, 15910, 12339, 12869,\n",
       "       14095, 14099, 15856, 12881, 15857, 12882, 15227, 10014, 14265,\n",
       "       14774, 14775, 14773, 15343, 15351, 16323, 523, 15432, 16472, 15895,\n",
       "       15577, 15766, 15892, 16326, 15574, 13662, 11669, 13215, 13211,\n",
       "       15342, 15318, 13073, 16159, 16264, 14899, 15134, 16133, 16028,\n",
       "       15951, 15487, 15486, 15489, 14089, 14100, 14092, 14090, 14106,\n",
       "       14101, 14797, 15201, 14923, 14573, 14569, 14570, 15834, 14596,\n",
       "       15126, 14604, 16565, 16580, 16077, 13996, 15072, 11601, 12790,\n",
       "       15070, 16096, 7032, 15324, 15162, 15161, 15163, 16273, 16247,\n",
       "       15654, 15710, 15745, 15678, 15810, 15779, 15707, 15705, 15706,\n",
       "       15704, 15473, 15479, 15647, 15769, 15434, 15764, 16071, 15781,\n",
       "       16031, 15539, 16046, 15204, 15205, 15790, 15791, 15792, 15793,\n",
       "       15795, 15794, 15763, 16152, 15661, 16068, 16067, 8193, 16144,\n",
       "       15256, 15735, 14897, 15736, 15740, 15845, 15741, 16135, 15891,\n",
       "       15887, '13127-1', 16230], dtype=object)"
      ]
     },
     "execution_count": 471,
     "metadata": {},
     "output_type": "execute_result"
    }
   ],
   "source": [
    "#Visualisation des valeurs de la colonne sku\n",
    "#Quelles sont les valeurs qui ne semblent pas respecter la régle de codification?\n",
    "print(df_web.shape)\n",
    "\n",
    "print(df_web.head())\n",
    "\n",
    "df_web['sku'].unique()\n",
    "\n",
    "# bon-cadeau-25-euros, 13127-1"
   ]
  },
  {
   "cell_type": "code",
   "execution_count": 472,
   "id": "1226dcfd",
   "metadata": {},
   "outputs": [
    {
     "name": "stdout",
     "output_type": "stream",
     "text": [
      "Les codes articles ne respectant pas la régle de codification:\n",
      "                      sku  total_sales tax_status  post_author  \\\n",
      "0     bon-cadeau-25-euros         10.0    taxable          1.0   \n",
      "797               13127-1          0.0    taxable          2.0   \n",
      "1209  bon-cadeau-25-euros         10.0        NaN          1.0   \n",
      "1511              13127-1          0.0        NaN          2.0   \n",
      "\n",
      "               post_date       post_date_gmt  \\\n",
      "0    2018-06-01 13:53:46 2018-06-01 11:53:46   \n",
      "797  2020-06-09 15:42:04 2020-06-09 13:42:04   \n",
      "1209 2018-06-01 13:53:46 2018-06-01 11:53:46   \n",
      "1511 2020-06-09 15:42:04 2020-06-09 13:42:04   \n",
      "\n",
      "                                        post_title  \\\n",
      "0                                Bon cadeau de 25€   \n",
      "797   Clos du Mont-Olivet Châteauneuf-du-Pape 2007   \n",
      "1209                             Bon cadeau de 25€   \n",
      "1511  Clos du Mont-Olivet Châteauneuf-du-Pape 2007   \n",
      "\n",
      "                                           post_excerpt post_status  \\\n",
      "0     <span style=\"color: #a85253;\"><strong>Parlons ...     publish   \n",
      "797   Nez gracieux, très élégant avec une touche flo...     publish   \n",
      "1209                                                NaN     publish   \n",
      "1511                                                NaN     publish   \n",
      "\n",
      "     comment_status ping_status  \\\n",
      "0            closed      closed   \n",
      "797          closed      closed   \n",
      "1209         closed      closed   \n",
      "1511         closed      closed   \n",
      "\n",
      "                                           post_name       post_modified  \\\n",
      "0                             bon-cadeau-de-25-euros 2018-06-01 14:13:57   \n",
      "797   clos-du-mont-olivet-chateauneuf-du-pape-2007-2 2020-07-20 17:09:06   \n",
      "1209                          bon-cadeau-de-25-euros 2018-06-01 14:13:57   \n",
      "1511  clos-du-mont-olivet-chateauneuf-du-pape-2007-2 2020-07-20 17:09:06   \n",
      "\n",
      "       post_modified_gmt                                               guid  \\\n",
      "0    2018-06-01 12:13:57  https://www.bottle-neck.fr/?post_type=product&...   \n",
      "797  2020-07-20 15:09:06  https://www.bottle-neck.fr/?post_type=product&...   \n",
      "1209 2018-06-01 12:13:57  https://www.bottle-neck.fr/wp-content/uploads/...   \n",
      "1511 2020-07-20 15:09:06  https://www.bottle-neck.fr/wp-content/uploads/...   \n",
      "\n",
      "       post_type post_mime_type  \n",
      "0        product            NaN  \n",
      "797      product            NaN  \n",
      "1209  attachment     image/jpeg  \n",
      "1511  attachment     image/jpeg  \n"
     ]
    }
   ],
   "source": [
    "#Si vous avez identifié des codes articles ne respectant pas la régle de codification, consultez-les?\n",
    "valeurs_souhaitees = ['bon-cadeau-25-euros', '13127-1']\n",
    "lignes_correspondantes = df_web[df_web['sku'].isin(valeurs_souhaitees)]\n",
    "\n",
    "print(\"Les codes articles ne respectant pas la régle de codification:\")\n",
    "print(lignes_correspondantes)"
   ]
  },
  {
   "cell_type": "code",
   "execution_count": 473,
   "id": "967495da",
   "metadata": {},
   "outputs": [],
   "source": [
    "#Pour les codes articles identifiés, réalisé une analyse et définissez l'action à entreprendre\n",
    "\n",
    "# Supprimer les lignes avec les valeurs spécifiques dans la colonne 'sku'\n",
    "valeurs_a_supprimer = ['bon-cadeau-25-euros', '13127-1']\n",
    "df_web = df_web[~df_web['sku'].isin(valeurs_a_supprimer)]"
   ]
  },
  {
   "cell_type": "code",
   "execution_count": 474,
   "id": "27bf30de",
   "metadata": {},
   "outputs": [
    {
     "data": {
      "text/html": [
       "<div>\n",
       "<style scoped>\n",
       "    .dataframe tbody tr th:only-of-type {\n",
       "        vertical-align: middle;\n",
       "    }\n",
       "\n",
       "    .dataframe tbody tr th {\n",
       "        vertical-align: top;\n",
       "    }\n",
       "\n",
       "    .dataframe thead th {\n",
       "        text-align: right;\n",
       "    }\n",
       "</style>\n",
       "<table border=\"1\" class=\"dataframe\">\n",
       "  <thead>\n",
       "    <tr style=\"text-align: right;\">\n",
       "      <th></th>\n",
       "      <th>sku</th>\n",
       "      <th>total_sales</th>\n",
       "      <th>tax_status</th>\n",
       "      <th>post_author</th>\n",
       "      <th>post_date</th>\n",
       "      <th>post_date_gmt</th>\n",
       "      <th>post_title</th>\n",
       "      <th>post_excerpt</th>\n",
       "      <th>post_status</th>\n",
       "      <th>comment_status</th>\n",
       "      <th>ping_status</th>\n",
       "      <th>post_name</th>\n",
       "      <th>post_modified</th>\n",
       "      <th>post_modified_gmt</th>\n",
       "      <th>guid</th>\n",
       "      <th>post_type</th>\n",
       "      <th>post_mime_type</th>\n",
       "    </tr>\n",
       "  </thead>\n",
       "  <tbody>\n",
       "    <tr>\n",
       "      <th>1</th>\n",
       "      <td>15298</td>\n",
       "      <td>6.0</td>\n",
       "      <td>taxable</td>\n",
       "      <td>2.0</td>\n",
       "      <td>2018-02-08 12:58:52</td>\n",
       "      <td>2018-02-08 11:58:52</td>\n",
       "      <td>Pierre Jean Villa Saint-Joseph Préface 2018</td>\n",
       "      <td>Il exhale un nez subtil, racé avec du poivre f...</td>\n",
       "      <td>publish</td>\n",
       "      <td>closed</td>\n",
       "      <td>closed</td>\n",
       "      <td>pierre-jean-villa-saint-joseph-preface-2018</td>\n",
       "      <td>2019-12-30 09:30:29</td>\n",
       "      <td>2019-12-30 08:30:29</td>\n",
       "      <td>https://www.bottle-neck.fr/?post_type=product&amp;...</td>\n",
       "      <td>product</td>\n",
       "      <td>NaN</td>\n",
       "    </tr>\n",
       "    <tr>\n",
       "      <th>2</th>\n",
       "      <td>15296</td>\n",
       "      <td>0.0</td>\n",
       "      <td>taxable</td>\n",
       "      <td>2.0</td>\n",
       "      <td>2018-02-08 13:49:41</td>\n",
       "      <td>2018-02-08 12:49:41</td>\n",
       "      <td>Pierre Jean Villa Saint-Joseph Rouge Tildé 2017</td>\n",
       "      <td>Les vieilles vignes lui apportent une rare pro...</td>\n",
       "      <td>publish</td>\n",
       "      <td>closed</td>\n",
       "      <td>closed</td>\n",
       "      <td>pierre-jean-villa-saint-joseph-tilde-2017</td>\n",
       "      <td>2019-12-21 09:00:17</td>\n",
       "      <td>2019-12-21 08:00:17</td>\n",
       "      <td>https://www.bottle-neck.fr/?post_type=product&amp;...</td>\n",
       "      <td>product</td>\n",
       "      <td>NaN</td>\n",
       "    </tr>\n",
       "    <tr>\n",
       "      <th>3</th>\n",
       "      <td>15300</td>\n",
       "      <td>0.0</td>\n",
       "      <td>taxable</td>\n",
       "      <td>2.0</td>\n",
       "      <td>2018-02-08 14:08:36</td>\n",
       "      <td>2018-02-08 13:08:36</td>\n",
       "      <td>Pierre Jean Villa Crozes-Hermitage Accroche Co...</td>\n",
       "      <td>Dentelle de fruit de jeunes syrah, aux tanins ...</td>\n",
       "      <td>publish</td>\n",
       "      <td>closed</td>\n",
       "      <td>closed</td>\n",
       "      <td>pierre-jean-villa-croze-hermitage-accroche-coe...</td>\n",
       "      <td>2020-06-26 18:15:03</td>\n",
       "      <td>2020-06-26 16:15:03</td>\n",
       "      <td>https://www.bottle-neck.fr/?post_type=product&amp;...</td>\n",
       "      <td>product</td>\n",
       "      <td>NaN</td>\n",
       "    </tr>\n",
       "    <tr>\n",
       "      <th>4</th>\n",
       "      <td>19814</td>\n",
       "      <td>3.0</td>\n",
       "      <td>taxable</td>\n",
       "      <td>2.0</td>\n",
       "      <td>2018-02-09 14:01:05</td>\n",
       "      <td>2018-02-09 13:01:05</td>\n",
       "      <td>Pierre Jean Villa IGP Collines Rhodaniennes Ga...</td>\n",
       "      <td>Gamine représente tout le fruité et la gourman...</td>\n",
       "      <td>publish</td>\n",
       "      <td>closed</td>\n",
       "      <td>closed</td>\n",
       "      <td>pierre-jean-villa-igp-gamine-2018</td>\n",
       "      <td>2020-01-04 16:36:01</td>\n",
       "      <td>2020-01-04 15:36:01</td>\n",
       "      <td>https://www.bottle-neck.fr/?post_type=product&amp;...</td>\n",
       "      <td>product</td>\n",
       "      <td>NaN</td>\n",
       "    </tr>\n",
       "    <tr>\n",
       "      <th>5</th>\n",
       "      <td>19815</td>\n",
       "      <td>0.0</td>\n",
       "      <td>taxable</td>\n",
       "      <td>2.0</td>\n",
       "      <td>2018-02-12 09:04:37</td>\n",
       "      <td>2018-02-12 08:04:37</td>\n",
       "      <td>Pierre Jean Villa Côte Rôtie Carmina 2017</td>\n",
       "      <td>Le côte rôtie Carmina monte en puissance mais ...</td>\n",
       "      <td>publish</td>\n",
       "      <td>closed</td>\n",
       "      <td>closed</td>\n",
       "      <td>pierre-jean-villa-cote-rotie-carmina-2017</td>\n",
       "      <td>2020-01-04 16:36:10</td>\n",
       "      <td>2020-01-04 15:36:10</td>\n",
       "      <td>https://www.bottle-neck.fr/?post_type=product&amp;...</td>\n",
       "      <td>product</td>\n",
       "      <td>NaN</td>\n",
       "    </tr>\n",
       "  </tbody>\n",
       "</table>\n",
       "</div>"
      ],
      "text/plain": [
       "     sku  total_sales tax_status  post_author           post_date  \\\n",
       "1  15298          6.0    taxable          2.0 2018-02-08 12:58:52   \n",
       "2  15296          0.0    taxable          2.0 2018-02-08 13:49:41   \n",
       "3  15300          0.0    taxable          2.0 2018-02-08 14:08:36   \n",
       "4  19814          3.0    taxable          2.0 2018-02-09 14:01:05   \n",
       "5  19815          0.0    taxable          2.0 2018-02-12 09:04:37   \n",
       "\n",
       "        post_date_gmt                                         post_title  \\\n",
       "1 2018-02-08 11:58:52        Pierre Jean Villa Saint-Joseph Préface 2018   \n",
       "2 2018-02-08 12:49:41    Pierre Jean Villa Saint-Joseph Rouge Tildé 2017   \n",
       "3 2018-02-08 13:08:36  Pierre Jean Villa Crozes-Hermitage Accroche Co...   \n",
       "4 2018-02-09 13:01:05  Pierre Jean Villa IGP Collines Rhodaniennes Ga...   \n",
       "5 2018-02-12 08:04:37          Pierre Jean Villa Côte Rôtie Carmina 2017   \n",
       "\n",
       "                                        post_excerpt post_status  \\\n",
       "1  Il exhale un nez subtil, racé avec du poivre f...     publish   \n",
       "2  Les vieilles vignes lui apportent une rare pro...     publish   \n",
       "3  Dentelle de fruit de jeunes syrah, aux tanins ...     publish   \n",
       "4  Gamine représente tout le fruité et la gourman...     publish   \n",
       "5  Le côte rôtie Carmina monte en puissance mais ...     publish   \n",
       "\n",
       "  comment_status ping_status  \\\n",
       "1         closed      closed   \n",
       "2         closed      closed   \n",
       "3         closed      closed   \n",
       "4         closed      closed   \n",
       "5         closed      closed   \n",
       "\n",
       "                                           post_name       post_modified  \\\n",
       "1        pierre-jean-villa-saint-joseph-preface-2018 2019-12-30 09:30:29   \n",
       "2          pierre-jean-villa-saint-joseph-tilde-2017 2019-12-21 09:00:17   \n",
       "3  pierre-jean-villa-croze-hermitage-accroche-coe... 2020-06-26 18:15:03   \n",
       "4                  pierre-jean-villa-igp-gamine-2018 2020-01-04 16:36:01   \n",
       "5          pierre-jean-villa-cote-rotie-carmina-2017 2020-01-04 16:36:10   \n",
       "\n",
       "    post_modified_gmt                                               guid  \\\n",
       "1 2019-12-30 08:30:29  https://www.bottle-neck.fr/?post_type=product&...   \n",
       "2 2019-12-21 08:00:17  https://www.bottle-neck.fr/?post_type=product&...   \n",
       "3 2020-06-26 16:15:03  https://www.bottle-neck.fr/?post_type=product&...   \n",
       "4 2020-01-04 15:36:01  https://www.bottle-neck.fr/?post_type=product&...   \n",
       "5 2020-01-04 15:36:10  https://www.bottle-neck.fr/?post_type=product&...   \n",
       "\n",
       "  post_type post_mime_type  \n",
       "1   product            NaN  \n",
       "2   product            NaN  \n",
       "3   product            NaN  \n",
       "4   product            NaN  \n",
       "5   product            NaN  "
      ]
     },
     "execution_count": 474,
     "metadata": {},
     "output_type": "execute_result"
    }
   ],
   "source": [
    "# #La clé pour chaque ligne est-elle uniques? ou autrement dit, y a-t-il des doublons?\n",
    "doublons_sku = df_web[df_web.duplicated(subset='sku', keep=False)]\n",
    "\n",
    "# if not doublons_sku.empty:\n",
    "#     print(\"Les lignes en doublons dans la colonne 'sku' sont :\")\n",
    "#     print(doublons_sku)\n",
    "# else:\n",
    "#     print(\"Aucune ligne en doublons dans la colonne 'sku'.\")\n",
    "\n",
    "# df_web[df_web[\"sku\"] == 15298]\n",
    "\n",
    "doublons_sku.head()"
   ]
  },
  {
   "cell_type": "code",
   "execution_count": 475,
   "id": "5927e75c",
   "metadata": {},
   "outputs": [],
   "source": [
    "valeurs_a_supprimer = ['attachment']\n",
    "df_web = df_web[df_web['post_type'].isin(valeurs_a_supprimer)]"
   ]
  },
  {
   "cell_type": "code",
   "execution_count": 476,
   "id": "52f23f1a",
   "metadata": {},
   "outputs": [
    {
     "name": "stdout",
     "output_type": "stream",
     "text": [
      "Aucune ligne en doublons dans la colonne 'sku'.\n",
      "Aucune ligne sans code article dans la colonne 'sku'.\n",
      "Dimension du fichier df_web après le nettoyage :  (712, 17)\n"
     ]
    }
   ],
   "source": [
    "# Vérification après le nettoyage  \n",
    "  \n",
    "doublons_sku = df_web[df_web.duplicated(subset='sku', keep=False)]\n",
    "\n",
    "if not doublons_sku.empty:\n",
    "    print(\"Les lignes en doublons dans la colonne 'sku' sont :\")\n",
    "    print(doublons_sku)\n",
    "else:\n",
    "    print(\"Aucune ligne en doublons dans la colonne 'sku'.\")\n",
    "\n",
    "df_lignes_sans_code_article = df_web[df_web['sku'].isnull()]\n",
    "\n",
    "if not df_lignes_sans_code_article.empty:\n",
    "    print(\"Les lignes sans code article sont :\")\n",
    "    print(doublons_sku)\n",
    "else:\n",
    "    print(\"Aucune ligne sans code article dans la colonne 'sku'.\")\n",
    "\n",
    "#Dimension du fichier df_web après le nettoyage\n",
    "\n",
    "print('Dimension du fichier df_web après le nettoyage : ', df_web.shape)"
   ]
  },
  {
   "cell_type": "markdown",
   "id": "dbff6403",
   "metadata": {},
   "source": [
    "<div style=\"border: 1px solid RGB(51,165,182);\" >\n",
    "<h3 style=\"margin: auto; padding: 20px; color: RGB(51,165,182); \">2.3 - Analyse exploratoire du fichier liaison.xlsx</h3>\n",
    "</div>"
   ]
  },
  {
   "cell_type": "code",
   "execution_count": 477,
   "id": "de426b74",
   "metadata": {},
   "outputs": [
    {
     "name": "stdout",
     "output_type": "stream",
     "text": [
      "Le tableau comporte 825 observation(s) ou article(s)\n",
      "Le tableau comporte 2 colonne(s)\n"
     ]
    }
   ],
   "source": [
    "#Dimension du dataset\n",
    "#Nombre d'observations\n",
    "print(\"Le tableau comporte {} observation(s) ou article(s)\".format(df_liaison.shape[0]))\n",
    "print(\"Le tableau comporte {} colonne(s)\".format(df_liaison.shape[1]))\n",
    "\n",
    "#Nombre de caractéristiques\n"
   ]
  },
  {
   "cell_type": "code",
   "execution_count": 478,
   "id": "9834ae33",
   "metadata": {},
   "outputs": [
    {
     "name": "stdout",
     "output_type": "stream",
     "text": [
      "product_id     int64\n",
      "id_web        object\n",
      "dtype: object\n",
      "product_id    825\n",
      "id_web        734\n",
      "dtype: int64\n"
     ]
    }
   ],
   "source": [
    "#Consulter le nombre de colonnes\n",
    "#La nature des données dans chacune des colonnes\n",
    "print(df_liaison.dtypes)\n",
    "\n",
    "#Le nombre de valeurs présentes dans chacune des colonnes\n",
    "print(df_liaison.count())"
   ]
  },
  {
   "cell_type": "code",
   "execution_count": 479,
   "id": "2b30d6b2",
   "metadata": {},
   "outputs": [
    {
     "name": "stdout",
     "output_type": "stream",
     "text": [
      "Aucune ligne en doublons dans la colonne 'product_id'.\n"
     ]
    }
   ],
   "source": [
    "#Les valeurs de la colonne \"product_id\" sont elles toutes uniques?\n",
    "doublons_product_id = df_liaison[df_liaison.duplicated(subset='product_id', keep=False)]\n",
    "\n",
    "if not doublons_product_id.empty:\n",
    "    print(\"Les lignes en doublons dans la colonne 'product_id' sont :\")\n",
    "    print(doublons_product_id)\n",
    "else:\n",
    "    print(\"Aucune ligne en doublons dans la colonne 'product_id'.\")"
   ]
  },
  {
   "cell_type": "code",
   "execution_count": 480,
   "id": "4d8ca13c",
   "metadata": {},
   "outputs": [
    {
     "name": "stdout",
     "output_type": "stream",
     "text": [
      "Les lignes en doublons dans la colonne 'id_web' sont :\n",
      "     product_id id_web\n",
      "19         4055    NaN\n",
      "49         4090    NaN\n",
      "50         4092    NaN\n",
      "119        4195    NaN\n",
      "131        4209    NaN\n",
      "..          ...    ...\n",
      "817        7196    NaN\n",
      "818        7200    NaN\n",
      "819        7201    NaN\n",
      "820        7203    NaN\n",
      "821        7204    NaN\n",
      "\n",
      "[91 rows x 2 columns]\n"
     ]
    }
   ],
   "source": [
    "#Les valeurs de la colonne \"id_web\" sont-elles toutes uniques?\n",
    "doublons_id_web = df_liaison[df_liaison.duplicated(subset='id_web', keep=False)]\n",
    "\n",
    "if not doublons_id_web.empty:\n",
    "    print(\"Les lignes en doublons dans la colonne 'id_web' sont :\")\n",
    "    print(doublons_id_web)\n",
    "else:\n",
    "    print(\"Aucune ligne en doublons dans la colonne 'id_web'.\")"
   ]
  },
  {
   "cell_type": "code",
   "execution_count": 481,
   "id": "52f7c843",
   "metadata": {},
   "outputs": [
    {
     "name": "stdout",
     "output_type": "stream",
     "text": [
      "Les articles sans correspondances sont les suivantes:\n",
      "     product_id id_web\n",
      "19         4055    NaN\n",
      "49         4090    NaN\n",
      "50         4092    NaN\n",
      "119        4195    NaN\n",
      "131        4209    NaN\n",
      "..          ...    ...\n",
      "817        7196    NaN\n",
      "818        7200    NaN\n",
      "819        7201    NaN\n",
      "820        7203    NaN\n",
      "821        7204    NaN\n",
      "\n",
      "[91 rows x 2 columns]\n"
     ]
    }
   ],
   "source": [
    "#Avons-nous des articles sans correspondances?\n",
    "articles_sans_correspondances = df_liaison[df_liaison['id_web'].isnull()]\n",
    "\n",
    "print(\"Les articles sans correspondances sont les suivantes:\")\n",
    "print(articles_sans_correspondances)"
   ]
  },
  {
   "cell_type": "code",
   "execution_count": 482,
   "id": "ff0c1f2e",
   "metadata": {},
   "outputs": [],
   "source": [
    "df_liaison = df_liaison[~df_liaison['id_web'].isnull()]"
   ]
  },
  {
   "cell_type": "markdown",
   "id": "6a278ffc",
   "metadata": {},
   "source": [
    "<div style=\"border: 1px solid RGB(51,165,182);\" >\n",
    "<h3 style=\"margin: auto; padding: 20px; color: RGB(51,165,182); \">2.4 - Analyse exploratoire du fichier caracteristiques_vins.xlsx</h3>\n",
    "</div>"
   ]
  },
  {
   "cell_type": "code",
   "execution_count": 483,
   "id": "d0daa5a3",
   "metadata": {},
   "outputs": [
    {
     "name": "stdout",
     "output_type": "stream",
     "text": [
      "Le tableau comporte 611 observation(s) ou article(s)\n",
      "Le tableau comporte 13 colonne(s)\n"
     ]
    }
   ],
   "source": [
    "#Dimension du dataset\n",
    "#Nombre d'observations\n",
    "print(\"Le tableau comporte {} observation(s) ou article(s)\".format(df_caracteristiques.shape[0]))\n",
    "print(\"Le tableau comporte {} colonne(s)\".format(df_caracteristiques.shape[1]))\n",
    "#Nombre de caractéristiques\n"
   ]
  },
  {
   "cell_type": "code",
   "execution_count": 484,
   "id": "2e893258",
   "metadata": {},
   "outputs": [
    {
     "name": "stdout",
     "output_type": "stream",
     "text": [
      "post_name                   object\n",
      "poids                       object\n",
      "Région                      object\n",
      "Domaine                     object\n",
      "Appellation                 object\n",
      "Couleur                     object\n",
      "Cépage                      object\n",
      "Millésime                  float64\n",
      "Garde                       object\n",
      "Contenance                  object\n",
      "Degré d'alcool              object\n",
      "Température dégustation     object\n",
      "Alliance mets               object\n",
      "dtype: object\n",
      "post_name                  611\n",
      "poids                      611\n",
      "Région                     586\n",
      "Domaine                    577\n",
      "Appellation                559\n",
      "Couleur                    566\n",
      "Cépage                     571\n",
      "Millésime                  541\n",
      "Garde                      569\n",
      "Contenance                 611\n",
      "Degré d'alcool             586\n",
      "Température dégustation    574\n",
      "Alliance mets              574\n",
      "dtype: int64\n"
     ]
    }
   ],
   "source": [
    "#Consulter le nombre de colonnes\n",
    "#La nature des données dans chacune des colonnes\n",
    "print(df_caracteristiques.dtypes)\n",
    "#Le nombre de valeurs présentes dans chacune des colonnes\n",
    "print(df_caracteristiques.count())"
   ]
  },
  {
   "cell_type": "code",
   "execution_count": 485,
   "id": "31f1a87b",
   "metadata": {},
   "outputs": [
    {
     "data": {
      "text/html": [
       "<div>\n",
       "<style scoped>\n",
       "    .dataframe tbody tr th:only-of-type {\n",
       "        vertical-align: middle;\n",
       "    }\n",
       "\n",
       "    .dataframe tbody tr th {\n",
       "        vertical-align: top;\n",
       "    }\n",
       "\n",
       "    .dataframe thead th {\n",
       "        text-align: right;\n",
       "    }\n",
       "</style>\n",
       "<table border=\"1\" class=\"dataframe\">\n",
       "  <thead>\n",
       "    <tr style=\"text-align: right;\">\n",
       "      <th></th>\n",
       "      <th>post_name</th>\n",
       "      <th>poids</th>\n",
       "      <th>Région</th>\n",
       "      <th>Domaine</th>\n",
       "      <th>Appellation</th>\n",
       "      <th>Couleur</th>\n",
       "      <th>Cépage</th>\n",
       "      <th>Millésime</th>\n",
       "      <th>Garde</th>\n",
       "      <th>Contenance</th>\n",
       "      <th>Degré d'alcool</th>\n",
       "      <th>Température dégustation</th>\n",
       "      <th>Alliance mets</th>\n",
       "    </tr>\n",
       "  </thead>\n",
       "  <tbody>\n",
       "    <tr>\n",
       "      <th>0</th>\n",
       "      <td>pierre-jean-villa-saint-joseph-preface-2018</td>\n",
       "      <td>1.5 kg</td>\n",
       "      <td>Rhône</td>\n",
       "      <td>Pierre Jean Villa</td>\n",
       "      <td>Saint Joseph</td>\n",
       "      <td>Rouge</td>\n",
       "      <td>100% Syrah</td>\n",
       "      <td>2020.0</td>\n",
       "      <td>4-7 ans</td>\n",
       "      <td>75cl</td>\n",
       "      <td>13%</td>\n",
       "      <td>15°C</td>\n",
       "      <td>Charcuterie, Lapin, Viande rouge, Volaille</td>\n",
       "    </tr>\n",
       "    <tr>\n",
       "      <th>1</th>\n",
       "      <td>pierre-jean-villa-saint-joseph-tilde-2017</td>\n",
       "      <td>1.5 kg</td>\n",
       "      <td>Rhône</td>\n",
       "      <td>Pierre Jean Villa</td>\n",
       "      <td>Saint Joseph</td>\n",
       "      <td>Rouge</td>\n",
       "      <td>100% Syrah</td>\n",
       "      <td>2019.0</td>\n",
       "      <td>6-8 ans</td>\n",
       "      <td>75cl</td>\n",
       "      <td>13%</td>\n",
       "      <td>15°C</td>\n",
       "      <td>Charcuterie, Viande rouge, Volaille</td>\n",
       "    </tr>\n",
       "    <tr>\n",
       "      <th>2</th>\n",
       "      <td>pierre-jean-villa-croze-hermitage-accroche-coe...</td>\n",
       "      <td>1.5 kg</td>\n",
       "      <td>Rhône</td>\n",
       "      <td>Pierre Jean Villa</td>\n",
       "      <td>Crozes-Hermitage</td>\n",
       "      <td>Rouge</td>\n",
       "      <td>100% Syrah</td>\n",
       "      <td>2020.0</td>\n",
       "      <td>3-5 ans</td>\n",
       "      <td>75cl</td>\n",
       "      <td>13%</td>\n",
       "      <td>15°C</td>\n",
       "      <td>Viande rouge, Volaille</td>\n",
       "    </tr>\n",
       "    <tr>\n",
       "      <th>3</th>\n",
       "      <td>pierre-jean-villa-igp-gamine-2018</td>\n",
       "      <td>1.5 kg</td>\n",
       "      <td>Rhône</td>\n",
       "      <td>Pierre Jean Villa</td>\n",
       "      <td>Collines Rhodaniennes</td>\n",
       "      <td>Rouge</td>\n",
       "      <td>100% Syrah</td>\n",
       "      <td>2020.0</td>\n",
       "      <td>3-5 ans</td>\n",
       "      <td>75cl</td>\n",
       "      <td>13%</td>\n",
       "      <td>14°C</td>\n",
       "      <td>Charcuterie, Viande rouge, Volaille</td>\n",
       "    </tr>\n",
       "    <tr>\n",
       "      <th>4</th>\n",
       "      <td>pierre-jean-villa-cote-rotie-carmina-2017</td>\n",
       "      <td>1.5 kg</td>\n",
       "      <td>Rhône</td>\n",
       "      <td>Pierre Jean Villa</td>\n",
       "      <td>Côte Rôtie</td>\n",
       "      <td>Rouge</td>\n",
       "      <td>100% Syrah</td>\n",
       "      <td>2019.0</td>\n",
       "      <td>10-20 ans</td>\n",
       "      <td>75cl</td>\n",
       "      <td>13%</td>\n",
       "      <td>17°C</td>\n",
       "      <td>Gibier, Viande rouge</td>\n",
       "    </tr>\n",
       "  </tbody>\n",
       "</table>\n",
       "</div>"
      ],
      "text/plain": [
       "                                           post_name   poids Région  \\\n",
       "0        pierre-jean-villa-saint-joseph-preface-2018  1.5 kg  Rhône   \n",
       "1          pierre-jean-villa-saint-joseph-tilde-2017  1.5 kg  Rhône   \n",
       "2  pierre-jean-villa-croze-hermitage-accroche-coe...  1.5 kg  Rhône   \n",
       "3                  pierre-jean-villa-igp-gamine-2018  1.5 kg  Rhône   \n",
       "4          pierre-jean-villa-cote-rotie-carmina-2017  1.5 kg  Rhône   \n",
       "\n",
       "             Domaine            Appellation Couleur      Cépage  Millésime  \\\n",
       "0  Pierre Jean Villa           Saint Joseph   Rouge  100% Syrah     2020.0   \n",
       "1  Pierre Jean Villa           Saint Joseph   Rouge  100% Syrah     2019.0   \n",
       "2  Pierre Jean Villa       Crozes-Hermitage   Rouge  100% Syrah     2020.0   \n",
       "3  Pierre Jean Villa  Collines Rhodaniennes   Rouge  100% Syrah     2020.0   \n",
       "4  Pierre Jean Villa             Côte Rôtie   Rouge  100% Syrah     2019.0   \n",
       "\n",
       "       Garde Contenance Degré d'alcool Température dégustation  \\\n",
       "0    4-7 ans       75cl            13%                    15°C   \n",
       "1    6-8 ans       75cl            13%                    15°C   \n",
       "2    3-5 ans       75cl            13%                    15°C   \n",
       "3    3-5 ans       75cl            13%                    14°C   \n",
       "4  10-20 ans       75cl            13%                    17°C   \n",
       "\n",
       "                                Alliance mets  \n",
       "0  Charcuterie, Lapin, Viande rouge, Volaille  \n",
       "1         Charcuterie, Viande rouge, Volaille  \n",
       "2                      Viande rouge, Volaille  \n",
       "3         Charcuterie, Viande rouge, Volaille  \n",
       "4                        Gibier, Viande rouge  "
      ]
     },
     "execution_count": 485,
     "metadata": {},
     "output_type": "execute_result"
    }
   ],
   "source": [
    "#Affichage des 5 premières lignes du dataset\n",
    "df_caracteristiques.head()"
   ]
  },
  {
   "cell_type": "code",
   "execution_count": 486,
   "id": "6c7ede58",
   "metadata": {},
   "outputs": [
    {
     "name": "stdout",
     "output_type": "stream",
     "text": [
      "Les produits avec toutes les informations associées manquantes sont les suivants:\n",
      "                                             post_name   poids Région Domaine  \\\n",
      "192                             whisky-wemyss-the-hive  1.5 kg    NaN     NaN   \n",
      "193                         whisky-wemyss-peat-chimney  1.5 kg    NaN     NaN   \n",
      "194                           whisky-wemyss-spice-king  1.5 kg    NaN     NaN   \n",
      "195                        whisky-wemyss-vanilla-burst  1.5 kg    NaN     NaN   \n",
      "196                        whisky-wemyss-treacle-chest  1.5 kg    NaN     NaN   \n",
      "197                                  whisky-lord-elcho  1.5 kg    NaN     NaN   \n",
      "198                      whisky-wemyss-the-hive-12-ans  1.5 kg    NaN     NaN   \n",
      "199              whisky-wemyss-the-hive-batch-strength  1.5 kg    NaN     NaN   \n",
      "200          whisky-wemyss-peat-chimney-batch-strength  1.5 kg    NaN     NaN   \n",
      "201            whisky-wemyss-spice-king-batch-strength  1.5 kg    NaN     NaN   \n",
      "202                                 cognac-frapin-1270  1.5 kg    NaN     NaN   \n",
      "203                                 cognac-frapin-vsop  1.5 kg    NaN     NaN   \n",
      "204                               cognac-frapin-vip-xo  1.5 kg    NaN     NaN   \n",
      "205                         cognac-frapin-fontpinot-xo  1.5 kg    NaN     NaN   \n",
      "206          cognac-frapin-chateau-de-fontpinot-xo-1-2  1.5 kg    NaN     NaN   \n",
      "207     cognac-frapin-chateau-de-fontpinot-1989-20-ans  1.5 kg    NaN     NaN   \n",
      "208                          cognac-frapin-cigar-blend  1.5 kg    NaN     NaN   \n",
      "525              whisky-kingsbarns-lowland-single-malt  1.5 kg    NaN     NaN   \n",
      "526                   darnleys-london-dry-gin-original  1.5 kg    NaN     NaN   \n",
      "527                     darnleys-london-dry-gin-spiced  1.5 kg    NaN     NaN   \n",
      "528  wemyss-malts-single-cask-scotch-whisky-chai-ca...  1.5 kg    NaN     NaN   \n",
      "530                       cognac-normandin-mercier-vfc  1.5 kg    NaN     NaN   \n",
      "\n",
      "                         Appellation Couleur Cépage  Millésime Garde  \\\n",
      "192                              NaN     NaN    NaN        NaN   NaN   \n",
      "193                              NaN     NaN    NaN        NaN   NaN   \n",
      "194                              NaN     NaN    NaN        NaN   NaN   \n",
      "195                              NaN     NaN    NaN        NaN   NaN   \n",
      "196                              NaN     NaN    NaN        NaN   NaN   \n",
      "197                              NaN     NaN    NaN        NaN   NaN   \n",
      "198                              NaN     NaN    NaN        NaN   NaN   \n",
      "199                              NaN     NaN    NaN        NaN   NaN   \n",
      "200                              NaN     NaN    NaN        NaN   NaN   \n",
      "201                              NaN     NaN    NaN        NaN   NaN   \n",
      "202  Cognac Grande Champagne 1er Cru     NaN    NaN        NaN   NaN   \n",
      "203  Cognac Grande Champagne 1er Cru     NaN    NaN        NaN   NaN   \n",
      "204  Cognac Grande Champagne 1er Cru     NaN    NaN        NaN   NaN   \n",
      "205  Cognac Grande Champagne 1er Cru     NaN    NaN        NaN   NaN   \n",
      "206  Cognac Grande Champagne 1er Cru     NaN    NaN        NaN   NaN   \n",
      "207  Cognac Grande Champagne 1er Cru     NaN    NaN        NaN   NaN   \n",
      "208  Cognac Grande Champagne 1er Cru     NaN    NaN        NaN   NaN   \n",
      "525                              NaN     NaN    NaN        NaN   NaN   \n",
      "526                              NaN     NaN    NaN        NaN   NaN   \n",
      "527                              NaN     NaN    NaN        NaN   NaN   \n",
      "528                              NaN     NaN    NaN        NaN   NaN   \n",
      "530                           Cognac     NaN    NaN        NaN   NaN   \n",
      "\n",
      "    Contenance Degré d'alcool Température dégustation Alliance mets  \n",
      "192       70cl            46%                     NaN           NaN  \n",
      "193       70cl            46%                     NaN           NaN  \n",
      "194       70cl            46%                     NaN           NaN  \n",
      "195       70cl            46%                     NaN           NaN  \n",
      "196       70cl            46%                     NaN           NaN  \n",
      "197       70cl            40%                     NaN           NaN  \n",
      "198       70cl            40%                     NaN           NaN  \n",
      "199       70cl          54,5%                     NaN           NaN  \n",
      "200       70cl            57%                     NaN           NaN  \n",
      "201       70cl            57%                     NaN           NaN  \n",
      "202       70cl            40%                     NaN           NaN  \n",
      "203       70cl            40%                     NaN           NaN  \n",
      "204       70cl            40%                     NaN           NaN  \n",
      "205       70cl            41%                     NaN           NaN  \n",
      "206       70cl            41%                     NaN           NaN  \n",
      "207       70cl          41,3%                     NaN           NaN  \n",
      "208       70cl            40%                     NaN           NaN  \n",
      "525       70cl            46%                     NaN           NaN  \n",
      "526       70cl            40%                     NaN           NaN  \n",
      "527       70cl          42,7%                     NaN           NaN  \n",
      "528       70cl            46%                     NaN           NaN  \n",
      "530       70cl            40%                     NaN           NaN  \n"
     ]
    }
   ],
   "source": [
    "#Quels sont les produits avec des informations manquantes?\n",
    "#colonnes_a_verifer = ['Région', 'Domaine', 'Appellation', 'Couleur', 'Cépage', 'Millésime', 'Garde', 'Degré d\\'alcool', 'Température dégustation', 'Alliance mets']\n",
    "colonnes_a_verifer = ['Région' , 'Domaine']\n",
    "produits_infos_manquantes = df_caracteristiques[df_caracteristiques[colonnes_a_verifer].isnull().all(axis=1)]\n",
    "\n",
    "print(\"Les produits avec toutes les informations associées manquantes sont les suivants:\")\n",
    "print(produits_infos_manquantes)"
   ]
  },
  {
   "cell_type": "code",
   "execution_count": 487,
   "id": "6df56a3e",
   "metadata": {},
   "outputs": [
    {
     "data": {
      "text/html": [
       "<div>\n",
       "<style scoped>\n",
       "    .dataframe tbody tr th:only-of-type {\n",
       "        vertical-align: middle;\n",
       "    }\n",
       "\n",
       "    .dataframe tbody tr th {\n",
       "        vertical-align: top;\n",
       "    }\n",
       "\n",
       "    .dataframe thead th {\n",
       "        text-align: right;\n",
       "    }\n",
       "</style>\n",
       "<table border=\"1\" class=\"dataframe\">\n",
       "  <thead>\n",
       "    <tr style=\"text-align: right;\">\n",
       "      <th></th>\n",
       "      <th>post_name</th>\n",
       "      <th>poids</th>\n",
       "      <th>Région</th>\n",
       "      <th>Domaine</th>\n",
       "      <th>Appellation</th>\n",
       "      <th>Couleur</th>\n",
       "      <th>Cépage</th>\n",
       "      <th>Millésime</th>\n",
       "      <th>Garde</th>\n",
       "      <th>Contenance</th>\n",
       "      <th>Degré d'alcool</th>\n",
       "      <th>Température dégustation</th>\n",
       "      <th>Alliance mets</th>\n",
       "    </tr>\n",
       "  </thead>\n",
       "  <tbody>\n",
       "    <tr>\n",
       "      <th>0</th>\n",
       "      <td>pierre-jean-villa-saint-joseph-preface-2018</td>\n",
       "      <td>1.5 kg</td>\n",
       "      <td>Rhône</td>\n",
       "      <td>Pierre Jean Villa</td>\n",
       "      <td>Saint Joseph</td>\n",
       "      <td>Rouge</td>\n",
       "      <td>100% Syrah</td>\n",
       "      <td>2020.0</td>\n",
       "      <td>4-7 ans</td>\n",
       "      <td>75cl</td>\n",
       "      <td>13%</td>\n",
       "      <td>15°C</td>\n",
       "      <td>Charcuterie, Lapin, Viande rouge, Volaille</td>\n",
       "    </tr>\n",
       "    <tr>\n",
       "      <th>1</th>\n",
       "      <td>pierre-jean-villa-saint-joseph-tilde-2017</td>\n",
       "      <td>1.5 kg</td>\n",
       "      <td>Rhône</td>\n",
       "      <td>Pierre Jean Villa</td>\n",
       "      <td>Saint Joseph</td>\n",
       "      <td>Rouge</td>\n",
       "      <td>100% Syrah</td>\n",
       "      <td>2019.0</td>\n",
       "      <td>6-8 ans</td>\n",
       "      <td>75cl</td>\n",
       "      <td>13%</td>\n",
       "      <td>15°C</td>\n",
       "      <td>Charcuterie, Viande rouge, Volaille</td>\n",
       "    </tr>\n",
       "    <tr>\n",
       "      <th>2</th>\n",
       "      <td>pierre-jean-villa-croze-hermitage-accroche-coe...</td>\n",
       "      <td>1.5 kg</td>\n",
       "      <td>Rhône</td>\n",
       "      <td>Pierre Jean Villa</td>\n",
       "      <td>Crozes-Hermitage</td>\n",
       "      <td>Rouge</td>\n",
       "      <td>100% Syrah</td>\n",
       "      <td>2020.0</td>\n",
       "      <td>3-5 ans</td>\n",
       "      <td>75cl</td>\n",
       "      <td>13%</td>\n",
       "      <td>15°C</td>\n",
       "      <td>Viande rouge, Volaille</td>\n",
       "    </tr>\n",
       "    <tr>\n",
       "      <th>3</th>\n",
       "      <td>pierre-jean-villa-igp-gamine-2018</td>\n",
       "      <td>1.5 kg</td>\n",
       "      <td>Rhône</td>\n",
       "      <td>Pierre Jean Villa</td>\n",
       "      <td>Collines Rhodaniennes</td>\n",
       "      <td>Rouge</td>\n",
       "      <td>100% Syrah</td>\n",
       "      <td>2020.0</td>\n",
       "      <td>3-5 ans</td>\n",
       "      <td>75cl</td>\n",
       "      <td>13%</td>\n",
       "      <td>14°C</td>\n",
       "      <td>Charcuterie, Viande rouge, Volaille</td>\n",
       "    </tr>\n",
       "    <tr>\n",
       "      <th>4</th>\n",
       "      <td>pierre-jean-villa-cote-rotie-carmina-2017</td>\n",
       "      <td>1.5 kg</td>\n",
       "      <td>Rhône</td>\n",
       "      <td>Pierre Jean Villa</td>\n",
       "      <td>Côte Rôtie</td>\n",
       "      <td>Rouge</td>\n",
       "      <td>100% Syrah</td>\n",
       "      <td>2019.0</td>\n",
       "      <td>10-20 ans</td>\n",
       "      <td>75cl</td>\n",
       "      <td>13%</td>\n",
       "      <td>17°C</td>\n",
       "      <td>Gibier, Viande rouge</td>\n",
       "    </tr>\n",
       "  </tbody>\n",
       "</table>\n",
       "</div>"
      ],
      "text/plain": [
       "                                           post_name   poids Région  \\\n",
       "0        pierre-jean-villa-saint-joseph-preface-2018  1.5 kg  Rhône   \n",
       "1          pierre-jean-villa-saint-joseph-tilde-2017  1.5 kg  Rhône   \n",
       "2  pierre-jean-villa-croze-hermitage-accroche-coe...  1.5 kg  Rhône   \n",
       "3                  pierre-jean-villa-igp-gamine-2018  1.5 kg  Rhône   \n",
       "4          pierre-jean-villa-cote-rotie-carmina-2017  1.5 kg  Rhône   \n",
       "\n",
       "             Domaine            Appellation Couleur      Cépage  Millésime  \\\n",
       "0  Pierre Jean Villa           Saint Joseph   Rouge  100% Syrah     2020.0   \n",
       "1  Pierre Jean Villa           Saint Joseph   Rouge  100% Syrah     2019.0   \n",
       "2  Pierre Jean Villa       Crozes-Hermitage   Rouge  100% Syrah     2020.0   \n",
       "3  Pierre Jean Villa  Collines Rhodaniennes   Rouge  100% Syrah     2020.0   \n",
       "4  Pierre Jean Villa             Côte Rôtie   Rouge  100% Syrah     2019.0   \n",
       "\n",
       "       Garde Contenance Degré d'alcool Température dégustation  \\\n",
       "0    4-7 ans       75cl            13%                    15°C   \n",
       "1    6-8 ans       75cl            13%                    15°C   \n",
       "2    3-5 ans       75cl            13%                    15°C   \n",
       "3    3-5 ans       75cl            13%                    14°C   \n",
       "4  10-20 ans       75cl            13%                    17°C   \n",
       "\n",
       "                                Alliance mets  \n",
       "0  Charcuterie, Lapin, Viande rouge, Volaille  \n",
       "1         Charcuterie, Viande rouge, Volaille  \n",
       "2                      Viande rouge, Volaille  \n",
       "3         Charcuterie, Viande rouge, Volaille  \n",
       "4                        Gibier, Viande rouge  "
      ]
     },
     "execution_count": 487,
     "metadata": {},
     "output_type": "execute_result"
    }
   ],
   "source": [
    "df_caracteristiques.head()"
   ]
  },
  {
   "cell_type": "code",
   "execution_count": 488,
   "id": "5b179d11",
   "metadata": {},
   "outputs": [
    {
     "data": {
      "text/html": [
       "<div>\n",
       "<style scoped>\n",
       "    .dataframe tbody tr th:only-of-type {\n",
       "        vertical-align: middle;\n",
       "    }\n",
       "\n",
       "    .dataframe tbody tr th {\n",
       "        vertical-align: top;\n",
       "    }\n",
       "\n",
       "    .dataframe thead th {\n",
       "        text-align: right;\n",
       "    }\n",
       "</style>\n",
       "<table border=\"1\" class=\"dataframe\">\n",
       "  <thead>\n",
       "    <tr style=\"text-align: right;\">\n",
       "      <th></th>\n",
       "      <th>post_name</th>\n",
       "      <th>poids</th>\n",
       "      <th>Région</th>\n",
       "      <th>Domaine</th>\n",
       "      <th>Appellation</th>\n",
       "      <th>Couleur</th>\n",
       "      <th>Cépage</th>\n",
       "      <th>Millésime</th>\n",
       "      <th>Garde</th>\n",
       "      <th>Contenance</th>\n",
       "      <th>Degré d'alcool</th>\n",
       "      <th>Température dégustation</th>\n",
       "      <th>Alliance mets</th>\n",
       "    </tr>\n",
       "  </thead>\n",
       "  <tbody>\n",
       "    <tr>\n",
       "      <th>136</th>\n",
       "      <td>maroc-graillot-thaleb-tandem-syrah-2015</td>\n",
       "      <td>1.5 kg</td>\n",
       "      <td>Vins du Monde</td>\n",
       "      <td>Graillot-Thaleb</td>\n",
       "      <td>NaN</td>\n",
       "      <td>Rouge</td>\n",
       "      <td>Syrah</td>\n",
       "      <td>2015.0</td>\n",
       "      <td>3-5 ans</td>\n",
       "      <td>75cl</td>\n",
       "      <td>13%</td>\n",
       "      <td>16°C</td>\n",
       "      <td>Couscous, Cuisine méditerranéenne, Grillades, ...</td>\n",
       "    </tr>\n",
       "    <tr>\n",
       "      <th>141</th>\n",
       "      <td>preceptorie-cotes-du-roussillon-coume-marie-2018</td>\n",
       "      <td>1.5 kg</td>\n",
       "      <td>Languedoc-Roussillon</td>\n",
       "      <td>La Preceptorie</td>\n",
       "      <td>NaN</td>\n",
       "      <td>Rouge</td>\n",
       "      <td>Carignan, Grenache</td>\n",
       "      <td>2019.0</td>\n",
       "      <td>6-8 ans</td>\n",
       "      <td>75cl</td>\n",
       "      <td>15%</td>\n",
       "      <td>16°C</td>\n",
       "      <td>Grillades, Viande Blanche, Viande rouge</td>\n",
       "    </tr>\n",
       "    <tr>\n",
       "      <th>192</th>\n",
       "      <td>whisky-wemyss-the-hive</td>\n",
       "      <td>1.5 kg</td>\n",
       "      <td>NaN</td>\n",
       "      <td>NaN</td>\n",
       "      <td>NaN</td>\n",
       "      <td>NaN</td>\n",
       "      <td>NaN</td>\n",
       "      <td>NaN</td>\n",
       "      <td>NaN</td>\n",
       "      <td>70cl</td>\n",
       "      <td>46%</td>\n",
       "      <td>NaN</td>\n",
       "      <td>NaN</td>\n",
       "    </tr>\n",
       "    <tr>\n",
       "      <th>193</th>\n",
       "      <td>whisky-wemyss-peat-chimney</td>\n",
       "      <td>1.5 kg</td>\n",
       "      <td>NaN</td>\n",
       "      <td>NaN</td>\n",
       "      <td>NaN</td>\n",
       "      <td>NaN</td>\n",
       "      <td>NaN</td>\n",
       "      <td>NaN</td>\n",
       "      <td>NaN</td>\n",
       "      <td>70cl</td>\n",
       "      <td>46%</td>\n",
       "      <td>NaN</td>\n",
       "      <td>NaN</td>\n",
       "    </tr>\n",
       "    <tr>\n",
       "      <th>194</th>\n",
       "      <td>whisky-wemyss-spice-king</td>\n",
       "      <td>1.5 kg</td>\n",
       "      <td>NaN</td>\n",
       "      <td>NaN</td>\n",
       "      <td>NaN</td>\n",
       "      <td>NaN</td>\n",
       "      <td>NaN</td>\n",
       "      <td>NaN</td>\n",
       "      <td>NaN</td>\n",
       "      <td>70cl</td>\n",
       "      <td>46%</td>\n",
       "      <td>NaN</td>\n",
       "      <td>NaN</td>\n",
       "    </tr>\n",
       "    <tr>\n",
       "      <th>195</th>\n",
       "      <td>whisky-wemyss-vanilla-burst</td>\n",
       "      <td>1.5 kg</td>\n",
       "      <td>NaN</td>\n",
       "      <td>NaN</td>\n",
       "      <td>NaN</td>\n",
       "      <td>NaN</td>\n",
       "      <td>NaN</td>\n",
       "      <td>NaN</td>\n",
       "      <td>NaN</td>\n",
       "      <td>70cl</td>\n",
       "      <td>46%</td>\n",
       "      <td>NaN</td>\n",
       "      <td>NaN</td>\n",
       "    </tr>\n",
       "    <tr>\n",
       "      <th>196</th>\n",
       "      <td>whisky-wemyss-treacle-chest</td>\n",
       "      <td>1.5 kg</td>\n",
       "      <td>NaN</td>\n",
       "      <td>NaN</td>\n",
       "      <td>NaN</td>\n",
       "      <td>NaN</td>\n",
       "      <td>NaN</td>\n",
       "      <td>NaN</td>\n",
       "      <td>NaN</td>\n",
       "      <td>70cl</td>\n",
       "      <td>46%</td>\n",
       "      <td>NaN</td>\n",
       "      <td>NaN</td>\n",
       "    </tr>\n",
       "    <tr>\n",
       "      <th>197</th>\n",
       "      <td>whisky-lord-elcho</td>\n",
       "      <td>1.5 kg</td>\n",
       "      <td>NaN</td>\n",
       "      <td>NaN</td>\n",
       "      <td>NaN</td>\n",
       "      <td>NaN</td>\n",
       "      <td>NaN</td>\n",
       "      <td>NaN</td>\n",
       "      <td>NaN</td>\n",
       "      <td>70cl</td>\n",
       "      <td>40%</td>\n",
       "      <td>NaN</td>\n",
       "      <td>NaN</td>\n",
       "    </tr>\n",
       "    <tr>\n",
       "      <th>198</th>\n",
       "      <td>whisky-wemyss-the-hive-12-ans</td>\n",
       "      <td>1.5 kg</td>\n",
       "      <td>NaN</td>\n",
       "      <td>NaN</td>\n",
       "      <td>NaN</td>\n",
       "      <td>NaN</td>\n",
       "      <td>NaN</td>\n",
       "      <td>NaN</td>\n",
       "      <td>NaN</td>\n",
       "      <td>70cl</td>\n",
       "      <td>40%</td>\n",
       "      <td>NaN</td>\n",
       "      <td>NaN</td>\n",
       "    </tr>\n",
       "    <tr>\n",
       "      <th>199</th>\n",
       "      <td>whisky-wemyss-the-hive-batch-strength</td>\n",
       "      <td>1.5 kg</td>\n",
       "      <td>NaN</td>\n",
       "      <td>NaN</td>\n",
       "      <td>NaN</td>\n",
       "      <td>NaN</td>\n",
       "      <td>NaN</td>\n",
       "      <td>NaN</td>\n",
       "      <td>NaN</td>\n",
       "      <td>70cl</td>\n",
       "      <td>54,5%</td>\n",
       "      <td>NaN</td>\n",
       "      <td>NaN</td>\n",
       "    </tr>\n",
       "    <tr>\n",
       "      <th>200</th>\n",
       "      <td>whisky-wemyss-peat-chimney-batch-strength</td>\n",
       "      <td>1.5 kg</td>\n",
       "      <td>NaN</td>\n",
       "      <td>NaN</td>\n",
       "      <td>NaN</td>\n",
       "      <td>NaN</td>\n",
       "      <td>NaN</td>\n",
       "      <td>NaN</td>\n",
       "      <td>NaN</td>\n",
       "      <td>70cl</td>\n",
       "      <td>57%</td>\n",
       "      <td>NaN</td>\n",
       "      <td>NaN</td>\n",
       "    </tr>\n",
       "    <tr>\n",
       "      <th>201</th>\n",
       "      <td>whisky-wemyss-spice-king-batch-strength</td>\n",
       "      <td>1.5 kg</td>\n",
       "      <td>NaN</td>\n",
       "      <td>NaN</td>\n",
       "      <td>NaN</td>\n",
       "      <td>NaN</td>\n",
       "      <td>NaN</td>\n",
       "      <td>NaN</td>\n",
       "      <td>NaN</td>\n",
       "      <td>70cl</td>\n",
       "      <td>57%</td>\n",
       "      <td>NaN</td>\n",
       "      <td>NaN</td>\n",
       "    </tr>\n",
       "    <tr>\n",
       "      <th>210</th>\n",
       "      <td>domaine-giudicelli-vfd-ete-rouge-2018</td>\n",
       "      <td>1.5 kg</td>\n",
       "      <td>Corse</td>\n",
       "      <td>Domaine Giudicelli</td>\n",
       "      <td>NaN</td>\n",
       "      <td>Rouge</td>\n",
       "      <td>Grenache, Sciacarello</td>\n",
       "      <td>2018.0</td>\n",
       "      <td>3 ans</td>\n",
       "      <td>75cl</td>\n",
       "      <td>13,5%</td>\n",
       "      <td>13°C</td>\n",
       "      <td>Apéritif, Charcuterie, Fromages, Poissons, Vol...</td>\n",
       "    </tr>\n",
       "    <tr>\n",
       "      <th>232</th>\n",
       "      <td>marcel-windholtz-eau-de-vie-de-sureau</td>\n",
       "      <td>1.5 kg</td>\n",
       "      <td>Alsace</td>\n",
       "      <td>NaN</td>\n",
       "      <td>NaN</td>\n",
       "      <td>NaN</td>\n",
       "      <td>NaN</td>\n",
       "      <td>NaN</td>\n",
       "      <td>NaN</td>\n",
       "      <td>70cl</td>\n",
       "      <td>45%</td>\n",
       "      <td>NaN</td>\n",
       "      <td>NaN</td>\n",
       "    </tr>\n",
       "    <tr>\n",
       "      <th>233</th>\n",
       "      <td>marcel-windholtz-eau-de-vie-de-sureau-copie</td>\n",
       "      <td>1.5 kg</td>\n",
       "      <td>Alsace</td>\n",
       "      <td>NaN</td>\n",
       "      <td>NaN</td>\n",
       "      <td>NaN</td>\n",
       "      <td>NaN</td>\n",
       "      <td>NaN</td>\n",
       "      <td>NaN</td>\n",
       "      <td>70cl</td>\n",
       "      <td>45%</td>\n",
       "      <td>NaN</td>\n",
       "      <td>NaN</td>\n",
       "    </tr>\n",
       "    <tr>\n",
       "      <th>234</th>\n",
       "      <td>marcel-windholtz-eau-de-vie-de-poire-williams-...</td>\n",
       "      <td>1.5 kg</td>\n",
       "      <td>Alsace</td>\n",
       "      <td>NaN</td>\n",
       "      <td>NaN</td>\n",
       "      <td>NaN</td>\n",
       "      <td>NaN</td>\n",
       "      <td>NaN</td>\n",
       "      <td>NaN</td>\n",
       "      <td>70cl</td>\n",
       "      <td>45%</td>\n",
       "      <td>NaN</td>\n",
       "      <td>NaN</td>\n",
       "    </tr>\n",
       "    <tr>\n",
       "      <th>235</th>\n",
       "      <td>marcel-windholtz-eau-de-vie-de-marc-de-muscat</td>\n",
       "      <td>1.5 kg</td>\n",
       "      <td>Alsace</td>\n",
       "      <td>NaN</td>\n",
       "      <td>NaN</td>\n",
       "      <td>NaN</td>\n",
       "      <td>NaN</td>\n",
       "      <td>NaN</td>\n",
       "      <td>NaN</td>\n",
       "      <td>70cl</td>\n",
       "      <td>45%</td>\n",
       "      <td>NaN</td>\n",
       "      <td>NaN</td>\n",
       "    </tr>\n",
       "    <tr>\n",
       "      <th>236</th>\n",
       "      <td>marcel-windholtz-eau-de-vie-de-fraise</td>\n",
       "      <td>1.5 kg</td>\n",
       "      <td>Alsace</td>\n",
       "      <td>NaN</td>\n",
       "      <td>NaN</td>\n",
       "      <td>NaN</td>\n",
       "      <td>NaN</td>\n",
       "      <td>NaN</td>\n",
       "      <td>NaN</td>\n",
       "      <td>70cl</td>\n",
       "      <td>45%</td>\n",
       "      <td>NaN</td>\n",
       "      <td>NaN</td>\n",
       "    </tr>\n",
       "    <tr>\n",
       "      <th>237</th>\n",
       "      <td>marcel-windholtz-eau-de-vie-de-coing</td>\n",
       "      <td>1.5 kg</td>\n",
       "      <td>Alsace</td>\n",
       "      <td>NaN</td>\n",
       "      <td>NaN</td>\n",
       "      <td>NaN</td>\n",
       "      <td>NaN</td>\n",
       "      <td>NaN</td>\n",
       "      <td>NaN</td>\n",
       "      <td>70cl</td>\n",
       "      <td>45%</td>\n",
       "      <td>NaN</td>\n",
       "      <td>NaN</td>\n",
       "    </tr>\n",
       "    <tr>\n",
       "      <th>238</th>\n",
       "      <td>marcel-windholtz-eau-de-vie-de-baie-de-houx</td>\n",
       "      <td>1.5 kg</td>\n",
       "      <td>Alsace</td>\n",
       "      <td>NaN</td>\n",
       "      <td>NaN</td>\n",
       "      <td>NaN</td>\n",
       "      <td>NaN</td>\n",
       "      <td>NaN</td>\n",
       "      <td>NaN</td>\n",
       "      <td>70cl</td>\n",
       "      <td>45%</td>\n",
       "      <td>NaN</td>\n",
       "      <td>NaN</td>\n",
       "    </tr>\n",
       "    <tr>\n",
       "      <th>239</th>\n",
       "      <td>marcel-windholtz-eau-de-quetsch-dalsace-reserv...</td>\n",
       "      <td>1.5 kg</td>\n",
       "      <td>Alsace</td>\n",
       "      <td>NaN</td>\n",
       "      <td>NaN</td>\n",
       "      <td>NaN</td>\n",
       "      <td>NaN</td>\n",
       "      <td>NaN</td>\n",
       "      <td>NaN</td>\n",
       "      <td>70cl</td>\n",
       "      <td>45%</td>\n",
       "      <td>NaN</td>\n",
       "      <td>NaN</td>\n",
       "    </tr>\n",
       "    <tr>\n",
       "      <th>240</th>\n",
       "      <td>marcel-windholtz-eau-de-mirabelle-dalsace-rese...</td>\n",
       "      <td>1.5 kg</td>\n",
       "      <td>Alsace</td>\n",
       "      <td>NaN</td>\n",
       "      <td>NaN</td>\n",
       "      <td>NaN</td>\n",
       "      <td>NaN</td>\n",
       "      <td>NaN</td>\n",
       "      <td>NaN</td>\n",
       "      <td>70cl</td>\n",
       "      <td>45%</td>\n",
       "      <td>NaN</td>\n",
       "      <td>NaN</td>\n",
       "    </tr>\n",
       "    <tr>\n",
       "      <th>241</th>\n",
       "      <td>marcel-windholtz-eau-de-marc-de-gewurztraminer</td>\n",
       "      <td>1.5 kg</td>\n",
       "      <td>Alsace</td>\n",
       "      <td>NaN</td>\n",
       "      <td>NaN</td>\n",
       "      <td>NaN</td>\n",
       "      <td>NaN</td>\n",
       "      <td>NaN</td>\n",
       "      <td>NaN</td>\n",
       "      <td>70cl</td>\n",
       "      <td>45%</td>\n",
       "      <td>NaN</td>\n",
       "      <td>NaN</td>\n",
       "    </tr>\n",
       "    <tr>\n",
       "      <th>242</th>\n",
       "      <td>marcel-windholtz-eau-de-vie-de-kirsch-dalsace-...</td>\n",
       "      <td>1.5 kg</td>\n",
       "      <td>Alsace</td>\n",
       "      <td>NaN</td>\n",
       "      <td>NaN</td>\n",
       "      <td>NaN</td>\n",
       "      <td>NaN</td>\n",
       "      <td>NaN</td>\n",
       "      <td>NaN</td>\n",
       "      <td>70cl</td>\n",
       "      <td>45%</td>\n",
       "      <td>NaN</td>\n",
       "      <td>NaN</td>\n",
       "    </tr>\n",
       "    <tr>\n",
       "      <th>243</th>\n",
       "      <td>marcel-windholtz-eau-de-vie-de-framboise-dalsace</td>\n",
       "      <td>1.5 kg</td>\n",
       "      <td>Alsace</td>\n",
       "      <td>NaN</td>\n",
       "      <td>NaN</td>\n",
       "      <td>NaN</td>\n",
       "      <td>NaN</td>\n",
       "      <td>NaN</td>\n",
       "      <td>NaN</td>\n",
       "      <td>70cl</td>\n",
       "      <td>45%</td>\n",
       "      <td>NaN</td>\n",
       "      <td>NaN</td>\n",
       "    </tr>\n",
       "    <tr>\n",
       "      <th>276</th>\n",
       "      <td>domaine-plageoles-vin-de-france-contre-pied-2016</td>\n",
       "      <td>1.5 kg</td>\n",
       "      <td>Sud Ouest</td>\n",
       "      <td>Plageoles</td>\n",
       "      <td>NaN</td>\n",
       "      <td>Rouge</td>\n",
       "      <td>Duras</td>\n",
       "      <td>2016.0</td>\n",
       "      <td>3-5 ans</td>\n",
       "      <td>75cl</td>\n",
       "      <td>14,5%</td>\n",
       "      <td>15°C</td>\n",
       "      <td>Cassoulet, Confit de canard, Viande rouge</td>\n",
       "    </tr>\n",
       "    <tr>\n",
       "      <th>304</th>\n",
       "      <td>domaine-de-montgilet-vin-de-france-grolleau-2019</td>\n",
       "      <td>1.5 kg</td>\n",
       "      <td>Vallée de la Loire</td>\n",
       "      <td>Montgilet</td>\n",
       "      <td>NaN</td>\n",
       "      <td>Rouge</td>\n",
       "      <td>Grolleau</td>\n",
       "      <td>2020.0</td>\n",
       "      <td>3 ans</td>\n",
       "      <td>75cl</td>\n",
       "      <td>12%</td>\n",
       "      <td>13°C</td>\n",
       "      <td>Apéritif, Charcuterie, Poissons, Viande Blanche</td>\n",
       "    </tr>\n",
       "    <tr>\n",
       "      <th>309</th>\n",
       "      <td>clos-du-mont-olivet-vin-de-france-la-sabonite</td>\n",
       "      <td>1.5 kg</td>\n",
       "      <td>Rhône</td>\n",
       "      <td>Clos Du Mont-Olivet</td>\n",
       "      <td>NaN</td>\n",
       "      <td>Rouge</td>\n",
       "      <td>Grenache</td>\n",
       "      <td>NaN</td>\n",
       "      <td>3-5 ans</td>\n",
       "      <td>75cl</td>\n",
       "      <td>13%</td>\n",
       "      <td>14°C</td>\n",
       "      <td>Charcuterie, Grillades, Viande rouge</td>\n",
       "    </tr>\n",
       "    <tr>\n",
       "      <th>324</th>\n",
       "      <td>domaine-peyre-rose-clos-des-cistes-2008</td>\n",
       "      <td>1.5 kg</td>\n",
       "      <td>Languedoc-Roussillon</td>\n",
       "      <td>Domaine Peyre Rose</td>\n",
       "      <td>NaN</td>\n",
       "      <td>Rouge</td>\n",
       "      <td>Syrah 90%, Grenache, Mourvèdre</td>\n",
       "      <td>2012.0</td>\n",
       "      <td>15 ans et +</td>\n",
       "      <td>75cl</td>\n",
       "      <td>14,5%</td>\n",
       "      <td>16°C</td>\n",
       "      <td>Daube de boeuf, Viande rouge, Volaille</td>\n",
       "    </tr>\n",
       "    <tr>\n",
       "      <th>350</th>\n",
       "      <td>antoine-marie-arena-vin-de-france-bianco-genti...</td>\n",
       "      <td>1.5 kg</td>\n",
       "      <td>Corse</td>\n",
       "      <td>Arena</td>\n",
       "      <td>NaN</td>\n",
       "      <td>Blanc</td>\n",
       "      <td>Bianco Gentile</td>\n",
       "      <td>2018.0</td>\n",
       "      <td>3-5 ans</td>\n",
       "      <td>75cl</td>\n",
       "      <td>14%</td>\n",
       "      <td>12°C</td>\n",
       "      <td>Apéritif, Charcuterie, Poissons</td>\n",
       "    </tr>\n",
       "    <tr>\n",
       "      <th>351</th>\n",
       "      <td>antoine-marie-arena-vin-de-france-rouge-san-gi...</td>\n",
       "      <td>1.5 kg</td>\n",
       "      <td>Corse</td>\n",
       "      <td>Arena</td>\n",
       "      <td>NaN</td>\n",
       "      <td>Rouge</td>\n",
       "      <td>Carcaghjolu, Morescone</td>\n",
       "      <td>2017.0</td>\n",
       "      <td>3-5 ans</td>\n",
       "      <td>75cl</td>\n",
       "      <td>14%</td>\n",
       "      <td>12°C</td>\n",
       "      <td>Charcuterie, Légumes croquants, Quiche aux lég...</td>\n",
       "    </tr>\n",
       "    <tr>\n",
       "      <th>380</th>\n",
       "      <td>domaine-peyre-rose-syrah-leone-2008</td>\n",
       "      <td>1.5 kg</td>\n",
       "      <td>Languedoc-Roussillon</td>\n",
       "      <td>Domaine Peyre Rose</td>\n",
       "      <td>NaN</td>\n",
       "      <td>Rouge</td>\n",
       "      <td>Mourvèdre, Syrah</td>\n",
       "      <td>2012.0</td>\n",
       "      <td>15 ans et +</td>\n",
       "      <td>75cl</td>\n",
       "      <td>14,5%</td>\n",
       "      <td>16°C</td>\n",
       "      <td>Daube de boeuf, Viande rouge, Volaille</td>\n",
       "    </tr>\n",
       "    <tr>\n",
       "      <th>382</th>\n",
       "      <td>domaine-peyre-rose-marlene-n3-2008</td>\n",
       "      <td>1.5 kg</td>\n",
       "      <td>Languedoc-Roussillon</td>\n",
       "      <td>Domaine Peyre Rose</td>\n",
       "      <td>NaN</td>\n",
       "      <td>Rouge</td>\n",
       "      <td>Grenache, Syrah</td>\n",
       "      <td>2011.0</td>\n",
       "      <td>15 ans et +</td>\n",
       "      <td>75cl</td>\n",
       "      <td>14,5%</td>\n",
       "      <td>16°C</td>\n",
       "      <td>Daube de boeuf, Fromages, Viande rouge, Volaille</td>\n",
       "    </tr>\n",
       "    <tr>\n",
       "      <th>401</th>\n",
       "      <td>australie-maverick-trial-hill-riesling-2010</td>\n",
       "      <td>1.5 kg</td>\n",
       "      <td>Vins du Monde</td>\n",
       "      <td>Sélection de Vins Etrangers, Maverick</td>\n",
       "      <td>NaN</td>\n",
       "      <td>Blanc</td>\n",
       "      <td>Riesling</td>\n",
       "      <td>2010.0</td>\n",
       "      <td>8-10 ans</td>\n",
       "      <td>75cl</td>\n",
       "      <td>14%</td>\n",
       "      <td>11°C</td>\n",
       "      <td>Apéritif, Crustacés, Fruits de mer, Poisson gr...</td>\n",
       "    </tr>\n",
       "    <tr>\n",
       "      <th>402</th>\n",
       "      <td>australie-harkham-wines-old-vines-2011</td>\n",
       "      <td>1.5 kg</td>\n",
       "      <td>Vins du Monde</td>\n",
       "      <td>Sélection de Vins Etrangers, Harkham Wines</td>\n",
       "      <td>NaN</td>\n",
       "      <td>Rouge</td>\n",
       "      <td>Syrah</td>\n",
       "      <td>2011.0</td>\n",
       "      <td>4-7 ans</td>\n",
       "      <td>75cl</td>\n",
       "      <td>14%</td>\n",
       "      <td>15°C</td>\n",
       "      <td>Agneau, Gibier, Grillades</td>\n",
       "    </tr>\n",
       "    <tr>\n",
       "      <th>403</th>\n",
       "      <td>chili-valdivieso-merlot-2017</td>\n",
       "      <td>1.5 kg</td>\n",
       "      <td>Vins du Monde</td>\n",
       "      <td>Sélection de Vins Etrangers, Valdivieso</td>\n",
       "      <td>NaN</td>\n",
       "      <td>Rouge</td>\n",
       "      <td>Merlot</td>\n",
       "      <td>2017.0</td>\n",
       "      <td>3-5 ans</td>\n",
       "      <td>75cl</td>\n",
       "      <td>12,50%</td>\n",
       "      <td>15°C</td>\n",
       "      <td>Charcuterie, Tapas, Viande Blanche, Viande rouge</td>\n",
       "    </tr>\n",
       "    <tr>\n",
       "      <th>404</th>\n",
       "      <td>chili-errazuriz-cabernet-sauvignon-2015</td>\n",
       "      <td>1.5 kg</td>\n",
       "      <td>Vins du Monde</td>\n",
       "      <td>Sélection de Vins Etrangers, Errazuriz</td>\n",
       "      <td>NaN</td>\n",
       "      <td>Rouge</td>\n",
       "      <td>Cabernet Sauvignon</td>\n",
       "      <td>2017.0</td>\n",
       "      <td>3-5 ans</td>\n",
       "      <td>75cl</td>\n",
       "      <td>13,5%</td>\n",
       "      <td>15°C</td>\n",
       "      <td>Grillades, Viande rouge</td>\n",
       "    </tr>\n",
       "    <tr>\n",
       "      <th>405</th>\n",
       "      <td>chili-de-martino-gallardia-cinsault-2017</td>\n",
       "      <td>1.5 kg</td>\n",
       "      <td>Vins du Monde</td>\n",
       "      <td>Sélection de Vins Etrangers, De Martino</td>\n",
       "      <td>NaN</td>\n",
       "      <td>Rouge</td>\n",
       "      <td>Cinsault</td>\n",
       "      <td>2017.0</td>\n",
       "      <td>3-5 ans</td>\n",
       "      <td>75cl</td>\n",
       "      <td>13%</td>\n",
       "      <td>15°C</td>\n",
       "      <td>Grillades, Légumes du Soleil, Viande rouge, Vo...</td>\n",
       "    </tr>\n",
       "    <tr>\n",
       "      <th>406</th>\n",
       "      <td>chili-de-martino-viejas-tinajas-cinsault-2013</td>\n",
       "      <td>1.5 kg</td>\n",
       "      <td>Vins du Monde</td>\n",
       "      <td>Sélection de Vins Etrangers, De Martino</td>\n",
       "      <td>NaN</td>\n",
       "      <td>Rouge</td>\n",
       "      <td>Cinsault</td>\n",
       "      <td>2013.0</td>\n",
       "      <td>6-8 ans</td>\n",
       "      <td>75cl</td>\n",
       "      <td>13%</td>\n",
       "      <td>15°C</td>\n",
       "      <td>Grillades, Légumes du Soleil, Viande rouge, Vo...</td>\n",
       "    </tr>\n",
       "    <tr>\n",
       "      <th>407</th>\n",
       "      <td>chili-montsecano-ostertag-pinot-noir-2013</td>\n",
       "      <td>1.5 kg</td>\n",
       "      <td>Vins du Monde</td>\n",
       "      <td>Sélection de Vins Etrangers, Montsecano</td>\n",
       "      <td>NaN</td>\n",
       "      <td>Rouge</td>\n",
       "      <td>Pinot Noir</td>\n",
       "      <td>2013.0</td>\n",
       "      <td>6-8 ans</td>\n",
       "      <td>75cl</td>\n",
       "      <td>13,5%</td>\n",
       "      <td>15°C</td>\n",
       "      <td>Quasi de veau, Tartare de Boeuf, Volaille</td>\n",
       "    </tr>\n",
       "    <tr>\n",
       "      <th>481</th>\n",
       "      <td>chateau-de-la-selve-vdf-petite-selve-2019</td>\n",
       "      <td>1.5 kg</td>\n",
       "      <td>Rhône</td>\n",
       "      <td>Château de la Selve</td>\n",
       "      <td>NaN</td>\n",
       "      <td>Rouge</td>\n",
       "      <td>Cinsault, Grenache, Syrah</td>\n",
       "      <td>2020.0</td>\n",
       "      <td>3-5 ans</td>\n",
       "      <td>75cl</td>\n",
       "      <td>13%</td>\n",
       "      <td>15°C</td>\n",
       "      <td>Charcuterie, Tartes aux légumes, Viande rouge,...</td>\n",
       "    </tr>\n",
       "    <tr>\n",
       "      <th>482</th>\n",
       "      <td>huile-olive-planeta-3l</td>\n",
       "      <td>3.5 kg</td>\n",
       "      <td>NaN</td>\n",
       "      <td>Planeta</td>\n",
       "      <td>NaN</td>\n",
       "      <td>NaN</td>\n",
       "      <td>NaN</td>\n",
       "      <td>NaN</td>\n",
       "      <td>NaN</td>\n",
       "      <td>300cl</td>\n",
       "      <td>NaN</td>\n",
       "      <td>NaN</td>\n",
       "      <td>NaN</td>\n",
       "    </tr>\n",
       "    <tr>\n",
       "      <th>483</th>\n",
       "      <td>huile-dolive-extra-vierge-planeta-50cl</td>\n",
       "      <td>1 kg</td>\n",
       "      <td>NaN</td>\n",
       "      <td>Planeta</td>\n",
       "      <td>NaN</td>\n",
       "      <td>NaN</td>\n",
       "      <td>NaN</td>\n",
       "      <td>NaN</td>\n",
       "      <td>NaN</td>\n",
       "      <td>50cl</td>\n",
       "      <td>NaN</td>\n",
       "      <td>NaN</td>\n",
       "      <td>NaN</td>\n",
       "    </tr>\n",
       "    <tr>\n",
       "      <th>484</th>\n",
       "      <td>huile-dolive-extra-vierge-planeta-3x-10cl</td>\n",
       "      <td>1 kg</td>\n",
       "      <td>NaN</td>\n",
       "      <td>Planeta</td>\n",
       "      <td>NaN</td>\n",
       "      <td>NaN</td>\n",
       "      <td>NaN</td>\n",
       "      <td>NaN</td>\n",
       "      <td>NaN</td>\n",
       "      <td>3x 10cl</td>\n",
       "      <td>NaN</td>\n",
       "      <td>NaN</td>\n",
       "      <td>NaN</td>\n",
       "    </tr>\n",
       "    <tr>\n",
       "      <th>525</th>\n",
       "      <td>whisky-kingsbarns-lowland-single-malt</td>\n",
       "      <td>1.5 kg</td>\n",
       "      <td>NaN</td>\n",
       "      <td>NaN</td>\n",
       "      <td>NaN</td>\n",
       "      <td>NaN</td>\n",
       "      <td>NaN</td>\n",
       "      <td>NaN</td>\n",
       "      <td>NaN</td>\n",
       "      <td>70cl</td>\n",
       "      <td>46%</td>\n",
       "      <td>NaN</td>\n",
       "      <td>NaN</td>\n",
       "    </tr>\n",
       "    <tr>\n",
       "      <th>526</th>\n",
       "      <td>darnleys-london-dry-gin-original</td>\n",
       "      <td>1.5 kg</td>\n",
       "      <td>NaN</td>\n",
       "      <td>NaN</td>\n",
       "      <td>NaN</td>\n",
       "      <td>NaN</td>\n",
       "      <td>NaN</td>\n",
       "      <td>NaN</td>\n",
       "      <td>NaN</td>\n",
       "      <td>70cl</td>\n",
       "      <td>40%</td>\n",
       "      <td>NaN</td>\n",
       "      <td>NaN</td>\n",
       "    </tr>\n",
       "    <tr>\n",
       "      <th>527</th>\n",
       "      <td>darnleys-london-dry-gin-spiced</td>\n",
       "      <td>1.5 kg</td>\n",
       "      <td>NaN</td>\n",
       "      <td>NaN</td>\n",
       "      <td>NaN</td>\n",
       "      <td>NaN</td>\n",
       "      <td>NaN</td>\n",
       "      <td>NaN</td>\n",
       "      <td>NaN</td>\n",
       "      <td>70cl</td>\n",
       "      <td>42,7%</td>\n",
       "      <td>NaN</td>\n",
       "      <td>NaN</td>\n",
       "    </tr>\n",
       "    <tr>\n",
       "      <th>528</th>\n",
       "      <td>wemyss-malts-single-cask-scotch-whisky-chai-ca...</td>\n",
       "      <td>1.5 kg</td>\n",
       "      <td>NaN</td>\n",
       "      <td>NaN</td>\n",
       "      <td>NaN</td>\n",
       "      <td>NaN</td>\n",
       "      <td>NaN</td>\n",
       "      <td>NaN</td>\n",
       "      <td>NaN</td>\n",
       "      <td>70cl</td>\n",
       "      <td>46%</td>\n",
       "      <td>NaN</td>\n",
       "      <td>NaN</td>\n",
       "    </tr>\n",
       "    <tr>\n",
       "      <th>559</th>\n",
       "      <td>domaine-giudicelli-vin-de-france-corail-rouge-...</td>\n",
       "      <td>1.5 kg</td>\n",
       "      <td>Corse</td>\n",
       "      <td>Domaine Giudicelli</td>\n",
       "      <td>NaN</td>\n",
       "      <td>Rouge</td>\n",
       "      <td>Grenache, Sciacarello</td>\n",
       "      <td>2020.0</td>\n",
       "      <td>3-5 ans</td>\n",
       "      <td>75cl</td>\n",
       "      <td>13%</td>\n",
       "      <td>13°C</td>\n",
       "      <td>Apéritif, Charcuterie, Fromages, Volaille</td>\n",
       "    </tr>\n",
       "    <tr>\n",
       "      <th>581</th>\n",
       "      <td>la-preceptorie-cotes-du-roussillon-coume-marie...</td>\n",
       "      <td>1.5 kg</td>\n",
       "      <td>Languedoc-Roussillon</td>\n",
       "      <td>La Preceptorie</td>\n",
       "      <td>NaN</td>\n",
       "      <td>Blanc</td>\n",
       "      <td>Carignan Blanc, Grenache Blanc, Grenache Gris,...</td>\n",
       "      <td>2020.0</td>\n",
       "      <td>6-8 ans</td>\n",
       "      <td>75cl</td>\n",
       "      <td>15%</td>\n",
       "      <td>12°C</td>\n",
       "      <td>Poisson en sauce, Viande Blanche, Volaille</td>\n",
       "    </tr>\n",
       "    <tr>\n",
       "      <th>582</th>\n",
       "      <td>la-preceptorie-cotes-du-roussillon-blanc-terre...</td>\n",
       "      <td>1.5 kg</td>\n",
       "      <td>Languedoc-Roussillon</td>\n",
       "      <td>La Preceptorie</td>\n",
       "      <td>NaN</td>\n",
       "      <td>Blanc</td>\n",
       "      <td>Grenache Gris, Macabeu</td>\n",
       "      <td>2020.0</td>\n",
       "      <td>6-8 ans</td>\n",
       "      <td>75cl</td>\n",
       "      <td>15%</td>\n",
       "      <td>12°C</td>\n",
       "      <td>Crustacés, Fruits de mer, Poisson grillé</td>\n",
       "    </tr>\n",
       "    <tr>\n",
       "      <th>610</th>\n",
       "      <td>domaine-saint-nicolas-fiefs-vendeens-blanc-les...</td>\n",
       "      <td>1.5 kg</td>\n",
       "      <td>Vallée de la Loire</td>\n",
       "      <td>Saint-Nicolas</td>\n",
       "      <td>NaN</td>\n",
       "      <td>Blanc</td>\n",
       "      <td>Chardonnay, Chenin</td>\n",
       "      <td>2019.0</td>\n",
       "      <td>3-5 ans</td>\n",
       "      <td>75cl</td>\n",
       "      <td>14%</td>\n",
       "      <td>12°C</td>\n",
       "      <td>Crustacés, Fromages, Poissons</td>\n",
       "    </tr>\n",
       "  </tbody>\n",
       "</table>\n",
       "</div>"
      ],
      "text/plain": [
       "                                             post_name   poids  \\\n",
       "136            maroc-graillot-thaleb-tandem-syrah-2015  1.5 kg   \n",
       "141   preceptorie-cotes-du-roussillon-coume-marie-2018  1.5 kg   \n",
       "192                             whisky-wemyss-the-hive  1.5 kg   \n",
       "193                         whisky-wemyss-peat-chimney  1.5 kg   \n",
       "194                           whisky-wemyss-spice-king  1.5 kg   \n",
       "195                        whisky-wemyss-vanilla-burst  1.5 kg   \n",
       "196                        whisky-wemyss-treacle-chest  1.5 kg   \n",
       "197                                  whisky-lord-elcho  1.5 kg   \n",
       "198                      whisky-wemyss-the-hive-12-ans  1.5 kg   \n",
       "199              whisky-wemyss-the-hive-batch-strength  1.5 kg   \n",
       "200          whisky-wemyss-peat-chimney-batch-strength  1.5 kg   \n",
       "201            whisky-wemyss-spice-king-batch-strength  1.5 kg   \n",
       "210              domaine-giudicelli-vfd-ete-rouge-2018  1.5 kg   \n",
       "232              marcel-windholtz-eau-de-vie-de-sureau  1.5 kg   \n",
       "233        marcel-windholtz-eau-de-vie-de-sureau-copie  1.5 kg   \n",
       "234  marcel-windholtz-eau-de-vie-de-poire-williams-...  1.5 kg   \n",
       "235      marcel-windholtz-eau-de-vie-de-marc-de-muscat  1.5 kg   \n",
       "236              marcel-windholtz-eau-de-vie-de-fraise  1.5 kg   \n",
       "237               marcel-windholtz-eau-de-vie-de-coing  1.5 kg   \n",
       "238        marcel-windholtz-eau-de-vie-de-baie-de-houx  1.5 kg   \n",
       "239  marcel-windholtz-eau-de-quetsch-dalsace-reserv...  1.5 kg   \n",
       "240  marcel-windholtz-eau-de-mirabelle-dalsace-rese...  1.5 kg   \n",
       "241     marcel-windholtz-eau-de-marc-de-gewurztraminer  1.5 kg   \n",
       "242  marcel-windholtz-eau-de-vie-de-kirsch-dalsace-...  1.5 kg   \n",
       "243   marcel-windholtz-eau-de-vie-de-framboise-dalsace  1.5 kg   \n",
       "276   domaine-plageoles-vin-de-france-contre-pied-2016  1.5 kg   \n",
       "304   domaine-de-montgilet-vin-de-france-grolleau-2019  1.5 kg   \n",
       "309      clos-du-mont-olivet-vin-de-france-la-sabonite  1.5 kg   \n",
       "324            domaine-peyre-rose-clos-des-cistes-2008  1.5 kg   \n",
       "350  antoine-marie-arena-vin-de-france-bianco-genti...  1.5 kg   \n",
       "351  antoine-marie-arena-vin-de-france-rouge-san-gi...  1.5 kg   \n",
       "380                domaine-peyre-rose-syrah-leone-2008  1.5 kg   \n",
       "382                 domaine-peyre-rose-marlene-n3-2008  1.5 kg   \n",
       "401        australie-maverick-trial-hill-riesling-2010  1.5 kg   \n",
       "402             australie-harkham-wines-old-vines-2011  1.5 kg   \n",
       "403                       chili-valdivieso-merlot-2017  1.5 kg   \n",
       "404            chili-errazuriz-cabernet-sauvignon-2015  1.5 kg   \n",
       "405           chili-de-martino-gallardia-cinsault-2017  1.5 kg   \n",
       "406      chili-de-martino-viejas-tinajas-cinsault-2013  1.5 kg   \n",
       "407          chili-montsecano-ostertag-pinot-noir-2013  1.5 kg   \n",
       "481          chateau-de-la-selve-vdf-petite-selve-2019  1.5 kg   \n",
       "482                             huile-olive-planeta-3l  3.5 kg   \n",
       "483             huile-dolive-extra-vierge-planeta-50cl    1 kg   \n",
       "484          huile-dolive-extra-vierge-planeta-3x-10cl    1 kg   \n",
       "525              whisky-kingsbarns-lowland-single-malt  1.5 kg   \n",
       "526                   darnleys-london-dry-gin-original  1.5 kg   \n",
       "527                     darnleys-london-dry-gin-spiced  1.5 kg   \n",
       "528  wemyss-malts-single-cask-scotch-whisky-chai-ca...  1.5 kg   \n",
       "559  domaine-giudicelli-vin-de-france-corail-rouge-...  1.5 kg   \n",
       "581  la-preceptorie-cotes-du-roussillon-coume-marie...  1.5 kg   \n",
       "582  la-preceptorie-cotes-du-roussillon-blanc-terre...  1.5 kg   \n",
       "610  domaine-saint-nicolas-fiefs-vendeens-blanc-les...  1.5 kg   \n",
       "\n",
       "                   Région                                     Domaine  \\\n",
       "136         Vins du Monde                             Graillot-Thaleb   \n",
       "141  Languedoc-Roussillon                              La Preceptorie   \n",
       "192                   NaN                                         NaN   \n",
       "193                   NaN                                         NaN   \n",
       "194                   NaN                                         NaN   \n",
       "195                   NaN                                         NaN   \n",
       "196                   NaN                                         NaN   \n",
       "197                   NaN                                         NaN   \n",
       "198                   NaN                                         NaN   \n",
       "199                   NaN                                         NaN   \n",
       "200                   NaN                                         NaN   \n",
       "201                   NaN                                         NaN   \n",
       "210                 Corse                          Domaine Giudicelli   \n",
       "232                Alsace                                         NaN   \n",
       "233                Alsace                                         NaN   \n",
       "234                Alsace                                         NaN   \n",
       "235                Alsace                                         NaN   \n",
       "236                Alsace                                         NaN   \n",
       "237                Alsace                                         NaN   \n",
       "238                Alsace                                         NaN   \n",
       "239                Alsace                                         NaN   \n",
       "240                Alsace                                         NaN   \n",
       "241                Alsace                                         NaN   \n",
       "242                Alsace                                         NaN   \n",
       "243                Alsace                                         NaN   \n",
       "276             Sud Ouest                                   Plageoles   \n",
       "304    Vallée de la Loire                                   Montgilet   \n",
       "309                 Rhône                         Clos Du Mont-Olivet   \n",
       "324  Languedoc-Roussillon                          Domaine Peyre Rose   \n",
       "350                 Corse                                       Arena   \n",
       "351                 Corse                                       Arena   \n",
       "380  Languedoc-Roussillon                          Domaine Peyre Rose   \n",
       "382  Languedoc-Roussillon                          Domaine Peyre Rose   \n",
       "401         Vins du Monde       Sélection de Vins Etrangers, Maverick   \n",
       "402         Vins du Monde  Sélection de Vins Etrangers, Harkham Wines   \n",
       "403         Vins du Monde     Sélection de Vins Etrangers, Valdivieso   \n",
       "404         Vins du Monde      Sélection de Vins Etrangers, Errazuriz   \n",
       "405         Vins du Monde     Sélection de Vins Etrangers, De Martino   \n",
       "406         Vins du Monde     Sélection de Vins Etrangers, De Martino   \n",
       "407         Vins du Monde     Sélection de Vins Etrangers, Montsecano   \n",
       "481                 Rhône                         Château de la Selve   \n",
       "482                   NaN                                     Planeta   \n",
       "483                   NaN                                     Planeta   \n",
       "484                   NaN                                     Planeta   \n",
       "525                   NaN                                         NaN   \n",
       "526                   NaN                                         NaN   \n",
       "527                   NaN                                         NaN   \n",
       "528                   NaN                                         NaN   \n",
       "559                 Corse                          Domaine Giudicelli   \n",
       "581  Languedoc-Roussillon                              La Preceptorie   \n",
       "582  Languedoc-Roussillon                              La Preceptorie   \n",
       "610    Vallée de la Loire                               Saint-Nicolas   \n",
       "\n",
       "    Appellation Couleur                                             Cépage  \\\n",
       "136         NaN   Rouge                                              Syrah   \n",
       "141         NaN   Rouge                                 Carignan, Grenache   \n",
       "192         NaN     NaN                                                NaN   \n",
       "193         NaN     NaN                                                NaN   \n",
       "194         NaN     NaN                                                NaN   \n",
       "195         NaN     NaN                                                NaN   \n",
       "196         NaN     NaN                                                NaN   \n",
       "197         NaN     NaN                                                NaN   \n",
       "198         NaN     NaN                                                NaN   \n",
       "199         NaN     NaN                                                NaN   \n",
       "200         NaN     NaN                                                NaN   \n",
       "201         NaN     NaN                                                NaN   \n",
       "210         NaN   Rouge                              Grenache, Sciacarello   \n",
       "232         NaN     NaN                                                NaN   \n",
       "233         NaN     NaN                                                NaN   \n",
       "234         NaN     NaN                                                NaN   \n",
       "235         NaN     NaN                                                NaN   \n",
       "236         NaN     NaN                                                NaN   \n",
       "237         NaN     NaN                                                NaN   \n",
       "238         NaN     NaN                                                NaN   \n",
       "239         NaN     NaN                                                NaN   \n",
       "240         NaN     NaN                                                NaN   \n",
       "241         NaN     NaN                                                NaN   \n",
       "242         NaN     NaN                                                NaN   \n",
       "243         NaN     NaN                                                NaN   \n",
       "276         NaN   Rouge                                              Duras   \n",
       "304         NaN   Rouge                                           Grolleau   \n",
       "309         NaN   Rouge                                           Grenache   \n",
       "324         NaN   Rouge                     Syrah 90%, Grenache, Mourvèdre   \n",
       "350         NaN   Blanc                                     Bianco Gentile   \n",
       "351         NaN   Rouge                             Carcaghjolu, Morescone   \n",
       "380         NaN   Rouge                                   Mourvèdre, Syrah   \n",
       "382         NaN   Rouge                                    Grenache, Syrah   \n",
       "401         NaN   Blanc                                           Riesling   \n",
       "402         NaN   Rouge                                              Syrah   \n",
       "403         NaN   Rouge                                             Merlot   \n",
       "404         NaN   Rouge                                 Cabernet Sauvignon   \n",
       "405         NaN   Rouge                                           Cinsault   \n",
       "406         NaN   Rouge                                           Cinsault   \n",
       "407         NaN   Rouge                                         Pinot Noir   \n",
       "481         NaN   Rouge                          Cinsault, Grenache, Syrah   \n",
       "482         NaN     NaN                                                NaN   \n",
       "483         NaN     NaN                                                NaN   \n",
       "484         NaN     NaN                                                NaN   \n",
       "525         NaN     NaN                                                NaN   \n",
       "526         NaN     NaN                                                NaN   \n",
       "527         NaN     NaN                                                NaN   \n",
       "528         NaN     NaN                                                NaN   \n",
       "559         NaN   Rouge                              Grenache, Sciacarello   \n",
       "581         NaN   Blanc  Carignan Blanc, Grenache Blanc, Grenache Gris,...   \n",
       "582         NaN   Blanc                             Grenache Gris, Macabeu   \n",
       "610         NaN   Blanc                                 Chardonnay, Chenin   \n",
       "\n",
       "     Millésime        Garde Contenance Degré d'alcool Température dégustation  \\\n",
       "136     2015.0      3-5 ans       75cl            13%                    16°C   \n",
       "141     2019.0      6-8 ans       75cl            15%                    16°C   \n",
       "192        NaN          NaN       70cl            46%                     NaN   \n",
       "193        NaN          NaN       70cl            46%                     NaN   \n",
       "194        NaN          NaN       70cl            46%                     NaN   \n",
       "195        NaN          NaN       70cl            46%                     NaN   \n",
       "196        NaN          NaN       70cl            46%                     NaN   \n",
       "197        NaN          NaN       70cl            40%                     NaN   \n",
       "198        NaN          NaN       70cl            40%                     NaN   \n",
       "199        NaN          NaN       70cl          54,5%                     NaN   \n",
       "200        NaN          NaN       70cl            57%                     NaN   \n",
       "201        NaN          NaN       70cl            57%                     NaN   \n",
       "210     2018.0        3 ans       75cl          13,5%                    13°C   \n",
       "232        NaN          NaN       70cl            45%                     NaN   \n",
       "233        NaN          NaN       70cl            45%                     NaN   \n",
       "234        NaN          NaN       70cl            45%                     NaN   \n",
       "235        NaN          NaN       70cl            45%                     NaN   \n",
       "236        NaN          NaN       70cl            45%                     NaN   \n",
       "237        NaN          NaN       70cl            45%                     NaN   \n",
       "238        NaN          NaN       70cl            45%                     NaN   \n",
       "239        NaN          NaN       70cl            45%                     NaN   \n",
       "240        NaN          NaN       70cl            45%                     NaN   \n",
       "241        NaN          NaN       70cl            45%                     NaN   \n",
       "242        NaN          NaN       70cl            45%                     NaN   \n",
       "243        NaN          NaN       70cl            45%                     NaN   \n",
       "276     2016.0      3-5 ans       75cl          14,5%                    15°C   \n",
       "304     2020.0        3 ans       75cl            12%                    13°C   \n",
       "309        NaN      3-5 ans       75cl            13%                    14°C   \n",
       "324     2012.0  15 ans et +       75cl          14,5%                    16°C   \n",
       "350     2018.0      3-5 ans       75cl            14%                    12°C   \n",
       "351     2017.0      3-5 ans       75cl            14%                    12°C   \n",
       "380     2012.0  15 ans et +       75cl          14,5%                    16°C   \n",
       "382     2011.0  15 ans et +       75cl          14,5%                    16°C   \n",
       "401     2010.0     8-10 ans       75cl            14%                    11°C   \n",
       "402     2011.0      4-7 ans       75cl            14%                    15°C   \n",
       "403     2017.0      3-5 ans       75cl         12,50%                    15°C   \n",
       "404     2017.0      3-5 ans       75cl          13,5%                    15°C   \n",
       "405     2017.0      3-5 ans       75cl            13%                    15°C   \n",
       "406     2013.0      6-8 ans       75cl            13%                    15°C   \n",
       "407     2013.0      6-8 ans       75cl          13,5%                    15°C   \n",
       "481     2020.0      3-5 ans       75cl            13%                    15°C   \n",
       "482        NaN          NaN      300cl            NaN                     NaN   \n",
       "483        NaN          NaN       50cl            NaN                     NaN   \n",
       "484        NaN          NaN    3x 10cl            NaN                     NaN   \n",
       "525        NaN          NaN       70cl            46%                     NaN   \n",
       "526        NaN          NaN       70cl            40%                     NaN   \n",
       "527        NaN          NaN       70cl          42,7%                     NaN   \n",
       "528        NaN          NaN       70cl            46%                     NaN   \n",
       "559     2020.0      3-5 ans       75cl            13%                    13°C   \n",
       "581     2020.0      6-8 ans       75cl            15%                    12°C   \n",
       "582     2020.0      6-8 ans       75cl            15%                    12°C   \n",
       "610     2019.0      3-5 ans       75cl            14%                    12°C   \n",
       "\n",
       "                                         Alliance mets  \n",
       "136  Couscous, Cuisine méditerranéenne, Grillades, ...  \n",
       "141            Grillades, Viande Blanche, Viande rouge  \n",
       "192                                                NaN  \n",
       "193                                                NaN  \n",
       "194                                                NaN  \n",
       "195                                                NaN  \n",
       "196                                                NaN  \n",
       "197                                                NaN  \n",
       "198                                                NaN  \n",
       "199                                                NaN  \n",
       "200                                                NaN  \n",
       "201                                                NaN  \n",
       "210  Apéritif, Charcuterie, Fromages, Poissons, Vol...  \n",
       "232                                                NaN  \n",
       "233                                                NaN  \n",
       "234                                                NaN  \n",
       "235                                                NaN  \n",
       "236                                                NaN  \n",
       "237                                                NaN  \n",
       "238                                                NaN  \n",
       "239                                                NaN  \n",
       "240                                                NaN  \n",
       "241                                                NaN  \n",
       "242                                                NaN  \n",
       "243                                                NaN  \n",
       "276          Cassoulet, Confit de canard, Viande rouge  \n",
       "304    Apéritif, Charcuterie, Poissons, Viande Blanche  \n",
       "309               Charcuterie, Grillades, Viande rouge  \n",
       "324             Daube de boeuf, Viande rouge, Volaille  \n",
       "350                    Apéritif, Charcuterie, Poissons  \n",
       "351  Charcuterie, Légumes croquants, Quiche aux lég...  \n",
       "380             Daube de boeuf, Viande rouge, Volaille  \n",
       "382   Daube de boeuf, Fromages, Viande rouge, Volaille  \n",
       "401  Apéritif, Crustacés, Fruits de mer, Poisson gr...  \n",
       "402                          Agneau, Gibier, Grillades  \n",
       "403   Charcuterie, Tapas, Viande Blanche, Viande rouge  \n",
       "404                            Grillades, Viande rouge  \n",
       "405  Grillades, Légumes du Soleil, Viande rouge, Vo...  \n",
       "406  Grillades, Légumes du Soleil, Viande rouge, Vo...  \n",
       "407          Quasi de veau, Tartare de Boeuf, Volaille  \n",
       "481  Charcuterie, Tartes aux légumes, Viande rouge,...  \n",
       "482                                                NaN  \n",
       "483                                                NaN  \n",
       "484                                                NaN  \n",
       "525                                                NaN  \n",
       "526                                                NaN  \n",
       "527                                                NaN  \n",
       "528                                                NaN  \n",
       "559          Apéritif, Charcuterie, Fromages, Volaille  \n",
       "581         Poisson en sauce, Viande Blanche, Volaille  \n",
       "582           Crustacés, Fruits de mer, Poisson grillé  \n",
       "610                      Crustacés, Fromages, Poissons  "
      ]
     },
     "execution_count": 488,
     "metadata": {},
     "output_type": "execute_result"
    }
   ],
   "source": [
    "#Est-il possible de corriger les données manquantes? \n",
    "df_caracteristiques[df_caracteristiques[\"Appellation\"].isnull()]\n",
    "\n"
   ]
  },
  {
   "cell_type": "markdown",
   "id": "1a359137",
   "metadata": {},
   "source": [
    "<div style=\"background-color: RGB(51,165,182);\" >\n",
    "<h2 style=\"margin: auto; padding: 20px; color:#fff; \">Etape 3 - Jonction des fichiers</h2>\n",
    "</div>"
   ]
  },
  {
   "cell_type": "markdown",
   "id": "b7750c10",
   "metadata": {},
   "source": [
    "<div style=\"border: 1px solid RGB(51,165,182);\" >\n",
    "<h3 style=\"margin: auto; padding: 20px; color: RGB(51,165,182); \">Etape 3.1 - Jonction du fichier df_erp et df_liaison</h3>\n",
    "</div>"
   ]
  },
  {
   "cell_type": "code",
   "execution_count": 489,
   "id": "e756ec7d",
   "metadata": {},
   "outputs": [],
   "source": [
    "#Fusion des fichiers df_erp et df_liaison\n",
    "df_merge = pd.merge(df_erp, df_liaison, on='product_id', how='outer', indicator=True)"
   ]
  },
  {
   "cell_type": "code",
   "execution_count": 490,
   "id": "b7e1da5e",
   "metadata": {},
   "outputs": [
    {
     "name": "stdout",
     "output_type": "stream",
     "text": [
      "Les lignes ne correspondant pas entre les deux fichiers sont les suivantes:\n",
      "     product_id  onsale_web  price  stock_quantity   id_web      _merge\n",
      "228        4594         1.0  144.0             0.0      NaN   left_only\n",
      "449        5070         1.0   84.7             0.0      NaN   left_only\n",
      "450        5075         1.0   43.3             0.0      NaN   left_only\n",
      "717        4289         NaN    NaN             NaN    13771  right_only\n",
      "718        4568         NaN    NaN             NaN    15065  right_only\n",
      "719        4584         NaN    NaN             NaN    14785  right_only\n",
      "720        4741         NaN    NaN             NaN    12601  right_only\n",
      "721        4864         NaN    NaN             NaN    15154  right_only\n",
      "722        4869         NaN    NaN             NaN    14360  right_only\n",
      "723        4921         NaN    NaN             NaN    15608  right_only\n",
      "724        4922         NaN    NaN             NaN    15586  right_only\n",
      "725        5018         NaN    NaN             NaN    15272  right_only\n",
      "726        5021         NaN    NaN             NaN    15630  right_only\n",
      "727        5505         NaN    NaN             NaN    14648  right_only\n",
      "728        5559         NaN    NaN             NaN    14715  right_only\n",
      "729        5570         NaN    NaN             NaN    14730  right_only\n",
      "730        5800         NaN    NaN             NaN    14689  right_only\n",
      "731        5953         NaN    NaN             NaN    14379  right_only\n",
      "732        5954         NaN    NaN             NaN    15609  right_only\n",
      "733        5955         NaN    NaN             NaN    14377  right_only\n",
      "734        5957         NaN    NaN             NaN    13577  right_only\n",
      "735        6100         NaN    NaN             NaN    15529  right_only\n",
      "736        7329         NaN    NaN             NaN  14680-1  right_only\n"
     ]
    }
   ],
   "source": [
    "#Y a t-il des lignes ne \"matchant\" entre les 2 fichiers?\n",
    "lignes_non_matching = df_merge[df_merge.isnull().any(axis=1)]\n",
    "\n",
    "if lignes_non_matching.empty:\n",
    "    print(\"Il n'y a aucune ligne ne correspondant pas entre les deux fichiers.\")\n",
    "else:\n",
    "    print(\"Les lignes ne correspondant pas entre les deux fichiers sont les suivantes:\")\n",
    "    print(lignes_non_matching)"
   ]
  },
  {
   "cell_type": "markdown",
   "id": "fe4c51d7",
   "metadata": {},
   "source": [
    "<div style=\"border: 1px solid RGB(51,165,182);\" >\n",
    "<h3 style=\"margin: auto; padding: 20px; color: RGB(51,165,182); \">Etape 3.2 - Jonction du fichier df_merge et df_web</h3>\n",
    "</div>"
   ]
  },
  {
   "cell_type": "code",
   "execution_count": 491,
   "id": "46d9382b",
   "metadata": {},
   "outputs": [
    {
     "ename": "ValueError",
     "evalue": "Cannot use name of an existing column for indicator column",
     "output_type": "error",
     "traceback": [
      "\u001b[1;31m---------------------------------------------------------------------------\u001b[0m",
      "\u001b[1;31mValueError\u001b[0m                                Traceback (most recent call last)",
      "Cell \u001b[1;32mIn[491], line 4\u001b[0m\n\u001b[0;32m      1\u001b[0m \u001b[38;5;66;03m#Fusionnez les datasets df_merge et df_web\u001b[39;00m\n\u001b[0;32m      2\u001b[0m \u001b[38;5;66;03m#df_merge.rename(columns={'id_web': 'sku'}, inplace=True)\u001b[39;00m\n\u001b[1;32m----> 4\u001b[0m df_merge \u001b[38;5;241m=\u001b[39m \u001b[43mpd\u001b[49m\u001b[38;5;241;43m.\u001b[39;49m\u001b[43mmerge\u001b[49m\u001b[43m(\u001b[49m\u001b[43mdf_merge\u001b[49m\u001b[43m,\u001b[49m\u001b[43m \u001b[49m\u001b[43mdf_web\u001b[49m\u001b[43m,\u001b[49m\u001b[43m \u001b[49m\u001b[43mleft_on\u001b[49m\u001b[43m \u001b[49m\u001b[38;5;241;43m=\u001b[39;49m\u001b[43m \u001b[49m\u001b[38;5;124;43m\"\u001b[39;49m\u001b[38;5;124;43mid_web\u001b[39;49m\u001b[38;5;124;43m\"\u001b[39;49m\u001b[43m,\u001b[49m\u001b[43m \u001b[49m\u001b[43mright_on\u001b[49m\u001b[38;5;241;43m=\u001b[39;49m\u001b[38;5;124;43m'\u001b[39;49m\u001b[38;5;124;43msku\u001b[39;49m\u001b[38;5;124;43m'\u001b[39;49m\u001b[43m,\u001b[49m\u001b[43m \u001b[49m\u001b[43mhow\u001b[49m\u001b[38;5;241;43m=\u001b[39;49m\u001b[38;5;124;43m'\u001b[39;49m\u001b[38;5;124;43mouter\u001b[39;49m\u001b[38;5;124;43m'\u001b[39;49m\u001b[43m,\u001b[49m\u001b[43m \u001b[49m\u001b[43mindicator\u001b[49m\u001b[38;5;241;43m=\u001b[39;49m\u001b[38;5;28;43;01mTrue\u001b[39;49;00m\u001b[43m)\u001b[49m\n",
      "File \u001b[1;32mc:\\Users\\yenbh\\AppData\\Local\\Programs\\Python\\Python311\\Lib\\site-packages\\pandas\\core\\reshape\\merge.py:162\u001b[0m, in \u001b[0;36mmerge\u001b[1;34m(left, right, how, on, left_on, right_on, left_index, right_index, sort, suffixes, copy, indicator, validate)\u001b[0m\n\u001b[0;32m    131\u001b[0m \u001b[38;5;129m@Substitution\u001b[39m(\u001b[38;5;124m\"\u001b[39m\u001b[38;5;130;01m\\n\u001b[39;00m\u001b[38;5;124mleft : DataFrame or named Series\u001b[39m\u001b[38;5;124m\"\u001b[39m)\n\u001b[0;32m    132\u001b[0m \u001b[38;5;129m@Appender\u001b[39m(_merge_doc, indents\u001b[38;5;241m=\u001b[39m\u001b[38;5;241m0\u001b[39m)\n\u001b[0;32m    133\u001b[0m \u001b[38;5;28;01mdef\u001b[39;00m \u001b[38;5;21mmerge\u001b[39m(\n\u001b[1;32m   (...)\u001b[0m\n\u001b[0;32m    146\u001b[0m     validate: \u001b[38;5;28mstr\u001b[39m \u001b[38;5;241m|\u001b[39m \u001b[38;5;28;01mNone\u001b[39;00m \u001b[38;5;241m=\u001b[39m \u001b[38;5;28;01mNone\u001b[39;00m,\n\u001b[0;32m    147\u001b[0m ) \u001b[38;5;241m-\u001b[39m\u001b[38;5;241m>\u001b[39m DataFrame:\n\u001b[0;32m    148\u001b[0m     op \u001b[38;5;241m=\u001b[39m _MergeOperation(\n\u001b[0;32m    149\u001b[0m         left,\n\u001b[0;32m    150\u001b[0m         right,\n\u001b[1;32m   (...)\u001b[0m\n\u001b[0;32m    160\u001b[0m         validate\u001b[38;5;241m=\u001b[39mvalidate,\n\u001b[0;32m    161\u001b[0m     )\n\u001b[1;32m--> 162\u001b[0m     \u001b[38;5;28;01mreturn\u001b[39;00m \u001b[43mop\u001b[49m\u001b[38;5;241;43m.\u001b[39;49m\u001b[43mget_result\u001b[49m\u001b[43m(\u001b[49m\u001b[43mcopy\u001b[49m\u001b[38;5;241;43m=\u001b[39;49m\u001b[43mcopy\u001b[49m\u001b[43m)\u001b[49m\n",
      "File \u001b[1;32mc:\\Users\\yenbh\\AppData\\Local\\Programs\\Python\\Python311\\Lib\\site-packages\\pandas\\core\\reshape\\merge.py:807\u001b[0m, in \u001b[0;36m_MergeOperation.get_result\u001b[1;34m(self, copy)\u001b[0m\n\u001b[0;32m    805\u001b[0m \u001b[38;5;28;01mdef\u001b[39;00m \u001b[38;5;21mget_result\u001b[39m(\u001b[38;5;28mself\u001b[39m, copy: \u001b[38;5;28mbool\u001b[39m \u001b[38;5;241m|\u001b[39m \u001b[38;5;28;01mNone\u001b[39;00m \u001b[38;5;241m=\u001b[39m \u001b[38;5;28;01mTrue\u001b[39;00m) \u001b[38;5;241m-\u001b[39m\u001b[38;5;241m>\u001b[39m DataFrame:\n\u001b[0;32m    806\u001b[0m     \u001b[38;5;28;01mif\u001b[39;00m \u001b[38;5;28mself\u001b[39m\u001b[38;5;241m.\u001b[39mindicator:\n\u001b[1;32m--> 807\u001b[0m         \u001b[38;5;28mself\u001b[39m\u001b[38;5;241m.\u001b[39mleft, \u001b[38;5;28mself\u001b[39m\u001b[38;5;241m.\u001b[39mright \u001b[38;5;241m=\u001b[39m \u001b[38;5;28;43mself\u001b[39;49m\u001b[38;5;241;43m.\u001b[39;49m\u001b[43m_indicator_pre_merge\u001b[49m\u001b[43m(\u001b[49m\u001b[38;5;28;43mself\u001b[39;49m\u001b[38;5;241;43m.\u001b[39;49m\u001b[43mleft\u001b[49m\u001b[43m,\u001b[49m\u001b[43m \u001b[49m\u001b[38;5;28;43mself\u001b[39;49m\u001b[38;5;241;43m.\u001b[39;49m\u001b[43mright\u001b[49m\u001b[43m)\u001b[49m\n\u001b[0;32m    809\u001b[0m     join_index, left_indexer, right_indexer \u001b[38;5;241m=\u001b[39m \u001b[38;5;28mself\u001b[39m\u001b[38;5;241m.\u001b[39m_get_join_info()\n\u001b[0;32m    811\u001b[0m     result \u001b[38;5;241m=\u001b[39m \u001b[38;5;28mself\u001b[39m\u001b[38;5;241m.\u001b[39m_reindex_and_concat(\n\u001b[0;32m    812\u001b[0m         join_index, left_indexer, right_indexer, copy\u001b[38;5;241m=\u001b[39mcopy\n\u001b[0;32m    813\u001b[0m     )\n",
      "File \u001b[1;32mc:\\Users\\yenbh\\AppData\\Local\\Programs\\Python\\Python311\\Lib\\site-packages\\pandas\\core\\reshape\\merge.py:856\u001b[0m, in \u001b[0;36m_MergeOperation._indicator_pre_merge\u001b[1;34m(self, left, right)\u001b[0m\n\u001b[0;32m    851\u001b[0m         \u001b[38;5;28;01mraise\u001b[39;00m \u001b[38;5;167;01mValueError\u001b[39;00m(\n\u001b[0;32m    852\u001b[0m             \u001b[38;5;124m\"\u001b[39m\u001b[38;5;124mCannot use `indicator=True` option when \u001b[39m\u001b[38;5;124m\"\u001b[39m\n\u001b[0;32m    853\u001b[0m             \u001b[38;5;124mf\u001b[39m\u001b[38;5;124m\"\u001b[39m\u001b[38;5;124mdata contains a column named \u001b[39m\u001b[38;5;132;01m{\u001b[39;00mi\u001b[38;5;132;01m}\u001b[39;00m\u001b[38;5;124m\"\u001b[39m\n\u001b[0;32m    854\u001b[0m         )\n\u001b[0;32m    855\u001b[0m \u001b[38;5;28;01mif\u001b[39;00m \u001b[38;5;28mself\u001b[39m\u001b[38;5;241m.\u001b[39m_indicator_name \u001b[38;5;129;01min\u001b[39;00m columns:\n\u001b[1;32m--> 856\u001b[0m     \u001b[38;5;28;01mraise\u001b[39;00m \u001b[38;5;167;01mValueError\u001b[39;00m(\n\u001b[0;32m    857\u001b[0m         \u001b[38;5;124m\"\u001b[39m\u001b[38;5;124mCannot use name of an existing column for indicator column\u001b[39m\u001b[38;5;124m\"\u001b[39m\n\u001b[0;32m    858\u001b[0m     )\n\u001b[0;32m    860\u001b[0m left \u001b[38;5;241m=\u001b[39m left\u001b[38;5;241m.\u001b[39mcopy()\n\u001b[0;32m    861\u001b[0m right \u001b[38;5;241m=\u001b[39m right\u001b[38;5;241m.\u001b[39mcopy()\n",
      "\u001b[1;31mValueError\u001b[0m: Cannot use name of an existing column for indicator column"
     ]
    }
   ],
   "source": [
    "#Fusionnez les datasets df_merge et df_web\n",
    "df_merge.rename(columns={'id_web': 'sku'}, inplace=True)\n",
    "\n",
    "df_merge = pd.merge(df_merge, df_web, right_on='sku', how='outer', indicator=True)\n",
    "\n",
    "#111 lignes sans correspondances\n"
   ]
  },
  {
   "cell_type": "code",
   "execution_count": null,
   "id": "2021762f",
   "metadata": {},
   "outputs": [
    {
     "name": "stdout",
     "output_type": "stream",
     "text": [
      "Les lignes ne correspondant pas entre les deux fichiers sont les suivantes:\n",
      "     product_id  onsale_web  price  stock_quantity      sku      _merge  \\\n",
      "0          3847         1.0   24.2             0.0    15298        both   \n",
      "1          3849         1.0   34.3             0.0    15296        both   \n",
      "2          3850         1.0   20.8             0.0    15300        both   \n",
      "3          4032         1.0   14.1             0.0    19814        both   \n",
      "4          4039         1.0   46.0             0.0    19815        both   \n",
      "..          ...         ...    ...             ...      ...         ...   \n",
      "732        5954         NaN    NaN             NaN    15609  right_only   \n",
      "733        5955         NaN    NaN             NaN    14377  right_only   \n",
      "734        5957         NaN    NaN             NaN    13577  right_only   \n",
      "735        6100         NaN    NaN             NaN    15529  right_only   \n",
      "736        7329         NaN    NaN             NaN  14680-1  right_only   \n",
      "\n",
      "     total_sales tax_status  post_author           post_date  ...  \\\n",
      "0            6.0        NaN          2.0 2018-02-08 12:58:52  ...   \n",
      "1            0.0        NaN          2.0 2018-02-08 13:49:41  ...   \n",
      "2            0.0        NaN          2.0 2018-02-08 14:08:36  ...   \n",
      "3            3.0        NaN          2.0 2018-02-09 14:01:05  ...   \n",
      "4            0.0        NaN          2.0 2018-02-12 09:04:37  ...   \n",
      "..           ...        ...          ...                 ...  ...   \n",
      "732          NaN        NaN          NaN                 NaT  ...   \n",
      "733          NaN        NaN          NaN                 NaT  ...   \n",
      "734          NaN        NaN          NaN                 NaT  ...   \n",
      "735          NaN        NaN          NaN                 NaT  ...   \n",
      "736          NaN        NaN          NaN                 NaT  ...   \n",
      "\n",
      "    post_excerpt post_status comment_status ping_status  \\\n",
      "0            NaN     publish         closed      closed   \n",
      "1            NaN     publish         closed      closed   \n",
      "2            NaN     publish         closed      closed   \n",
      "3            NaN     publish         closed      closed   \n",
      "4            NaN     publish         closed      closed   \n",
      "..           ...         ...            ...         ...   \n",
      "732          NaN         NaN            NaN         NaN   \n",
      "733          NaN         NaN            NaN         NaN   \n",
      "734          NaN         NaN            NaN         NaN   \n",
      "735          NaN         NaN            NaN         NaN   \n",
      "736          NaN         NaN            NaN         NaN   \n",
      "\n",
      "                                             post_name       post_modified  \\\n",
      "0          pierre-jean-villa-saint-joseph-preface-2018 2019-12-30 09:30:29   \n",
      "1            pierre-jean-villa-saint-joseph-tilde-2017 2019-12-21 09:00:17   \n",
      "2    pierre-jean-villa-croze-hermitage-accroche-coe... 2020-06-26 18:15:03   \n",
      "3                    pierre-jean-villa-igp-gamine-2018 2020-01-04 16:36:01   \n",
      "4            pierre-jean-villa-cote-rotie-carmina-2017 2020-01-04 16:36:10   \n",
      "..                                                 ...                 ...   \n",
      "732                                                NaN                 NaT   \n",
      "733                                                NaN                 NaT   \n",
      "734                                                NaN                 NaT   \n",
      "735                                                NaN                 NaT   \n",
      "736                                                NaN                 NaT   \n",
      "\n",
      "      post_modified_gmt                                               guid  \\\n",
      "0   2019-12-30 08:30:29  https://www.bottle-neck.fr/wp-content/uploads/...   \n",
      "1   2019-12-21 08:00:17  https://www.bottle-neck.fr/wp-content/uploads/...   \n",
      "2   2020-06-26 16:15:03  https://www.bottle-neck.fr/wp-content/uploads/...   \n",
      "3   2020-01-04 15:36:01  https://www.bottle-neck.fr/wp-content/uploads/...   \n",
      "4   2020-01-04 15:36:10  https://www.bottle-neck.fr/wp-content/uploads/...   \n",
      "..                  ...                                                ...   \n",
      "732                 NaT                                                NaN   \n",
      "733                 NaT                                                NaN   \n",
      "734                 NaT                                                NaN   \n",
      "735                 NaT                                                NaN   \n",
      "736                 NaT                                                NaN   \n",
      "\n",
      "      post_type post_mime_type  \n",
      "0    attachment     image/jpeg  \n",
      "1    attachment     image/jpeg  \n",
      "2    attachment     image/jpeg  \n",
      "3    attachment     image/jpeg  \n",
      "4    attachment     image/jpeg  \n",
      "..          ...            ...  \n",
      "732         NaN            NaN  \n",
      "733         NaN            NaN  \n",
      "734         NaN            NaN  \n",
      "735         NaN            NaN  \n",
      "736         NaN            NaN  \n",
      "\n",
      "[737 rows x 22 columns]\n"
     ]
    }
   ],
   "source": [
    "#Avons-nous des lignes sans correspondances?\n",
    "lignes_non_matching = df_merge[df_merge.isnull().any(axis=1)]\n",
    "\n",
    "if lignes_non_matching.empty:\n",
    "    print(\"Il n'y a aucune ligne ne correspondant pas entre les deux fichiers.\")\n",
    "else:\n",
    "    print(\"Les lignes ne correspondant pas entre les deux fichiers sont les suivantes:\")\n",
    "    print(lignes_non_matching)"
   ]
  },
  {
   "cell_type": "code",
   "execution_count": null,
   "id": "e435735c",
   "metadata": {},
   "outputs": [],
   "source": []
  },
  {
   "cell_type": "markdown",
   "id": "9130b729",
   "metadata": {},
   "source": [
    "<div style=\"border: 1px solid RGB(51,165,182);\" >\n",
    "<h3 style=\"margin: auto; padding: 20px; color: RGB(51,165,182); \">Etape 3.3 - Jonction du fichier df_merge et df_caracteristiques</h3>\n",
    "</div>"
   ]
  },
  {
   "cell_type": "code",
   "execution_count": null,
   "id": "3adf8bbc",
   "metadata": {},
   "outputs": [],
   "source": [
    "#Fusion de la table df_merge et df_caracteristiques \n",
    "df_merge = pd.merge(df_merge, df_caracteristiques, on='post_name', how='left')"
   ]
  },
  {
   "cell_type": "markdown",
   "id": "13d81fd6",
   "metadata": {},
   "source": [
    "<div style=\"background-color: RGB(51,165,182);\" >\n",
    "<h2 style=\"margin: auto; padding: 20px; color:#fff; \">Etape 4 - Analyse univarié des prix</h2>\n",
    "</div>"
   ]
  },
  {
   "cell_type": "markdown",
   "id": "9c8d0615",
   "metadata": {},
   "source": [
    "<div style=\"border: 1px solid RGB(51,165,182);\" >\n",
    "<h3 style=\"margin: auto; padding: 20px; color: RGB(51,165,182); \">Etape 4.1 - Exploration par la visualisation de données</h3>\n",
    "</div>"
   ]
  },
  {
   "cell_type": "code",
   "execution_count": null,
   "id": "3be61f06",
   "metadata": {},
   "outputs": [
    {
     "data": {
      "image/png": "[encoded data removed]",
      "text/plain": [
       "<Figure size 1000x600 with 1 Axes>"
      ]
     },
     "metadata": {},
     "output_type": "display_data"
    }
   ],
   "source": [
    "#Création d'une Boite à moustache de la répartition des prix grâce à Pandas\n",
    "\n",
    "import seaborn as sns\n",
    "import matplotlib.pyplot as plt\n",
    "\n",
    "# Créer une boîte à moustaches avec seaborn\n",
    "plt.figure(figsize=(10, 6))\n",
    "sns.boxplot(x='price', data=df_merge)\n",
    "\n",
    "# Ajouter un titre et des labels\n",
    "plt.title('Répartition des Prix')\n",
    "plt.xlabel('Prix')\n",
    "\n",
    "# Afficher le graphique\n",
    "plt.show()\n"
   ]
  },
  {
   "cell_type": "code",
   "execution_count": null,
   "id": "cbfe6346",
   "metadata": {},
   "outputs": [
    {
     "data": {
      "application/vnd.plotly.v1+json": {
       "config": {
        "plotlyServerURL": "https://plot.ly"
       },
       "data": [
        {
         "alignmentgroup": "True",
         "hovertemplate": "price=%{x}<extra></extra>",
         "legendgroup": "",
         "marker": {
          "color": "#636efa"
         },
         "name": "",
         "notched": false,
         "offsetgroup": "",
         "orientation": "h",
         "showlegend": false,
         "type": "box",
         "x": [
          24.2,
          34.3,
          20.8,
          14.1,
          46,
          34.3,
          32.7,
          31.2,
          60,
          42.6,
          80,
          18.3,
          22.8,
          19.3,
          21.8,
          7.7,
          33.7,
          44.3,
          71.6,
          12.7,
          8.7,
          8.7,
          8.7,
          11.9,
          11.9,
          14.5,
          14.4,
          19.5,
          20.8,
          22,
          16.6,
          60,
          23.4,
          33.2,
          32,
          77.8,
          12.7,
          14.7,
          14.05,
          22.9,
          44,
          37,
          39,
          17,
          23.2,
          19,
          16.4,
          14.4,
          13.7,
          12.6,
          22.8,
          12.8,
          22.1,
          12.8,
          15.8,
          15.8,
          16.3,
          16.3,
          9.7,
          6.8,
          12.6,
          35,
          31.7,
          100,
          23,
          88.4,
          29.8,
          25.7,
          77.4,
          39,
          53,
          49,
          29.5,
          33,
          37.5,
          69,
          59,
          13.7,
          19.2,
          29,
          9.8,
          14.5,
          20.35,
          12,
          18.5,
          9.3,
          9.3,
          11.6,
          14.3,
          10.8,
          7.6,
          12,
          20.5,
          14.3,
          18.2,
          9,
          7.8,
          5.7,
          5.7,
          5.7,
          13.5,
          13.5,
          11.5,
          24,
          24,
          11.9,
          16.7,
          21.4,
          16.6,
          13.3,
          9.5,
          12.1,
          9.3,
          17.8,
          13.5,
          10.8,
          27.2,
          9.4,
          5.8,
          5.8,
          38,
          38,
          9.9,
          11.3,
          23,
          6.7,
          7.6,
          79.8,
          48.5,
          39.8,
          58.8,
          26.5,
          13.4,
          17.1,
          16.7,
          11.6,
          12.8,
          8.9,
          9.7,
          17.2,
          16.9,
          12.6,
          29.9,
          9.6,
          11.1,
          11.1,
          17.1,
          28,
          28,
          8.9,
          8.6,
          13.5,
          8.9,
          15.3,
          14.8,
          19.5,
          14.1,
          59.6,
          26.9,
          24.4,
          31.7,
          32.1,
          12.2,
          9.9,
          15.8,
          15.8,
          17.8,
          9.6,
          19,
          15.2,
          10.2,
          15.5,
          16.6,
          9.2,
          12.9,
          14.9,
          17.6,
          24.8,
          18.9,
          11.6,
          27,
          41,
          69.8,
          38.6,
          26.7,
          19,
          23.2,
          39.1,
          44,
          17.5,
          30,
          8.1,
          10.7,
          10.9,
          49,
          35.5,
          83,
          59,
          79.5,
          225,
          79.5,
          126.5,
          51.6,
          39,
          77,
          85.6,
          49.5,
          49.5,
          49.5,
          57,
          59.8,
          27.5,
          62,
          59,
          59,
          59,
          44,
          62.5,
          176,
          108.5,
          68.1,
          157,
          104,
          28.1,
          21.7,
          28.5,
          67.2,
          109.6,
          144,
          84.7,
          43.3,
          25,
          54.8,
          null,
          null,
          null,
          null,
          null,
          null,
          null,
          null,
          null,
          null,
          null,
          null,
          null,
          null,
          null,
          null,
          null,
          null,
          null,
          null,
          43.9,
          61.6,
          41.8,
          26.5,
          16.1,
          31.5,
          31.5,
          49,
          32.2,
          50.1,
          13.4,
          11.8,
          13.1,
          26.2,
          20.6,
          16.9,
          19,
          24,
          57,
          67.5,
          30.6,
          59,
          11.9,
          16.5,
          52.4,
          52.9,
          58.3,
          39.6,
          52.4,
          62.4,
          76.8,
          50,
          52.4,
          41,
          62.4,
          50,
          21.5,
          28.5,
          24.3,
          16.5,
          25.3,
          49,
          36.2,
          33.4,
          40.2,
          43,
          43,
          48.8,
          20.8,
          16.4,
          14.4,
          21,
          12.3,
          20.2,
          17,
          21.9,
          17.8,
          19.8,
          19,
          10.7,
          12.9,
          9.5,
          29.8,
          13.2,
          6.3,
          7.1,
          9.1,
          9.1,
          18.1,
          14,
          30.1,
          12.8,
          12.8,
          19.8,
          18.2,
          31.6,
          16.8,
          22.8,
          32.6,
          44,
          55.4,
          15.8,
          18.4,
          13.3,
          11.1,
          18.6,
          23.4,
          18.2,
          12.5,
          15.9,
          13.7,
          29,
          23.4,
          12.7,
          26,
          29.5,
          8.6,
          14.3,
          22,
          16.8,
          15.3,
          7.4,
          9.7,
          14.5,
          11.9,
          16.4,
          27.9,
          12,
          7.4,
          26.5,
          24.3,
          16.9,
          6.8,
          13.9,
          7.8,
          13.7,
          9.8,
          29.5,
          28.5,
          10.1,
          12.1,
          12.3,
          11.1,
          11.1,
          13.6,
          21,
          18.7,
          41.6,
          12,
          78,
          14.9,
          6.5,
          8.7,
          8.5,
          9.9,
          8.2,
          9.8,
          9.9,
          9.3,
          22.8,
          18.7,
          28.4,
          27.9,
          25.3,
          17,
          27.9,
          20.1,
          27.9,
          21.2,
          20.8,
          41,
          46,
          102.3,
          137,
          22.9,
          53.2,
          25.9,
          17.3,
          25.9,
          28,
          25.9,
          25.9,
          37.2,
          24.4,
          24.4,
          7,
          12.8,
          23.2,
          7.9,
          6.5,
          7.9,
          16.7,
          17.5,
          27.8,
          25.7,
          18.4,
          22.2,
          11.1,
          9.9,
          12.5,
          12.9,
          20.5,
          11.3,
          7,
          12.1,
          7.1,
          49.5,
          23,
          23.7,
          16.45,
          16.3,
          18.5,
          26.5,
          78,
          78,
          78,
          27.3,
          217.5,
          64.9,
          48.7,
          59.4,
          48.7,
          105,
          105,
          55.6,
          9.3,
          19.8,
          45,
          112,
          86.8,
          62.1,
          22.5,
          7.5,
          52.6,
          45,
          67,
          59.9,
          59.9,
          65,
          15.2,
          19,
          11.1,
          18,
          22.8,
          19.5,
          28.8,
          16.1,
          24.2,
          35.3,
          10.7,
          12.7,
          17.1,
          24,
          39,
          13.2,
          23.6,
          15.5,
          16.3,
          16.2,
          7.2,
          54.8,
          42,
          19.8,
          10.2,
          10.4,
          11.5,
          17.9,
          21.6,
          33.4,
          49.5,
          43.5,
          43.5,
          26.5,
          13.8,
          18.2,
          12.9,
          38.6,
          48.4,
          60.4,
          38.6,
          12,
          61.6,
          65.9,
          15.2,
          24.6,
          48.8,
          34.3,
          36.3,
          57.7,
          38,
          58,
          58,
          30.8,
          92,
          27.5,
          34.7,
          59.6,
          83.7,
          30.5,
          38.6,
          18,
          63.4,
          124.8,
          19.2,
          19.2,
          56.4,
          38.4,
          27.8,
          71.3,
          71.3,
          25,
          10.3,
          28,
          44.6,
          13,
          12.7,
          6.5,
          17.5,
          29.9,
          44.5,
          29.4,
          16.9,
          19.8,
          10.3,
          10.8,
          31.7,
          25,
          57.6,
          13.7,
          7.1,
          14.9,
          11,
          14.6,
          10.7,
          73.3,
          42.1,
          57,
          24.5,
          10.1,
          42.2,
          13.1,
          19.5,
          12.9,
          35.6,
          175,
          35.6,
          33.6,
          34.4,
          38.4,
          29.7,
          32.8,
          5.7,
          5.8,
          5.8,
          21.7,
          23,
          12.5,
          17.2,
          40.2,
          24,
          23.8,
          17.1,
          25,
          17.4,
          27.3,
          17.9,
          24,
          16.6,
          16.9,
          57.6,
          63.5,
          56,
          63.5,
          41.2,
          55,
          57,
          19.3,
          19,
          191.3,
          26.6,
          15.4,
          24.7,
          28.1,
          18.25,
          35.1,
          27.3,
          18.8,
          43.9,
          19.8,
          17.7,
          57,
          36,
          36,
          93,
          122,
          114,
          48.5,
          49.5,
          14.1,
          59.9,
          46,
          74.5,
          17.2,
          8.7,
          15.4,
          12.7,
          30,
          13.5,
          16.3,
          56.3,
          71.5,
          69,
          17.9,
          48.5,
          71.7,
          8.5,
          10.9,
          21.8,
          38.5,
          9.3,
          13.6,
          24.5,
          12.6,
          13.4,
          29.8,
          36.9,
          40.7,
          33.2,
          34.8,
          74.8,
          62.4,
          46,
          39.2,
          135,
          10.6,
          10.6,
          5.2,
          46,
          105.6,
          116.4,
          31,
          20.2,
          25.2,
          25.2,
          115,
          121,
          99,
          115,
          121,
          23.5,
          26.4,
          26.7,
          20.4,
          20.4,
          40.2,
          9,
          45.9,
          10.4,
          78,
          40.5,
          27.9,
          22.4,
          28.4,
          72,
          29,
          29.2,
          44,
          68.3,
          41.8,
          40,
          13.5,
          19,
          24.4,
          32.8,
          15.4,
          9.9,
          13.5,
          51,
          35.2,
          42.2,
          33.2,
          41.8,
          32.2,
          37.7,
          47.2,
          52.7,
          22.4,
          50.4,
          35.6,
          27.7,
          48.5,
          15.4,
          46.5,
          46.5,
          46.5,
          42,
          21.8,
          50.5,
          49.9,
          19,
          8.4,
          27.5,
          69,
          16.3
         ],
         "x0": " ",
         "xaxis": "x",
         "y0": " ",
         "yaxis": "y"
        }
       ],
       "layout": {
        "boxmode": "group",
        "legend": {
         "tracegroupgap": 0
        },
        "template": {
         "data": {
          "bar": [
           {
            "error_x": {
             "color": "#2a3f5f"
            },
            "error_y": {
             "color": "#2a3f5f"
            },
            "marker": {
             "line": {
              "color": "#E5ECF6",
              "width": 0.5
             },
             "pattern": {
              "fillmode": "overlay",
              "size": 10,
              "solidity": 0.2
             }
            },
            "type": "bar"
           }
          ],
          "barpolar": [
           {
            "marker": {
             "line": {
              "color": "#E5ECF6",
              "width": 0.5
             },
             "pattern": {
              "fillmode": "overlay",
              "size": 10,
              "solidity": 0.2
             }
            },
            "type": "barpolar"
           }
          ],
          "carpet": [
           {
            "aaxis": {
             "endlinecolor": "#2a3f5f",
             "gridcolor": "white",
             "linecolor": "white",
             "minorgridcolor": "white",
             "startlinecolor": "#2a3f5f"
            },
            "baxis": {
             "endlinecolor": "#2a3f5f",
             "gridcolor": "white",
             "linecolor": "white",
             "minorgridcolor": "white",
             "startlinecolor": "#2a3f5f"
            },
            "type": "carpet"
           }
          ],
          "choropleth": [
           {
            "colorbar": {
             "outlinewidth": 0,
             "ticks": ""
            },
            "type": "choropleth"
           }
          ],
          "contour": [
           {
            "colorbar": {
             "outlinewidth": 0,
             "ticks": ""
            },
            "colorscale": [
             [
              0,
              "#0d0887"
             ],
             [
              0.1111111111111111,
              "#46039f"
             ],
             [
              0.2222222222222222,
              "#7201a8"
             ],
             [
              0.3333333333333333,
              "#9c179e"
             ],
             [
              0.4444444444444444,
              "#bd3786"
             ],
             [
              0.5555555555555556,
              "#d8576b"
             ],
             [
              0.6666666666666666,
              "#ed7953"
             ],
             [
              0.7777777777777778,
              "#fb9f3a"
             ],
             [
              0.8888888888888888,
              "#fdca26"
             ],
             [
              1,
              "#f0f921"
             ]
            ],
            "type": "contour"
           }
          ],
          "contourcarpet": [
           {
            "colorbar": {
             "outlinewidth": 0,
             "ticks": ""
            },
            "type": "contourcarpet"
           }
          ],
          "heatmap": [
           {
            "colorbar": {
             "outlinewidth": 0,
             "ticks": ""
            },
            "colorscale": [
             [
              0,
              "#0d0887"
             ],
             [
              0.1111111111111111,
              "#46039f"
             ],
             [
              0.2222222222222222,
              "#7201a8"
             ],
             [
              0.3333333333333333,
              "#9c179e"
             ],
             [
              0.4444444444444444,
              "#bd3786"
             ],
             [
              0.5555555555555556,
              "#d8576b"
             ],
             [
              0.6666666666666666,
              "#ed7953"
             ],
             [
              0.7777777777777778,
              "#fb9f3a"
             ],
             [
              0.8888888888888888,
              "#fdca26"
             ],
             [
              1,
              "#f0f921"
             ]
            ],
            "type": "heatmap"
           }
          ],
          "heatmapgl": [
           {
            "colorbar": {
             "outlinewidth": 0,
             "ticks": ""
            },
            "colorscale": [
             [
              0,
              "#0d0887"
             ],
             [
              0.1111111111111111,
              "#46039f"
             ],
             [
              0.2222222222222222,
              "#7201a8"
             ],
             [
              0.3333333333333333,
              "#9c179e"
             ],
             [
              0.4444444444444444,
              "#bd3786"
             ],
             [
              0.5555555555555556,
              "#d8576b"
             ],
             [
              0.6666666666666666,
              "#ed7953"
             ],
             [
              0.7777777777777778,
              "#fb9f3a"
             ],
             [
              0.8888888888888888,
              "#fdca26"
             ],
             [
              1,
              "#f0f921"
             ]
            ],
            "type": "heatmapgl"
           }
          ],
          "histogram": [
           {
            "marker": {
             "pattern": {
              "fillmode": "overlay",
              "size": 10,
              "solidity": 0.2
             }
            },
            "type": "histogram"
           }
          ],
          "histogram2d": [
           {
            "colorbar": {
             "outlinewidth": 0,
             "ticks": ""
            },
            "colorscale": [
             [
              0,
              "#0d0887"
             ],
             [
              0.1111111111111111,
              "#46039f"
             ],
             [
              0.2222222222222222,
              "#7201a8"
             ],
             [
              0.3333333333333333,
              "#9c179e"
             ],
             [
              0.4444444444444444,
              "#bd3786"
             ],
             [
              0.5555555555555556,
              "#d8576b"
             ],
             [
              0.6666666666666666,
              "#ed7953"
             ],
             [
              0.7777777777777778,
              "#fb9f3a"
             ],
             [
              0.8888888888888888,
              "#fdca26"
             ],
             [
              1,
              "#f0f921"
             ]
            ],
            "type": "histogram2d"
           }
          ],
          "histogram2dcontour": [
           {
            "colorbar": {
             "outlinewidth": 0,
             "ticks": ""
            },
            "colorscale": [
             [
              0,
              "#0d0887"
             ],
             [
              0.1111111111111111,
              "#46039f"
             ],
             [
              0.2222222222222222,
              "#7201a8"
             ],
             [
              0.3333333333333333,
              "#9c179e"
             ],
             [
              0.4444444444444444,
              "#bd3786"
             ],
             [
              0.5555555555555556,
              "#d8576b"
             ],
             [
              0.6666666666666666,
              "#ed7953"
             ],
             [
              0.7777777777777778,
              "#fb9f3a"
             ],
             [
              0.8888888888888888,
              "#fdca26"
             ],
             [
              1,
              "#f0f921"
             ]
            ],
            "type": "histogram2dcontour"
           }
          ],
          "mesh3d": [
           {
            "colorbar": {
             "outlinewidth": 0,
             "ticks": ""
            },
            "type": "mesh3d"
           }
          ],
          "parcoords": [
           {
            "line": {
             "colorbar": {
              "outlinewidth": 0,
              "ticks": ""
             }
            },
            "type": "parcoords"
           }
          ],
          "pie": [
           {
            "automargin": true,
            "type": "pie"
           }
          ],
          "scatter": [
           {
            "fillpattern": {
             "fillmode": "overlay",
             "size": 10,
             "solidity": 0.2
            },
            "type": "scatter"
           }
          ],
          "scatter3d": [
           {
            "line": {
             "colorbar": {
              "outlinewidth": 0,
              "ticks": ""
             }
            },
            "marker": {
             "colorbar": {
              "outlinewidth": 0,
              "ticks": ""
             }
            },
            "type": "scatter3d"
           }
          ],
          "scattercarpet": [
           {
            "marker": {
             "colorbar": {
              "outlinewidth": 0,
              "ticks": ""
             }
            },
            "type": "scattercarpet"
           }
          ],
          "scattergeo": [
           {
            "marker": {
             "colorbar": {
              "outlinewidth": 0,
              "ticks": ""
             }
            },
            "type": "scattergeo"
           }
          ],
          "scattergl": [
           {
            "marker": {
             "colorbar": {
              "outlinewidth": 0,
              "ticks": ""
             }
            },
            "type": "scattergl"
           }
          ],
          "scattermapbox": [
           {
            "marker": {
             "colorbar": {
              "outlinewidth": 0,
              "ticks": ""
             }
            },
            "type": "scattermapbox"
           }
          ],
          "scatterpolar": [
           {
            "marker": {
             "colorbar": {
              "outlinewidth": 0,
              "ticks": ""
             }
            },
            "type": "scatterpolar"
           }
          ],
          "scatterpolargl": [
           {
            "marker": {
             "colorbar": {
              "outlinewidth": 0,
              "ticks": ""
             }
            },
            "type": "scatterpolargl"
           }
          ],
          "scatterternary": [
           {
            "marker": {
             "colorbar": {
              "outlinewidth": 0,
              "ticks": ""
             }
            },
            "type": "scatterternary"
           }
          ],
          "surface": [
           {
            "colorbar": {
             "outlinewidth": 0,
             "ticks": ""
            },
            "colorscale": [
             [
              0,
              "#0d0887"
             ],
             [
              0.1111111111111111,
              "#46039f"
             ],
             [
              0.2222222222222222,
              "#7201a8"
             ],
             [
              0.3333333333333333,
              "#9c179e"
             ],
             [
              0.4444444444444444,
              "#bd3786"
             ],
             [
              0.5555555555555556,
              "#d8576b"
             ],
             [
              0.6666666666666666,
              "#ed7953"
             ],
             [
              0.7777777777777778,
              "#fb9f3a"
             ],
             [
              0.8888888888888888,
              "#fdca26"
             ],
             [
              1,
              "#f0f921"
             ]
            ],
            "type": "surface"
           }
          ],
          "table": [
           {
            "cells": {
             "fill": {
              "color": "#EBF0F8"
             },
             "line": {
              "color": "white"
             }
            },
            "header": {
             "fill": {
              "color": "#C8D4E3"
             },
             "line": {
              "color": "white"
             }
            },
            "type": "table"
           }
          ]
         },
         "layout": {
          "annotationdefaults": {
           "arrowcolor": "#2a3f5f",
           "arrowhead": 0,
           "arrowwidth": 1
          },
          "autotypenumbers": "strict",
          "coloraxis": {
           "colorbar": {
            "outlinewidth": 0,
            "ticks": ""
           }
          },
          "colorscale": {
           "diverging": [
            [
             0,
             "#8e0152"
            ],
            [
             0.1,
             "#c51b7d"
            ],
            [
             0.2,
             "#de77ae"
            ],
            [
             0.3,
             "#f1b6da"
            ],
            [
             0.4,
             "#fde0ef"
            ],
            [
             0.5,
             "#f7f7f7"
            ],
            [
             0.6,
             "#e6f5d0"
            ],
            [
             0.7,
             "#b8e186"
            ],
            [
             0.8,
             "#7fbc41"
            ],
            [
             0.9,
             "#4d9221"
            ],
            [
             1,
             "#276419"
            ]
           ],
           "sequential": [
            [
             0,
             "#0d0887"
            ],
            [
             0.1111111111111111,
             "#46039f"
            ],
            [
             0.2222222222222222,
             "#7201a8"
            ],
            [
             0.3333333333333333,
             "#9c179e"
            ],
            [
             0.4444444444444444,
             "#bd3786"
            ],
            [
             0.5555555555555556,
             "#d8576b"
            ],
            [
             0.6666666666666666,
             "#ed7953"
            ],
            [
             0.7777777777777778,
             "#fb9f3a"
            ],
            [
             0.8888888888888888,
             "#fdca26"
            ],
            [
             1,
             "#f0f921"
            ]
           ],
           "sequentialminus": [
            [
             0,
             "#0d0887"
            ],
            [
             0.1111111111111111,
             "#46039f"
            ],
            [
             0.2222222222222222,
             "#7201a8"
            ],
            [
             0.3333333333333333,
             "#9c179e"
            ],
            [
             0.4444444444444444,
             "#bd3786"
            ],
            [
             0.5555555555555556,
             "#d8576b"
            ],
            [
             0.6666666666666666,
             "#ed7953"
            ],
            [
             0.7777777777777778,
             "#fb9f3a"
            ],
            [
             0.8888888888888888,
             "#fdca26"
            ],
            [
             1,
             "#f0f921"
            ]
           ]
          },
          "colorway": [
           "#636efa",
           "#EF553B",
           "#00cc96",
           "#ab63fa",
           "#FFA15A",
           "#19d3f3",
           "#FF6692",
           "#B6E880",
           "#FF97FF",
           "#FECB52"
          ],
          "font": {
           "color": "#2a3f5f"
          },
          "geo": {
           "bgcolor": "white",
           "lakecolor": "white",
           "landcolor": "#E5ECF6",
           "showlakes": true,
           "showland": true,
           "subunitcolor": "white"
          },
          "hoverlabel": {
           "align": "left"
          },
          "hovermode": "closest",
          "mapbox": {
           "style": "light"
          },
          "paper_bgcolor": "white",
          "plot_bgcolor": "#E5ECF6",
          "polar": {
           "angularaxis": {
            "gridcolor": "white",
            "linecolor": "white",
            "ticks": ""
           },
           "bgcolor": "#E5ECF6",
           "radialaxis": {
            "gridcolor": "white",
            "linecolor": "white",
            "ticks": ""
           }
          },
          "scene": {
           "xaxis": {
            "backgroundcolor": "#E5ECF6",
            "gridcolor": "white",
            "gridwidth": 2,
            "linecolor": "white",
            "showbackground": true,
            "ticks": "",
            "zerolinecolor": "white"
           },
           "yaxis": {
            "backgroundcolor": "#E5ECF6",
            "gridcolor": "white",
            "gridwidth": 2,
            "linecolor": "white",
            "showbackground": true,
            "ticks": "",
            "zerolinecolor": "white"
           },
           "zaxis": {
            "backgroundcolor": "#E5ECF6",
            "gridcolor": "white",
            "gridwidth": 2,
            "linecolor": "white",
            "showbackground": true,
            "ticks": "",
            "zerolinecolor": "white"
           }
          },
          "shapedefaults": {
           "line": {
            "color": "#2a3f5f"
           }
          },
          "ternary": {
           "aaxis": {
            "gridcolor": "white",
            "linecolor": "white",
            "ticks": ""
           },
           "baxis": {
            "gridcolor": "white",
            "linecolor": "white",
            "ticks": ""
           },
           "bgcolor": "#E5ECF6",
           "caxis": {
            "gridcolor": "white",
            "linecolor": "white",
            "ticks": ""
           }
          },
          "title": {
           "x": 0.05
          },
          "xaxis": {
           "automargin": true,
           "gridcolor": "white",
           "linecolor": "white",
           "ticks": "",
           "title": {
            "standoff": 15
           },
           "zerolinecolor": "white",
           "zerolinewidth": 2
          },
          "yaxis": {
           "automargin": true,
           "gridcolor": "white",
           "linecolor": "white",
           "ticks": "",
           "title": {
            "standoff": 15
           },
           "zerolinecolor": "white",
           "zerolinewidth": 2
          }
         }
        },
        "title": {
         "text": "Répartition des Prix"
        },
        "xaxis": {
         "anchor": "y",
         "domain": [
          0,
          1
         ],
         "title": {
          "text": "price"
         }
        },
        "yaxis": {
         "anchor": "x",
         "domain": [
          0,
          1
         ]
        }
       }
      }
     },
     "metadata": {},
     "output_type": "display_data"
    }
   ],
   "source": [
    "#Autre méthode avec plotly express\n",
    "\n",
    "import plotly.express as px\n",
    "\n",
    "# Créer une boîte à moustaches avec Plotly Express\n",
    "fig = px.box(df_merge, x='price', title='Répartition des Prix')\n",
    "\n",
    "# Afficher le graphique\n",
    "fig.show()"
   ]
  },
  {
   "cell_type": "markdown",
   "id": "79e2f2eb",
   "metadata": {},
   "source": [
    "<div style=\"border: 1px solid RGB(51,165,182);\" >\n",
    "<h3 style=\"margin: auto; padding: 20px; color: RGB(51,165,182); \">Etape 4.2 - Exploration par l'utisation de méthodes statistique</h3>\n",
    "</div>"
   ]
  },
  {
   "cell_type": "markdown",
   "id": "0735c3b2",
   "metadata": {},
   "source": [
    "<div style=\"border: 1px solid RGB(51,165,182);\" >\n",
    "<h3 style=\"margin: auto; padding: 20px; color: RGB(51,165,182); \">Etape 4.2.1 - Identification par le Z-index</h3>\n",
    "</div>"
   ]
  },
  {
   "cell_type": "code",
   "execution_count": null,
   "id": "1950ef8d",
   "metadata": {},
   "outputs": [
    {
     "name": "stdout",
     "output_type": "stream",
     "text": [
      "La moyenne du prix est : 32.736541143654115\n",
      "L'écart-type du prix est : 28.132911863492644\n",
      "float64\n",
      "     price  z_score_price\n",
      "0     24.2            NaN\n",
      "1     34.3            NaN\n",
      "2     20.8            NaN\n",
      "3     14.1            NaN\n",
      "4     46.0            NaN\n",
      "..     ...            ...\n",
      "732   19.0            NaN\n",
      "733    8.4            NaN\n",
      "734   27.5            NaN\n",
      "735   69.0            NaN\n",
      "736   16.3            NaN\n",
      "\n",
      "[737 rows x 2 columns]\n"
     ]
    }
   ],
   "source": [
    "#Calculer la moyenne du prix\n",
    "print(\"La moyenne du prix est :\", df_merge['price'].mean())\n",
    "#Calculer l'écart-type du prix\n",
    "print(\"L'écart-type du prix est :\", df_merge['price'].std())\n",
    "#Calculer le Z-score\n",
    "\n",
    "print(df_merge['price'].dtype)\n",
    "\n",
    "from scipy.stats import zscore\n",
    "\n",
    "# Calculer le Z-score du prix\n",
    "df_merge['z_score_price'] = zscore(df_merge['price'])\n",
    "\n",
    "# Afficher la DataFrame avec le Z-score ajouté\n",
    "print(df_merge[['price', 'z_score_price']])"
   ]
  },
  {
   "cell_type": "code",
   "execution_count": null,
   "id": "9c2f435f",
   "metadata": {},
   "outputs": [],
   "source": [
    "#Quel est le seuil prix dont z-score est supérieur à 3?\n"
   ]
  },
  {
   "cell_type": "markdown",
   "id": "750f54f3",
   "metadata": {},
   "source": [
    "<div style=\"border: 1px solid RGB(51,165,182);\" >\n",
    "<h3 style=\"margin: auto; padding: 20px; color: RGB(51,165,182); \">Etape 4.2.2 - Identification par l'interval interquartile</h3>\n",
    "</div>"
   ]
  },
  {
   "cell_type": "code",
   "execution_count": null,
   "id": "6c0db8c0",
   "metadata": {},
   "outputs": [
    {
     "data": {
      "text/html": [
       "<div>\n",
       "<style scoped>\n",
       "    .dataframe tbody tr th:only-of-type {\n",
       "        vertical-align: middle;\n",
       "    }\n",
       "\n",
       "    .dataframe tbody tr th {\n",
       "        vertical-align: top;\n",
       "    }\n",
       "\n",
       "    .dataframe thead th {\n",
       "        text-align: right;\n",
       "    }\n",
       "</style>\n",
       "<table border=\"1\" class=\"dataframe\">\n",
       "  <thead>\n",
       "    <tr style=\"text-align: right;\">\n",
       "      <th></th>\n",
       "      <th>product_id</th>\n",
       "      <th>onsale_web</th>\n",
       "      <th>price</th>\n",
       "      <th>stock_quantity</th>\n",
       "      <th>total_sales</th>\n",
       "      <th>post_author</th>\n",
       "      <th>post_date</th>\n",
       "      <th>post_date_gmt</th>\n",
       "      <th>post_modified</th>\n",
       "      <th>post_modified_gmt</th>\n",
       "      <th>Millésime</th>\n",
       "      <th>z_score_price</th>\n",
       "    </tr>\n",
       "  </thead>\n",
       "  <tbody>\n",
       "    <tr>\n",
       "      <th>count</th>\n",
       "      <td>737.000000</td>\n",
       "      <td>717.0</td>\n",
       "      <td>717.000000</td>\n",
       "      <td>717.000000</td>\n",
       "      <td>712.000000</td>\n",
       "      <td>712.0</td>\n",
       "      <td>712</td>\n",
       "      <td>712</td>\n",
       "      <td>712</td>\n",
       "      <td>712</td>\n",
       "      <td>541.000000</td>\n",
       "      <td>0.0</td>\n",
       "    </tr>\n",
       "    <tr>\n",
       "      <th>mean</th>\n",
       "      <td>5041.335142</td>\n",
       "      <td>1.0</td>\n",
       "      <td>32.736541</td>\n",
       "      <td>28.626220</td>\n",
       "      <td>4.009831</td>\n",
       "      <td>2.0</td>\n",
       "      <td>2018-08-21 08:33:08.113764096</td>\n",
       "      <td>2018-08-21 07:04:29.012640512</td>\n",
       "      <td>2020-06-21 22:02:37.813202432</td>\n",
       "      <td>2020-06-21 20:09:07.139044864</td>\n",
       "      <td>2017.942699</td>\n",
       "      <td>NaN</td>\n",
       "    </tr>\n",
       "    <tr>\n",
       "      <th>min</th>\n",
       "      <td>3847.000000</td>\n",
       "      <td>1.0</td>\n",
       "      <td>5.200000</td>\n",
       "      <td>0.000000</td>\n",
       "      <td>0.000000</td>\n",
       "      <td>2.0</td>\n",
       "      <td>2018-02-08 12:58:52</td>\n",
       "      <td>2018-02-08 11:58:52</td>\n",
       "      <td>2018-02-20 15:19:23</td>\n",
       "      <td>2018-02-20 14:19:23</td>\n",
       "      <td>2003.000000</td>\n",
       "      <td>NaN</td>\n",
       "    </tr>\n",
       "    <tr>\n",
       "      <th>25%</th>\n",
       "      <td>4288.000000</td>\n",
       "      <td>1.0</td>\n",
       "      <td>14.100000</td>\n",
       "      <td>2.000000</td>\n",
       "      <td>0.000000</td>\n",
       "      <td>2.0</td>\n",
       "      <td>2018-02-27 14:12:06.750000128</td>\n",
       "      <td>2018-02-27 13:12:06.750000128</td>\n",
       "      <td>2020-06-19 10:07:33</td>\n",
       "      <td>2020-06-19 08:07:33</td>\n",
       "      <td>2017.000000</td>\n",
       "      <td>NaN</td>\n",
       "    </tr>\n",
       "    <tr>\n",
       "      <th>50%</th>\n",
       "      <td>4863.000000</td>\n",
       "      <td>1.0</td>\n",
       "      <td>23.700000</td>\n",
       "      <td>12.000000</td>\n",
       "      <td>1.000000</td>\n",
       "      <td>2.0</td>\n",
       "      <td>2018-04-19 14:44:46.500000</td>\n",
       "      <td>2018-04-19 12:44:46.500000</td>\n",
       "      <td>2020-08-04 09:30:10.500000</td>\n",
       "      <td>2020-08-04 07:30:10.500000</td>\n",
       "      <td>2019.000000</td>\n",
       "      <td>NaN</td>\n",
       "    </tr>\n",
       "    <tr>\n",
       "      <th>75%</th>\n",
       "      <td>5712.000000</td>\n",
       "      <td>1.0</td>\n",
       "      <td>42.600000</td>\n",
       "      <td>35.000000</td>\n",
       "      <td>4.000000</td>\n",
       "      <td>2.0</td>\n",
       "      <td>2019-01-31 14:29:05</td>\n",
       "      <td>2019-01-31 13:29:05</td>\n",
       "      <td>2020-08-25 10:42:32</td>\n",
       "      <td>2020-08-25 08:42:32</td>\n",
       "      <td>2020.000000</td>\n",
       "      <td>NaN</td>\n",
       "    </tr>\n",
       "    <tr>\n",
       "      <th>max</th>\n",
       "      <td>7338.000000</td>\n",
       "      <td>1.0</td>\n",
       "      <td>225.000000</td>\n",
       "      <td>578.000000</td>\n",
       "      <td>96.000000</td>\n",
       "      <td>2.0</td>\n",
       "      <td>2020-07-20 11:00:00</td>\n",
       "      <td>2020-07-20 09:00:00</td>\n",
       "      <td>2020-08-27 18:55:03</td>\n",
       "      <td>2020-08-27 16:55:03</td>\n",
       "      <td>2021.000000</td>\n",
       "      <td>NaN</td>\n",
       "    </tr>\n",
       "    <tr>\n",
       "      <th>std</th>\n",
       "      <td>788.871168</td>\n",
       "      <td>0.0</td>\n",
       "      <td>28.132912</td>\n",
       "      <td>47.947886</td>\n",
       "      <td>8.525871</td>\n",
       "      <td>0.0</td>\n",
       "      <td>NaN</td>\n",
       "      <td>NaN</td>\n",
       "      <td>NaN</td>\n",
       "      <td>NaN</td>\n",
       "      <td>2.425644</td>\n",
       "      <td>NaN</td>\n",
       "    </tr>\n",
       "  </tbody>\n",
       "</table>\n",
       "</div>"
      ],
      "text/plain": [
       "        product_id  onsale_web       price  stock_quantity  total_sales  \\\n",
       "count   737.000000       717.0  717.000000      717.000000   712.000000   \n",
       "mean   5041.335142         1.0   32.736541       28.626220     4.009831   \n",
       "min    3847.000000         1.0    5.200000        0.000000     0.000000   \n",
       "25%    4288.000000         1.0   14.100000        2.000000     0.000000   \n",
       "50%    4863.000000         1.0   23.700000       12.000000     1.000000   \n",
       "75%    5712.000000         1.0   42.600000       35.000000     4.000000   \n",
       "max    7338.000000         1.0  225.000000      578.000000    96.000000   \n",
       "std     788.871168         0.0   28.132912       47.947886     8.525871   \n",
       "\n",
       "       post_author                      post_date  \\\n",
       "count        712.0                            712   \n",
       "mean           2.0  2018-08-21 08:33:08.113764096   \n",
       "min            2.0            2018-02-08 12:58:52   \n",
       "25%            2.0  2018-02-27 14:12:06.750000128   \n",
       "50%            2.0     2018-04-19 14:44:46.500000   \n",
       "75%            2.0            2019-01-31 14:29:05   \n",
       "max            2.0            2020-07-20 11:00:00   \n",
       "std            0.0                            NaN   \n",
       "\n",
       "                       post_date_gmt                  post_modified  \\\n",
       "count                            712                            712   \n",
       "mean   2018-08-21 07:04:29.012640512  2020-06-21 22:02:37.813202432   \n",
       "min              2018-02-08 11:58:52            2018-02-20 15:19:23   \n",
       "25%    2018-02-27 13:12:06.750000128            2020-06-19 10:07:33   \n",
       "50%       2018-04-19 12:44:46.500000     2020-08-04 09:30:10.500000   \n",
       "75%              2019-01-31 13:29:05            2020-08-25 10:42:32   \n",
       "max              2020-07-20 09:00:00            2020-08-27 18:55:03   \n",
       "std                              NaN                            NaN   \n",
       "\n",
       "                   post_modified_gmt    Millésime  z_score_price  \n",
       "count                            712   541.000000            0.0  \n",
       "mean   2020-06-21 20:09:07.139044864  2017.942699            NaN  \n",
       "min              2018-02-20 14:19:23  2003.000000            NaN  \n",
       "25%              2020-06-19 08:07:33  2017.000000            NaN  \n",
       "50%       2020-08-04 07:30:10.500000  2019.000000            NaN  \n",
       "75%              2020-08-25 08:42:32  2020.000000            NaN  \n",
       "max              2020-08-27 16:55:03  2021.000000            NaN  \n",
       "std                              NaN     2.425644            NaN  "
      ]
     },
     "execution_count": 377,
     "metadata": {},
     "output_type": "execute_result"
    }
   ],
   "source": [
    "#Utilisation de la fonction describe de Pandas pour l'etude des mesures de dispersions\n",
    "df_merge.describe()"
   ]
  },
  {
   "cell_type": "code",
   "execution_count": null,
   "id": "a458ca14",
   "metadata": {},
   "outputs": [
    {
     "name": "stdout",
     "output_type": "stream",
     "text": [
      "Seuil inférieur outliers :  -28.65\n",
      "Seuil supérieur outliers :  85.35\n"
     ]
    }
   ],
   "source": [
    "#Définissez un seuil pour les articles \"outliers\" en prix\n",
    "# Calculer Q1, Q3 et IQR\n",
    "#import numpy as np\n",
    "#1 = np.percentile(df_merge['price'], 25)\n",
    "#Q3 = np.percentile(df_merge['price'], 75)\n",
    "Q1 = 14.1\n",
    "Q3 = 42.6\n",
    "\n",
    "IQR = Q3 - Q1\n",
    "\n",
    "# Définir les seuils pour les outliers\n",
    "seuil_inferieur = Q1 - 1.5 * IQR\n",
    "seuil_superieur = Q3 + 1.5 * IQR\n",
    "\n",
    "print('Seuil inférieur outliers : ',seuil_inferieur)\n",
    "\n",
    "print('Seuil supérieur outliers : ',seuil_superieur)"
   ]
  },
  {
   "cell_type": "code",
   "execution_count": null,
   "id": "7d05cde7",
   "metadata": {},
   "outputs": [
    {
     "name": "stdout",
     "output_type": "stream",
     "text": [
      "Nombre d'articles outliers : 33\n",
      "Nombre total d'articles dans le catalogue : 737\n",
      "Proportion d'outliers par rapport à l'ensemble du catalogue : 0.04477611940298507\n"
     ]
    }
   ],
   "source": [
    "#Définissez le nombre d'articles et la proportion de l'ensemble du catalogue \"outliers\"\n",
    "\n",
    "# Identifier les outliers\n",
    "outliers = df_merge[(df_merge['price'] < seuil_inferieur) | (df_merge['price'] > seuil_superieur)]\n",
    "\n",
    "# Nombre d'articles outliers\n",
    "nombre_outliers = len(outliers)\n",
    "\n",
    "# Nombre total d'articles dans le catalogue\n",
    "nombre_total_articles = len(df_merge)\n",
    "\n",
    "# Proportion d'outliers par rapport à l'ensemble du catalogue\n",
    "proportion_outliers = nombre_outliers / nombre_total_articles\n",
    "\n",
    "# Afficher les résultats\n",
    "print(\"Nombre d'articles outliers :\", nombre_outliers)\n",
    "print(\"Nombre total d'articles dans le catalogue :\", nombre_total_articles)\n",
    "print(\"Proportion d'outliers par rapport à l'ensemble du catalogue :\", proportion_outliers)"
   ]
  },
  {
   "cell_type": "code",
   "execution_count": null,
   "id": "06138432",
   "metadata": {},
   "outputs": [
    {
     "data": {
      "text/html": [
       "<div>\n",
       "<style scoped>\n",
       "    .dataframe tbody tr th:only-of-type {\n",
       "        vertical-align: middle;\n",
       "    }\n",
       "\n",
       "    .dataframe tbody tr th {\n",
       "        vertical-align: top;\n",
       "    }\n",
       "\n",
       "    .dataframe thead th {\n",
       "        text-align: right;\n",
       "    }\n",
       "</style>\n",
       "<table border=\"1\" class=\"dataframe\">\n",
       "  <thead>\n",
       "    <tr style=\"text-align: right;\">\n",
       "      <th></th>\n",
       "      <th>product_id</th>\n",
       "      <th>onsale_web</th>\n",
       "      <th>price</th>\n",
       "      <th>stock_quantity</th>\n",
       "      <th>sku</th>\n",
       "      <th>_merge</th>\n",
       "      <th>total_sales</th>\n",
       "      <th>tax_status</th>\n",
       "      <th>post_author</th>\n",
       "      <th>post_date</th>\n",
       "      <th>...</th>\n",
       "      <th>Appellation</th>\n",
       "      <th>Couleur</th>\n",
       "      <th>Cépage</th>\n",
       "      <th>Millésime</th>\n",
       "      <th>Garde</th>\n",
       "      <th>Contenance</th>\n",
       "      <th>Degré d'alcool</th>\n",
       "      <th>Température dégustation</th>\n",
       "      <th>Alliance mets</th>\n",
       "      <th>z_score_price</th>\n",
       "    </tr>\n",
       "  </thead>\n",
       "  <tbody>\n",
       "    <tr>\n",
       "      <th>63</th>\n",
       "      <td>4115</td>\n",
       "      <td>1.0</td>\n",
       "      <td>100.0</td>\n",
       "      <td>11.0</td>\n",
       "      <td>15382</td>\n",
       "      <td>both</td>\n",
       "      <td>0.0</td>\n",
       "      <td>NaN</td>\n",
       "      <td>2.0</td>\n",
       "      <td>2018-02-13 11:08:45</td>\n",
       "      <td>...</td>\n",
       "      <td>NaN</td>\n",
       "      <td>NaN</td>\n",
       "      <td>NaN</td>\n",
       "      <td>NaN</td>\n",
       "      <td>NaN</td>\n",
       "      <td>NaN</td>\n",
       "      <td>NaN</td>\n",
       "      <td>NaN</td>\n",
       "      <td>NaN</td>\n",
       "      <td>NaN</td>\n",
       "    </tr>\n",
       "    <tr>\n",
       "      <th>65</th>\n",
       "      <td>4132</td>\n",
       "      <td>1.0</td>\n",
       "      <td>88.4</td>\n",
       "      <td>5.0</td>\n",
       "      <td>11668</td>\n",
       "      <td>both</td>\n",
       "      <td>0.0</td>\n",
       "      <td>NaN</td>\n",
       "      <td>2.0</td>\n",
       "      <td>2018-02-13 11:43:55</td>\n",
       "      <td>...</td>\n",
       "      <td>NaN</td>\n",
       "      <td>NaN</td>\n",
       "      <td>NaN</td>\n",
       "      <td>NaN</td>\n",
       "      <td>NaN</td>\n",
       "      <td>NaN</td>\n",
       "      <td>NaN</td>\n",
       "      <td>NaN</td>\n",
       "      <td>NaN</td>\n",
       "      <td>NaN</td>\n",
       "    </tr>\n",
       "    <tr>\n",
       "      <th>199</th>\n",
       "      <td>4352</td>\n",
       "      <td>1.0</td>\n",
       "      <td>225.0</td>\n",
       "      <td>0.0</td>\n",
       "      <td>15940</td>\n",
       "      <td>both</td>\n",
       "      <td>5.0</td>\n",
       "      <td>NaN</td>\n",
       "      <td>2.0</td>\n",
       "      <td>2018-03-02 10:30:04</td>\n",
       "      <td>...</td>\n",
       "      <td>Champagne</td>\n",
       "      <td>Blanc</td>\n",
       "      <td>30% Chardonnay, 70% Pinot Noir</td>\n",
       "      <td>NaN</td>\n",
       "      <td>10 ans et +</td>\n",
       "      <td>75cl</td>\n",
       "      <td>12,50%</td>\n",
       "      <td>10°C</td>\n",
       "      <td>Apéritif, Crustacés, Desserts, Poissons</td>\n",
       "      <td>NaN</td>\n",
       "    </tr>\n",
       "    <tr>\n",
       "      <th>201</th>\n",
       "      <td>4355</td>\n",
       "      <td>1.0</td>\n",
       "      <td>126.5</td>\n",
       "      <td>2.0</td>\n",
       "      <td>12589</td>\n",
       "      <td>both</td>\n",
       "      <td>11.0</td>\n",
       "      <td>NaN</td>\n",
       "      <td>2.0</td>\n",
       "      <td>2018-03-02 10:46:10</td>\n",
       "      <td>...</td>\n",
       "      <td>Champagne</td>\n",
       "      <td>Blanc</td>\n",
       "      <td>Pinot Noir</td>\n",
       "      <td>NaN</td>\n",
       "      <td>5-10 ans</td>\n",
       "      <td>75cl</td>\n",
       "      <td>12,50%</td>\n",
       "      <td>10°C</td>\n",
       "      <td>Apéritif, Desserts, Tartes aux fruits</td>\n",
       "      <td>NaN</td>\n",
       "    </tr>\n",
       "    <tr>\n",
       "      <th>205</th>\n",
       "      <td>4359</td>\n",
       "      <td>1.0</td>\n",
       "      <td>85.6</td>\n",
       "      <td>0.0</td>\n",
       "      <td>13853</td>\n",
       "      <td>both</td>\n",
       "      <td>1.0</td>\n",
       "      <td>NaN</td>\n",
       "      <td>2.0</td>\n",
       "      <td>2018-03-02 11:11:48</td>\n",
       "      <td>...</td>\n",
       "      <td>NaN</td>\n",
       "      <td>NaN</td>\n",
       "      <td>NaN</td>\n",
       "      <td>NaN</td>\n",
       "      <td>NaN</td>\n",
       "      <td>NaN</td>\n",
       "      <td>NaN</td>\n",
       "      <td>NaN</td>\n",
       "      <td>NaN</td>\n",
       "      <td>NaN</td>\n",
       "    </tr>\n",
       "  </tbody>\n",
       "</table>\n",
       "<p>5 rows × 35 columns</p>\n",
       "</div>"
      ],
      "text/plain": [
       "     product_id  onsale_web  price  stock_quantity    sku _merge  total_sales  \\\n",
       "63         4115         1.0  100.0            11.0  15382   both          0.0   \n",
       "65         4132         1.0   88.4             5.0  11668   both          0.0   \n",
       "199        4352         1.0  225.0             0.0  15940   both          5.0   \n",
       "201        4355         1.0  126.5             2.0  12589   both         11.0   \n",
       "205        4359         1.0   85.6             0.0  13853   both          1.0   \n",
       "\n",
       "    tax_status  post_author           post_date  ... Appellation Couleur  \\\n",
       "63         NaN          2.0 2018-02-13 11:08:45  ...         NaN     NaN   \n",
       "65         NaN          2.0 2018-02-13 11:43:55  ...         NaN     NaN   \n",
       "199        NaN          2.0 2018-03-02 10:30:04  ...   Champagne   Blanc   \n",
       "201        NaN          2.0 2018-03-02 10:46:10  ...   Champagne   Blanc   \n",
       "205        NaN          2.0 2018-03-02 11:11:48  ...         NaN     NaN   \n",
       "\n",
       "                             Cépage Millésime        Garde Contenance  \\\n",
       "63                              NaN       NaN          NaN        NaN   \n",
       "65                              NaN       NaN          NaN        NaN   \n",
       "199  30% Chardonnay, 70% Pinot Noir       NaN  10 ans et +       75cl   \n",
       "201                      Pinot Noir       NaN     5-10 ans       75cl   \n",
       "205                             NaN       NaN          NaN        NaN   \n",
       "\n",
       "    Degré d'alcool Température dégustation  \\\n",
       "63             NaN                     NaN   \n",
       "65             NaN                     NaN   \n",
       "199         12,50%                    10°C   \n",
       "201         12,50%                    10°C   \n",
       "205            NaN                     NaN   \n",
       "\n",
       "                               Alliance mets z_score_price  \n",
       "63                                       NaN           NaN  \n",
       "65                                       NaN           NaN  \n",
       "199  Apéritif, Crustacés, Desserts, Poissons           NaN  \n",
       "201    Apéritif, Desserts, Tartes aux fruits           NaN  \n",
       "205                                      NaN           NaN  \n",
       "\n",
       "[5 rows x 35 columns]"
      ]
     },
     "execution_count": 380,
     "metadata": {},
     "output_type": "execute_result"
    }
   ],
   "source": [
    "#Selon vous, ces outliers sont-ils justifiés ? Comment le démontrer si cela est possible ?\n",
    "outliers.head()\n",
    "\n",
    "# ce sont pas des outliers car le prix de vin peut aller très cher. "
   ]
  },
  {
   "cell_type": "markdown",
   "id": "640da2c8",
   "metadata": {},
   "source": [
    "<div style=\"background-color: RGB(51,165,182);\" >\n",
    "<h2 style=\"margin: auto; padding: 20px; color:#fff; \">Etape 5 - Analyse univarié du CA et des quantités vendues</h2>\n",
    "</div>"
   ]
  },
  {
   "cell_type": "markdown",
   "id": "5871c808",
   "metadata": {},
   "source": [
    "<div style=\"border: 1px solid RGB(51,165,182);\" >\n",
    "<h3 style=\"margin: auto; padding: 20px; color: RGB(51,165,182); \">Etape 5.1 - Analyse des ventes en CA</h3>\n",
    "</div>"
   ]
  },
  {
   "cell_type": "code",
   "execution_count": null,
   "id": "da0d5834",
   "metadata": {},
   "outputs": [
    {
     "name": "stdout",
     "output_type": "stream",
     "text": [
      "chiffre d'affaire du site web :  70318.6\n"
     ]
    }
   ],
   "source": [
    "##############################\n",
    "# Calculer le CA su site web #\n",
    "##############################\n",
    "\n",
    "#Créez une colonne calculant le CA par article\n",
    "df_merge['CA'] = df_merge['price'] * df_merge['total_sales']\n",
    "\n",
    "#Calculez la somme de la colonne \"ca_par_article\"\n",
    "df_merge['CA'].sum()\n",
    "#Ce résultat correspond au chiffre d'affaire du site web\n",
    "print(\"chiffre d'affaire du site web : \", df_merge['CA'].sum())"
   ]
  },
  {
   "cell_type": "code",
   "execution_count": null,
   "id": "4040ced7",
   "metadata": {},
   "outputs": [
    {
     "name": "stdout",
     "output_type": "stream",
     "text": [
      "     product_id  onsale_web  price  stock_quantity    sku _merge  total_sales  \\\n",
      "194        4334         1.0   49.0             0.0   7818   both         96.0   \n",
      "71         4144         1.0   49.0            11.0   1662   both         87.0   \n",
      "218        4402         1.0  176.0             8.0   3510   both         13.0   \n",
      "70         4142         1.0   53.0             8.0  11641   both         30.0   \n",
      "69         4141         1.0   39.0             1.0    304   both         40.0   \n",
      "201        4355         1.0  126.5             2.0  12589   both         11.0   \n",
      "199        4352         1.0  225.0             0.0  15940   both          5.0   \n",
      "79         4153         1.0   29.0             0.0  16237   both         36.0   \n",
      "675        6206         1.0   25.2           120.0  16580   both         41.0   \n",
      "30         4068         1.0   16.6           157.0  16416   both         62.0   \n",
      "17         4053         1.0   44.3            16.0  13127   both         23.0   \n",
      "253        4596         1.0   43.9             0.0  15476   both         23.0   \n",
      "398        4891         1.0   27.9             0.0  15807   both         36.0   \n",
      "469        5067         1.0   59.9             0.0  15346   both         16.0   \n",
      "676        6207         1.0   25.2           363.0  16077   both         37.0   \n",
      "415        4918         1.0   37.2             0.0  15533   both         24.0   \n",
      "629        5922         1.0   48.5             0.0  15343   both         17.0   \n",
      "18         4054         1.0   71.6             0.0  19816   both         10.0   \n",
      "182        4286         1.0   69.8             4.0  16066   both         10.0   \n",
      "406        4904         1.0  137.0            13.0  14220   both          5.0   \n",
      "\n",
      "    tax_status  post_author           post_date  ... Couleur  \\\n",
      "194        NaN          2.0 2018-03-01 14:02:44  ...   Blanc   \n",
      "71         NaN          2.0 2018-02-13 13:17:25  ...     NaN   \n",
      "218        NaN          2.0 2018-03-22 11:21:05  ...     NaN   \n",
      "70         NaN          2.0 2018-02-13 13:08:44  ...   Blanc   \n",
      "69         NaN          2.0 2018-02-13 12:57:44  ...   Blanc   \n",
      "201        NaN          2.0 2018-03-02 10:46:10  ...   Blanc   \n",
      "199        NaN          2.0 2018-03-02 10:30:04  ...   Blanc   \n",
      "79         NaN          2.0 2018-02-13 14:13:53  ...   Rouge   \n",
      "675        NaN          2.0 2019-07-24 09:31:48  ...   Blanc   \n",
      "30         NaN          2.0 2018-02-12 13:42:28  ...   Rouge   \n",
      "17         NaN          2.0 2018-02-12 11:18:33  ...   Rouge   \n",
      "253        NaN          2.0 2018-04-13 13:27:19  ...   Blanc   \n",
      "398        NaN          2.0 2018-05-11 14:59:33  ...   Blanc   \n",
      "469        NaN          2.0 2018-07-31 11:49:05  ...     NaN   \n",
      "676        NaN          2.0 2019-07-24 09:33:52  ...   Rouge   \n",
      "415        NaN          2.0 2018-05-17 11:09:36  ...   Rouge   \n",
      "629        NaN          2.0 2019-04-06 09:59:39  ...     NaN   \n",
      "18         NaN          2.0 2018-02-12 11:25:39  ...   Rouge   \n",
      "182        NaN          2.0 2018-02-28 13:33:10  ...   Rouge   \n",
      "406        NaN          2.0 2018-05-15 10:23:41  ...   Blanc   \n",
      "\n",
      "                                                Cépage Millésime        Garde  \\\n",
      "194                                         Chardonnay       NaN        4 ans   \n",
      "71                      50% Chardonnay, 50% Pinot Noir       NaN        4 ans   \n",
      "218                                                NaN       NaN          NaN   \n",
      "70                      44% Chardonnay, 56% Pinot Noir    2015.0     8-10 ans   \n",
      "69   10% Pinot Meunier, 45% Chardonnay, 45% Pinot Noir       NaN        4 ans   \n",
      "201                                         Pinot Noir       NaN     5-10 ans   \n",
      "199                     30% Chardonnay, 70% Pinot Noir       NaN  10 ans et +   \n",
      "79   Abouriou, Cabernet Franc, Cabernet Sauvignon, ...    2014.0    10-15 ans   \n",
      "675                                         Vermentino    2020.0      3-5 ans   \n",
      "30                                          100% Syrah    2021.0      3-5 ans   \n",
      "17                Cinsault, Grenache, Mourvèdre, Syrah    2007.0  15 ans et +   \n",
      "253                                         Chardonnay    2018.0      4-7 ans   \n",
      "398                                         Chardonnay    2020.0      4-7 ans   \n",
      "469                                                NaN       NaN          NaN   \n",
      "676                                         Nielluccio    2018.0      6-8 ans   \n",
      "415                                         100% Syrah    2018.0    10-15 ans   \n",
      "629                                                NaN       NaN          NaN   \n",
      "18                          Grenache, Mourvèdre, Syrah    2018.0  15 ans et +   \n",
      "182                       Carignan, Cinsault, Grenache    2018.0    10-15 ans   \n",
      "406                                         Chardonnay    2019.0  15 ans et +   \n",
      "\n",
      "    Contenance Degré d'alcool Température dégustation  \\\n",
      "194       75cl            12%                    10°C   \n",
      "71        75cl            12%                    10°C   \n",
      "218       70cl            40%                     NaN   \n",
      "70        75cl            12%                    10°C   \n",
      "69        75cl            12%                    10°C   \n",
      "201       75cl         12,50%                    10°C   \n",
      "199       75cl         12,50%                    10°C   \n",
      "79        75cl            13%                    16°C   \n",
      "675       75cl          13,5%                    11°C   \n",
      "30        75cl          13,5%                    15°C   \n",
      "17        75cl            15%                    16°C   \n",
      "253       75cl            13%                    12°C   \n",
      "398       75cl          13,5%                    12°C   \n",
      "469        NaN            NaN                     NaN   \n",
      "676       75cl            14%                    15°C   \n",
      "415       75cl            13%                    15°C   \n",
      "629        NaN            NaN                     NaN   \n",
      "18        75cl            15%                    16°C   \n",
      "182       75cl         12,50%                    16°C   \n",
      "406       75cl            13%                    12°C   \n",
      "\n",
      "                                         Alliance mets z_score_price      CA  \n",
      "194  Apéritif, Coquilles Saint Jacques, Huîtres, Po...           NaN  4704.0  \n",
      "71             Apéritif, Desserts, Foie gras, Poissons           NaN  4263.0  \n",
      "218                                                NaN           NaN  2288.0  \n",
      "70   Agneau, Apéritif, Fromage de chèvre, Noix de S...           NaN  1590.0  \n",
      "69          Apéritif, Fruits cuits, Sucré-salé, Tajine           NaN  1560.0  \n",
      "201              Apéritif, Desserts, Tartes aux fruits           NaN  1391.5  \n",
      "199            Apéritif, Crustacés, Desserts, Poissons           NaN  1125.0  \n",
      "79                     Gibier, Grillades, Viande rouge           NaN  1044.0  \n",
      "675       Fruits de mer, Langoustes, Poissons, Risotto           NaN  1033.2  \n",
      "30       Apéritif, Charcuterie, Viande rouge, Volaille           NaN  1029.2  \n",
      "17                                Gibier, Viande rouge           NaN  1018.9  \n",
      "253  Bouchées à la Reine, Ris de veau, Risotto, Vol...           NaN  1009.7  \n",
      "398  Fromages, Poisson en sauce, Viande Blanche, Vo...           NaN  1004.4  \n",
      "469                                                NaN           NaN   958.4  \n",
      "676  Cuisine méditerranéenne, Gibiers à plumes, Pig...           NaN   932.4  \n",
      "415            Agneau, Gibier, Grillades, Viande rouge           NaN   892.8  \n",
      "629                                                NaN           NaN   824.5  \n",
      "18                                Gibier, Viande rouge           NaN   716.0  \n",
      "182  Grillades, Légumes du Soleil, Mouton, Viande r...           NaN   698.0  \n",
      "406          Poissons nobles, Viande Blanche, Volaille           NaN   685.0  \n",
      "\n",
      "[20 rows x 36 columns]\n"
     ]
    },
    {
     "data": {
      "application/vnd.plotly.v1+json": {
       "config": {
        "plotlyServerURL": "https://plot.ly"
       },
       "data": [
        {
         "alignmentgroup": "True",
         "hovertemplate": "post_name=%{x}<br>CA=%{y}<extra></extra>",
         "legendgroup": "",
         "marker": {
          "color": "#636efa",
          "pattern": {
           "shape": ""
          }
         },
         "name": "",
         "offsetgroup": "",
         "orientation": "v",
         "showlegend": false,
         "textposition": "auto",
         "type": "bar",
         "x": [
          "champagne-gosset-grand-blanc-de-blanc",
          "champagne-gosset-grand-rose",
          "cognac-frapin-vip-xo",
          "champagne-gosset-grand-millesime-2006",
          "gosset-champagne-grande-reserve",
          "champagne-egly-ouriet-grand-cru-brut-blanc-de-noirs",
          "champagne-egly-ouriet-grand-cru-millesime-2008",
          "elian-daros-cotes-du-marmandais-clos-baquey-2015",
          "domaine-giudicelli-patrimonio-blanc-2019",
          "gilles-robin-crozes-hermitage-papillon-2019",
          "clos-du-mont-olivet-chateauneuf-du-pape-2012",
          "marc-colin-et-fils-chassagne-montrachet-blanc-margot-2017",
          "jacqueson-rully-blanc-1er-cru-la-pucelle-2018",
          "albert-mann-pinot-noir-grand-h-2017",
          "domaine-giudicelli-patrimonio-rouge-2016",
          "alain-graillot-crozes-hermitage-rouge-la-guiraude-2016",
          "albert-mann-pinot-noir-clos-de-la-faille-2017",
          "clos-du-mont-olivet-chateauneuf-du-pape-papet-2018",
          "hauvette-baux-provence-amethyste-2017",
          "domaine-des-croix-corton-charlemagne-grand-cru-2016"
         ],
         "xaxis": "x",
         "y": [
          4704,
          4263,
          2288,
          1590,
          1560,
          1391.5,
          1125,
          1044,
          1033.2,
          1029.2,
          1018.9,
          1009.6999999999999,
          1004.4,
          958.4,
          932.4,
          892.8000000000001,
          824.5,
          716,
          698,
          685
         ],
         "yaxis": "y"
        }
       ],
       "layout": {
        "barmode": "relative",
        "legend": {
         "tracegroupgap": 0
        },
        "template": {
         "data": {
          "bar": [
           {
            "error_x": {
             "color": "#2a3f5f"
            },
            "error_y": {
             "color": "#2a3f5f"
            },
            "marker": {
             "line": {
              "color": "#E5ECF6",
              "width": 0.5
             },
             "pattern": {
              "fillmode": "overlay",
              "size": 10,
              "solidity": 0.2
             }
            },
            "type": "bar"
           }
          ],
          "barpolar": [
           {
            "marker": {
             "line": {
              "color": "#E5ECF6",
              "width": 0.5
             },
             "pattern": {
              "fillmode": "overlay",
              "size": 10,
              "solidity": 0.2
             }
            },
            "type": "barpolar"
           }
          ],
          "carpet": [
           {
            "aaxis": {
             "endlinecolor": "#2a3f5f",
             "gridcolor": "white",
             "linecolor": "white",
             "minorgridcolor": "white",
             "startlinecolor": "#2a3f5f"
            },
            "baxis": {
             "endlinecolor": "#2a3f5f",
             "gridcolor": "white",
             "linecolor": "white",
             "minorgridcolor": "white",
             "startlinecolor": "#2a3f5f"
            },
            "type": "carpet"
           }
          ],
          "choropleth": [
           {
            "colorbar": {
             "outlinewidth": 0,
             "ticks": ""
            },
            "type": "choropleth"
           }
          ],
          "contour": [
           {
            "colorbar": {
             "outlinewidth": 0,
             "ticks": ""
            },
            "colorscale": [
             [
              0,
              "#0d0887"
             ],
             [
              0.1111111111111111,
              "#46039f"
             ],
             [
              0.2222222222222222,
              "#7201a8"
             ],
             [
              0.3333333333333333,
              "#9c179e"
             ],
             [
              0.4444444444444444,
              "#bd3786"
             ],
             [
              0.5555555555555556,
              "#d8576b"
             ],
             [
              0.6666666666666666,
              "#ed7953"
             ],
             [
              0.7777777777777778,
              "#fb9f3a"
             ],
             [
              0.8888888888888888,
              "#fdca26"
             ],
             [
              1,
              "#f0f921"
             ]
            ],
            "type": "contour"
           }
          ],
          "contourcarpet": [
           {
            "colorbar": {
             "outlinewidth": 0,
             "ticks": ""
            },
            "type": "contourcarpet"
           }
          ],
          "heatmap": [
           {
            "colorbar": {
             "outlinewidth": 0,
             "ticks": ""
            },
            "colorscale": [
             [
              0,
              "#0d0887"
             ],
             [
              0.1111111111111111,
              "#46039f"
             ],
             [
              0.2222222222222222,
              "#7201a8"
             ],
             [
              0.3333333333333333,
              "#9c179e"
             ],
             [
              0.4444444444444444,
              "#bd3786"
             ],
             [
              0.5555555555555556,
              "#d8576b"
             ],
             [
              0.6666666666666666,
              "#ed7953"
             ],
             [
              0.7777777777777778,
              "#fb9f3a"
             ],
             [
              0.8888888888888888,
              "#fdca26"
             ],
             [
              1,
              "#f0f921"
             ]
            ],
            "type": "heatmap"
           }
          ],
          "heatmapgl": [
           {
            "colorbar": {
             "outlinewidth": 0,
             "ticks": ""
            },
            "colorscale": [
             [
              0,
              "#0d0887"
             ],
             [
              0.1111111111111111,
              "#46039f"
             ],
             [
              0.2222222222222222,
              "#7201a8"
             ],
             [
              0.3333333333333333,
              "#9c179e"
             ],
             [
              0.4444444444444444,
              "#bd3786"
             ],
             [
              0.5555555555555556,
              "#d8576b"
             ],
             [
              0.6666666666666666,
              "#ed7953"
             ],
             [
              0.7777777777777778,
              "#fb9f3a"
             ],
             [
              0.8888888888888888,
              "#fdca26"
             ],
             [
              1,
              "#f0f921"
             ]
            ],
            "type": "heatmapgl"
           }
          ],
          "histogram": [
           {
            "marker": {
             "pattern": {
              "fillmode": "overlay",
              "size": 10,
              "solidity": 0.2
             }
            },
            "type": "histogram"
           }
          ],
          "histogram2d": [
           {
            "colorbar": {
             "outlinewidth": 0,
             "ticks": ""
            },
            "colorscale": [
             [
              0,
              "#0d0887"
             ],
             [
              0.1111111111111111,
              "#46039f"
             ],
             [
              0.2222222222222222,
              "#7201a8"
             ],
             [
              0.3333333333333333,
              "#9c179e"
             ],
             [
              0.4444444444444444,
              "#bd3786"
             ],
             [
              0.5555555555555556,
              "#d8576b"
             ],
             [
              0.6666666666666666,
              "#ed7953"
             ],
             [
              0.7777777777777778,
              "#fb9f3a"
             ],
             [
              0.8888888888888888,
              "#fdca26"
             ],
             [
              1,
              "#f0f921"
             ]
            ],
            "type": "histogram2d"
           }
          ],
          "histogram2dcontour": [
           {
            "colorbar": {
             "outlinewidth": 0,
             "ticks": ""
            },
            "colorscale": [
             [
              0,
              "#0d0887"
             ],
             [
              0.1111111111111111,
              "#46039f"
             ],
             [
              0.2222222222222222,
              "#7201a8"
             ],
             [
              0.3333333333333333,
              "#9c179e"
             ],
             [
              0.4444444444444444,
              "#bd3786"
             ],
             [
              0.5555555555555556,
              "#d8576b"
             ],
             [
              0.6666666666666666,
              "#ed7953"
             ],
             [
              0.7777777777777778,
              "#fb9f3a"
             ],
             [
              0.8888888888888888,
              "#fdca26"
             ],
             [
              1,
              "#f0f921"
             ]
            ],
            "type": "histogram2dcontour"
           }
          ],
          "mesh3d": [
           {
            "colorbar": {
             "outlinewidth": 0,
             "ticks": ""
            },
            "type": "mesh3d"
           }
          ],
          "parcoords": [
           {
            "line": {
             "colorbar": {
              "outlinewidth": 0,
              "ticks": ""
             }
            },
            "type": "parcoords"
           }
          ],
          "pie": [
           {
            "automargin": true,
            "type": "pie"
           }
          ],
          "scatter": [
           {
            "fillpattern": {
             "fillmode": "overlay",
             "size": 10,
             "solidity": 0.2
            },
            "type": "scatter"
           }
          ],
          "scatter3d": [
           {
            "line": {
             "colorbar": {
              "outlinewidth": 0,
              "ticks": ""
             }
            },
            "marker": {
             "colorbar": {
              "outlinewidth": 0,
              "ticks": ""
             }
            },
            "type": "scatter3d"
           }
          ],
          "scattercarpet": [
           {
            "marker": {
             "colorbar": {
              "outlinewidth": 0,
              "ticks": ""
             }
            },
            "type": "scattercarpet"
           }
          ],
          "scattergeo": [
           {
            "marker": {
             "colorbar": {
              "outlinewidth": 0,
              "ticks": ""
             }
            },
            "type": "scattergeo"
           }
          ],
          "scattergl": [
           {
            "marker": {
             "colorbar": {
              "outlinewidth": 0,
              "ticks": ""
             }
            },
            "type": "scattergl"
           }
          ],
          "scattermapbox": [
           {
            "marker": {
             "colorbar": {
              "outlinewidth": 0,
              "ticks": ""
             }
            },
            "type": "scattermapbox"
           }
          ],
          "scatterpolar": [
           {
            "marker": {
             "colorbar": {
              "outlinewidth": 0,
              "ticks": ""
             }
            },
            "type": "scatterpolar"
           }
          ],
          "scatterpolargl": [
           {
            "marker": {
             "colorbar": {
              "outlinewidth": 0,
              "ticks": ""
             }
            },
            "type": "scatterpolargl"
           }
          ],
          "scatterternary": [
           {
            "marker": {
             "colorbar": {
              "outlinewidth": 0,
              "ticks": ""
             }
            },
            "type": "scatterternary"
           }
          ],
          "surface": [
           {
            "colorbar": {
             "outlinewidth": 0,
             "ticks": ""
            },
            "colorscale": [
             [
              0,
              "#0d0887"
             ],
             [
              0.1111111111111111,
              "#46039f"
             ],
             [
              0.2222222222222222,
              "#7201a8"
             ],
             [
              0.3333333333333333,
              "#9c179e"
             ],
             [
              0.4444444444444444,
              "#bd3786"
             ],
             [
              0.5555555555555556,
              "#d8576b"
             ],
             [
              0.6666666666666666,
              "#ed7953"
             ],
             [
              0.7777777777777778,
              "#fb9f3a"
             ],
             [
              0.8888888888888888,
              "#fdca26"
             ],
             [
              1,
              "#f0f921"
             ]
            ],
            "type": "surface"
           }
          ],
          "table": [
           {
            "cells": {
             "fill": {
              "color": "#EBF0F8"
             },
             "line": {
              "color": "white"
             }
            },
            "header": {
             "fill": {
              "color": "#C8D4E3"
             },
             "line": {
              "color": "white"
             }
            },
            "type": "table"
           }
          ]
         },
         "layout": {
          "annotationdefaults": {
           "arrowcolor": "#2a3f5f",
           "arrowhead": 0,
           "arrowwidth": 1
          },
          "autotypenumbers": "strict",
          "coloraxis": {
           "colorbar": {
            "outlinewidth": 0,
            "ticks": ""
           }
          },
          "colorscale": {
           "diverging": [
            [
             0,
             "#8e0152"
            ],
            [
             0.1,
             "#c51b7d"
            ],
            [
             0.2,
             "#de77ae"
            ],
            [
             0.3,
             "#f1b6da"
            ],
            [
             0.4,
             "#fde0ef"
            ],
            [
             0.5,
             "#f7f7f7"
            ],
            [
             0.6,
             "#e6f5d0"
            ],
            [
             0.7,
             "#b8e186"
            ],
            [
             0.8,
             "#7fbc41"
            ],
            [
             0.9,
             "#4d9221"
            ],
            [
             1,
             "#276419"
            ]
           ],
           "sequential": [
            [
             0,
             "#0d0887"
            ],
            [
             0.1111111111111111,
             "#46039f"
            ],
            [
             0.2222222222222222,
             "#7201a8"
            ],
            [
             0.3333333333333333,
             "#9c179e"
            ],
            [
             0.4444444444444444,
             "#bd3786"
            ],
            [
             0.5555555555555556,
             "#d8576b"
            ],
            [
             0.6666666666666666,
             "#ed7953"
            ],
            [
             0.7777777777777778,
             "#fb9f3a"
            ],
            [
             0.8888888888888888,
             "#fdca26"
            ],
            [
             1,
             "#f0f921"
            ]
           ],
           "sequentialminus": [
            [
             0,
             "#0d0887"
            ],
            [
             0.1111111111111111,
             "#46039f"
            ],
            [
             0.2222222222222222,
             "#7201a8"
            ],
            [
             0.3333333333333333,
             "#9c179e"
            ],
            [
             0.4444444444444444,
             "#bd3786"
            ],
            [
             0.5555555555555556,
             "#d8576b"
            ],
            [
             0.6666666666666666,
             "#ed7953"
            ],
            [
             0.7777777777777778,
             "#fb9f3a"
            ],
            [
             0.8888888888888888,
             "#fdca26"
            ],
            [
             1,
             "#f0f921"
            ]
           ]
          },
          "colorway": [
           "#636efa",
           "#EF553B",
           "#00cc96",
           "#ab63fa",
           "#FFA15A",
           "#19d3f3",
           "#FF6692",
           "#B6E880",
           "#FF97FF",
           "#FECB52"
          ],
          "font": {
           "color": "#2a3f5f"
          },
          "geo": {
           "bgcolor": "white",
           "lakecolor": "white",
           "landcolor": "#E5ECF6",
           "showlakes": true,
           "showland": true,
           "subunitcolor": "white"
          },
          "hoverlabel": {
           "align": "left"
          },
          "hovermode": "closest",
          "mapbox": {
           "style": "light"
          },
          "paper_bgcolor": "white",
          "plot_bgcolor": "#E5ECF6",
          "polar": {
           "angularaxis": {
            "gridcolor": "white",
            "linecolor": "white",
            "ticks": ""
           },
           "bgcolor": "#E5ECF6",
           "radialaxis": {
            "gridcolor": "white",
            "linecolor": "white",
            "ticks": ""
           }
          },
          "scene": {
           "xaxis": {
            "backgroundcolor": "#E5ECF6",
            "gridcolor": "white",
            "gridwidth": 2,
            "linecolor": "white",
            "showbackground": true,
            "ticks": "",
            "zerolinecolor": "white"
           },
           "yaxis": {
            "backgroundcolor": "#E5ECF6",
            "gridcolor": "white",
            "gridwidth": 2,
            "linecolor": "white",
            "showbackground": true,
            "ticks": "",
            "zerolinecolor": "white"
           },
           "zaxis": {
            "backgroundcolor": "#E5ECF6",
            "gridcolor": "white",
            "gridwidth": 2,
            "linecolor": "white",
            "showbackground": true,
            "ticks": "",
            "zerolinecolor": "white"
           }
          },
          "shapedefaults": {
           "line": {
            "color": "#2a3f5f"
           }
          },
          "ternary": {
           "aaxis": {
            "gridcolor": "white",
            "linecolor": "white",
            "ticks": ""
           },
           "baxis": {
            "gridcolor": "white",
            "linecolor": "white",
            "ticks": ""
           },
           "bgcolor": "#E5ECF6",
           "caxis": {
            "gridcolor": "white",
            "linecolor": "white",
            "ticks": ""
           }
          },
          "title": {
           "x": 0.05
          },
          "xaxis": {
           "automargin": true,
           "gridcolor": "white",
           "linecolor": "white",
           "ticks": "",
           "title": {
            "standoff": 15
           },
           "zerolinecolor": "white",
           "zerolinewidth": 2
          },
          "yaxis": {
           "automargin": true,
           "gridcolor": "white",
           "linecolor": "white",
           "ticks": "",
           "title": {
            "standoff": 15
           },
           "zerolinecolor": "white",
           "zerolinewidth": 2
          }
         }
        },
        "title": {
         "text": "Top 20 des articles par chiffre d'affaires"
        },
        "xaxis": {
         "anchor": "y",
         "domain": [
          0,
          1
         ],
         "title": {
          "text": "post_name"
         }
        },
        "yaxis": {
         "anchor": "x",
         "domain": [
          0,
          1
         ],
         "title": {
          "text": "CA"
         }
        }
       }
      }
     },
     "metadata": {},
     "output_type": "display_data"
    }
   ],
   "source": [
    "###############################\n",
    "# Palmares des articles en CA #\n",
    "###############################\n",
    "\n",
    "#Effectuer le tri dans l'ordre décroissant du CA du dataset df_merge\n",
    "df_merge.sort_values(by='CA', ascending=False, inplace=True)\n",
    "#Réinitialiser l'index du dataset par un reset_index\n",
    "df_merge.reset_index(drop=True)\n",
    "#Afficher les 20 premier articles en CA\n",
    "print(df_merge.head(20))\n",
    "#Graphique en barre des 20 premiers articles avec plotly express\n",
    "fig = px.bar(df_merge.head(20), x='post_name', y='CA', title='Top 20 des articles par chiffre d\\'affaires')\n",
    "\n",
    "# Afficher le graphique\n",
    "fig.show()"
   ]
  },
  {
   "cell_type": "code",
   "execution_count": null,
   "id": "d7e5e87b",
   "metadata": {},
   "outputs": [
    {
     "name": "stdout",
     "output_type": "stream",
     "text": [
      "le nombre d'articles représentant 80% du CA est  130\n",
      "La proportion que représentent ce groupe d'articles dans le catalogue entier du site web est  0.17639077340569878\n"
     ]
    }
   ],
   "source": [
    "#############################\n",
    "# Calculer le 20 / 80 en CA #\n",
    "#############################\n",
    "\n",
    "#Créer une colonne calculant la part du CA de la ligne dans le dataset\n",
    "df_merge['%CA'] = df_merge['CA']/df_merge['CA'].sum()\n",
    "#Créer une colonne réalisant la somme cumulative de la colonne précedemment créée\n",
    "df_merge['%CA cumulé'] = df_merge['%CA'].cumsum()\n",
    "#Grâce au deux colonnes créées précedemment, calculer le nombre d'articles représentant 80% du CA\n",
    "CA_80 = df_merge[df_merge['%CA cumulé'] <= 0.8]\n",
    "print(\"le nombre d'articles représentant 80% du CA est \",len(CA_80))\n",
    "#Afficher la proportion que représentent ce groupe d'articles dans le catalogue entier du site web\n",
    "print(\"La proportion que représentent ce groupe d'articles dans le catalogue entier du site web est \",len(CA_80)/len(df_merge))\n"
   ]
  },
  {
   "cell_type": "markdown",
   "id": "8de7af87",
   "metadata": {},
   "source": [
    "<div style=\"border: 1px solid RGB(51,165,182);\" >\n",
    "<h3 style=\"margin: auto; padding: 20px; color: RGB(51,165,182); \">Etape 5.2 - Analyse des ventes en Quantités</h3>\n",
    "</div>"
   ]
  },
  {
   "cell_type": "code",
   "execution_count": null,
   "id": "ab222e08",
   "metadata": {},
   "outputs": [
    {
     "name": "stdout",
     "output_type": "stream",
     "text": [
      "     product_id  onsale_web  price  stock_quantity    sku _merge  total_sales  \\\n",
      "194        4334         1.0   49.0             0.0   7818   both         96.0   \n",
      "71         4144         1.0   49.0            11.0   1662   both         87.0   \n",
      "30         4068         1.0   16.6           157.0  16416   both         62.0   \n",
      "119        4200         1.0    5.8           190.0  16295   both         46.0   \n",
      "97         4172         1.0    5.7           167.0  16210   both         43.0   \n",
      "109        4187         1.0   13.3            90.0  16189   both         42.0   \n",
      "675        6206         1.0   25.2           120.0  16580   both         41.0   \n",
      "69         4141         1.0   39.0             1.0    304   both         40.0   \n",
      "649        6047         1.0   10.9            46.0  16264   both         38.0   \n",
      "349        4729         1.0    8.6           151.0     38   both         38.0   \n",
      "676        6207         1.0   25.2           363.0  16077   both         37.0   \n",
      "79         4153         1.0   29.0             0.0  16237   both         36.0   \n",
      "398        4891         1.0   27.9             0.0  15807   both         36.0   \n",
      "391        4870         1.0    9.3             0.0  16149   both         33.0   \n",
      "329        4706         1.0   16.8            23.0  15349   both         32.0   \n",
      "70         4142         1.0   53.0             8.0  11641   both         30.0   \n",
      "155        4250         1.0   19.5            14.0  16317   both         30.0   \n",
      "386        4861         1.0    8.5           284.0  15307   both         29.0   \n",
      "438        4965         1.0    7.1           203.0  16586   both         26.0   \n",
      "585        5778         1.0    5.8            36.0  15561   both         24.0   \n",
      "\n",
      "    tax_status  post_author           post_date  ... Millésime      Garde  \\\n",
      "194        NaN          2.0 2018-03-01 14:02:44  ...       NaN      4 ans   \n",
      "71         NaN          2.0 2018-02-13 13:17:25  ...       NaN      4 ans   \n",
      "30         NaN          2.0 2018-02-12 13:42:28  ...    2021.0    3-5 ans   \n",
      "119        NaN          2.0 2018-02-15 14:05:06  ...    2021.0      2 ans   \n",
      "97         NaN          2.0 2018-02-14 16:54:33  ...    2021.0      3 ans   \n",
      "109        NaN          2.0 2018-02-15 10:10:23  ...    2020.0    3-5 ans   \n",
      "675        NaN          2.0 2019-07-24 09:31:48  ...    2020.0    3-5 ans   \n",
      "69         NaN          2.0 2018-02-13 12:57:44  ...       NaN      4 ans   \n",
      "649        NaN          2.0 2019-05-03 11:18:00  ...    2020.0      3 ans   \n",
      "349        NaN          2.0 2018-04-18 12:25:58  ...       NaN    3-5 ans   \n",
      "676        NaN          2.0 2019-07-24 09:33:52  ...    2018.0    6-8 ans   \n",
      "79         NaN          2.0 2018-02-13 14:13:53  ...    2014.0  10-15 ans   \n",
      "398        NaN          2.0 2018-05-11 14:59:33  ...    2020.0    4-7 ans   \n",
      "391        NaN          2.0 2018-05-03 13:45:43  ...    2021.0      3 ans   \n",
      "329        NaN          2.0 2018-04-17 21:17:02  ...       NaN        NaN   \n",
      "70         NaN          2.0 2018-02-13 13:08:44  ...    2015.0   8-10 ans   \n",
      "155        NaN          2.0 2018-02-20 11:38:11  ...    2019.0    3-5 ans   \n",
      "386        NaN          2.0 2018-05-03 12:49:00  ...    2018.0    3-5 ans   \n",
      "438        NaN          2.0 2018-06-02 09:35:14  ...    2020.0      3 ans   \n",
      "585        NaN          2.0 2019-03-15 10:20:59  ...    2020.0    3-5 ans   \n",
      "\n",
      "    Contenance Degré d'alcool Température dégustation  \\\n",
      "194       75cl            12%                    10°C   \n",
      "71        75cl            12%                    10°C   \n",
      "30        75cl          13,5%                    15°C   \n",
      "119       75cl            12%                    11°C   \n",
      "97        75cl         12,50%                    11°C   \n",
      "109       75cl          13,5%                    14°C   \n",
      "675       75cl          13,5%                    11°C   \n",
      "69        75cl            12%                    10°C   \n",
      "649       75cl            14%                    14°C   \n",
      "349       75cl            12%                     9°C   \n",
      "676       75cl            14%                    15°C   \n",
      "79        75cl            13%                    16°C   \n",
      "398       75cl          13,5%                    12°C   \n",
      "391       75cl            13%                    11°C   \n",
      "329        NaN            NaN                     NaN   \n",
      "70        75cl            12%                    10°C   \n",
      "155       75cl            13%                    14°C   \n",
      "386       75cl          13,5%                    15°C   \n",
      "438       75cl            13%                    11°C   \n",
      "585       75cl            13%                    15°C   \n",
      "\n",
      "                                         Alliance mets z_score_price      CA  \\\n",
      "194  Apéritif, Coquilles Saint Jacques, Huîtres, Po...           NaN  4704.0   \n",
      "71             Apéritif, Desserts, Foie gras, Poissons           NaN  4263.0   \n",
      "30       Apéritif, Charcuterie, Viande rouge, Volaille           NaN  1029.2   \n",
      "119     Apéritif, Grillades, Légumes croquants, Salade           NaN   266.8   \n",
      "97                        Apéritif, Poissons, Volaille           NaN   245.1   \n",
      "109                     Agneau, Charcuterie, Grillades           NaN   558.6   \n",
      "675       Fruits de mer, Langoustes, Poissons, Risotto           NaN  1033.2   \n",
      "69          Apéritif, Fruits cuits, Sucré-salé, Tajine           NaN  1560.0   \n",
      "649                    Apéritif, Charcuterie, Volaille           NaN   414.2   \n",
      "349              Apéritif, Fromages, Huîtres, Poissons           NaN   326.8   \n",
      "676  Cuisine méditerranéenne, Gibiers à plumes, Pig...           NaN   932.4   \n",
      "79                     Gibier, Grillades, Viande rouge           NaN  1044.0   \n",
      "398  Fromages, Poisson en sauce, Viande Blanche, Vo...           NaN  1004.4   \n",
      "391        Apéritif, Grillades, Poisson grillé, Salade           NaN   306.9   \n",
      "329                                                NaN           NaN   537.6   \n",
      "70   Agneau, Apéritif, Fromage de chèvre, Noix de S...           NaN  1590.0   \n",
      "155      Charcuterie, Tourte, Viande Blanche, Volaille           NaN   585.0   \n",
      "386  Grillades, Viande Blanche, Viande rouge, Volaille           NaN   246.5   \n",
      "438  Apéritif, Crustacés, Fromages, Fruits de mer, ...           NaN   184.6   \n",
      "585                    Gibier, Grillades, Viande rouge           NaN   139.2   \n",
      "\n",
      "          %CA %CA cumulé  \n",
      "194  0.066896   0.066896  \n",
      "71   0.060624   0.127520  \n",
      "30   0.014636   0.284817  \n",
      "119  0.003794   0.593961  \n",
      "97   0.003486   0.615491  \n",
      "109  0.007944   0.459792  \n",
      "675  0.014693   0.270180  \n",
      "69   0.022185   0.204853  \n",
      "649  0.005890   0.525616  \n",
      "349  0.004647   0.557686  \n",
      "676  0.013260   0.354838  \n",
      "79   0.014847   0.255487  \n",
      "398  0.014284   0.327949  \n",
      "391  0.004364   0.562050  \n",
      "329  0.007645   0.467437  \n",
      "70   0.022611   0.182669  \n",
      "155  0.008319   0.443686  \n",
      "386  0.003505   0.612006  \n",
      "438  0.002625   0.698519  \n",
      "585  0.001980   0.786355  \n",
      "\n",
      "[20 rows x 38 columns]\n"
     ]
    },
    {
     "data": {
      "application/vnd.plotly.v1+json": {
       "config": {
        "plotlyServerURL": "https://plot.ly"
       },
       "data": [
        {
         "alignmentgroup": "True",
         "hovertemplate": "post_name=%{x}<br>total_sales=%{y}<extra></extra>",
         "legendgroup": "",
         "marker": {
          "color": "#636efa",
          "pattern": {
           "shape": ""
          }
         },
         "name": "",
         "offsetgroup": "",
         "orientation": "v",
         "showlegend": false,
         "textposition": "auto",
         "type": "bar",
         "x": [
          "champagne-gosset-grand-blanc-de-blanc",
          "champagne-gosset-grand-rose",
          "gilles-robin-crozes-hermitage-papillon-2019",
          "moulin-de-gassac-igp-pays-dherault-guilhem-rose-2019",
          "maurel-pays-oc-chardonnay-2019",
          "le-pas-de-lescalette-languedoc-petits-pas-2019",
          "domaine-giudicelli-patrimonio-blanc-2019",
          "gosset-champagne-grande-reserve",
          "chateau-de-la-liquiere-faugeres-ampoule-2019",
          "emile-boeckel-cremant-brut-blanc-de-blancs",
          "domaine-giudicelli-patrimonio-rouge-2016",
          "elian-daros-cotes-du-marmandais-clos-baquey-2015",
          "jacqueson-rully-blanc-1er-cru-la-pucelle-2018",
          "triennes-igp-mediterranee-rose-2019",
          "albert-mann-muscat-2018",
          "champagne-gosset-grand-millesime-2006",
          "domaine-saint-denis-bourgogne-clos-coque-2018",
          "philippe-nusswitz-duche-uzes-orenia-rouge-2017",
          "chateau-turcaud-entre-deux-mers-2019",
          "maurel-pays-d-oc-merot-2018"
         ],
         "xaxis": "x",
         "y": [
          96,
          87,
          62,
          46,
          43,
          42,
          41,
          40,
          38,
          38,
          37,
          36,
          36,
          33,
          32,
          30,
          30,
          29,
          26,
          24
         ],
         "yaxis": "y"
        }
       ],
       "layout": {
        "barmode": "relative",
        "legend": {
         "tracegroupgap": 0
        },
        "template": {
         "data": {
          "bar": [
           {
            "error_x": {
             "color": "#2a3f5f"
            },
            "error_y": {
             "color": "#2a3f5f"
            },
            "marker": {
             "line": {
              "color": "#E5ECF6",
              "width": 0.5
             },
             "pattern": {
              "fillmode": "overlay",
              "size": 10,
              "solidity": 0.2
             }
            },
            "type": "bar"
           }
          ],
          "barpolar": [
           {
            "marker": {
             "line": {
              "color": "#E5ECF6",
              "width": 0.5
             },
             "pattern": {
              "fillmode": "overlay",
              "size": 10,
              "solidity": 0.2
             }
            },
            "type": "barpolar"
           }
          ],
          "carpet": [
           {
            "aaxis": {
             "endlinecolor": "#2a3f5f",
             "gridcolor": "white",
             "linecolor": "white",
             "minorgridcolor": "white",
             "startlinecolor": "#2a3f5f"
            },
            "baxis": {
             "endlinecolor": "#2a3f5f",
             "gridcolor": "white",
             "linecolor": "white",
             "minorgridcolor": "white",
             "startlinecolor": "#2a3f5f"
            },
            "type": "carpet"
           }
          ],
          "choropleth": [
           {
            "colorbar": {
             "outlinewidth": 0,
             "ticks": ""
            },
            "type": "choropleth"
           }
          ],
          "contour": [
           {
            "colorbar": {
             "outlinewidth": 0,
             "ticks": ""
            },
            "colorscale": [
             [
              0,
              "#0d0887"
             ],
             [
              0.1111111111111111,
              "#46039f"
             ],
             [
              0.2222222222222222,
              "#7201a8"
             ],
             [
              0.3333333333333333,
              "#9c179e"
             ],
             [
              0.4444444444444444,
              "#bd3786"
             ],
             [
              0.5555555555555556,
              "#d8576b"
             ],
             [
              0.6666666666666666,
              "#ed7953"
             ],
             [
              0.7777777777777778,
              "#fb9f3a"
             ],
             [
              0.8888888888888888,
              "#fdca26"
             ],
             [
              1,
              "#f0f921"
             ]
            ],
            "type": "contour"
           }
          ],
          "contourcarpet": [
           {
            "colorbar": {
             "outlinewidth": 0,
             "ticks": ""
            },
            "type": "contourcarpet"
           }
          ],
          "heatmap": [
           {
            "colorbar": {
             "outlinewidth": 0,
             "ticks": ""
            },
            "colorscale": [
             [
              0,
              "#0d0887"
             ],
             [
              0.1111111111111111,
              "#46039f"
             ],
             [
              0.2222222222222222,
              "#7201a8"
             ],
             [
              0.3333333333333333,
              "#9c179e"
             ],
             [
              0.4444444444444444,
              "#bd3786"
             ],
             [
              0.5555555555555556,
              "#d8576b"
             ],
             [
              0.6666666666666666,
              "#ed7953"
             ],
             [
              0.7777777777777778,
              "#fb9f3a"
             ],
             [
              0.8888888888888888,
              "#fdca26"
             ],
             [
              1,
              "#f0f921"
             ]
            ],
            "type": "heatmap"
           }
          ],
          "heatmapgl": [
           {
            "colorbar": {
             "outlinewidth": 0,
             "ticks": ""
            },
            "colorscale": [
             [
              0,
              "#0d0887"
             ],
             [
              0.1111111111111111,
              "#46039f"
             ],
             [
              0.2222222222222222,
              "#7201a8"
             ],
             [
              0.3333333333333333,
              "#9c179e"
             ],
             [
              0.4444444444444444,
              "#bd3786"
             ],
             [
              0.5555555555555556,
              "#d8576b"
             ],
             [
              0.6666666666666666,
              "#ed7953"
             ],
             [
              0.7777777777777778,
              "#fb9f3a"
             ],
             [
              0.8888888888888888,
              "#fdca26"
             ],
             [
              1,
              "#f0f921"
             ]
            ],
            "type": "heatmapgl"
           }
          ],
          "histogram": [
           {
            "marker": {
             "pattern": {
              "fillmode": "overlay",
              "size": 10,
              "solidity": 0.2
             }
            },
            "type": "histogram"
           }
          ],
          "histogram2d": [
           {
            "colorbar": {
             "outlinewidth": 0,
             "ticks": ""
            },
            "colorscale": [
             [
              0,
              "#0d0887"
             ],
             [
              0.1111111111111111,
              "#46039f"
             ],
             [
              0.2222222222222222,
              "#7201a8"
             ],
             [
              0.3333333333333333,
              "#9c179e"
             ],
             [
              0.4444444444444444,
              "#bd3786"
             ],
             [
              0.5555555555555556,
              "#d8576b"
             ],
             [
              0.6666666666666666,
              "#ed7953"
             ],
             [
              0.7777777777777778,
              "#fb9f3a"
             ],
             [
              0.8888888888888888,
              "#fdca26"
             ],
             [
              1,
              "#f0f921"
             ]
            ],
            "type": "histogram2d"
           }
          ],
          "histogram2dcontour": [
           {
            "colorbar": {
             "outlinewidth": 0,
             "ticks": ""
            },
            "colorscale": [
             [
              0,
              "#0d0887"
             ],
             [
              0.1111111111111111,
              "#46039f"
             ],
             [
              0.2222222222222222,
              "#7201a8"
             ],
             [
              0.3333333333333333,
              "#9c179e"
             ],
             [
              0.4444444444444444,
              "#bd3786"
             ],
             [
              0.5555555555555556,
              "#d8576b"
             ],
             [
              0.6666666666666666,
              "#ed7953"
             ],
             [
              0.7777777777777778,
              "#fb9f3a"
             ],
             [
              0.8888888888888888,
              "#fdca26"
             ],
             [
              1,
              "#f0f921"
             ]
            ],
            "type": "histogram2dcontour"
           }
          ],
          "mesh3d": [
           {
            "colorbar": {
             "outlinewidth": 0,
             "ticks": ""
            },
            "type": "mesh3d"
           }
          ],
          "parcoords": [
           {
            "line": {
             "colorbar": {
              "outlinewidth": 0,
              "ticks": ""
             }
            },
            "type": "parcoords"
           }
          ],
          "pie": [
           {
            "automargin": true,
            "type": "pie"
           }
          ],
          "scatter": [
           {
            "fillpattern": {
             "fillmode": "overlay",
             "size": 10,
             "solidity": 0.2
            },
            "type": "scatter"
           }
          ],
          "scatter3d": [
           {
            "line": {
             "colorbar": {
              "outlinewidth": 0,
              "ticks": ""
             }
            },
            "marker": {
             "colorbar": {
              "outlinewidth": 0,
              "ticks": ""
             }
            },
            "type": "scatter3d"
           }
          ],
          "scattercarpet": [
           {
            "marker": {
             "colorbar": {
              "outlinewidth": 0,
              "ticks": ""
             }
            },
            "type": "scattercarpet"
           }
          ],
          "scattergeo": [
           {
            "marker": {
             "colorbar": {
              "outlinewidth": 0,
              "ticks": ""
             }
            },
            "type": "scattergeo"
           }
          ],
          "scattergl": [
           {
            "marker": {
             "colorbar": {
              "outlinewidth": 0,
              "ticks": ""
             }
            },
            "type": "scattergl"
           }
          ],
          "scattermapbox": [
           {
            "marker": {
             "colorbar": {
              "outlinewidth": 0,
              "ticks": ""
             }
            },
            "type": "scattermapbox"
           }
          ],
          "scatterpolar": [
           {
            "marker": {
             "colorbar": {
              "outlinewidth": 0,
              "ticks": ""
             }
            },
            "type": "scatterpolar"
           }
          ],
          "scatterpolargl": [
           {
            "marker": {
             "colorbar": {
              "outlinewidth": 0,
              "ticks": ""
             }
            },
            "type": "scatterpolargl"
           }
          ],
          "scatterternary": [
           {
            "marker": {
             "colorbar": {
              "outlinewidth": 0,
              "ticks": ""
             }
            },
            "type": "scatterternary"
           }
          ],
          "surface": [
           {
            "colorbar": {
             "outlinewidth": 0,
             "ticks": ""
            },
            "colorscale": [
             [
              0,
              "#0d0887"
             ],
             [
              0.1111111111111111,
              "#46039f"
             ],
             [
              0.2222222222222222,
              "#7201a8"
             ],
             [
              0.3333333333333333,
              "#9c179e"
             ],
             [
              0.4444444444444444,
              "#bd3786"
             ],
             [
              0.5555555555555556,
              "#d8576b"
             ],
             [
              0.6666666666666666,
              "#ed7953"
             ],
             [
              0.7777777777777778,
              "#fb9f3a"
             ],
             [
              0.8888888888888888,
              "#fdca26"
             ],
             [
              1,
              "#f0f921"
             ]
            ],
            "type": "surface"
           }
          ],
          "table": [
           {
            "cells": {
             "fill": {
              "color": "#EBF0F8"
             },
             "line": {
              "color": "white"
             }
            },
            "header": {
             "fill": {
              "color": "#C8D4E3"
             },
             "line": {
              "color": "white"
             }
            },
            "type": "table"
           }
          ]
         },
         "layout": {
          "annotationdefaults": {
           "arrowcolor": "#2a3f5f",
           "arrowhead": 0,
           "arrowwidth": 1
          },
          "autotypenumbers": "strict",
          "coloraxis": {
           "colorbar": {
            "outlinewidth": 0,
            "ticks": ""
           }
          },
          "colorscale": {
           "diverging": [
            [
             0,
             "#8e0152"
            ],
            [
             0.1,
             "#c51b7d"
            ],
            [
             0.2,
             "#de77ae"
            ],
            [
             0.3,
             "#f1b6da"
            ],
            [
             0.4,
             "#fde0ef"
            ],
            [
             0.5,
             "#f7f7f7"
            ],
            [
             0.6,
             "#e6f5d0"
            ],
            [
             0.7,
             "#b8e186"
            ],
            [
             0.8,
             "#7fbc41"
            ],
            [
             0.9,
             "#4d9221"
            ],
            [
             1,
             "#276419"
            ]
           ],
           "sequential": [
            [
             0,
             "#0d0887"
            ],
            [
             0.1111111111111111,
             "#46039f"
            ],
            [
             0.2222222222222222,
             "#7201a8"
            ],
            [
             0.3333333333333333,
             "#9c179e"
            ],
            [
             0.4444444444444444,
             "#bd3786"
            ],
            [
             0.5555555555555556,
             "#d8576b"
            ],
            [
             0.6666666666666666,
             "#ed7953"
            ],
            [
             0.7777777777777778,
             "#fb9f3a"
            ],
            [
             0.8888888888888888,
             "#fdca26"
            ],
            [
             1,
             "#f0f921"
            ]
           ],
           "sequentialminus": [
            [
             0,
             "#0d0887"
            ],
            [
             0.1111111111111111,
             "#46039f"
            ],
            [
             0.2222222222222222,
             "#7201a8"
            ],
            [
             0.3333333333333333,
             "#9c179e"
            ],
            [
             0.4444444444444444,
             "#bd3786"
            ],
            [
             0.5555555555555556,
             "#d8576b"
            ],
            [
             0.6666666666666666,
             "#ed7953"
            ],
            [
             0.7777777777777778,
             "#fb9f3a"
            ],
            [
             0.8888888888888888,
             "#fdca26"
            ],
            [
             1,
             "#f0f921"
            ]
           ]
          },
          "colorway": [
           "#636efa",
           "#EF553B",
           "#00cc96",
           "#ab63fa",
           "#FFA15A",
           "#19d3f3",
           "#FF6692",
           "#B6E880",
           "#FF97FF",
           "#FECB52"
          ],
          "font": {
           "color": "#2a3f5f"
          },
          "geo": {
           "bgcolor": "white",
           "lakecolor": "white",
           "landcolor": "#E5ECF6",
           "showlakes": true,
           "showland": true,
           "subunitcolor": "white"
          },
          "hoverlabel": {
           "align": "left"
          },
          "hovermode": "closest",
          "mapbox": {
           "style": "light"
          },
          "paper_bgcolor": "white",
          "plot_bgcolor": "#E5ECF6",
          "polar": {
           "angularaxis": {
            "gridcolor": "white",
            "linecolor": "white",
            "ticks": ""
           },
           "bgcolor": "#E5ECF6",
           "radialaxis": {
            "gridcolor": "white",
            "linecolor": "white",
            "ticks": ""
           }
          },
          "scene": {
           "xaxis": {
            "backgroundcolor": "#E5ECF6",
            "gridcolor": "white",
            "gridwidth": 2,
            "linecolor": "white",
            "showbackground": true,
            "ticks": "",
            "zerolinecolor": "white"
           },
           "yaxis": {
            "backgroundcolor": "#E5ECF6",
            "gridcolor": "white",
            "gridwidth": 2,
            "linecolor": "white",
            "showbackground": true,
            "ticks": "",
            "zerolinecolor": "white"
           },
           "zaxis": {
            "backgroundcolor": "#E5ECF6",
            "gridcolor": "white",
            "gridwidth": 2,
            "linecolor": "white",
            "showbackground": true,
            "ticks": "",
            "zerolinecolor": "white"
           }
          },
          "shapedefaults": {
           "line": {
            "color": "#2a3f5f"
           }
          },
          "ternary": {
           "aaxis": {
            "gridcolor": "white",
            "linecolor": "white",
            "ticks": ""
           },
           "baxis": {
            "gridcolor": "white",
            "linecolor": "white",
            "ticks": ""
           },
           "bgcolor": "#E5ECF6",
           "caxis": {
            "gridcolor": "white",
            "linecolor": "white",
            "ticks": ""
           }
          },
          "title": {
           "x": 0.05
          },
          "xaxis": {
           "automargin": true,
           "gridcolor": "white",
           "linecolor": "white",
           "ticks": "",
           "title": {
            "standoff": 15
           },
           "zerolinecolor": "white",
           "zerolinewidth": 2
          },
          "yaxis": {
           "automargin": true,
           "gridcolor": "white",
           "linecolor": "white",
           "ticks": "",
           "title": {
            "standoff": 15
           },
           "zerolinecolor": "white",
           "zerolinewidth": 2
          }
         }
        },
        "title": {
         "text": "Top 20 des articles par vente"
        },
        "xaxis": {
         "anchor": "y",
         "domain": [
          0,
          1
         ],
         "title": {
          "text": "post_name"
         }
        },
        "yaxis": {
         "anchor": "x",
         "domain": [
          0,
          1
         ],
         "title": {
          "text": "total_sales"
         }
        }
       }
      }
     },
     "metadata": {},
     "output_type": "display_data"
    }
   ],
   "source": [
    "###############################\n",
    "# Palmares des articles en quantité #\n",
    "###############################\n",
    "\n",
    "#Effectuer le tri dans l'ordre décroissant de quantités vendues du dataset df_merge\n",
    "df_merge.sort_values(by='total_sales', ascending=False, inplace=True)\n",
    "#Réinitialiser l'index du dataset par un reset_index\n",
    "df_merge.reset_index(drop=True)\n",
    "#Afficher les 20 premier articles en quantité\n",
    "print(df_merge.head(20))\n",
    "#Graphique en barre des 20 premiers articles avec plotly express\n",
    "fig = px.bar(df_merge.head(20), x='post_name', y='total_sales', title='Top 20 des articles par vente')\n",
    "\n",
    "# Afficher le graphique\n",
    "fig.show()"
   ]
  },
  {
   "cell_type": "code",
   "execution_count": null,
   "id": "2aad021e",
   "metadata": {},
   "outputs": [
    {
     "name": "stdout",
     "output_type": "stream",
     "text": [
      "le nombre d'articles représentant 80% du CA est  150\n",
      "La proportion que représentent ce groupe d'articles dans le catalogue entier du site web est  0.20352781546811397\n"
     ]
    }
   ],
   "source": [
    "#############################\n",
    "# Calculer le 20 / 80 en CA #\n",
    "#############################\n",
    "\n",
    "#Créer une colonne calculant la part en quantité de la ligne dans le dataset\n",
    "df_merge['%total_sales'] = df_merge['total_sales']/df_merge['total_sales'].sum()\n",
    "#Créer une colonne réalisant la somme cumulative de la colonne précedemment créée\n",
    "df_merge['%total_sales cumulé'] = df_merge['%total_sales'].cumsum()\n",
    "#Grâce au deux colonnes créées précedemment, calculer le nombre d'articles représentant 80% des ventes en quantité\n",
    "sales_80 = df_merge[df_merge['%total_sales cumulé'] <= 0.8]\n",
    "print(\"le nombre d'articles représentant 80% du CA est \",len(sales_80))\n",
    "#Afficher la proportion que représentent ce groupe d'articles dans le catalogue entier du site web\n",
    "print(\"La proportion que représentent ce groupe d'articles dans le catalogue entier du site web est \",len(sales_80)/len(df_merge))\n",
    "\n"
   ]
  },
  {
   "cell_type": "markdown",
   "id": "f1d22f1d",
   "metadata": {},
   "source": [
    "<div style=\"border: 1px solid RGB(51,165,182);\" >\n",
    "<h3 style=\"margin: auto; padding: 20px; color: RGB(51,165,182); \">Etape 5.3 - Mettre à disposition la nouvelle table sur un fichier Excel</h3>\n",
    "</div>"
   ]
  },
  {
   "cell_type": "code",
   "execution_count": null,
   "id": "09bfe632",
   "metadata": {},
   "outputs": [
    {
     "name": "stdout",
     "output_type": "stream",
     "text": [
      "Le DataFrame a été sauvegardé dans le fichier Excel : C:\\Users\\yenbh\\OneDrive\\Desktop\\Data Analyst\\Supply Chain Open classroom\\Projet 6 Optimisez la gestion du stock d’une boutique en nettoyant ses données\\df_merge.xlsx\n"
     ]
    }
   ],
   "source": [
    "#Mettre le dataset df_merge sur un fichier Excel\n",
    "#Cette étape peut-être utile pour partager le résultat du dataset obtenu pour le partager avec les équipes.  \n",
    "chemin_fichier_excel = r'C:\\Users\\yenbh\\OneDrive\\Desktop\\Data Analyst\\Supply Chain Open classroom\\Projet 6 Optimisez la gestion du stock d’une boutique en nettoyant ses données\\df_merge.xlsx'\n",
    "\n",
    "# Sauvegarder le DataFrame df_merge dans un fichier Excel\n",
    "df_merge.to_excel(chemin_fichier_excel, index=False)\n",
    "\n",
    "print(\"Le DataFrame a été sauvegardé dans le fichier Excel :\", chemin_fichier_excel)"
   ]
  }
 ],
 "metadata": {
  "kernelspec": {
   "display_name": "Python 3",
   "language": "python",
   "name": "python3"
  },
  "language_info": {
   "codemirror_mode": {
    "name": "ipython",
    "version": 3
   },
   "file_extension": ".py",
   "mimetype": "text/x-python",
   "name": "python",
   "nbconvert_exporter": "python",
   "pygments_lexer": "ipython3",
   "version": "3.11.5"
  }
 },
 "nbformat": 4,
 "nbformat_minor": 5
}
